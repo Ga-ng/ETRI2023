{
 "cells": [
  {
   "cell_type": "code",
   "execution_count": 6,
   "id": "f7ccd37e",
   "metadata": {},
   "outputs": [],
   "source": [
    "import pandas as pd\n",
    "import os"
   ]
  },
  {
   "cell_type": "code",
   "execution_count": 8,
   "id": "e0da6635",
   "metadata": {},
   "outputs": [],
   "source": [
    "data_path = '../ETRI/data/dataset_2020/user03'"
   ]
  },
  {
   "cell_type": "code",
   "execution_count": 12,
   "id": "3ec123f2",
   "metadata": {},
   "outputs": [
    {
     "name": "stdout",
     "output_type": "stream",
     "text": [
      "Untitled.ipynb\tdata_read.py  model.py\t train.py\r\n",
      "__pycache__\tdensenet.py   nohup.out\r\n"
     ]
    }
   ],
   "source": [
    "!ls"
   ]
  },
  {
   "cell_type": "code",
   "execution_count": 11,
   "id": "adf059c7",
   "metadata": {},
   "outputs": [
    {
     "ename": "FileNotFoundError",
     "evalue": "[Errno 2] No such file or directory: '../ETRI/data/dataset_2020/user03'",
     "output_type": "error",
     "traceback": [
      "\u001b[0;31m---------------------------------------------------------------------------\u001b[0m",
      "\u001b[0;31mFileNotFoundError\u001b[0m                         Traceback (most recent call last)",
      "\u001b[0;32m/tmp/ipykernel_702507/2387361877.py\u001b[0m in \u001b[0;36m<module>\u001b[0;34m\u001b[0m\n\u001b[0;32m----> 1\u001b[0;31m \u001b[0muser_dir_list\u001b[0m \u001b[0;34m=\u001b[0m \u001b[0mos\u001b[0m\u001b[0;34m.\u001b[0m\u001b[0mlistdir\u001b[0m\u001b[0;34m(\u001b[0m\u001b[0mdata_path\u001b[0m\u001b[0;34m)\u001b[0m\u001b[0;34m\u001b[0m\u001b[0;34m\u001b[0m\u001b[0m\n\u001b[0m\u001b[1;32m      2\u001b[0m \u001b[0;34m\u001b[0m\u001b[0m\n\u001b[1;32m      3\u001b[0m \u001b[0muser_label_list\u001b[0m \u001b[0;34m=\u001b[0m \u001b[0;34m[\u001b[0m\u001b[0;34m]\u001b[0m\u001b[0;34m\u001b[0m\u001b[0;34m\u001b[0m\u001b[0m\n\u001b[1;32m      4\u001b[0m \u001b[0;32mfor\u001b[0m \u001b[0melement\u001b[0m \u001b[0;32min\u001b[0m \u001b[0muser_dir_list\u001b[0m\u001b[0;34m:\u001b[0m\u001b[0;34m\u001b[0m\u001b[0;34m\u001b[0m\u001b[0m\n\u001b[1;32m      5\u001b[0m     \u001b[0mlabel_data_path\u001b[0m \u001b[0;34m=\u001b[0m \u001b[0mdata_path\u001b[0m \u001b[0;34m+\u001b[0m \u001b[0;34m'/'\u001b[0m \u001b[0;34m+\u001b[0m \u001b[0melement\u001b[0m \u001b[0;34m+\u001b[0m \u001b[0;34m'/'\u001b[0m \u001b[0;34m+\u001b[0m \u001b[0melement\u001b[0m \u001b[0;34m+\u001b[0m \u001b[0;34m'_label.csv'\u001b[0m\u001b[0;34m\u001b[0m\u001b[0;34m\u001b[0m\u001b[0m\n",
      "\u001b[0;31mFileNotFoundError\u001b[0m: [Errno 2] No such file or directory: '../ETRI/data/dataset_2020/user03'"
     ]
    }
   ],
   "source": [
    "user_dir_list = os.listdir(data_path)\n",
    "\n",
    "user_label_list = []\n",
    "for element in user_dir_list:\n",
    "    label_data_path = data_path + '/' + element + '/' + element + '_label.csv'\n",
    "    label_data = pd.read_csv(label_data_path)\n",
    "    user_label_list.append(label_data)\n",
    "    \n",
    "df = pd.concat(user_label_list)\n",
    "df['ts'] = pd.to_datetime(df['ts'], unit='s')\n",
    "df = df.sort_values('ts')\n",
    "\n",
    "df.head()"
   ]
  },
  {
   "cell_type": "code",
   "execution_count": 5,
   "id": "f3d1e4d2",
   "metadata": {},
   "outputs": [
    {
     "ename": "NameError",
     "evalue": "name 'df' is not defined",
     "output_type": "error",
     "traceback": [
      "\u001b[0;31m---------------------------------------------------------------------------\u001b[0m",
      "\u001b[0;31mNameError\u001b[0m                                 Traceback (most recent call last)",
      "\u001b[0;32m/tmp/ipykernel_702507/3289350417.py\u001b[0m in \u001b[0;36m<module>\u001b[0;34m\u001b[0m\n\u001b[0;32m----> 1\u001b[0;31m \u001b[0mdf\u001b[0m\u001b[0;34m.\u001b[0m\u001b[0mcolumns\u001b[0m\u001b[0;34m\u001b[0m\u001b[0;34m\u001b[0m\u001b[0m\n\u001b[0m",
      "\u001b[0;31mNameError\u001b[0m: name 'df' is not defined"
     ]
    }
   ],
   "source": [
    "df.columns"
   ]
  },
  {
   "cell_type": "code",
   "execution_count": 18,
   "id": "aecaa1e5",
   "metadata": {},
   "outputs": [
    {
     "data": {
      "text/plain": [
       "(21102, 12)"
      ]
     },
     "execution_count": 18,
     "metadata": {},
     "output_type": "execute_result"
    }
   ],
   "source": [
    "df.shape"
   ]
  },
  {
   "cell_type": "code",
   "execution_count": 19,
   "id": "e4cf1ffb",
   "metadata": {},
   "outputs": [
    {
     "name": "stdout",
     "output_type": "stream",
     "text": [
      "<class 'pandas.core.frame.DataFrame'>\n",
      "Int64Index: 21102 entries, 0 to 891\n",
      "Data columns (total 12 columns):\n",
      " #   Column               Non-Null Count  Dtype         \n",
      "---  ------               --------------  -----         \n",
      " 0   ts                   21102 non-null  datetime64[ns]\n",
      " 1   action               21102 non-null  object        \n",
      " 2   actionOption         21102 non-null  int64         \n",
      " 3   actionSub            2573 non-null   object        \n",
      " 4   actionSubOption      2573 non-null   float64       \n",
      " 5   condition            21102 non-null  object        \n",
      " 6   conditionSub1Option  6771 non-null   float64       \n",
      " 7   conditionSub2Option  6771 non-null   float64       \n",
      " 8   place                21102 non-null  object        \n",
      " 9   emotionPositive      21102 non-null  int64         \n",
      " 10  emotionTension       21102 non-null  int64         \n",
      " 11  activity             21102 non-null  int64         \n",
      "dtypes: datetime64[ns](1), float64(3), int64(4), object(4)\n",
      "memory usage: 2.1+ MB\n"
     ]
    }
   ],
   "source": [
    "df.info()"
   ]
  },
  {
   "cell_type": "code",
   "execution_count": 50,
   "id": "ffa1481d",
   "metadata": {},
   "outputs": [
    {
     "data": {
      "text/plain": [
       "111    3961\n",
       "211    3453\n",
       "722    3045\n",
       "121    1329\n",
       "791    1311\n",
       "724    1035\n",
       "793     866\n",
       "43      636\n",
       "112     560\n",
       "756     505\n",
       "41      503\n",
       "82      491\n",
       "132     418\n",
       "213     410\n",
       "87      365\n",
       "133     354\n",
       "711     313\n",
       "721     227\n",
       "712     179\n",
       "713     161\n",
       "46      154\n",
       "85      140\n",
       "754     115\n",
       "122     105\n",
       "42       80\n",
       "81       75\n",
       "84       68\n",
       "751      60\n",
       "764      59\n",
       "723      50\n",
       "91       46\n",
       "212      25\n",
       "742       3\n",
       "Name: actionOption, dtype: int64"
      ]
     },
     "execution_count": 50,
     "metadata": {},
     "output_type": "execute_result"
    }
   ],
   "source": [
    "df['actionOption'].value_counts()"
   ]
  },
  {
   "cell_type": "code",
   "execution_count": 54,
   "id": "28c6de17",
   "metadata": {},
   "outputs": [
    {
     "data": {
      "text/plain": [
       "array([212,  82, 121,  43, 724,  91, 793, 722, 111,  41, 122, 712, 211,\n",
       "       132, 723,  42,  84,  46, 791, 713, 721, 742, 133,  81, 112,  85,\n",
       "       711, 751, 756, 764,  87, 754, 213])"
      ]
     },
     "execution_count": 54,
     "metadata": {},
     "output_type": "execute_result"
    }
   ],
   "source": [
    "df['actionOption'].unique()"
   ]
  },
  {
   "cell_type": "code",
   "execution_count": 55,
   "id": "f99b58de",
   "metadata": {},
   "outputs": [],
   "source": [
    "# li = df['actionOption'].unique()"
   ]
  },
  {
   "cell_type": "code",
   "execution_count": 1,
   "id": "c37a0490",
   "metadata": {},
   "outputs": [
    {
     "ename": "NameError",
     "evalue": "name 'df' is not defined",
     "output_type": "error",
     "traceback": [
      "\u001b[0;31m---------------------------------------------------------------------------\u001b[0m",
      "\u001b[0;31mNameError\u001b[0m                                 Traceback (most recent call last)",
      "\u001b[0;32m/tmp/ipykernel_702507/381813488.py\u001b[0m in \u001b[0;36m<module>\u001b[0;34m\u001b[0m\n\u001b[0;32m----> 1\u001b[0;31m \u001b[0mli\u001b[0m \u001b[0;34m=\u001b[0m \u001b[0mdf\u001b[0m\u001b[0;34m[\u001b[0m\u001b[0;34m'actionOption'\u001b[0m\u001b[0;34m]\u001b[0m\u001b[0;34m.\u001b[0m\u001b[0munique\u001b[0m\u001b[0;34m(\u001b[0m\u001b[0;34m)\u001b[0m\u001b[0;34m\u001b[0m\u001b[0;34m\u001b[0m\u001b[0m\n\u001b[0m\u001b[1;32m      2\u001b[0m \u001b[0mli\u001b[0m \u001b[0;34m=\u001b[0m \u001b[0mlist\u001b[0m\u001b[0;34m(\u001b[0m\u001b[0mli\u001b[0m\u001b[0;34m)\u001b[0m\u001b[0;34m\u001b[0m\u001b[0;34m\u001b[0m\u001b[0m\n\u001b[1;32m      3\u001b[0m \u001b[0mprint\u001b[0m\u001b[0;34m(\u001b[0m\u001b[0mli\u001b[0m\u001b[0;34m)\u001b[0m\u001b[0;34m\u001b[0m\u001b[0;34m\u001b[0m\u001b[0m\n",
      "\u001b[0;31mNameError\u001b[0m: name 'df' is not defined"
     ]
    }
   ],
   "source": [
    "li = df['actionOption'].unique()\n",
    "li = list(li)\n",
    "print(li)"
   ]
  },
  {
   "cell_type": "code",
   "execution_count": null,
   "id": "168012fd",
   "metadata": {},
   "outputs": [],
   "source": [
    "data_path = '../ETRI/data/dataset_2020/user03'\n",
    "user_dir_list = os.listdir(data_path)\n",
    "\n",
    "user_label_list = []\n",
    "for element in user_dir_list:\n",
    "    label_data_path = data_path + '/' + element + '/' + element + '_label.csv'\n",
    "    label_data = pd.read_csv(label_data_path)\n",
    "    user_label_list.append(label_data)\n",
    "    \n",
    "df = pd.concat(user_label_list)\n",
    "df['ts'] = pd.to_datetime(df['ts'], unit='s')\n",
    "df = df.sort_values('ts')\n",
    "\n",
    "df.head()"
   ]
  },
  {
   "cell_type": "code",
   "execution_count": null,
   "id": "02d5b1eb",
   "metadata": {},
   "outputs": [],
   "source": []
  },
  {
   "cell_type": "code",
   "execution_count": null,
   "id": "37b9108f",
   "metadata": {},
   "outputs": [],
   "source": []
  }
 ],
 "metadata": {
  "kernelspec": {
   "display_name": "Python 3 (ipykernel)",
   "language": "python",
   "name": "python3"
  },
  "language_info": {
   "codemirror_mode": {
    "name": "ipython",
    "version": 3
   },
   "file_extension": ".py",
   "mimetype": "text/x-python",
   "name": "python",
   "nbconvert_exporter": "python",
   "pygments_lexer": "ipython3",
   "version": "3.9.16"
  }
 },
 "nbformat": 4,
 "nbformat_minor": 5
}

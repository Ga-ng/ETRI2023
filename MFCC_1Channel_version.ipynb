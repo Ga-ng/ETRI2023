{
 "cells": [
  {
   "cell_type": "code",
   "execution_count": 116,
   "id": "8e65479f",
   "metadata": {},
   "outputs": [],
   "source": [
    "import numpy as np\n",
    "import matplotlib.pyplot as plt\n",
    "import os\n",
    "from PIL import Image\n",
    "import cv2\n",
    "import torch\n",
    "import torch.nn as nn\n",
    "import pandas as pd\n",
    "import re\n",
    "import librosa\n",
    "import csv\n",
    "import shutil\n",
    "from sklearn.preprocessing import LabelEncoder"
   ]
  },
  {
   "cell_type": "code",
   "execution_count": 117,
   "id": "814e4297",
   "metadata": {},
   "outputs": [],
   "source": [
    "root = './dataset_2020/'"
   ]
  },
  {
   "cell_type": "code",
   "execution_count": 118,
   "id": "28711c89",
   "metadata": {},
   "outputs": [
    {
     "name": "stdout",
     "output_type": "stream",
     "text": [
      "['111', '112', '121', '122', '131', '132', '133', '134', '211', '212', '213', '22', '311', '312', '313', '314', '321', '322', '41', '42', '43', '44', '45', '46', '5110', '5210', '53', '54', '55', '56', '57', '81', '82', '83', '84', '85', '86', '87', '61', '62', '63', '64', '711', '712', '713', '721', '722', '723', '724', '725', '741', '742', '743', '744', '744', '745', '746', '751', '752', '753', '754', '755', '756', '756', '761', '762', '763', '764', '791', '792', '793', '91', '92']\n"
     ]
    }
   ],
   "source": [
    "f = open(\"./action_option.txt\", \"r\")\n",
    "action_option = []\n",
    "while True:\n",
    "    line = f.readline()\n",
    "    if not line:\n",
    "        break\n",
    "    if line == '\\n':\n",
    "        continue\n",
    "    num = re.sub(r'[^0-9]', '', line)\n",
    "    action_option.append(num)\n",
    "f.close()\n",
    "\n",
    "print(action_option)"
   ]
  },
  {
   "cell_type": "code",
   "execution_count": 119,
   "id": "34de006c",
   "metadata": {},
   "outputs": [
    {
     "name": "stdout",
     "output_type": "stream",
     "text": [
      "71\n"
     ]
    }
   ],
   "source": [
    "action_option.remove('756')\n",
    "action_option.remove('744')\n",
    "print(len(action_option))\n",
    "## 756, 744 인 row 하나도 없고 중복되므로 지움."
   ]
  },
  {
   "cell_type": "code",
   "execution_count": 120,
   "id": "2376a8e6",
   "metadata": {},
   "outputs": [
    {
     "name": "stdout",
     "output_type": "stream",
     "text": [
      "[ 0  1  2  3  4  5  6  7  8  9 10 11 12 13 14 15 16 17 18 19 20 21 22 23\n",
      " 24 25 26 27 28 29 30 62 63 64 65 66 67 68 31 32 33 34 35 36 37 38 39 40\n",
      " 41 42 43 44 45 46 47 48 49 50 51 52 53 54 55 56 57 58 59 60 61 69 70]\n",
      "71\n"
     ]
    }
   ],
   "source": [
    "encoder = LabelEncoder()\n",
    "encoder.fit(action_option)\n",
    "action_label = encoder.transform(action_option)\n",
    "print(action_label)\n",
    "print(len(action_label))"
   ]
  },
  {
   "cell_type": "code",
   "execution_count": 121,
   "id": "22a26c0a",
   "metadata": {},
   "outputs": [
    {
     "name": "stdout",
     "output_type": "stream",
     "text": [
      "{0: '111', 1: '112', 2: '121', 3: '122', 4: '131', 5: '132', 6: '133', 7: '134', 8: '211', 9: '212', 10: '213', 11: '22', 12: '311', 13: '312', 14: '313', 15: '314', 16: '321', 17: '322', 18: '41', 19: '42', 20: '43', 21: '44', 22: '45', 23: '46', 24: '5110', 25: '5210', 26: '53', 27: '54', 28: '55', 29: '56', 30: '57', 62: '81', 63: '82', 64: '83', 65: '84', 66: '85', 67: '86', 68: '87', 31: '61', 32: '62', 33: '63', 34: '64', 35: '711', 36: '712', 37: '713', 38: '721', 39: '722', 40: '723', 41: '724', 42: '725', 43: '741', 44: '742', 45: '743', 46: '744', 47: '745', 48: '746', 49: '751', 50: '752', 51: '753', 52: '754', 53: '755', 54: '756', 55: '761', 56: '762', 57: '763', 58: '764', 59: '791', 60: '792', 61: '793', 69: '91', 70: '92'}\n"
     ]
    }
   ],
   "source": [
    "action_dict = {key: value for key, value in zip(action_label, action_option)}\n",
    "print(action_dict)"
   ]
  },
  {
   "cell_type": "code",
   "execution_count": 122,
   "id": "863f718f",
   "metadata": {},
   "outputs": [
    {
     "name": "stdout",
     "output_type": "stream",
     "text": [
      "['user24', 'user03', 'user05', 'user25', 'user23', 'user08', 'user01', 'user28', 'user27', 'user12', 'user22', 'user21', 'user10', 'user11', 'user04', 'user29', 'user26', 'user30', 'user02', 'user06', 'user09', 'user07']\n"
     ]
    }
   ],
   "source": [
    "user_list = os.listdir(root)\n",
    "print(user_list)"
   ]
  },
  {
   "cell_type": "code",
   "execution_count": 123,
   "id": "dea96ca7",
   "metadata": {},
   "outputs": [],
   "source": [
    "def acc_mfcc(X, Y, Z):\n",
    "    X = np.array(X)\n",
    "    Y = np.array(Y)\n",
    "    Z = np.array(Z)\n",
    "    \n",
    "    acc_mag = np.sqrt(np.sum((X**2, Y**2, Z**2), axis=0))\n",
    "    n = len(acc_mag)\n",
    "    sr = 16000\n",
    "    D = np.abs(librosa.stft(acc_mag, n_fft = 2048, win_length = 2048, hop_length = 512))\n",
    "    mfcc = librosa.feature.mfcc(S = librosa.power_to_db(D), sr = sr, n_mfcc = 20)\n",
    "    return mfcc"
   ]
  },
  {
   "cell_type": "code",
   "execution_count": 155,
   "id": "202addfd",
   "metadata": {},
   "outputs": [],
   "source": [
    "if os.path.exists('data.csv'):\n",
    "    os.remove('data.csv')\n",
    "    f = open('data.csv','w', newline='')\n",
    "    wr = csv.writer(f)\n",
    "else:\n",
    "    f = open('data.csv','w', newline='')\n",
    "    wr = csv.writer(f)"
   ]
  },
  {
   "cell_type": "code",
   "execution_count": null,
   "id": "c5cacd42",
   "metadata": {},
   "outputs": [],
   "source": [
    "for user in user_list:\n",
    "    path = os.path.join(root, str(user))\n",
    "    data_list = os.listdir(path)\n",
    "    for data in data_list:\n",
    "        data_path = os.path.join(path, str(data))\n",
    "        if not os.path.exists(data_path + '/mfcc/'):\n",
    "            os.mkdir(data_path + '/mfcc/')\n",
    "        else:\n",
    "            shutil.rmtree(data_path + '/mfcc/')\n",
    "            os.mkdir(data_path + '/mfcc/')\n",
    "        label_name = os.path.join(data_path, data + '_label.csv')\n",
    "        df = pd.read_csv(label_name)\n",
    "        element = sorted(list(map(int, list(df['ts']))))\n",
    "        #print(element)\n",
    "        for e in element:\n",
    "            e4_path = os.path.join(data_path, 'e4Acc', str(e) + '.csv')\n",
    "            if not os.path.isfile(e4_path):\n",
    "                idx = df[df['ts']==e].index\n",
    "                df = df.drop(idx)\n",
    "                continue\n",
    "            df2 = pd.read_csv(e4_path)\n",
    "            X = list(df2['x'])\n",
    "            Y = list(df2['y'])\n",
    "            Z = list(df2['z'])\n",
    "            mfcc_feature = acc_mfcc(X, Y, Z)\n",
    "            fn = os.path.join(data_path, 'mfcc', str(e) + '.jpeg')\n",
    "            label = df[df['ts']==e]['actionOption'].values[0]\n",
    "            #print(label)\n",
    "            cv2.imwrite(fn, mfcc_feature)\n",
    "            wr.writerow([fn, label])\n",
    "        #l = list(df['actionOption'])\n",
    "        #label.extend(l)\n",
    "\n",
    "f.close()\n",
    "#print(len(label))\n",
    "#print(len(mfcc_feature))"
   ]
  }
 ],
 "metadata": {
  "kernelspec": {
   "display_name": "Python 3 (ipykernel)",
   "language": "python",
   "name": "python3"
  },
  "language_info": {
   "codemirror_mode": {
    "name": "ipython",
    "version": 3
   },
   "file_extension": ".py",
   "mimetype": "text/x-python",
   "name": "python",
   "nbconvert_exporter": "python",
   "pygments_lexer": "ipython3",
   "version": "3.9.0"
  }
 },
 "nbformat": 4,
 "nbformat_minor": 5
}

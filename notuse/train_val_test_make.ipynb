{
 "cells": [
  {
   "cell_type": "code",
   "execution_count": 43,
   "metadata": {
    "collapsed": true
   },
   "outputs": [],
   "source": [
    "import numpy as np\n",
    "import pandas as pd\n",
    "import random\n",
    "from sklearn.model_selection import train_test_split"
   ]
  },
  {
   "cell_type": "code",
   "execution_count": 5,
   "outputs": [],
   "source": [
    "data1 = pd.read_csv('~/ETRIdata/real_data_01to30.csv')"
   ],
   "metadata": {
    "collapsed": false
   }
  },
  {
   "cell_type": "code",
   "execution_count": 11,
   "outputs": [
    {
     "data": {
      "text/plain": "   Unnamed: 0            ts  action  \\\n0           0  1.598877e+09  travel   \n1           1  1.598878e+09   study   \n2           2  1.598879e+09   study   \n3           3  1.598879e+09   study   \n4           4  1.598875e+09    work   \n\n                                            img_path  \\\n0  /home/jh/ETRIdata/user01/1598832660/RP/1598876...   \n1  /home/jh/ETRIdata/user01/1598832660/RP/1598878...   \n2  /home/jh/ETRIdata/user01/1598832660/RP/1598878...   \n3  /home/jh/ETRIdata/user01/1598832660/RP/1598878...   \n4  /home/jh/ETRIdata/user01/1598832660/RP/1598874...   \n\n                                            eda_temp  \n0  /home/jh/dataset_2020/user01/1598832660/eda_te...  \n1  /home/jh/dataset_2020/user01/1598832660/eda_te...  \n2  /home/jh/dataset_2020/user01/1598832660/eda_te...  \n3  /home/jh/dataset_2020/user01/1598832660/eda_te...  \n4  /home/jh/dataset_2020/user01/1598832660/eda_te...  ",
      "text/html": "<div>\n<style scoped>\n    .dataframe tbody tr th:only-of-type {\n        vertical-align: middle;\n    }\n\n    .dataframe tbody tr th {\n        vertical-align: top;\n    }\n\n    .dataframe thead th {\n        text-align: right;\n    }\n</style>\n<table border=\"1\" class=\"dataframe\">\n  <thead>\n    <tr style=\"text-align: right;\">\n      <th></th>\n      <th>Unnamed: 0</th>\n      <th>ts</th>\n      <th>action</th>\n      <th>img_path</th>\n      <th>eda_temp</th>\n    </tr>\n  </thead>\n  <tbody>\n    <tr>\n      <th>0</th>\n      <td>0</td>\n      <td>1.598877e+09</td>\n      <td>travel</td>\n      <td>/home/jh/ETRIdata/user01/1598832660/RP/1598876...</td>\n      <td>/home/jh/dataset_2020/user01/1598832660/eda_te...</td>\n    </tr>\n    <tr>\n      <th>1</th>\n      <td>1</td>\n      <td>1.598878e+09</td>\n      <td>study</td>\n      <td>/home/jh/ETRIdata/user01/1598832660/RP/1598878...</td>\n      <td>/home/jh/dataset_2020/user01/1598832660/eda_te...</td>\n    </tr>\n    <tr>\n      <th>2</th>\n      <td>2</td>\n      <td>1.598879e+09</td>\n      <td>study</td>\n      <td>/home/jh/ETRIdata/user01/1598832660/RP/1598878...</td>\n      <td>/home/jh/dataset_2020/user01/1598832660/eda_te...</td>\n    </tr>\n    <tr>\n      <th>3</th>\n      <td>3</td>\n      <td>1.598879e+09</td>\n      <td>study</td>\n      <td>/home/jh/ETRIdata/user01/1598832660/RP/1598878...</td>\n      <td>/home/jh/dataset_2020/user01/1598832660/eda_te...</td>\n    </tr>\n    <tr>\n      <th>4</th>\n      <td>4</td>\n      <td>1.598875e+09</td>\n      <td>work</td>\n      <td>/home/jh/ETRIdata/user01/1598832660/RP/1598874...</td>\n      <td>/home/jh/dataset_2020/user01/1598832660/eda_te...</td>\n    </tr>\n  </tbody>\n</table>\n</div>"
     },
     "execution_count": 11,
     "metadata": {},
     "output_type": "execute_result"
    }
   ],
   "source": [
    "data1.head()"
   ],
   "metadata": {
    "collapsed": false
   }
  },
  {
   "cell_type": "code",
   "execution_count": 6,
   "outputs": [
    {
     "data": {
      "text/plain": "work                     13184\ntravel                    5497\nrecreation_media          5136\nmeal                      3873\npersonal_care             2852\nhousehold                 2550\nsleep                     2538\nentertainment             2369\nrecreation_etc            2189\nsocialising               2172\noutdoor_act               2047\nshop                      1945\nhobby                     1385\ncommunity_interaction      590\nstudy                      498\nName: action, dtype: int64"
     },
     "execution_count": 6,
     "metadata": {},
     "output_type": "execute_result"
    }
   ],
   "source": [
    "data1['action'].value_counts()"
   ],
   "metadata": {
    "collapsed": false
   }
  },
  {
   "cell_type": "code",
   "execution_count": 29,
   "outputs": [],
   "source": [
    "action_class = ['work', 'travel', 'recreation_media', 'meal', 'personal_care']\n",
    "\n",
    "sub_class = ['household', 'sleep', 'entertainment', 'recreation_etc', 'socialising', 'outdoor_act', 'shop', 'hobby', 'community_interaction', 'study']"
   ],
   "metadata": {
    "collapsed": false
   }
  },
  {
   "cell_type": "code",
   "execution_count": 30,
   "outputs": [],
   "source": [
    "class_rp_et_path = []\n",
    "\n",
    "for i in action_class:\n",
    "    rp_path = data1[data1['action'] == i]['img_path']\n",
    "    et_path = data1[data1['action'] == i]['eda_temp']\n",
    "    rp_path = np.asarray(rp_path); et_path = np.asarray(et_path)\n",
    "    rp_path = rp_path.reshape([-1,1]); et_path = et_path.reshape([-1,1])\n",
    "\n",
    "    path_data = np.concatenate([rp_path, et_path], axis=1)\n",
    "    tmp = (random.sample(list(path_data), 2500))\n",
    "    for j in tmp:\n",
    "        class_rp_et_path.append(j)\n",
    "\n",
    "for i in sub_class:\n",
    "    rp_path = data1[data1['action'] == i]['img_path']\n",
    "    et_path = data1[data1['action'] == i]['eda_temp']\n",
    "    rp_path = np.asarray(rp_path); et_path = np.asarray(et_path)\n",
    "    rp_path = rp_path.reshape([-1,1]); et_path = et_path.reshape([-1,1])\n",
    "\n",
    "    path_data = np.concatenate([rp_path, et_path], axis=1)\n",
    "    for j in path_data:\n",
    "        class_rp_et_path.append(j)"
   ],
   "metadata": {
    "collapsed": false
   }
  },
  {
   "cell_type": "code",
   "execution_count": 32,
   "outputs": [],
   "source": [
    "path_df = pd.DataFrame(columns=['img_path', 'eda_temp'], data=class_rp_et_path)"
   ],
   "metadata": {
    "collapsed": false
   }
  },
  {
   "cell_type": "code",
   "execution_count": 34,
   "outputs": [],
   "source": [
    "data_frame = pd.merge(data1, path_df, on='img_path', how='inner')"
   ],
   "metadata": {
    "collapsed": false
   }
  },
  {
   "cell_type": "code",
   "execution_count": 38,
   "outputs": [
    {
     "name": "stdout",
     "output_type": "stream",
     "text": [
      "<class 'pandas.core.frame.DataFrame'>\n",
      "Int64Index: 30783 entries, 0 to 30782\n",
      "Data columns (total 4 columns):\n",
      " #   Column      Non-Null Count  Dtype  \n",
      "---  ------      --------------  -----  \n",
      " 0   ts          30783 non-null  float64\n",
      " 1   action      30783 non-null  object \n",
      " 2   img_path    30783 non-null  object \n",
      " 3   eda_temp_x  30783 non-null  object \n",
      "dtypes: float64(1), object(3)\n",
      "memory usage: 1.2+ MB\n"
     ]
    }
   ],
   "source": [
    "data_frame = data_frame.drop(['Unnamed: 0', 'eda_temp_y'], axis=1)\n",
    "data_frame.info()"
   ],
   "metadata": {
    "collapsed": false
   }
  },
  {
   "cell_type": "code",
   "execution_count": 41,
   "outputs": [
    {
     "name": "stdout",
     "output_type": "stream",
     "text": [
      "<class 'pandas.core.frame.DataFrame'>\n",
      "Int64Index: 30783 entries, 0 to 30782\n",
      "Data columns (total 4 columns):\n",
      " #   Column    Non-Null Count  Dtype  \n",
      "---  ------    --------------  -----  \n",
      " 0   ts        30783 non-null  float64\n",
      " 1   action    30783 non-null  object \n",
      " 2   img_path  30783 non-null  object \n",
      " 3   eda_temp  30783 non-null  object \n",
      "dtypes: float64(1), object(3)\n",
      "memory usage: 1.2+ MB\n"
     ]
    }
   ],
   "source": [
    "data_frame = data_frame.rename(columns={'eda_temp_x' : 'eda_temp'})\n",
    "data_frame.info()"
   ],
   "metadata": {
    "collapsed": false
   }
  },
  {
   "cell_type": "code",
   "execution_count": 44,
   "outputs": [],
   "source": [
    "train_data, val_data = train_test_split(data_frame, test_size=0.2, shuffle=True, random_state=42, stratify=data_frame['action'])"
   ],
   "metadata": {
    "collapsed": false
   }
  },
  {
   "cell_type": "code",
   "execution_count": 46,
   "outputs": [
    {
     "data": {
      "text/plain": "household                2040\nsleep                    2030\nwork                     2000\npersonal_care            2000\nmeal                     2000\nrecreation_media         2000\ntravel                   2000\nentertainment            1895\nrecreation_etc           1751\nsocialising              1738\noutdoor_act              1638\nshop                     1556\nhobby                    1108\ncommunity_interaction     472\nstudy                     398\nName: action, dtype: int64"
     },
     "execution_count": 46,
     "metadata": {},
     "output_type": "execute_result"
    }
   ],
   "source": [
    "train_data['action'].value_counts()"
   ],
   "metadata": {
    "collapsed": false
   }
  },
  {
   "cell_type": "code",
   "execution_count": 48,
   "outputs": [
    {
     "data": {
      "text/plain": "household                510\nsleep                    508\npersonal_care            500\nmeal                     500\ntravel                   500\nrecreation_media         500\nwork                     500\nentertainment            474\nrecreation_etc           438\nsocialising              434\noutdoor_act              409\nshop                     389\nhobby                    277\ncommunity_interaction    118\nstudy                    100\nName: action, dtype: int64"
     },
     "execution_count": 48,
     "metadata": {},
     "output_type": "execute_result"
    }
   ],
   "source": [
    "val_data['action'].value_counts()"
   ],
   "metadata": {
    "collapsed": false
   }
  },
  {
   "cell_type": "code",
   "execution_count": 49,
   "outputs": [],
   "source": [
    "val_data, test_data = train_test_split(val_data, test_size=0.5, shuffle=True, random_state=42, stratify=val_data['action'])"
   ],
   "metadata": {
    "collapsed": false
   }
  },
  {
   "cell_type": "code",
   "execution_count": 50,
   "outputs": [],
   "source": [
    "train_data.to_csv('data/train_data.csv', index=False)\n",
    "val_data.to_csv('data/val_data.csv', index=False)\n",
    "test_data.to_csv('data/test_data.csv', index=False)"
   ],
   "metadata": {
    "collapsed": false
   }
  }
 ],
 "metadata": {
  "kernelspec": {
   "display_name": "Python 3",
   "language": "python",
   "name": "python3"
  },
  "language_info": {
   "codemirror_mode": {
    "name": "ipython",
    "version": 2
   },
   "file_extension": ".py",
   "mimetype": "text/x-python",
   "name": "python",
   "nbconvert_exporter": "python",
   "pygments_lexer": "ipython2",
   "version": "2.7.6"
  }
 },
 "nbformat": 4,
 "nbformat_minor": 0
}

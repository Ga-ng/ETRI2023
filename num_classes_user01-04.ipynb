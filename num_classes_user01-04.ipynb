{
 "cells": [
  {
   "cell_type": "code",
   "execution_count": 61,
   "id": "23ec6f10",
   "metadata": {},
   "outputs": [],
   "source": [
    "import pandas as pd\n",
    "import os"
   ]
  },
  {
   "cell_type": "code",
   "execution_count": 62,
   "id": "4cde71af",
   "metadata": {},
   "outputs": [],
   "source": [
    "data_path = '../ETRI/data/dataset_2020/user03'"
   ]
  },
  {
   "cell_type": "code",
   "execution_count": 63,
   "id": "2a49e3d4",
   "metadata": {},
   "outputs": [
    {
     "data": {
      "text/html": [
       "<div>\n",
       "<style scoped>\n",
       "    .dataframe tbody tr th:only-of-type {\n",
       "        vertical-align: middle;\n",
       "    }\n",
       "\n",
       "    .dataframe tbody tr th {\n",
       "        vertical-align: top;\n",
       "    }\n",
       "\n",
       "    .dataframe thead th {\n",
       "        text-align: right;\n",
       "    }\n",
       "</style>\n",
       "<table border=\"1\" class=\"dataframe\">\n",
       "  <thead>\n",
       "    <tr style=\"text-align: right;\">\n",
       "      <th></th>\n",
       "      <th>ts</th>\n",
       "      <th>action</th>\n",
       "      <th>actionOption</th>\n",
       "      <th>actionSub</th>\n",
       "      <th>actionSubOption</th>\n",
       "      <th>condition</th>\n",
       "      <th>conditionSub1Option</th>\n",
       "      <th>conditionSub2Option</th>\n",
       "      <th>place</th>\n",
       "      <th>emotionPositive</th>\n",
       "      <th>emotionTension</th>\n",
       "      <th>activity</th>\n",
       "    </tr>\n",
       "  </thead>\n",
       "  <tbody>\n",
       "    <tr>\n",
       "      <th>0</th>\n",
       "      <td>2020-08-29 08:20:00</td>\n",
       "      <td>work</td>\n",
       "      <td>212</td>\n",
       "      <td>NaN</td>\n",
       "      <td>NaN</td>\n",
       "      <td>WITH_MANY</td>\n",
       "      <td>5.0</td>\n",
       "      <td>2.0</td>\n",
       "      <td>other_indoor</td>\n",
       "      <td>4</td>\n",
       "      <td>3</td>\n",
       "      <td>3</td>\n",
       "    </tr>\n",
       "    <tr>\n",
       "      <th>1</th>\n",
       "      <td>2020-08-29 08:21:00</td>\n",
       "      <td>work</td>\n",
       "      <td>212</td>\n",
       "      <td>NaN</td>\n",
       "      <td>NaN</td>\n",
       "      <td>WITH_MANY</td>\n",
       "      <td>5.0</td>\n",
       "      <td>2.0</td>\n",
       "      <td>other_indoor</td>\n",
       "      <td>4</td>\n",
       "      <td>3</td>\n",
       "      <td>3</td>\n",
       "    </tr>\n",
       "    <tr>\n",
       "      <th>2</th>\n",
       "      <td>2020-08-29 08:22:00</td>\n",
       "      <td>work</td>\n",
       "      <td>212</td>\n",
       "      <td>NaN</td>\n",
       "      <td>NaN</td>\n",
       "      <td>WITH_MANY</td>\n",
       "      <td>5.0</td>\n",
       "      <td>2.0</td>\n",
       "      <td>other_indoor</td>\n",
       "      <td>4</td>\n",
       "      <td>3</td>\n",
       "      <td>3</td>\n",
       "    </tr>\n",
       "    <tr>\n",
       "      <th>3</th>\n",
       "      <td>2020-08-29 08:23:00</td>\n",
       "      <td>work</td>\n",
       "      <td>212</td>\n",
       "      <td>NaN</td>\n",
       "      <td>NaN</td>\n",
       "      <td>WITH_MANY</td>\n",
       "      <td>5.0</td>\n",
       "      <td>2.0</td>\n",
       "      <td>other_indoor</td>\n",
       "      <td>4</td>\n",
       "      <td>3</td>\n",
       "      <td>3</td>\n",
       "    </tr>\n",
       "    <tr>\n",
       "      <th>4</th>\n",
       "      <td>2020-08-29 08:24:00</td>\n",
       "      <td>work</td>\n",
       "      <td>212</td>\n",
       "      <td>NaN</td>\n",
       "      <td>NaN</td>\n",
       "      <td>WITH_MANY</td>\n",
       "      <td>5.0</td>\n",
       "      <td>2.0</td>\n",
       "      <td>other_indoor</td>\n",
       "      <td>4</td>\n",
       "      <td>3</td>\n",
       "      <td>3</td>\n",
       "    </tr>\n",
       "  </tbody>\n",
       "</table>\n",
       "</div>"
      ],
      "text/plain": [
       "                   ts action  actionOption actionSub  actionSubOption  \\\n",
       "0 2020-08-29 08:20:00   work           212       NaN              NaN   \n",
       "1 2020-08-29 08:21:00   work           212       NaN              NaN   \n",
       "2 2020-08-29 08:22:00   work           212       NaN              NaN   \n",
       "3 2020-08-29 08:23:00   work           212       NaN              NaN   \n",
       "4 2020-08-29 08:24:00   work           212       NaN              NaN   \n",
       "\n",
       "   condition  conditionSub1Option  conditionSub2Option         place  \\\n",
       "0  WITH_MANY                  5.0                  2.0  other_indoor   \n",
       "1  WITH_MANY                  5.0                  2.0  other_indoor   \n",
       "2  WITH_MANY                  5.0                  2.0  other_indoor   \n",
       "3  WITH_MANY                  5.0                  2.0  other_indoor   \n",
       "4  WITH_MANY                  5.0                  2.0  other_indoor   \n",
       "\n",
       "   emotionPositive  emotionTension  activity  \n",
       "0                4               3         3  \n",
       "1                4               3         3  \n",
       "2                4               3         3  \n",
       "3                4               3         3  \n",
       "4                4               3         3  "
      ]
     },
     "execution_count": 63,
     "metadata": {},
     "output_type": "execute_result"
    }
   ],
   "source": [
    "data_path = '../ETRI/data/dataset_2020/user03'\n",
    "user_dir_list = os.listdir(data_path)\n",
    "\n",
    "user_label_list = []\n",
    "for element in user_dir_list:\n",
    "    label_data_path = data_path + '/' + element + '/' + element + '_label.csv'\n",
    "    label_data = pd.read_csv(label_data_path)\n",
    "    user_label_list.append(label_data)\n",
    "    \n",
    "df = pd.concat(user_label_list)\n",
    "df['ts'] = pd.to_datetime(df['ts'], unit='s')\n",
    "df = df.sort_values('ts')\n",
    "\n",
    "df.head()"
   ]
  },
  {
   "cell_type": "code",
   "execution_count": 64,
   "id": "d0d2dbb0",
   "metadata": {},
   "outputs": [
    {
     "data": {
      "text/plain": [
       "Index(['ts', 'action', 'actionOption', 'actionSub', 'actionSubOption',\n",
       "       'condition', 'conditionSub1Option', 'conditionSub2Option', 'place',\n",
       "       'emotionPositive', 'emotionTension', 'activity'],\n",
       "      dtype='object')"
      ]
     },
     "execution_count": 64,
     "metadata": {},
     "output_type": "execute_result"
    }
   ],
   "source": [
    "df.columns"
   ]
  },
  {
   "cell_type": "code",
   "execution_count": 65,
   "id": "665e9a4f",
   "metadata": {},
   "outputs": [
    {
     "data": {
      "text/plain": [
       "(21102, 12)"
      ]
     },
     "execution_count": 65,
     "metadata": {},
     "output_type": "execute_result"
    }
   ],
   "source": [
    "df.shape"
   ]
  },
  {
   "cell_type": "code",
   "execution_count": 66,
   "id": "6f08cfac",
   "metadata": {},
   "outputs": [
    {
     "name": "stdout",
     "output_type": "stream",
     "text": [
      "<class 'pandas.core.frame.DataFrame'>\n",
      "Int64Index: 21102 entries, 0 to 891\n",
      "Data columns (total 12 columns):\n",
      " #   Column               Non-Null Count  Dtype         \n",
      "---  ------               --------------  -----         \n",
      " 0   ts                   21102 non-null  datetime64[ns]\n",
      " 1   action               21102 non-null  object        \n",
      " 2   actionOption         21102 non-null  int64         \n",
      " 3   actionSub            2573 non-null   object        \n",
      " 4   actionSubOption      2573 non-null   float64       \n",
      " 5   condition            21102 non-null  object        \n",
      " 6   conditionSub1Option  6771 non-null   float64       \n",
      " 7   conditionSub2Option  6771 non-null   float64       \n",
      " 8   place                21102 non-null  object        \n",
      " 9   emotionPositive      21102 non-null  int64         \n",
      " 10  emotionTension       21102 non-null  int64         \n",
      " 11  activity             21102 non-null  int64         \n",
      "dtypes: datetime64[ns](1), float64(3), int64(4), object(4)\n",
      "memory usage: 2.1+ MB\n"
     ]
    }
   ],
   "source": [
    "df.info()"
   ]
  },
  {
   "cell_type": "code",
   "execution_count": 67,
   "id": "1b3c7e62",
   "metadata": {},
   "outputs": [
    {
     "data": {
      "text/plain": [
       "111    3961\n",
       "211    3453\n",
       "722    3045\n",
       "121    1329\n",
       "791    1311\n",
       "724    1035\n",
       "793     866\n",
       "43      636\n",
       "112     560\n",
       "756     505\n",
       "41      503\n",
       "82      491\n",
       "132     418\n",
       "213     410\n",
       "87      365\n",
       "133     354\n",
       "711     313\n",
       "721     227\n",
       "712     179\n",
       "713     161\n",
       "46      154\n",
       "85      140\n",
       "754     115\n",
       "122     105\n",
       "42       80\n",
       "81       75\n",
       "84       68\n",
       "751      60\n",
       "764      59\n",
       "723      50\n",
       "91       46\n",
       "212      25\n",
       "742       3\n",
       "Name: actionOption, dtype: int64"
      ]
     },
     "execution_count": 67,
     "metadata": {},
     "output_type": "execute_result"
    }
   ],
   "source": [
    "df['actionOption'].value_counts()"
   ]
  },
  {
   "cell_type": "code",
   "execution_count": 68,
   "id": "faefc280",
   "metadata": {},
   "outputs": [
    {
     "data": {
      "text/plain": [
       "array([212,  82, 121,  43, 724,  91, 793, 722, 111,  41, 122, 712, 211,\n",
       "       132, 723,  42,  84,  46, 791, 713, 721, 742, 133,  81, 112,  85,\n",
       "       711, 751, 756, 764,  87, 754, 213])"
      ]
     },
     "execution_count": 68,
     "metadata": {},
     "output_type": "execute_result"
    }
   ],
   "source": [
    "df['actionOption'].unique()"
   ]
  },
  {
   "cell_type": "code",
   "execution_count": 69,
   "id": "127218d1",
   "metadata": {},
   "outputs": [
    {
     "name": "stdout",
     "output_type": "stream",
     "text": [
      "[212, 82, 121, 43, 724, 91, 793, 722, 111, 41, 122, 712, 211, 132, 723, 42, 84, 46, 791, 713, 721, 742, 133, 81, 112, 85, 711, 751, 756, 764, 87, 754, 213]\n"
     ]
    }
   ],
   "source": [
    "li = df['actionOption'].unique()\n",
    "li = list(li)\n",
    "print(li)"
   ]
  },
  {
   "cell_type": "code",
   "execution_count": null,
   "id": "c745e57a",
   "metadata": {},
   "outputs": [],
   "source": []
  },
  {
   "cell_type": "code",
   "execution_count": 85,
   "id": "c0d04a4a",
   "metadata": {},
   "outputs": [],
   "source": [
    "total = []"
   ]
  },
  {
   "cell_type": "code",
   "execution_count": 86,
   "id": "4f4d7c76",
   "metadata": {},
   "outputs": [
    {
     "name": "stdout",
     "output_type": "stream",
     "text": [
      "<class 'list'>\n"
     ]
    }
   ],
   "source": [
    "data_path = '../ETRI/data/dataset_2020/user01'\n",
    "user_dir_list = os.listdir(data_path)\n",
    "    \n",
    "user_label_list = []\n",
    "for element in user_dir_list:\n",
    "    label_data_path = data_path + '/' + element + '/' + element + '_label.csv'\n",
    "    label_data = pd.read_csv(label_data_path)\n",
    "    user_label_list.append(label_data)\n",
    "    \n",
    "df = pd.concat(user_label_list)\n",
    "df['ts'] = pd.to_datetime(df['ts'], unit='s')\n",
    "df = df.sort_values('ts')\n",
    "\n",
    "df.head()\n",
    "\n",
    "li = df['actionOption'].unique()\n",
    "li = list(li)\n",
    "total.extend(li)\n",
    "print(type(total))\n",
    "\n",
    "# print(li)\n",
    "# print(len(li))"
   ]
  },
  {
   "cell_type": "code",
   "execution_count": 87,
   "id": "0491e6dc",
   "metadata": {},
   "outputs": [
    {
     "name": "stdout",
     "output_type": "stream",
     "text": [
      "[111, 793, 132, 133, 82, 211, 121, 212, 213, 122, 724, 711, 723, 713, 722, 46, 81, 313, 725, 41, 134]\n",
      "21\n"
     ]
    }
   ],
   "source": [
    "data_path = '../ETRI/data/dataset_2020/user02'\n",
    "user_dir_list = os.listdir(data_path)\n",
    "\n",
    "user_label_list = []\n",
    "for element in user_dir_list:\n",
    "    label_data_path = data_path + '/' + element + '/' + element + '_label.csv'\n",
    "    label_data = pd.read_csv(label_data_path)\n",
    "    user_label_list.append(label_data)\n",
    "    \n",
    "df = pd.concat(user_label_list)\n",
    "df['ts'] = pd.to_datetime(df['ts'], unit='s')\n",
    "df = df.sort_values('ts')\n",
    "\n",
    "df.head()\n",
    "\n",
    "li = df['actionOption'].unique()\n",
    "li = list(li)\n",
    "total.extend(li)\n",
    "print(li)\n",
    "print(len(li))"
   ]
  },
  {
   "cell_type": "code",
   "execution_count": 88,
   "id": "80558b7b",
   "metadata": {},
   "outputs": [
    {
     "name": "stdout",
     "output_type": "stream",
     "text": [
      "[212, 82, 121, 43, 724, 91, 793, 722, 111, 41, 122, 712, 211, 132, 723, 42, 84, 46, 791, 713, 721, 742, 133, 81, 112, 85, 711, 751, 756, 764, 87, 754, 213]\n",
      "33\n"
     ]
    }
   ],
   "source": [
    "data_path = '../ETRI/data/dataset_2020/user03'\n",
    "user_dir_list = os.listdir(data_path)\n",
    "\n",
    "user_label_list = []\n",
    "for element in user_dir_list:\n",
    "    label_data_path = data_path + '/' + element + '/' + element + '_label.csv'\n",
    "    label_data = pd.read_csv(label_data_path)\n",
    "    user_label_list.append(label_data)\n",
    "    \n",
    "df = pd.concat(user_label_list)\n",
    "df['ts'] = pd.to_datetime(df['ts'], unit='s')\n",
    "df = df.sort_values('ts')\n",
    "\n",
    "df.head()\n",
    "\n",
    "li = df['actionOption'].unique()\n",
    "li = list(li)\n",
    "total.extend(li)\n",
    "print(li)\n",
    "print(len(li))"
   ]
  },
  {
   "cell_type": "code",
   "execution_count": 89,
   "id": "82d761b8",
   "metadata": {},
   "outputs": [
    {
     "name": "stdout",
     "output_type": "stream",
     "text": [
      "[132, 121, 41, 133, 211, 82, 92, 751, 793, 752, 122, 213, 43, 87, 722, 712, 212, 84, 46, 762, 711, 756, 724, 81, 725, 42]\n",
      "26\n"
     ]
    }
   ],
   "source": [
    "data_path = '../ETRI/data/dataset_2020/user04'\n",
    "user_dir_list = os.listdir(data_path)\n",
    "\n",
    "user_label_list = []\n",
    "for element in user_dir_list:\n",
    "    label_data_path = data_path + '/' + element + '/' + element + '_label.csv'\n",
    "    label_data = pd.read_csv(label_data_path)\n",
    "    user_label_list.append(label_data)\n",
    "    \n",
    "df = pd.concat(user_label_list)\n",
    "df['ts'] = pd.to_datetime(df['ts'], unit='s')\n",
    "df = df.sort_values('ts')\n",
    "\n",
    "df.head()\n",
    "\n",
    "li = df['actionOption'].unique()\n",
    "li = list(li)\n",
    "total.extend(li)\n",
    "print(li)\n",
    "print(len(li))"
   ]
  },
  {
   "cell_type": "code",
   "execution_count": 91,
   "id": "750c2670",
   "metadata": {},
   "outputs": [
    {
     "name": "stdout",
     "output_type": "stream",
     "text": [
      "[212, 87, 121, 82, 793, 211, 756, 43, 85, 132, 81, 722, 725, 313, 314, 711, 131, 762, 213, 322, 713, 122, 84, 311, 721, 764, 763, 91, 724, 42, 723, 41, 133, 86, 743, 112, 92, 751, 111, 61, 111, 793, 132, 133, 82, 211, 121, 212, 213, 122, 724, 711, 723, 713, 722, 46, 81, 313, 725, 41, 134, 212, 82, 121, 43, 724, 91, 793, 722, 111, 41, 122, 712, 211, 132, 723, 42, 84, 46, 791, 713, 721, 742, 133, 81, 112, 85, 711, 751, 756, 764, 87, 754, 213, 132, 121, 41, 133, 211, 82, 92, 751, 793, 752, 122, 213, 43, 87, 722, 712, 212, 84, 46, 762, 711, 756, 724, 81, 725, 42]\n",
      "120\n"
     ]
    }
   ],
   "source": [
    "print(total)\n",
    "print(len(total))"
   ]
  },
  {
   "cell_type": "code",
   "execution_count": 94,
   "id": "65f6eca1",
   "metadata": {},
   "outputs": [
    {
     "name": "stdout",
     "output_type": "stream",
     "text": [
      "47\n"
     ]
    }
   ],
   "source": [
    "ans = list(set(total))\n",
    "print(len(ans))"
   ]
  }
 ],
 "metadata": {
  "kernelspec": {
   "display_name": "Python 3 (ipykernel)",
   "language": "python",
   "name": "python3"
  },
  "language_info": {
   "codemirror_mode": {
    "name": "ipython",
    "version": 3
   },
   "file_extension": ".py",
   "mimetype": "text/x-python",
   "name": "python",
   "nbconvert_exporter": "python",
   "pygments_lexer": "ipython3",
   "version": "3.9.16"
  }
 },
 "nbformat": 4,
 "nbformat_minor": 5
}

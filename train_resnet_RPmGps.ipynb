{
 "cells": [
  {
   "cell_type": "code",
   "execution_count": 1,
   "id": "aa75dda6",
   "metadata": {},
   "outputs": [],
   "source": [
    "import os\n",
    "import pandas as pd\n",
    "import numpy as np\n",
    "import torch\n",
    "import torch.nn as nn\n",
    "import torch.optim as optim\n",
    "from torch.autograd import Variable\n",
    "import torchvision.datasets as dset\n",
    "import torchvision.transforms as transforms\n",
    "import albumentations as A\n",
    "from albumentations.pytorch.transforms import ToTensorV2\n",
    "import torch.nn.functional as F\n",
    "from torch.utils.data import Dataset\n",
    "from torch.utils.data import DataLoader\n",
    "import torchvision.models as models\n",
    "import cv2\n",
    "import sys\n",
    "import math\n",
    "import random\n",
    "import splitfolders\n",
    "import torchsummary\n",
    "from tqdm import tqdm\n",
    "from ResNet_18 import resnet\n",
    "from sklearn.preprocessing import LabelEncoder\n",
    "from sklearn.model_selection import train_test_split\n",
    "from sklearn.model_selection import cross_val_score\n",
    "from sklearn.metrics import f1_score"
   ]
  },
  {
   "cell_type": "code",
   "execution_count": 2,
   "id": "990b3869",
   "metadata": {},
   "outputs": [
    {
     "data": {
      "text/plain": [
       "device(type='cuda')"
      ]
     },
     "execution_count": 2,
     "metadata": {},
     "output_type": "execute_result"
    }
   ],
   "source": [
    "device = torch.device('cuda') if torch.cuda.is_available() else torch.device('cpu')\n",
    "device"
   ]
  },
  {
   "cell_type": "code",
   "execution_count": 3,
   "id": "789a6ad7",
   "metadata": {},
   "outputs": [],
   "source": [
    "CFG = {\n",
    "    'IMG_SIZE':224,\n",
    "    'EPOCHS':150,\n",
    "    'LEARNING_RATE':1e-4,\n",
    "    'BATCH_SIZE':16,\n",
    "    'SEED':42\n",
    "}"
   ]
  },
  {
   "cell_type": "code",
   "execution_count": 4,
   "id": "ecc11a30",
   "metadata": {},
   "outputs": [],
   "source": [
    "def seed_everything(seed):\n",
    "    random.seed(seed)\n",
    "    os.environ['PYTHONHASHSEED'] = str(seed)\n",
    "    np.random.seed(seed)\n",
    "    torch.manual_seed(seed)\n",
    "    torch.cuda.manual_seed(seed)\n",
    "    torch.backends.cudnn.deterministic = True\n",
    "    torch.backends.cudnn.benchmark = True\n",
    "\n",
    "seed_everything(CFG['SEED'])"
   ]
  },
  {
   "cell_type": "code",
   "execution_count": 5,
   "id": "f6f1111e",
   "metadata": {},
   "outputs": [],
   "source": [
    "# train_df = pd.read_csv('./train_rp_data.csv')\n",
    "# test_df = pd.read_csv('./test_rp_data.csv')"
   ]
  },
  {
   "cell_type": "code",
   "execution_count": 6,
   "id": "93b7e159",
   "metadata": {},
   "outputs": [],
   "source": [
    "# for i in range(len(train_df)):\n",
    "#     if 'user01' in train_df.loc[i]['img_path']:\n",
    "#         train_df.loc[i, 'user'] = 'user01'\n",
    "#     if 'user02' in train_df.loc[i]['img_path']:\n",
    "#         train_df.loc[i, 'user'] = 'user02'\n",
    "#     if 'user03' in train_df.loc[i]['img_path']:\n",
    "#         train_df.loc[i, 'user'] = 'user03'\n",
    "#     if 'user04' in train_df.loc[i]['img_path']:\n",
    "#         train_df.loc[i, 'user'] = 'user04'\n",
    "#     if 'user05' in train_df.loc[i]['img_path']:\n",
    "#         train_df.loc[i, 'user'] = 'user05'\n",
    "#     if 'user06' in train_df.loc[i]['img_path']:\n",
    "#         train_df.loc[i, 'user'] = 'user06'\n",
    "#     if 'user07' in train_df.loc[i]['img_path']:\n",
    "#         train_df.loc[i, 'user'] = 'user07'\n",
    "#     if 'user08' in train_df.loc[i]['img_path']:\n",
    "#         train_df.loc[i, 'user'] = 'user08'\n",
    "#     if 'user09' in train_df.loc[i]['img_path']:\n",
    "#         train_df.loc[i, 'user'] = 'user09'\n",
    "#     if 'user10' in train_df.loc[i]['img_path']:\n",
    "#         train_df.loc[i, 'user'] = 'user10'\n",
    "#     if 'user11' in train_df.loc[i]['img_path']:\n",
    "#         train_df.loc[i, 'user'] = 'user11'\n",
    "#     if 'user12' in train_df.loc[i]['img_path']:\n",
    "#         train_df.loc[i, 'user'] = 'user12'\n",
    "#     if 'user21' in train_df.loc[i]['img_path']:\n",
    "#         train_df.loc[i, 'user'] = 'user21'\n",
    "#     if 'user22' in train_df.loc[i]['img_path']:\n",
    "#         train_df.loc[i, 'user'] = 'user22'\n",
    "#     if 'user23' in train_df.loc[i]['img_path']:\n",
    "#         train_df.loc[i, 'user'] = 'user23'\n",
    "#     if 'user24' in train_df.loc[i]['img_path']:\n",
    "#         train_df.loc[i, 'user'] = 'user24'\n",
    "#     if 'user25' in train_df.loc[i]['img_path']:\n",
    "#         train_df.loc[i, 'user'] = 'user25'\n",
    "#     if 'user26' in train_df.loc[i]['img_path']:\n",
    "#         train_df.loc[i, 'user'] = 'user26'\n",
    "#     if 'user27' in train_df.loc[i]['img_path']:\n",
    "#         train_df.loc[i, 'user'] = 'user27'\n",
    "#     if 'user28' in train_df.loc[i]['img_path']:\n",
    "#         train_df.loc[i, 'user'] = 'user28'\n",
    "#     if 'user29' in train_df.loc[i]['img_path']:\n",
    "#         train_df.loc[i, 'user'] = 'user29'\n",
    "#     if 'user30' in train_df.loc[i]['img_path']:\n",
    "#         train_df.loc[i, 'user'] = 'user30'"
   ]
  },
  {
   "cell_type": "code",
   "execution_count": 7,
   "id": "9f52ccd1",
   "metadata": {},
   "outputs": [],
   "source": [
    "# train_df"
   ]
  },
  {
   "cell_type": "code",
   "execution_count": 8,
   "id": "2a67c815",
   "metadata": {},
   "outputs": [],
   "source": [
    "# mGps_df = pd.read_csv('./mGps_data.csv', index_col = 0)\n",
    "# mGps_df"
   ]
  },
  {
   "cell_type": "code",
   "execution_count": 9,
   "id": "5fb154e5",
   "metadata": {},
   "outputs": [],
   "source": [
    "# tmp_df = pd.merge(train_df, mGps_df, on='ts', how='inner')\n",
    "# tmp_df"
   ]
  },
  {
   "cell_type": "code",
   "execution_count": 10,
   "id": "9cd2304c",
   "metadata": {},
   "outputs": [],
   "source": [
    "# tmp_df.drop(tmp_df[tmp_df['user_x'] != tmp_df['user_y']].index, inplace=True)\n",
    "# tmp_df"
   ]
  },
  {
   "cell_type": "code",
   "execution_count": 11,
   "id": "4a08d2ba",
   "metadata": {},
   "outputs": [],
   "source": [
    "# tmp_df['user_x'].value_counts()"
   ]
  },
  {
   "cell_type": "code",
   "execution_count": 12,
   "id": "9b70de48",
   "metadata": {},
   "outputs": [],
   "source": [
    "# tmp_df['action'].value_counts()"
   ]
  },
  {
   "cell_type": "code",
   "execution_count": 13,
   "id": "1c539311",
   "metadata": {},
   "outputs": [],
   "source": [
    "# train_df['action'].value_counts()"
   ]
  },
  {
   "cell_type": "code",
   "execution_count": 14,
   "id": "b3b5997b",
   "metadata": {},
   "outputs": [],
   "source": [
    "# for i in range(len(test_df)):\n",
    "#     if 'user01' in test_df.loc[i]['img_path']:\n",
    "#         test_df.loc[i, 'user'] = 'user01'\n",
    "#     if 'user02' in test_df.loc[i]['img_path']:\n",
    "#         test_df.loc[i, 'user'] = 'user02'\n",
    "#     if 'user03' in test_df.loc[i]['img_path']:\n",
    "#         test_df.loc[i, 'user'] = 'user03'\n",
    "#     if 'user04' in test_df.loc[i]['img_path']:\n",
    "#         test_df.loc[i, 'user'] = 'user04'\n",
    "#     if 'user05' in test_df.loc[i]['img_path']:\n",
    "#         test_df.loc[i, 'user'] = 'user05'\n",
    "#     if 'user06' in test_df.loc[i]['img_path']:\n",
    "#         test_df.loc[i, 'user'] = 'user06'\n",
    "#     if 'user07' in test_df.loc[i]['img_path']:\n",
    "#         test_df.loc[i, 'user'] = 'user07'\n",
    "#     if 'user08' in test_df.loc[i]['img_path']:\n",
    "#         test_df.loc[i, 'user'] = 'user08'\n",
    "#     if 'user09' in test_df.loc[i]['img_path']:\n",
    "#         test_df.loc[i, 'user'] = 'user09'\n",
    "#     if 'user10' in test_df.loc[i]['img_path']:\n",
    "#         test_df.loc[i, 'user'] = 'user10'\n",
    "#     if 'user11' in test_df.loc[i]['img_path']:\n",
    "#         test_df.loc[i, 'user'] = 'user11'\n",
    "#     if 'user12' in test_df.loc[i]['img_path']:\n",
    "#         test_df.loc[i, 'user'] = 'user12'\n",
    "#     if 'user21' in test_df.loc[i]['img_path']:\n",
    "#         test_df.loc[i, 'user'] = 'user21'\n",
    "#     if 'user22' in test_df.loc[i]['img_path']:\n",
    "#         test_df.loc[i, 'user'] = 'user22'\n",
    "#     if 'user23' in test_df.loc[i]['img_path']:\n",
    "#         test_df.loc[i, 'user'] = 'user23'\n",
    "#     if 'user24' in test_df.loc[i]['img_path']:\n",
    "#         test_df.loc[i, 'user'] = 'user24'\n",
    "#     if 'user25' in test_df.loc[i]['img_path']:\n",
    "#         test_df.loc[i, 'user'] = 'user25'\n",
    "#     if 'user26' in test_df.loc[i]['img_path']:\n",
    "#         test_df.loc[i, 'user'] = 'user26'\n",
    "#     if 'user27' in test_df.loc[i]['img_path']:\n",
    "#         test_df.loc[i, 'user'] = 'user27'\n",
    "#     if 'user28' in test_df.loc[i]['img_path']:\n",
    "#         test_df.loc[i, 'user'] = 'user28'\n",
    "#     if 'user29' in test_df.loc[i]['img_path']:\n",
    "#         test_df.loc[i, 'user'] = 'user29'\n",
    "#     if 'user30' in test_df.loc[i]['img_path']:\n",
    "#         test_df.loc[i, 'user'] = 'user30'"
   ]
  },
  {
   "cell_type": "code",
   "execution_count": 15,
   "id": "e1c96a6a",
   "metadata": {},
   "outputs": [],
   "source": [
    "# tmp_df2 = pd.merge(test_df, mGps_df, on='ts', how='inner')\n",
    "# tmp_df2"
   ]
  },
  {
   "cell_type": "code",
   "execution_count": 16,
   "id": "f9c69cea",
   "metadata": {},
   "outputs": [],
   "source": [
    "# tmp_df2.drop(tmp_df2[tmp_df2['user_x'] != tmp_df2['user_y']].index, inplace=True)\n",
    "# tmp_df2"
   ]
  },
  {
   "cell_type": "code",
   "execution_count": 17,
   "id": "aab58499",
   "metadata": {},
   "outputs": [],
   "source": [
    "# tmp_df = tmp_df.drop('user_y', axis=1)\n",
    "# tmp_df.rename(columns={'user_x':'user'})"
   ]
  },
  {
   "cell_type": "code",
   "execution_count": 18,
   "id": "7dc4bb7b",
   "metadata": {},
   "outputs": [],
   "source": [
    "# tmp_df2 = tmp_df2.drop('user_y', axis=1)\n",
    "# tmp_df2.rename(columns={'user_x':'user'})"
   ]
  },
  {
   "cell_type": "code",
   "execution_count": 19,
   "id": "61fc3c3d",
   "metadata": {},
   "outputs": [],
   "source": [
    "# tmp_df.to_csv('tmp_train.csv')\n",
    "# tmp_df2.to_csv('tmp_test.csv')"
   ]
  },
  {
   "cell_type": "code",
   "execution_count": 20,
   "id": "25f5b1d7",
   "metadata": {},
   "outputs": [],
   "source": [
    "train_df = pd.read_csv('./tmp_train.csv', index_col = 0)\n",
    "test_df = pd.read_csv('./tmp_test.csv', index_col = 0)"
   ]
  },
  {
   "cell_type": "code",
   "execution_count": 21,
   "id": "bc0a9cb5",
   "metadata": {},
   "outputs": [
    {
     "data": {
      "text/plain": [
       "work                     10764\n",
       "travel                    2745\n",
       "meal                      2259\n",
       "socialising               1658\n",
       "outdoor_act               1288\n",
       "recreation_media          1239\n",
       "household                 1188\n",
       "personal_care             1080\n",
       "shop                       854\n",
       "entertainment              589\n",
       "recreation_etc             570\n",
       "sleep                      241\n",
       "study                      178\n",
       "community_interaction       70\n",
       "hobby                       68\n",
       "Name: action, dtype: int64"
      ]
     },
     "execution_count": 21,
     "metadata": {},
     "output_type": "execute_result"
    }
   ],
   "source": [
    "train_df['action'].value_counts()"
   ]
  },
  {
   "cell_type": "code",
   "execution_count": 22,
   "id": "b01d0a2b",
   "metadata": {},
   "outputs": [
    {
     "data": {
      "text/plain": [
       "work                     1225\n",
       "travel                    313\n",
       "meal                      260\n",
       "socialising               180\n",
       "household                 134\n",
       "outdoor_act               129\n",
       "recreation_media          128\n",
       "personal_care             126\n",
       "shop                       95\n",
       "entertainment              71\n",
       "recreation_etc             62\n",
       "study                      26\n",
       "sleep                      25\n",
       "community_interaction      15\n",
       "hobby                      10\n",
       "Name: action, dtype: int64"
      ]
     },
     "execution_count": 22,
     "metadata": {},
     "output_type": "execute_result"
    }
   ],
   "source": [
    "test_df['action'].value_counts()"
   ]
  },
  {
   "cell_type": "code",
   "execution_count": 23,
   "id": "a5c896c9",
   "metadata": {},
   "outputs": [
    {
     "data": {
      "text/html": [
       "<div>\n",
       "<style scoped>\n",
       "    .dataframe tbody tr th:only-of-type {\n",
       "        vertical-align: middle;\n",
       "    }\n",
       "\n",
       "    .dataframe tbody tr th {\n",
       "        vertical-align: top;\n",
       "    }\n",
       "\n",
       "    .dataframe thead th {\n",
       "        text-align: right;\n",
       "    }\n",
       "</style>\n",
       "<table border=\"1\" class=\"dataframe\">\n",
       "  <thead>\n",
       "    <tr style=\"text-align: right;\">\n",
       "      <th></th>\n",
       "      <th>ts</th>\n",
       "      <th>action</th>\n",
       "      <th>img_path</th>\n",
       "      <th>user_x</th>\n",
       "      <th>lat</th>\n",
       "      <th>lon</th>\n",
       "    </tr>\n",
       "  </thead>\n",
       "  <tbody>\n",
       "    <tr>\n",
       "      <th>7</th>\n",
       "      <td>1.600765e+09</td>\n",
       "      <td>work</td>\n",
       "      <td>./ETRI_data_RP_png/user02/1600700400/RP/160076...</td>\n",
       "      <td>user02</td>\n",
       "      <td>37.521518</td>\n",
       "      <td>127.032711</td>\n",
       "    </tr>\n",
       "    <tr>\n",
       "      <th>13</th>\n",
       "      <td>1.600765e+09</td>\n",
       "      <td>work</td>\n",
       "      <td>./ETRI_data_RP_png/user04/1600726800/RP/160076...</td>\n",
       "      <td>user04</td>\n",
       "      <td>37.477692</td>\n",
       "      <td>127.122387</td>\n",
       "    </tr>\n",
       "    <tr>\n",
       "      <th>21</th>\n",
       "      <td>1.600250e+09</td>\n",
       "      <td>travel</td>\n",
       "      <td>./ETRI_data_RP_png/user04/1600207800/RP/160025...</td>\n",
       "      <td>user04</td>\n",
       "      <td>37.475682</td>\n",
       "      <td>127.127883</td>\n",
       "    </tr>\n",
       "    <tr>\n",
       "      <th>25</th>\n",
       "      <td>1.599736e+09</td>\n",
       "      <td>household</td>\n",
       "      <td>./ETRI_data_RP_png/user04/1599690000/RP/159973...</td>\n",
       "      <td>user04</td>\n",
       "      <td>37.435011</td>\n",
       "      <td>127.138813</td>\n",
       "    </tr>\n",
       "    <tr>\n",
       "      <th>38</th>\n",
       "      <td>1.600651e+09</td>\n",
       "      <td>work</td>\n",
       "      <td>./ETRI_data_RP_png/user04/1600640400/RP/160065...</td>\n",
       "      <td>user04</td>\n",
       "      <td>37.477842</td>\n",
       "      <td>127.122329</td>\n",
       "    </tr>\n",
       "    <tr>\n",
       "      <th>...</th>\n",
       "      <td>...</td>\n",
       "      <td>...</td>\n",
       "      <td>...</td>\n",
       "      <td>...</td>\n",
       "      <td>...</td>\n",
       "      <td>...</td>\n",
       "    </tr>\n",
       "    <tr>\n",
       "      <th>196726</th>\n",
       "      <td>1.599208e+09</td>\n",
       "      <td>work</td>\n",
       "      <td>./ETRI_data_RP_png/user04/1599174600/RP/159920...</td>\n",
       "      <td>user04</td>\n",
       "      <td>37.477736</td>\n",
       "      <td>127.122746</td>\n",
       "    </tr>\n",
       "    <tr>\n",
       "      <th>196729</th>\n",
       "      <td>1.599792e+09</td>\n",
       "      <td>work</td>\n",
       "      <td>./ETRI_data_RP_png/user04/1599776160/RP/159979...</td>\n",
       "      <td>user04</td>\n",
       "      <td>37.465773</td>\n",
       "      <td>127.126981</td>\n",
       "    </tr>\n",
       "    <tr>\n",
       "      <th>196731</th>\n",
       "      <td>1.598840e+09</td>\n",
       "      <td>work</td>\n",
       "      <td>./ETRI_data_RP_png/user04/1598828400/RP/159883...</td>\n",
       "      <td>user04</td>\n",
       "      <td>37.533329</td>\n",
       "      <td>127.142002</td>\n",
       "    </tr>\n",
       "    <tr>\n",
       "      <th>196736</th>\n",
       "      <td>1.600221e+09</td>\n",
       "      <td>work</td>\n",
       "      <td>./ETRI_data_RP_png/user04/1600207800/RP/160022...</td>\n",
       "      <td>user04</td>\n",
       "      <td>37.477694</td>\n",
       "      <td>127.122396</td>\n",
       "    </tr>\n",
       "    <tr>\n",
       "      <th>196743</th>\n",
       "      <td>1.600428e+09</td>\n",
       "      <td>outdoor_act</td>\n",
       "      <td>./ETRI_data_RP_png/user04/1600380900/RP/160042...</td>\n",
       "      <td>user04</td>\n",
       "      <td>37.481213</td>\n",
       "      <td>127.142602</td>\n",
       "    </tr>\n",
       "  </tbody>\n",
       "</table>\n",
       "<p>24791 rows × 6 columns</p>\n",
       "</div>"
      ],
      "text/plain": [
       "                  ts       action  \\\n",
       "7       1.600765e+09         work   \n",
       "13      1.600765e+09         work   \n",
       "21      1.600250e+09       travel   \n",
       "25      1.599736e+09    household   \n",
       "38      1.600651e+09         work   \n",
       "...              ...          ...   \n",
       "196726  1.599208e+09         work   \n",
       "196729  1.599792e+09         work   \n",
       "196731  1.598840e+09         work   \n",
       "196736  1.600221e+09         work   \n",
       "196743  1.600428e+09  outdoor_act   \n",
       "\n",
       "                                                 img_path  user_x        lat  \\\n",
       "7       ./ETRI_data_RP_png/user02/1600700400/RP/160076...  user02  37.521518   \n",
       "13      ./ETRI_data_RP_png/user04/1600726800/RP/160076...  user04  37.477692   \n",
       "21      ./ETRI_data_RP_png/user04/1600207800/RP/160025...  user04  37.475682   \n",
       "25      ./ETRI_data_RP_png/user04/1599690000/RP/159973...  user04  37.435011   \n",
       "38      ./ETRI_data_RP_png/user04/1600640400/RP/160065...  user04  37.477842   \n",
       "...                                                   ...     ...        ...   \n",
       "196726  ./ETRI_data_RP_png/user04/1599174600/RP/159920...  user04  37.477736   \n",
       "196729  ./ETRI_data_RP_png/user04/1599776160/RP/159979...  user04  37.465773   \n",
       "196731  ./ETRI_data_RP_png/user04/1598828400/RP/159883...  user04  37.533329   \n",
       "196736  ./ETRI_data_RP_png/user04/1600207800/RP/160022...  user04  37.477694   \n",
       "196743  ./ETRI_data_RP_png/user04/1600380900/RP/160042...  user04  37.481213   \n",
       "\n",
       "               lon  \n",
       "7       127.032711  \n",
       "13      127.122387  \n",
       "21      127.127883  \n",
       "25      127.138813  \n",
       "38      127.122329  \n",
       "...            ...  \n",
       "196726  127.122746  \n",
       "196729  127.126981  \n",
       "196731  127.142002  \n",
       "196736  127.122396  \n",
       "196743  127.142602  \n",
       "\n",
       "[24791 rows x 6 columns]"
      ]
     },
     "execution_count": 23,
     "metadata": {},
     "output_type": "execute_result"
    }
   ],
   "source": [
    "train_df"
   ]
  },
  {
   "cell_type": "code",
   "execution_count": 24,
   "id": "29509f4a",
   "metadata": {},
   "outputs": [
    {
     "data": {
      "text/html": [
       "<div>\n",
       "<style scoped>\n",
       "    .dataframe tbody tr th:only-of-type {\n",
       "        vertical-align: middle;\n",
       "    }\n",
       "\n",
       "    .dataframe tbody tr th {\n",
       "        vertical-align: top;\n",
       "    }\n",
       "\n",
       "    .dataframe thead th {\n",
       "        text-align: right;\n",
       "    }\n",
       "</style>\n",
       "<table border=\"1\" class=\"dataframe\">\n",
       "  <thead>\n",
       "    <tr style=\"text-align: right;\">\n",
       "      <th></th>\n",
       "      <th>ts</th>\n",
       "      <th>action</th>\n",
       "      <th>img_path</th>\n",
       "      <th>user_x</th>\n",
       "      <th>lat</th>\n",
       "      <th>lon</th>\n",
       "    </tr>\n",
       "  </thead>\n",
       "  <tbody>\n",
       "    <tr>\n",
       "      <th>13</th>\n",
       "      <td>1.599979e+09</td>\n",
       "      <td>outdoor_act</td>\n",
       "      <td>./ETRI_data_RP_png/user04/1599957060/RP/159997...</td>\n",
       "      <td>user04</td>\n",
       "      <td>37.434939</td>\n",
       "      <td>127.138877</td>\n",
       "    </tr>\n",
       "    <tr>\n",
       "      <th>22</th>\n",
       "      <td>1.599040e+09</td>\n",
       "      <td>socialising</td>\n",
       "      <td>./ETRI_data_RP_png/user02/1598972400/RP/159903...</td>\n",
       "      <td>user02</td>\n",
       "      <td>37.521560</td>\n",
       "      <td>127.032720</td>\n",
       "    </tr>\n",
       "    <tr>\n",
       "      <th>24</th>\n",
       "      <td>1.598921e+09</td>\n",
       "      <td>work</td>\n",
       "      <td>./ETRI_data_RP_png/user02/1598886000/RP/159892...</td>\n",
       "      <td>user02</td>\n",
       "      <td>37.521576</td>\n",
       "      <td>127.032770</td>\n",
       "    </tr>\n",
       "    <tr>\n",
       "      <th>28</th>\n",
       "      <td>1.600693e+09</td>\n",
       "      <td>travel</td>\n",
       "      <td>./ETRI_data_RP_png/user04/1600640400/RP/160069...</td>\n",
       "      <td>user04</td>\n",
       "      <td>37.440471</td>\n",
       "      <td>127.146305</td>\n",
       "    </tr>\n",
       "    <tr>\n",
       "      <th>37</th>\n",
       "      <td>1.601116e+09</td>\n",
       "      <td>shop</td>\n",
       "      <td>./ETRI_data_RP_png/user12/1601076000/RP/160111...</td>\n",
       "      <td>user12</td>\n",
       "      <td>37.614593</td>\n",
       "      <td>126.928336</td>\n",
       "    </tr>\n",
       "    <tr>\n",
       "      <th>...</th>\n",
       "      <td>...</td>\n",
       "      <td>...</td>\n",
       "      <td>...</td>\n",
       "      <td>...</td>\n",
       "      <td>...</td>\n",
       "      <td>...</td>\n",
       "    </tr>\n",
       "    <tr>\n",
       "      <th>22007</th>\n",
       "      <td>1.600049e+09</td>\n",
       "      <td>work</td>\n",
       "      <td>./ETRI_data_RP_png/user04/1600035000/RP/160004...</td>\n",
       "      <td>user04</td>\n",
       "      <td>37.477693</td>\n",
       "      <td>127.122527</td>\n",
       "    </tr>\n",
       "    <tr>\n",
       "      <th>22014</th>\n",
       "      <td>1.601011e+09</td>\n",
       "      <td>work</td>\n",
       "      <td>./ETRI_data_RP_png/user04/1600986000/RP/160101...</td>\n",
       "      <td>user04</td>\n",
       "      <td>37.477689</td>\n",
       "      <td>127.122666</td>\n",
       "    </tr>\n",
       "    <tr>\n",
       "      <th>22016</th>\n",
       "      <td>1.598921e+09</td>\n",
       "      <td>work</td>\n",
       "      <td>./ETRI_data_RP_png/user02/1598886000/RP/159892...</td>\n",
       "      <td>user02</td>\n",
       "      <td>37.521573</td>\n",
       "      <td>127.032773</td>\n",
       "    </tr>\n",
       "    <tr>\n",
       "      <th>22027</th>\n",
       "      <td>1.598914e+09</td>\n",
       "      <td>meal</td>\n",
       "      <td>./ETRI_data_RP_png/user04/1598912400/RP/159891...</td>\n",
       "      <td>user04</td>\n",
       "      <td>37.434961</td>\n",
       "      <td>127.138858</td>\n",
       "    </tr>\n",
       "    <tr>\n",
       "      <th>22041</th>\n",
       "      <td>1.599707e+09</td>\n",
       "      <td>meal</td>\n",
       "      <td>./ETRI_data_RP_png/user04/1599690000/RP/159970...</td>\n",
       "      <td>user04</td>\n",
       "      <td>37.464091</td>\n",
       "      <td>127.127168</td>\n",
       "    </tr>\n",
       "  </tbody>\n",
       "</table>\n",
       "<p>2799 rows × 6 columns</p>\n",
       "</div>"
      ],
      "text/plain": [
       "                 ts       action  \\\n",
       "13     1.599979e+09  outdoor_act   \n",
       "22     1.599040e+09  socialising   \n",
       "24     1.598921e+09         work   \n",
       "28     1.600693e+09       travel   \n",
       "37     1.601116e+09         shop   \n",
       "...             ...          ...   \n",
       "22007  1.600049e+09         work   \n",
       "22014  1.601011e+09         work   \n",
       "22016  1.598921e+09         work   \n",
       "22027  1.598914e+09         meal   \n",
       "22041  1.599707e+09         meal   \n",
       "\n",
       "                                                img_path  user_x        lat  \\\n",
       "13     ./ETRI_data_RP_png/user04/1599957060/RP/159997...  user04  37.434939   \n",
       "22     ./ETRI_data_RP_png/user02/1598972400/RP/159903...  user02  37.521560   \n",
       "24     ./ETRI_data_RP_png/user02/1598886000/RP/159892...  user02  37.521576   \n",
       "28     ./ETRI_data_RP_png/user04/1600640400/RP/160069...  user04  37.440471   \n",
       "37     ./ETRI_data_RP_png/user12/1601076000/RP/160111...  user12  37.614593   \n",
       "...                                                  ...     ...        ...   \n",
       "22007  ./ETRI_data_RP_png/user04/1600035000/RP/160004...  user04  37.477693   \n",
       "22014  ./ETRI_data_RP_png/user04/1600986000/RP/160101...  user04  37.477689   \n",
       "22016  ./ETRI_data_RP_png/user02/1598886000/RP/159892...  user02  37.521573   \n",
       "22027  ./ETRI_data_RP_png/user04/1598912400/RP/159891...  user04  37.434961   \n",
       "22041  ./ETRI_data_RP_png/user04/1599690000/RP/159970...  user04  37.464091   \n",
       "\n",
       "              lon  \n",
       "13     127.138877  \n",
       "22     127.032720  \n",
       "24     127.032770  \n",
       "28     127.146305  \n",
       "37     126.928336  \n",
       "...           ...  \n",
       "22007  127.122527  \n",
       "22014  127.122666  \n",
       "22016  127.032773  \n",
       "22027  127.138858  \n",
       "22041  127.127168  \n",
       "\n",
       "[2799 rows x 6 columns]"
      ]
     },
     "execution_count": 24,
     "metadata": {},
     "output_type": "execute_result"
    }
   ],
   "source": [
    "test_df"
   ]
  },
  {
   "cell_type": "code",
   "execution_count": 25,
   "id": "30a8786a",
   "metadata": {},
   "outputs": [],
   "source": [
    "le = LabelEncoder()\n",
    "le = le.fit(train_df['action'])\n",
    "train_df['action'] = le.transform(train_df['action'])\n",
    "test_df['action'] = le.transform(test_df['action'])"
   ]
  },
  {
   "cell_type": "code",
   "execution_count": 26,
   "id": "0c9b1772",
   "metadata": {},
   "outputs": [
    {
     "data": {
      "text/html": [
       "<div>\n",
       "<style scoped>\n",
       "    .dataframe tbody tr th:only-of-type {\n",
       "        vertical-align: middle;\n",
       "    }\n",
       "\n",
       "    .dataframe tbody tr th {\n",
       "        vertical-align: top;\n",
       "    }\n",
       "\n",
       "    .dataframe thead th {\n",
       "        text-align: right;\n",
       "    }\n",
       "</style>\n",
       "<table border=\"1\" class=\"dataframe\">\n",
       "  <thead>\n",
       "    <tr style=\"text-align: right;\">\n",
       "      <th></th>\n",
       "      <th>ts</th>\n",
       "      <th>action</th>\n",
       "      <th>img_path</th>\n",
       "      <th>user_x</th>\n",
       "      <th>lat</th>\n",
       "      <th>lon</th>\n",
       "    </tr>\n",
       "  </thead>\n",
       "  <tbody>\n",
       "    <tr>\n",
       "      <th>0</th>\n",
       "      <td>1.600250e+09</td>\n",
       "      <td>13</td>\n",
       "      <td>./ETRI_data_RP_png/user04/1600207800/RP/160025...</td>\n",
       "      <td>user04</td>\n",
       "      <td>37.475682</td>\n",
       "      <td>127.127883</td>\n",
       "    </tr>\n",
       "    <tr>\n",
       "      <th>1</th>\n",
       "      <td>1.599736e+09</td>\n",
       "      <td>3</td>\n",
       "      <td>./ETRI_data_RP_png/user04/1599690000/RP/159973...</td>\n",
       "      <td>user04</td>\n",
       "      <td>37.435011</td>\n",
       "      <td>127.138813</td>\n",
       "    </tr>\n",
       "    <tr>\n",
       "      <th>2</th>\n",
       "      <td>1.599734e+09</td>\n",
       "      <td>4</td>\n",
       "      <td>./ETRI_data_RP_png/user04/1599690000/RP/159973...</td>\n",
       "      <td>user04</td>\n",
       "      <td>37.434953</td>\n",
       "      <td>127.138873</td>\n",
       "    </tr>\n",
       "    <tr>\n",
       "      <th>3</th>\n",
       "      <td>1.599105e+09</td>\n",
       "      <td>4</td>\n",
       "      <td>./ETRI_data_RP_png/user04/1599085500/RP/159910...</td>\n",
       "      <td>user04</td>\n",
       "      <td>37.478068</td>\n",
       "      <td>127.121154</td>\n",
       "    </tr>\n",
       "    <tr>\n",
       "      <th>4</th>\n",
       "      <td>1.599105e+09</td>\n",
       "      <td>4</td>\n",
       "      <td>./ETRI_data_RP_png/user02/1599058800/RP/159910...</td>\n",
       "      <td>user02</td>\n",
       "      <td>37.523280</td>\n",
       "      <td>127.028385</td>\n",
       "    </tr>\n",
       "    <tr>\n",
       "      <th>...</th>\n",
       "      <td>...</td>\n",
       "      <td>...</td>\n",
       "      <td>...</td>\n",
       "      <td>...</td>\n",
       "      <td>...</td>\n",
       "      <td>...</td>\n",
       "    </tr>\n",
       "    <tr>\n",
       "      <th>17022</th>\n",
       "      <td>1.600259e+09</td>\n",
       "      <td>13</td>\n",
       "      <td>./ETRI_data_RP_png/user04/1600207800/RP/160025...</td>\n",
       "      <td>user04</td>\n",
       "      <td>37.481122</td>\n",
       "      <td>127.142370</td>\n",
       "    </tr>\n",
       "    <tr>\n",
       "      <th>17023</th>\n",
       "      <td>1.599795e+09</td>\n",
       "      <td>4</td>\n",
       "      <td>./ETRI_data_RP_png/user04/1599776160/RP/159979...</td>\n",
       "      <td>user04</td>\n",
       "      <td>37.434940</td>\n",
       "      <td>127.138863</td>\n",
       "    </tr>\n",
       "    <tr>\n",
       "      <th>17024</th>\n",
       "      <td>1.599090e+09</td>\n",
       "      <td>14</td>\n",
       "      <td>./ETRI_data_RP_png/user04/1599085500/RP/159909...</td>\n",
       "      <td>user04</td>\n",
       "      <td>37.477714</td>\n",
       "      <td>127.122898</td>\n",
       "    </tr>\n",
       "    <tr>\n",
       "      <th>17025</th>\n",
       "      <td>1.599208e+09</td>\n",
       "      <td>14</td>\n",
       "      <td>./ETRI_data_RP_png/user04/1599174600/RP/159920...</td>\n",
       "      <td>user04</td>\n",
       "      <td>37.477736</td>\n",
       "      <td>127.122746</td>\n",
       "    </tr>\n",
       "    <tr>\n",
       "      <th>17026</th>\n",
       "      <td>1.600428e+09</td>\n",
       "      <td>5</td>\n",
       "      <td>./ETRI_data_RP_png/user04/1600380900/RP/160042...</td>\n",
       "      <td>user04</td>\n",
       "      <td>37.481213</td>\n",
       "      <td>127.142602</td>\n",
       "    </tr>\n",
       "  </tbody>\n",
       "</table>\n",
       "<p>17027 rows × 6 columns</p>\n",
       "</div>"
      ],
      "text/plain": [
       "                 ts  action  \\\n",
       "0      1.600250e+09      13   \n",
       "1      1.599736e+09       3   \n",
       "2      1.599734e+09       4   \n",
       "3      1.599105e+09       4   \n",
       "4      1.599105e+09       4   \n",
       "...             ...     ...   \n",
       "17022  1.600259e+09      13   \n",
       "17023  1.599795e+09       4   \n",
       "17024  1.599090e+09      14   \n",
       "17025  1.599208e+09      14   \n",
       "17026  1.600428e+09       5   \n",
       "\n",
       "                                                img_path  user_x        lat  \\\n",
       "0      ./ETRI_data_RP_png/user04/1600207800/RP/160025...  user04  37.475682   \n",
       "1      ./ETRI_data_RP_png/user04/1599690000/RP/159973...  user04  37.435011   \n",
       "2      ./ETRI_data_RP_png/user04/1599690000/RP/159973...  user04  37.434953   \n",
       "3      ./ETRI_data_RP_png/user04/1599085500/RP/159910...  user04  37.478068   \n",
       "4      ./ETRI_data_RP_png/user02/1599058800/RP/159910...  user02  37.523280   \n",
       "...                                                  ...     ...        ...   \n",
       "17022  ./ETRI_data_RP_png/user04/1600207800/RP/160025...  user04  37.481122   \n",
       "17023  ./ETRI_data_RP_png/user04/1599776160/RP/159979...  user04  37.434940   \n",
       "17024  ./ETRI_data_RP_png/user04/1599085500/RP/159909...  user04  37.477714   \n",
       "17025  ./ETRI_data_RP_png/user04/1599174600/RP/159920...  user04  37.477736   \n",
       "17026  ./ETRI_data_RP_png/user04/1600380900/RP/160042...  user04  37.481213   \n",
       "\n",
       "              lon  \n",
       "0      127.127883  \n",
       "1      127.138813  \n",
       "2      127.138873  \n",
       "3      127.121154  \n",
       "4      127.028385  \n",
       "...           ...  \n",
       "17022  127.142370  \n",
       "17023  127.138863  \n",
       "17024  127.122898  \n",
       "17025  127.122746  \n",
       "17026  127.142602  \n",
       "\n",
       "[17027 rows x 6 columns]"
      ]
     },
     "execution_count": 26,
     "metadata": {},
     "output_type": "execute_result"
    }
   ],
   "source": [
    "img_path_list = []\n",
    "for i in range(15):\n",
    "    path_list = list(train_df[train_df['action']==i]['img_path'])\n",
    "    if len(path_list) >= 3000:\n",
    "        tmp = random.sample(path_list, 3000)\n",
    "        for i in tmp:\n",
    "            img_path_list.append(i)\n",
    "    else:\n",
    "        for i in path_list:\n",
    "            img_path_list.append(i)\n",
    "df = pd.DataFrame(img_path_list)\n",
    "df.columns = ['img_path']\n",
    "df\n",
    "\n",
    "path_label_df = pd.merge(train_df, df, on='img_path', how='inner')\n",
    "path_label_df"
   ]
  },
  {
   "cell_type": "code",
   "execution_count": 27,
   "id": "14395dff",
   "metadata": {},
   "outputs": [
    {
     "data": {
      "text/plain": [
       "14    3000\n",
       "13    2745\n",
       "4     2259\n",
       "11    1658\n",
       "5     1288\n",
       "8     1239\n",
       "3     1188\n",
       "6     1080\n",
       "9      854\n",
       "1      589\n",
       "7      570\n",
       "10     241\n",
       "12     178\n",
       "0       70\n",
       "2       68\n",
       "Name: action, dtype: int64"
      ]
     },
     "execution_count": 27,
     "metadata": {},
     "output_type": "execute_result"
    }
   ],
   "source": [
    "path_label_df['action'].value_counts()"
   ]
  },
  {
   "cell_type": "code",
   "execution_count": 28,
   "id": "903289c4",
   "metadata": {},
   "outputs": [
    {
     "data": {
      "text/html": [
       "<div>\n",
       "<style scoped>\n",
       "    .dataframe tbody tr th:only-of-type {\n",
       "        vertical-align: middle;\n",
       "    }\n",
       "\n",
       "    .dataframe tbody tr th {\n",
       "        vertical-align: top;\n",
       "    }\n",
       "\n",
       "    .dataframe thead th {\n",
       "        text-align: right;\n",
       "    }\n",
       "</style>\n",
       "<table border=\"1\" class=\"dataframe\">\n",
       "  <thead>\n",
       "    <tr style=\"text-align: right;\">\n",
       "      <th></th>\n",
       "      <th>ts</th>\n",
       "      <th>action</th>\n",
       "      <th>img_path</th>\n",
       "      <th>user_x</th>\n",
       "      <th>lat</th>\n",
       "      <th>lon</th>\n",
       "    </tr>\n",
       "  </thead>\n",
       "  <tbody>\n",
       "    <tr>\n",
       "      <th>0</th>\n",
       "      <td>1.600250e+09</td>\n",
       "      <td>13</td>\n",
       "      <td>./ETRI_data_RP_png/user04/1600207800/RP/160025...</td>\n",
       "      <td>user04</td>\n",
       "      <td>37.475682</td>\n",
       "      <td>127.127883</td>\n",
       "    </tr>\n",
       "    <tr>\n",
       "      <th>1</th>\n",
       "      <td>1.599736e+09</td>\n",
       "      <td>3</td>\n",
       "      <td>./ETRI_data_RP_png/user04/1599690000/RP/159973...</td>\n",
       "      <td>user04</td>\n",
       "      <td>37.435011</td>\n",
       "      <td>127.138813</td>\n",
       "    </tr>\n",
       "    <tr>\n",
       "      <th>2</th>\n",
       "      <td>1.599734e+09</td>\n",
       "      <td>4</td>\n",
       "      <td>./ETRI_data_RP_png/user04/1599690000/RP/159973...</td>\n",
       "      <td>user04</td>\n",
       "      <td>37.434953</td>\n",
       "      <td>127.138873</td>\n",
       "    </tr>\n",
       "    <tr>\n",
       "      <th>3</th>\n",
       "      <td>1.599105e+09</td>\n",
       "      <td>4</td>\n",
       "      <td>./ETRI_data_RP_png/user04/1599085500/RP/159910...</td>\n",
       "      <td>user04</td>\n",
       "      <td>37.478068</td>\n",
       "      <td>127.121154</td>\n",
       "    </tr>\n",
       "    <tr>\n",
       "      <th>4</th>\n",
       "      <td>1.599105e+09</td>\n",
       "      <td>4</td>\n",
       "      <td>./ETRI_data_RP_png/user02/1599058800/RP/159910...</td>\n",
       "      <td>user02</td>\n",
       "      <td>37.523280</td>\n",
       "      <td>127.028385</td>\n",
       "    </tr>\n",
       "    <tr>\n",
       "      <th>...</th>\n",
       "      <td>...</td>\n",
       "      <td>...</td>\n",
       "      <td>...</td>\n",
       "      <td>...</td>\n",
       "      <td>...</td>\n",
       "      <td>...</td>\n",
       "    </tr>\n",
       "    <tr>\n",
       "      <th>17022</th>\n",
       "      <td>1.600259e+09</td>\n",
       "      <td>13</td>\n",
       "      <td>./ETRI_data_RP_png/user04/1600207800/RP/160025...</td>\n",
       "      <td>user04</td>\n",
       "      <td>37.481122</td>\n",
       "      <td>127.142370</td>\n",
       "    </tr>\n",
       "    <tr>\n",
       "      <th>17023</th>\n",
       "      <td>1.599795e+09</td>\n",
       "      <td>4</td>\n",
       "      <td>./ETRI_data_RP_png/user04/1599776160/RP/159979...</td>\n",
       "      <td>user04</td>\n",
       "      <td>37.434940</td>\n",
       "      <td>127.138863</td>\n",
       "    </tr>\n",
       "    <tr>\n",
       "      <th>17024</th>\n",
       "      <td>1.599090e+09</td>\n",
       "      <td>14</td>\n",
       "      <td>./ETRI_data_RP_png/user04/1599085500/RP/159909...</td>\n",
       "      <td>user04</td>\n",
       "      <td>37.477714</td>\n",
       "      <td>127.122898</td>\n",
       "    </tr>\n",
       "    <tr>\n",
       "      <th>17025</th>\n",
       "      <td>1.599208e+09</td>\n",
       "      <td>14</td>\n",
       "      <td>./ETRI_data_RP_png/user04/1599174600/RP/159920...</td>\n",
       "      <td>user04</td>\n",
       "      <td>37.477736</td>\n",
       "      <td>127.122746</td>\n",
       "    </tr>\n",
       "    <tr>\n",
       "      <th>17026</th>\n",
       "      <td>1.600428e+09</td>\n",
       "      <td>5</td>\n",
       "      <td>./ETRI_data_RP_png/user04/1600380900/RP/160042...</td>\n",
       "      <td>user04</td>\n",
       "      <td>37.481213</td>\n",
       "      <td>127.142602</td>\n",
       "    </tr>\n",
       "  </tbody>\n",
       "</table>\n",
       "<p>17027 rows × 6 columns</p>\n",
       "</div>"
      ],
      "text/plain": [
       "                 ts  action  \\\n",
       "0      1.600250e+09      13   \n",
       "1      1.599736e+09       3   \n",
       "2      1.599734e+09       4   \n",
       "3      1.599105e+09       4   \n",
       "4      1.599105e+09       4   \n",
       "...             ...     ...   \n",
       "17022  1.600259e+09      13   \n",
       "17023  1.599795e+09       4   \n",
       "17024  1.599090e+09      14   \n",
       "17025  1.599208e+09      14   \n",
       "17026  1.600428e+09       5   \n",
       "\n",
       "                                                img_path  user_x        lat  \\\n",
       "0      ./ETRI_data_RP_png/user04/1600207800/RP/160025...  user04  37.475682   \n",
       "1      ./ETRI_data_RP_png/user04/1599690000/RP/159973...  user04  37.435011   \n",
       "2      ./ETRI_data_RP_png/user04/1599690000/RP/159973...  user04  37.434953   \n",
       "3      ./ETRI_data_RP_png/user04/1599085500/RP/159910...  user04  37.478068   \n",
       "4      ./ETRI_data_RP_png/user02/1599058800/RP/159910...  user02  37.523280   \n",
       "...                                                  ...     ...        ...   \n",
       "17022  ./ETRI_data_RP_png/user04/1600207800/RP/160025...  user04  37.481122   \n",
       "17023  ./ETRI_data_RP_png/user04/1599776160/RP/159979...  user04  37.434940   \n",
       "17024  ./ETRI_data_RP_png/user04/1599085500/RP/159909...  user04  37.477714   \n",
       "17025  ./ETRI_data_RP_png/user04/1599174600/RP/159920...  user04  37.477736   \n",
       "17026  ./ETRI_data_RP_png/user04/1600380900/RP/160042...  user04  37.481213   \n",
       "\n",
       "              lon  \n",
       "0      127.127883  \n",
       "1      127.138813  \n",
       "2      127.138873  \n",
       "3      127.121154  \n",
       "4      127.028385  \n",
       "...           ...  \n",
       "17022  127.142370  \n",
       "17023  127.138863  \n",
       "17024  127.122898  \n",
       "17025  127.122746  \n",
       "17026  127.142602  \n",
       "\n",
       "[17027 rows x 6 columns]"
      ]
     },
     "execution_count": 28,
     "metadata": {},
     "output_type": "execute_result"
    }
   ],
   "source": [
    "train_df = path_label_df\n",
    "train_df"
   ]
  },
  {
   "cell_type": "code",
   "execution_count": 29,
   "id": "e269336b",
   "metadata": {},
   "outputs": [
    {
     "data": {
      "text/html": [
       "<div>\n",
       "<style scoped>\n",
       "    .dataframe tbody tr th:only-of-type {\n",
       "        vertical-align: middle;\n",
       "    }\n",
       "\n",
       "    .dataframe tbody tr th {\n",
       "        vertical-align: top;\n",
       "    }\n",
       "\n",
       "    .dataframe thead th {\n",
       "        text-align: right;\n",
       "    }\n",
       "</style>\n",
       "<table border=\"1\" class=\"dataframe\">\n",
       "  <thead>\n",
       "    <tr style=\"text-align: right;\">\n",
       "      <th></th>\n",
       "      <th>ts</th>\n",
       "      <th>action</th>\n",
       "      <th>img_path</th>\n",
       "      <th>user_x</th>\n",
       "      <th>lat</th>\n",
       "      <th>lon</th>\n",
       "    </tr>\n",
       "  </thead>\n",
       "  <tbody>\n",
       "    <tr>\n",
       "      <th>0</th>\n",
       "      <td>1.599979e+09</td>\n",
       "      <td>5</td>\n",
       "      <td>./ETRI_data_RP_png/user04/1599957060/RP/159997...</td>\n",
       "      <td>user04</td>\n",
       "      <td>37.434939</td>\n",
       "      <td>127.138877</td>\n",
       "    </tr>\n",
       "    <tr>\n",
       "      <th>1</th>\n",
       "      <td>1.599040e+09</td>\n",
       "      <td>11</td>\n",
       "      <td>./ETRI_data_RP_png/user02/1598972400/RP/159903...</td>\n",
       "      <td>user02</td>\n",
       "      <td>37.521560</td>\n",
       "      <td>127.032720</td>\n",
       "    </tr>\n",
       "    <tr>\n",
       "      <th>2</th>\n",
       "      <td>1.600693e+09</td>\n",
       "      <td>13</td>\n",
       "      <td>./ETRI_data_RP_png/user04/1600640400/RP/160069...</td>\n",
       "      <td>user04</td>\n",
       "      <td>37.440471</td>\n",
       "      <td>127.146305</td>\n",
       "    </tr>\n",
       "    <tr>\n",
       "      <th>3</th>\n",
       "      <td>1.601116e+09</td>\n",
       "      <td>9</td>\n",
       "      <td>./ETRI_data_RP_png/user12/1601076000/RP/160111...</td>\n",
       "      <td>user12</td>\n",
       "      <td>37.614593</td>\n",
       "      <td>126.928336</td>\n",
       "    </tr>\n",
       "    <tr>\n",
       "      <th>4</th>\n",
       "      <td>1.599298e+09</td>\n",
       "      <td>7</td>\n",
       "      <td>./ETRI_data_RP_png/user04/1599261300/RP/159929...</td>\n",
       "      <td>user04</td>\n",
       "      <td>35.142077</td>\n",
       "      <td>126.794049</td>\n",
       "    </tr>\n",
       "    <tr>\n",
       "      <th>...</th>\n",
       "      <td>...</td>\n",
       "      <td>...</td>\n",
       "      <td>...</td>\n",
       "      <td>...</td>\n",
       "      <td>...</td>\n",
       "      <td>...</td>\n",
       "    </tr>\n",
       "    <tr>\n",
       "      <th>1856</th>\n",
       "      <td>1.599861e+09</td>\n",
       "      <td>8</td>\n",
       "      <td>./ETRI_data_RP_png/user04/1599859800/RP/159986...</td>\n",
       "      <td>user04</td>\n",
       "      <td>37.434965</td>\n",
       "      <td>127.138895</td>\n",
       "    </tr>\n",
       "    <tr>\n",
       "      <th>1857</th>\n",
       "      <td>1.600326e+09</td>\n",
       "      <td>13</td>\n",
       "      <td>./ETRI_data_RP_png/user04/1600294800/RP/160032...</td>\n",
       "      <td>user04</td>\n",
       "      <td>37.434671</td>\n",
       "      <td>127.138268</td>\n",
       "    </tr>\n",
       "    <tr>\n",
       "      <th>1858</th>\n",
       "      <td>1.600049e+09</td>\n",
       "      <td>14</td>\n",
       "      <td>./ETRI_data_RP_png/user04/1600035000/RP/160004...</td>\n",
       "      <td>user04</td>\n",
       "      <td>37.477693</td>\n",
       "      <td>127.122527</td>\n",
       "    </tr>\n",
       "    <tr>\n",
       "      <th>1859</th>\n",
       "      <td>1.598914e+09</td>\n",
       "      <td>4</td>\n",
       "      <td>./ETRI_data_RP_png/user04/1598912400/RP/159891...</td>\n",
       "      <td>user04</td>\n",
       "      <td>37.434961</td>\n",
       "      <td>127.138858</td>\n",
       "    </tr>\n",
       "    <tr>\n",
       "      <th>1860</th>\n",
       "      <td>1.599707e+09</td>\n",
       "      <td>4</td>\n",
       "      <td>./ETRI_data_RP_png/user04/1599690000/RP/159970...</td>\n",
       "      <td>user04</td>\n",
       "      <td>37.464091</td>\n",
       "      <td>127.127168</td>\n",
       "    </tr>\n",
       "  </tbody>\n",
       "</table>\n",
       "<p>1861 rows × 6 columns</p>\n",
       "</div>"
      ],
      "text/plain": [
       "                ts  action                                           img_path  \\\n",
       "0     1.599979e+09       5  ./ETRI_data_RP_png/user04/1599957060/RP/159997...   \n",
       "1     1.599040e+09      11  ./ETRI_data_RP_png/user02/1598972400/RP/159903...   \n",
       "2     1.600693e+09      13  ./ETRI_data_RP_png/user04/1600640400/RP/160069...   \n",
       "3     1.601116e+09       9  ./ETRI_data_RP_png/user12/1601076000/RP/160111...   \n",
       "4     1.599298e+09       7  ./ETRI_data_RP_png/user04/1599261300/RP/159929...   \n",
       "...            ...     ...                                                ...   \n",
       "1856  1.599861e+09       8  ./ETRI_data_RP_png/user04/1599859800/RP/159986...   \n",
       "1857  1.600326e+09      13  ./ETRI_data_RP_png/user04/1600294800/RP/160032...   \n",
       "1858  1.600049e+09      14  ./ETRI_data_RP_png/user04/1600035000/RP/160004...   \n",
       "1859  1.598914e+09       4  ./ETRI_data_RP_png/user04/1598912400/RP/159891...   \n",
       "1860  1.599707e+09       4  ./ETRI_data_RP_png/user04/1599690000/RP/159970...   \n",
       "\n",
       "      user_x        lat         lon  \n",
       "0     user04  37.434939  127.138877  \n",
       "1     user02  37.521560  127.032720  \n",
       "2     user04  37.440471  127.146305  \n",
       "3     user12  37.614593  126.928336  \n",
       "4     user04  35.142077  126.794049  \n",
       "...      ...        ...         ...  \n",
       "1856  user04  37.434965  127.138895  \n",
       "1857  user04  37.434671  127.138268  \n",
       "1858  user04  37.477693  127.122527  \n",
       "1859  user04  37.434961  127.138858  \n",
       "1860  user04  37.464091  127.127168  \n",
       "\n",
       "[1861 rows x 6 columns]"
      ]
     },
     "execution_count": 29,
     "metadata": {},
     "output_type": "execute_result"
    }
   ],
   "source": [
    "img_path_list = []\n",
    "for i in range(15):\n",
    "    path_list = list(test_df[test_df['action']==i]['img_path'])\n",
    "    if len(path_list) >= 300:\n",
    "        tmp = random.sample(path_list, 300)\n",
    "        for i in tmp:\n",
    "            img_path_list.append(i)\n",
    "    else:\n",
    "        for i in path_list:\n",
    "            img_path_list.append(i)\n",
    "df = pd.DataFrame(img_path_list)\n",
    "df.columns = ['img_path']\n",
    "df\n",
    "\n",
    "path_label_df = pd.merge(test_df, df, on='img_path', how='inner')\n",
    "path_label_df"
   ]
  },
  {
   "cell_type": "code",
   "execution_count": 30,
   "id": "0c882679",
   "metadata": {},
   "outputs": [
    {
     "data": {
      "text/plain": [
       "13    300\n",
       "14    300\n",
       "4     260\n",
       "11    180\n",
       "3     134\n",
       "5     129\n",
       "8     128\n",
       "6     126\n",
       "9      95\n",
       "1      71\n",
       "7      62\n",
       "12     26\n",
       "10     25\n",
       "0      15\n",
       "2      10\n",
       "Name: action, dtype: int64"
      ]
     },
     "execution_count": 30,
     "metadata": {},
     "output_type": "execute_result"
    }
   ],
   "source": [
    "path_label_df['action'].value_counts()"
   ]
  },
  {
   "cell_type": "code",
   "execution_count": 31,
   "id": "cd9f9e93",
   "metadata": {},
   "outputs": [
    {
     "data": {
      "text/html": [
       "<div>\n",
       "<style scoped>\n",
       "    .dataframe tbody tr th:only-of-type {\n",
       "        vertical-align: middle;\n",
       "    }\n",
       "\n",
       "    .dataframe tbody tr th {\n",
       "        vertical-align: top;\n",
       "    }\n",
       "\n",
       "    .dataframe thead th {\n",
       "        text-align: right;\n",
       "    }\n",
       "</style>\n",
       "<table border=\"1\" class=\"dataframe\">\n",
       "  <thead>\n",
       "    <tr style=\"text-align: right;\">\n",
       "      <th></th>\n",
       "      <th>ts</th>\n",
       "      <th>action</th>\n",
       "      <th>img_path</th>\n",
       "      <th>user_x</th>\n",
       "      <th>lat</th>\n",
       "      <th>lon</th>\n",
       "    </tr>\n",
       "  </thead>\n",
       "  <tbody>\n",
       "    <tr>\n",
       "      <th>0</th>\n",
       "      <td>1.599979e+09</td>\n",
       "      <td>5</td>\n",
       "      <td>./ETRI_data_RP_png/user04/1599957060/RP/159997...</td>\n",
       "      <td>user04</td>\n",
       "      <td>37.434939</td>\n",
       "      <td>127.138877</td>\n",
       "    </tr>\n",
       "    <tr>\n",
       "      <th>1</th>\n",
       "      <td>1.599040e+09</td>\n",
       "      <td>11</td>\n",
       "      <td>./ETRI_data_RP_png/user02/1598972400/RP/159903...</td>\n",
       "      <td>user02</td>\n",
       "      <td>37.521560</td>\n",
       "      <td>127.032720</td>\n",
       "    </tr>\n",
       "    <tr>\n",
       "      <th>2</th>\n",
       "      <td>1.600693e+09</td>\n",
       "      <td>13</td>\n",
       "      <td>./ETRI_data_RP_png/user04/1600640400/RP/160069...</td>\n",
       "      <td>user04</td>\n",
       "      <td>37.440471</td>\n",
       "      <td>127.146305</td>\n",
       "    </tr>\n",
       "    <tr>\n",
       "      <th>3</th>\n",
       "      <td>1.601116e+09</td>\n",
       "      <td>9</td>\n",
       "      <td>./ETRI_data_RP_png/user12/1601076000/RP/160111...</td>\n",
       "      <td>user12</td>\n",
       "      <td>37.614593</td>\n",
       "      <td>126.928336</td>\n",
       "    </tr>\n",
       "    <tr>\n",
       "      <th>4</th>\n",
       "      <td>1.599298e+09</td>\n",
       "      <td>7</td>\n",
       "      <td>./ETRI_data_RP_png/user04/1599261300/RP/159929...</td>\n",
       "      <td>user04</td>\n",
       "      <td>35.142077</td>\n",
       "      <td>126.794049</td>\n",
       "    </tr>\n",
       "    <tr>\n",
       "      <th>...</th>\n",
       "      <td>...</td>\n",
       "      <td>...</td>\n",
       "      <td>...</td>\n",
       "      <td>...</td>\n",
       "      <td>...</td>\n",
       "      <td>...</td>\n",
       "    </tr>\n",
       "    <tr>\n",
       "      <th>1856</th>\n",
       "      <td>1.599861e+09</td>\n",
       "      <td>8</td>\n",
       "      <td>./ETRI_data_RP_png/user04/1599859800/RP/159986...</td>\n",
       "      <td>user04</td>\n",
       "      <td>37.434965</td>\n",
       "      <td>127.138895</td>\n",
       "    </tr>\n",
       "    <tr>\n",
       "      <th>1857</th>\n",
       "      <td>1.600326e+09</td>\n",
       "      <td>13</td>\n",
       "      <td>./ETRI_data_RP_png/user04/1600294800/RP/160032...</td>\n",
       "      <td>user04</td>\n",
       "      <td>37.434671</td>\n",
       "      <td>127.138268</td>\n",
       "    </tr>\n",
       "    <tr>\n",
       "      <th>1858</th>\n",
       "      <td>1.600049e+09</td>\n",
       "      <td>14</td>\n",
       "      <td>./ETRI_data_RP_png/user04/1600035000/RP/160004...</td>\n",
       "      <td>user04</td>\n",
       "      <td>37.477693</td>\n",
       "      <td>127.122527</td>\n",
       "    </tr>\n",
       "    <tr>\n",
       "      <th>1859</th>\n",
       "      <td>1.598914e+09</td>\n",
       "      <td>4</td>\n",
       "      <td>./ETRI_data_RP_png/user04/1598912400/RP/159891...</td>\n",
       "      <td>user04</td>\n",
       "      <td>37.434961</td>\n",
       "      <td>127.138858</td>\n",
       "    </tr>\n",
       "    <tr>\n",
       "      <th>1860</th>\n",
       "      <td>1.599707e+09</td>\n",
       "      <td>4</td>\n",
       "      <td>./ETRI_data_RP_png/user04/1599690000/RP/159970...</td>\n",
       "      <td>user04</td>\n",
       "      <td>37.464091</td>\n",
       "      <td>127.127168</td>\n",
       "    </tr>\n",
       "  </tbody>\n",
       "</table>\n",
       "<p>1861 rows × 6 columns</p>\n",
       "</div>"
      ],
      "text/plain": [
       "                ts  action                                           img_path  \\\n",
       "0     1.599979e+09       5  ./ETRI_data_RP_png/user04/1599957060/RP/159997...   \n",
       "1     1.599040e+09      11  ./ETRI_data_RP_png/user02/1598972400/RP/159903...   \n",
       "2     1.600693e+09      13  ./ETRI_data_RP_png/user04/1600640400/RP/160069...   \n",
       "3     1.601116e+09       9  ./ETRI_data_RP_png/user12/1601076000/RP/160111...   \n",
       "4     1.599298e+09       7  ./ETRI_data_RP_png/user04/1599261300/RP/159929...   \n",
       "...            ...     ...                                                ...   \n",
       "1856  1.599861e+09       8  ./ETRI_data_RP_png/user04/1599859800/RP/159986...   \n",
       "1857  1.600326e+09      13  ./ETRI_data_RP_png/user04/1600294800/RP/160032...   \n",
       "1858  1.600049e+09      14  ./ETRI_data_RP_png/user04/1600035000/RP/160004...   \n",
       "1859  1.598914e+09       4  ./ETRI_data_RP_png/user04/1598912400/RP/159891...   \n",
       "1860  1.599707e+09       4  ./ETRI_data_RP_png/user04/1599690000/RP/159970...   \n",
       "\n",
       "      user_x        lat         lon  \n",
       "0     user04  37.434939  127.138877  \n",
       "1     user02  37.521560  127.032720  \n",
       "2     user04  37.440471  127.146305  \n",
       "3     user12  37.614593  126.928336  \n",
       "4     user04  35.142077  126.794049  \n",
       "...      ...        ...         ...  \n",
       "1856  user04  37.434965  127.138895  \n",
       "1857  user04  37.434671  127.138268  \n",
       "1858  user04  37.477693  127.122527  \n",
       "1859  user04  37.434961  127.138858  \n",
       "1860  user04  37.464091  127.127168  \n",
       "\n",
       "[1861 rows x 6 columns]"
      ]
     },
     "execution_count": 31,
     "metadata": {},
     "output_type": "execute_result"
    }
   ],
   "source": [
    "test_df = path_label_df\n",
    "test_df"
   ]
  },
  {
   "cell_type": "code",
   "execution_count": null,
   "id": "9468411e",
   "metadata": {},
   "outputs": [],
   "source": [
    "# train_df[train_df['action']==14]"
   ]
  },
  {
   "cell_type": "code",
   "execution_count": null,
   "id": "e753cb34",
   "metadata": {},
   "outputs": [],
   "source": [
    "# path_list = train_df[train_df['action']==14]['img_path']\n",
    "# pl = list(path_list)"
   ]
  },
  {
   "cell_type": "code",
   "execution_count": null,
   "id": "b57440be",
   "metadata": {},
   "outputs": [],
   "source": [
    "# tmp = random.sample(pl, 3000)"
   ]
  },
  {
   "cell_type": "code",
   "execution_count": null,
   "id": "ffb902bf",
   "metadata": {},
   "outputs": [],
   "source": [
    "# tmp"
   ]
  },
  {
   "cell_type": "code",
   "execution_count": 32,
   "id": "392e1c46",
   "metadata": {},
   "outputs": [],
   "source": [
    "train, val, _, _ = train_test_split(train_df, train_df['action'], test_size=0.1, random_state=CFG['SEED'], stratify=train_df['action'])"
   ]
  },
  {
   "cell_type": "code",
   "execution_count": 36,
   "id": "1df90677",
   "metadata": {},
   "outputs": [
    {
     "data": {
      "text/plain": [
       "14    2700\n",
       "13    2471\n",
       "4     2033\n",
       "11    1492\n",
       "5     1159\n",
       "8     1115\n",
       "3     1069\n",
       "6      972\n",
       "9      769\n",
       "1      530\n",
       "7      513\n",
       "10     217\n",
       "12     160\n",
       "0       63\n",
       "2       61\n",
       "Name: action, dtype: int64"
      ]
     },
     "execution_count": 36,
     "metadata": {},
     "output_type": "execute_result"
    }
   ],
   "source": [
    "train['action'].value_counts()"
   ]
  },
  {
   "cell_type": "code",
   "execution_count": 38,
   "id": "d59303ea",
   "metadata": {},
   "outputs": [
    {
     "data": {
      "text/plain": [
       "14    300\n",
       "13    274\n",
       "4     226\n",
       "11    166\n",
       "5     129\n",
       "8     124\n",
       "3     119\n",
       "6     108\n",
       "9      85\n",
       "1      59\n",
       "7      57\n",
       "10     24\n",
       "12     18\n",
       "0       7\n",
       "2       7\n",
       "Name: action, dtype: int64"
      ]
     },
     "execution_count": 38,
     "metadata": {},
     "output_type": "execute_result"
    }
   ],
   "source": [
    "val['action'].value_counts()"
   ]
  },
  {
   "cell_type": "code",
   "execution_count": null,
   "id": "72c1b748",
   "metadata": {},
   "outputs": [],
   "source": [
    "# train, val, _, _ = train_test_split(train_df, train_df['action'], test_size=0.1, random_state=CFG['SEED'])"
   ]
  },
  {
   "cell_type": "code",
   "execution_count": null,
   "id": "20d01d02",
   "metadata": {},
   "outputs": [],
   "source": [
    "train"
   ]
  },
  {
   "cell_type": "code",
   "execution_count": null,
   "id": "ec30f390",
   "metadata": {},
   "outputs": [],
   "source": [
    "val"
   ]
  },
  {
   "cell_type": "code",
   "execution_count": null,
   "id": "0b5976ad",
   "metadata": {},
   "outputs": [],
   "source": []
  },
  {
   "cell_type": "code",
   "execution_count": 42,
   "id": "d5c86927",
   "metadata": {},
   "outputs": [],
   "source": [
    "RP_tfms = A.Compose([\n",
    "    A.Resize(width=CFG['IMG_SIZE'], height=CFG['IMG_SIZE']),\n",
    "    A.Normalize()\n",
    "], p=1)"
   ]
  },
  {
   "cell_type": "code",
   "execution_count": 43,
   "id": "83f567a5",
   "metadata": {},
   "outputs": [],
   "source": [
    "Gps_tfms = A.Compose([\n",
    "    A.Resize(width=112, height=112),\n",
    "    A.Normalize()\n",
    "], p=1)"
   ]
  },
  {
   "cell_type": "code",
   "execution_count": 44,
   "id": "f86628c6",
   "metadata": {},
   "outputs": [],
   "source": [
    "class RPDataset(Dataset):\n",
    "    def __init__(self, df, rp_path_list, label_list, tfms=None):\n",
    "        super().__init__()\n",
    "        self.df = df\n",
    "        self.rp_path_list = rp_path_list\n",
    "        self.label_list = label_list\n",
    "        self.tfms = tfms\n",
    "    \n",
    "    def __len__(self):\n",
    "        return len(self.df)\n",
    "    \n",
    "    def __getitem__(self, idx):\n",
    "        img = cv2.imread(self.rp_path_list[idx])\n",
    "        img = cv2.cvtColor(img, cv2.COLOR_BGR2RGB)\n",
    "        image = self.tfms(image=img)['image']\n",
    "        image = torch.tensor(np.array(image)).permute(2, 0, 1)\n",
    "        \n",
    "        if self.label_list is not None:\n",
    "            label = self.label_list[idx]\n",
    "            return image, label\n",
    "        else:\n",
    "            return image"
   ]
  },
  {
   "cell_type": "code",
   "execution_count": 45,
   "id": "4d28b2b2",
   "metadata": {},
   "outputs": [],
   "source": [
    "class GpsDataset(Dataset):\n",
    "    def __init__(self, df, lat_path_list, lon_path_list, label_list, tfms=None):\n",
    "        super(GpsDataset, self).__init__()\n",
    "        self.df = df\n",
    "        self.lat_path_list = lat_path_list\n",
    "        self.lon_path_list = lon_path_list\n",
    "        self.label_list = label_list\n",
    "        self.tfms = tfms\n",
    "\n",
    "    def __len__(self):\n",
    "        return len(self.df)\n",
    "\n",
    "    def __getitem__(self, idx):\n",
    "        lat = self.lat_path_list[idx]\n",
    "        lon = self.lon_path_list[idx]\n",
    "        feature_map = torch.tensor(np.array([lat, lon]))\n",
    "        \n",
    "        if self.label_list is not None:\n",
    "            label = self.label_list[idx]\n",
    "            return feature_map, label\n",
    "        else:\n",
    "            return feature_map"
   ]
  },
  {
   "cell_type": "code",
   "execution_count": 46,
   "id": "0adae7ba",
   "metadata": {},
   "outputs": [],
   "source": [
    "RP_train_dataset = RPDataset(df=train, rp_path_list=train['img_path'].values, label_list=train['action'].values, tfms=RP_tfms)\n",
    "RP_train_loader = DataLoader(RP_train_dataset, batch_size = CFG['BATCH_SIZE'], shuffle=True, num_workers=0)\n",
    "\n",
    "RP_val_dataset = RPDataset(df=val,rp_path_list=val['img_path'].values, label_list=val['action'].values, tfms=RP_tfms)\n",
    "RP_val_loader = DataLoader(RP_val_dataset, batch_size = CFG['BATCH_SIZE'], shuffle=False, num_workers=0)"
   ]
  },
  {
   "cell_type": "code",
   "execution_count": 47,
   "id": "1801d956",
   "metadata": {},
   "outputs": [],
   "source": [
    "Gps_train_dataset = GpsDataset(df=train, lat_path_list=train['lat'].values, lon_path_list=train['lon'].values, label_list=train['action'].values, tfms=Gps_tfms)\n",
    "Gps_train_loader = DataLoader(Gps_train_dataset, batch_size = CFG['BATCH_SIZE'], shuffle=True, num_workers=0)\n",
    "\n",
    "Gps_val_dataset = GpsDataset(df=val, lat_path_list=train['lat'].values, lon_path_list=train['lon'].values, label_list=val['action'].values, tfms=Gps_tfms)\n",
    "Gps_val_loader = DataLoader(Gps_val_dataset, batch_size = CFG['BATCH_SIZE'], shuffle=False, num_workers=0)"
   ]
  },
  {
   "cell_type": "code",
   "execution_count": 48,
   "id": "94f86f91",
   "metadata": {},
   "outputs": [],
   "source": [
    "class FocalLoss(nn.Module):\n",
    "    def __init__(self, weight=None, gamma=2, reduction='mean'):\n",
    "        super(FocalLoss, self).__init__()\n",
    "        self.weight = weight\n",
    "        self.gamma = gamma\n",
    "        self.reduction = reduction\n",
    "\n",
    "    def forward(self, inputs, targets):\n",
    "        ce_loss = F.cross_entropy(inputs, targets, weight=self.weight, reduction=self.reduction)\n",
    "        pt = torch.exp(-ce_loss)\n",
    "        focal_loss = ((1-pt)**self.gamma * ce_loss).mean()\n",
    "        return focal_loss"
   ]
  },
  {
   "cell_type": "code",
   "execution_count": 49,
   "id": "1f5ae148",
   "metadata": {},
   "outputs": [],
   "source": [
    "import torch\n",
    "import torch.nn as nn\n",
    "import torch.nn.functional as F\n",
    "\n",
    "def conv3x3(in_planes, out_planes, stride=1):\n",
    "    return nn.Conv2d(\n",
    "        in_planes,\n",
    "        out_planes,\n",
    "        kernel_size=3,\n",
    "        stride=stride,\n",
    "        bias=False,\n",
    "        padding = 1,\n",
    "        padding_mode='zeros'\n",
    "    )\n",
    "\n",
    "\n",
    "def conv1x1(in_planes, out_planes, stride=1):\n",
    "    return nn.Conv2d(\n",
    "        in_planes,\n",
    "        out_planes,\n",
    "        kernel_size=1,\n",
    "        stride=stride,\n",
    "        bias=False,\n",
    "        padding = 1,\n",
    "        padding_mode='zeros'\n",
    "    )\n",
    "\n",
    "\n",
    "class IdentityBlock(nn.Module):\n",
    "    def __init__(self, in_planes, out_planes, stride = 1):\n",
    "        super(IdentityBlock, self).__init__()\n",
    "\n",
    "        self.conv1 = conv3x3(in_planes, out_planes, stride)\n",
    "        self.conv2 = conv3x3(out_planes, out_planes, 1)\n",
    "\n",
    "        self.bn1   = nn.BatchNorm2d(out_planes)\n",
    "        self.bn2   = nn.BatchNorm2d(out_planes)\n",
    "\n",
    "        self.shortcut = nn.Sequential()\n",
    "        if stride != 1:\n",
    "            self.shortcut = nn.Sequential(\n",
    "                conv1x1(in_planes, out_planes, stride),\n",
    "                nn.BatchNorm2d(out_planes)\n",
    "            )\n",
    "\n",
    "    def forward(self, x):\n",
    "        identity = x\n",
    "        out  = self.conv1(x)\n",
    "        out  = self.bn1(out)\n",
    "        out  = F.relu(out)\n",
    "        out  = self.conv2(out)\n",
    "        out  = self.bn2(out)\n",
    "        out += identity\n",
    "        out  = F.relu(out)\n",
    "        return out\n",
    "\n",
    "\n",
    "class ResNet(nn.Module):\n",
    "    def __init__(self, block, in_planes, num_blocks, num_classes):\n",
    "        super(ResNet, self).__init__()\n",
    "\n",
    "        self.in_planes = in_planes\n",
    "\n",
    "        self.conv = nn.Conv2d(3, in_planes, kernel_size = 3, stride = 1, padding = 1, padding_mode='zeros', bias=False)\n",
    "        self.bn = nn.BatchNorm2d(self.in_planes)\n",
    "        self.maxpool = nn.MaxPool2d(kernel_size=3, stride=2, padding=1)\n",
    "\n",
    "        self.layer1 = self.make_layer(block, in_planes, num_blocks[0], stride=1)\n",
    "        self.layer2 = self.make_layer(block, in_planes, num_blocks[1], stride=1)\n",
    "        self.layer3 = self.make_layer(block, in_planes, num_blocks[2], stride=1)\n",
    "        self.layer4 = self.make_layer(block, in_planes, num_blocks[3], stride=1)\n",
    "\n",
    "        self.avgpool = nn.AdaptiveAvgPool2d((1, 1))\n",
    "        self.linear  = nn.Linear(in_planes + 2, num_classes)\n",
    "\n",
    "    def make_layer(self, block, out_planes, num_blocks, stride):\n",
    "            strides = [stride] + [1] * (num_blocks -1)\n",
    "            layers = []\n",
    "            for stride in strides:\n",
    "                layers.append(block(self.in_planes, out_planes))\n",
    "                self.in_planes = out_planes\n",
    "            return nn.Sequential(*layers)\n",
    "\n",
    "    def forward(self, x, g):\n",
    "        out = self.conv(x)\n",
    "        out = self.bn(out)\n",
    "        out = F.relu(out)\n",
    "        out = self.maxpool(out)\n",
    "        out = self.layer1(out)\n",
    "        out = self.layer2(out)\n",
    "        out = self.layer3(out)\n",
    "        out = self.layer4(out)\n",
    "        out = self.avgpool(out)\n",
    "#         print(out.shape)\n",
    "        g = g.unsqueeze(-1).unsqueeze(-1)\n",
    "        g = g.expand(-1, -1, 1, 1).float()\n",
    "#         g = self.avgpool(g)\n",
    "#         print(g.shape)\n",
    "        out = torch.cat((out, g), dim=1)\n",
    "        out = torch.flatten(out, 1)\n",
    "        out = self.linear(out)\n",
    "        return out\n",
    "\n",
    "\n",
    "def ResNet18(in_planes, num_classes):\n",
    "    return ResNet(block = IdentityBlock, in_planes = in_planes, num_blocks = [2, 2, 2, 2], num_classes = num_classes)"
   ]
  },
  {
   "cell_type": "code",
   "execution_count": 50,
   "id": "d3724661",
   "metadata": {},
   "outputs": [],
   "source": [
    "def train(model, optimizer, scheduler, device):\n",
    "    model.to(device)\n",
    "    criterion = FocalLoss().to(device)\n",
    "    \n",
    "    best_val_score = 0\n",
    "    best_model = None\n",
    "    \n",
    "    for epoch in range(1, CFG['EPOCHS']+1):\n",
    "        model.train()\n",
    "        train_loss = []\n",
    "        for i, data in enumerate(zip(tqdm(RP_train_loader), Gps_train_loader)):\n",
    "            data1, data2 = data\n",
    "            images, labels = data1\n",
    "            gps, _ = data2\n",
    "            \n",
    "            images = images.to(device)\n",
    "            gps = gps.to(device)\n",
    "            labels = labels.to(device)\n",
    "            \n",
    "            optimizer.zero_grad()\n",
    "            \n",
    "            output = model(images, gps)\n",
    "            loss = criterion(output, labels)\n",
    "            \n",
    "            loss.backward()\n",
    "            optimizer.step()\n",
    "            \n",
    "            train_loss.append(loss.item())\n",
    "                    \n",
    "        _val_loss, _val_score = validation(model, criterion, device)\n",
    "        _train_loss = np.mean(train_loss)\n",
    "        print(f'Epoch [{epoch}], Train Loss : [{_train_loss:.5f}] Val Loss : [{_val_loss:.5f}] Val F1 : [{_val_score:.5f}]')\n",
    "        \n",
    "        if scheduler is not None:\n",
    "            scheduler.step(_val_score)\n",
    "            \n",
    "        if best_val_score < _val_score:\n",
    "            best_val_score = _val_score\n",
    "            best_model = model\n",
    "    \n",
    "    return best_model"
   ]
  },
  {
   "cell_type": "code",
   "execution_count": 51,
   "id": "3eb09fa1",
   "metadata": {},
   "outputs": [],
   "source": [
    "def validation(model, criterion, device):\n",
    "    model.eval()\n",
    "    val_loss = []\n",
    "    preds, trues = [], []\n",
    "    \n",
    "    with torch.no_grad():\n",
    "        for i, data in enumerate(zip(tqdm(RP_val_loader), Gps_val_loader)):\n",
    "            data1, data2 = data\n",
    "            images, labels = data1\n",
    "            gps, _ = data2\n",
    "            \n",
    "            images = images.to(device)\n",
    "            gps = gps.to(device)\n",
    "            labels = labels.to(device)\n",
    "            \n",
    "            logit = model(images, gps)\n",
    "            \n",
    "            loss = criterion(logit, labels)\n",
    "            \n",
    "            val_loss.append(loss.item())\n",
    "            \n",
    "            preds += logit.argmax(1).detach().cpu().numpy().tolist()\n",
    "            trues += labels.detach().cpu().numpy().tolist()\n",
    "        \n",
    "        _val_loss = np.mean(val_loss)\n",
    "    \n",
    "    _val_score = f1_score(trues, preds, average='micro')\n",
    "    return _val_loss, _val_score"
   ]
  },
  {
   "cell_type": "code",
   "execution_count": 52,
   "id": "1822c2eb",
   "metadata": {
    "scrolled": false
   },
   "outputs": [
    {
     "name": "stderr",
     "output_type": "stream",
     "text": [
      "100%|█████████████████████████████████████████| 958/958 [03:45<00:00,  4.25it/s]\n",
      "100%|█████████████████████████████████████████| 107/107 [00:13<00:00,  8.19it/s]\n"
     ]
    },
    {
     "name": "stdout",
     "output_type": "stream",
     "text": [
      "Epoch [1], Train Loss : [2.97903] Val Loss : [1.74806] Val F1 : [0.28127]\n"
     ]
    },
    {
     "name": "stderr",
     "output_type": "stream",
     "text": [
      "100%|█████████████████████████████████████████| 958/958 [03:44<00:00,  4.27it/s]\n",
      "100%|█████████████████████████████████████████| 107/107 [00:13<00:00,  8.14it/s]\n"
     ]
    },
    {
     "name": "stdout",
     "output_type": "stream",
     "text": [
      "Epoch [2], Train Loss : [1.69568] Val Loss : [1.65839] Val F1 : [0.30241]\n"
     ]
    },
    {
     "name": "stderr",
     "output_type": "stream",
     "text": [
      "100%|█████████████████████████████████████████| 958/958 [03:39<00:00,  4.36it/s]\n",
      "100%|█████████████████████████████████████████| 107/107 [00:12<00:00,  8.77it/s]\n"
     ]
    },
    {
     "name": "stdout",
     "output_type": "stream",
     "text": [
      "Epoch [3], Train Loss : [1.63007] Val Loss : [1.58888] Val F1 : [0.32942]\n"
     ]
    },
    {
     "name": "stderr",
     "output_type": "stream",
     "text": [
      "100%|█████████████████████████████████████████| 958/958 [03:46<00:00,  4.22it/s]\n",
      "100%|█████████████████████████████████████████| 107/107 [00:13<00:00,  8.21it/s]\n"
     ]
    },
    {
     "name": "stdout",
     "output_type": "stream",
     "text": [
      "Epoch [4], Train Loss : [1.58843] Val Loss : [1.57752] Val F1 : [0.32355]\n"
     ]
    },
    {
     "name": "stderr",
     "output_type": "stream",
     "text": [
      "100%|█████████████████████████████████████████| 958/958 [03:38<00:00,  4.39it/s]\n",
      "100%|█████████████████████████████████████████| 107/107 [00:12<00:00,  8.87it/s]\n"
     ]
    },
    {
     "name": "stdout",
     "output_type": "stream",
     "text": [
      "Epoch [5], Train Loss : [1.55957] Val Loss : [1.53919] Val F1 : [0.33999]\n"
     ]
    },
    {
     "name": "stderr",
     "output_type": "stream",
     "text": [
      "100%|█████████████████████████████████████████| 958/958 [03:40<00:00,  4.34it/s]\n",
      "100%|█████████████████████████████████████████| 107/107 [00:12<00:00,  8.39it/s]\n"
     ]
    },
    {
     "name": "stdout",
     "output_type": "stream",
     "text": [
      "Epoch [6], Train Loss : [1.52741] Val Loss : [1.52103] Val F1 : [0.35467]\n"
     ]
    },
    {
     "name": "stderr",
     "output_type": "stream",
     "text": [
      "100%|█████████████████████████████████████████| 958/958 [03:39<00:00,  4.37it/s]\n",
      "100%|█████████████████████████████████████████| 107/107 [00:12<00:00,  8.76it/s]\n"
     ]
    },
    {
     "name": "stdout",
     "output_type": "stream",
     "text": [
      "Epoch [7], Train Loss : [1.50598] Val Loss : [1.46613] Val F1 : [0.35937]\n"
     ]
    },
    {
     "name": "stderr",
     "output_type": "stream",
     "text": [
      "100%|█████████████████████████████████████████| 958/958 [03:41<00:00,  4.32it/s]\n",
      "100%|█████████████████████████████████████████| 107/107 [00:12<00:00,  8.69it/s]\n"
     ]
    },
    {
     "name": "stdout",
     "output_type": "stream",
     "text": [
      "Epoch [8], Train Loss : [1.47530] Val Loss : [1.48979] Val F1 : [0.36406]\n"
     ]
    },
    {
     "name": "stderr",
     "output_type": "stream",
     "text": [
      "100%|█████████████████████████████████████████| 958/958 [03:37<00:00,  4.41it/s]\n",
      "100%|█████████████████████████████████████████| 107/107 [00:11<00:00,  9.01it/s]\n"
     ]
    },
    {
     "name": "stdout",
     "output_type": "stream",
     "text": [
      "Epoch [9], Train Loss : [1.45410] Val Loss : [1.46519] Val F1 : [0.35878]\n"
     ]
    },
    {
     "name": "stderr",
     "output_type": "stream",
     "text": [
      "100%|█████████████████████████████████████████| 958/958 [03:39<00:00,  4.36it/s]\n",
      "100%|█████████████████████████████████████████| 107/107 [00:12<00:00,  8.86it/s]\n"
     ]
    },
    {
     "name": "stdout",
     "output_type": "stream",
     "text": [
      "Epoch [10], Train Loss : [1.42734] Val Loss : [1.41098] Val F1 : [0.38285]\n"
     ]
    },
    {
     "name": "stderr",
     "output_type": "stream",
     "text": [
      "100%|█████████████████████████████████████████| 958/958 [03:40<00:00,  4.35it/s]\n",
      "100%|█████████████████████████████████████████| 107/107 [00:12<00:00,  8.77it/s]\n"
     ]
    },
    {
     "name": "stdout",
     "output_type": "stream",
     "text": [
      "Epoch [11], Train Loss : [1.40717] Val Loss : [1.43355] Val F1 : [0.37992]\n"
     ]
    },
    {
     "name": "stderr",
     "output_type": "stream",
     "text": [
      "100%|█████████████████████████████████████████| 958/958 [03:35<00:00,  4.44it/s]\n",
      "100%|█████████████████████████████████████████| 107/107 [00:12<00:00,  8.81it/s]\n"
     ]
    },
    {
     "name": "stdout",
     "output_type": "stream",
     "text": [
      "Epoch [12], Train Loss : [1.39443] Val Loss : [1.34509] Val F1 : [0.39812]\n"
     ]
    },
    {
     "name": "stderr",
     "output_type": "stream",
     "text": [
      "100%|█████████████████████████████████████████| 958/958 [03:39<00:00,  4.36it/s]\n",
      "100%|█████████████████████████████████████████| 107/107 [00:12<00:00,  8.78it/s]\n"
     ]
    },
    {
     "name": "stdout",
     "output_type": "stream",
     "text": [
      "Epoch [13], Train Loss : [1.37043] Val Loss : [1.40343] Val F1 : [0.38638]\n"
     ]
    },
    {
     "name": "stderr",
     "output_type": "stream",
     "text": [
      "100%|█████████████████████████████████████████| 958/958 [03:38<00:00,  4.39it/s]\n",
      "100%|█████████████████████████████████████████| 107/107 [00:14<00:00,  7.62it/s]\n"
     ]
    },
    {
     "name": "stdout",
     "output_type": "stream",
     "text": [
      "Epoch [14], Train Loss : [1.35369] Val Loss : [1.36068] Val F1 : [0.40223]\n"
     ]
    },
    {
     "name": "stderr",
     "output_type": "stream",
     "text": [
      "100%|█████████████████████████████████████████| 958/958 [03:47<00:00,  4.22it/s]\n",
      "100%|█████████████████████████████████████████| 107/107 [00:11<00:00,  8.94it/s]\n"
     ]
    },
    {
     "name": "stdout",
     "output_type": "stream",
     "text": [
      "Epoch [15], Train Loss : [1.33279] Val Loss : [1.33997] Val F1 : [0.39518]\n"
     ]
    },
    {
     "name": "stderr",
     "output_type": "stream",
     "text": [
      "100%|█████████████████████████████████████████| 958/958 [03:43<00:00,  4.28it/s]\n",
      "100%|█████████████████████████████████████████| 107/107 [00:12<00:00,  8.67it/s]\n"
     ]
    },
    {
     "name": "stdout",
     "output_type": "stream",
     "text": [
      "Epoch [16], Train Loss : [1.31808] Val Loss : [1.33513] Val F1 : [0.40752]\n"
     ]
    },
    {
     "name": "stderr",
     "output_type": "stream",
     "text": [
      "100%|█████████████████████████████████████████| 958/958 [03:40<00:00,  4.35it/s]\n",
      "100%|█████████████████████████████████████████| 107/107 [00:12<00:00,  8.53it/s]\n"
     ]
    },
    {
     "name": "stdout",
     "output_type": "stream",
     "text": [
      "Epoch [17], Train Loss : [1.31146] Val Loss : [1.38613] Val F1 : [0.40517]\n"
     ]
    },
    {
     "name": "stderr",
     "output_type": "stream",
     "text": [
      "100%|█████████████████████████████████████████| 958/958 [03:41<00:00,  4.32it/s]\n",
      "100%|█████████████████████████████████████████| 107/107 [00:12<00:00,  8.57it/s]\n"
     ]
    },
    {
     "name": "stdout",
     "output_type": "stream",
     "text": [
      "Epoch [18], Train Loss : [1.28438] Val Loss : [1.36674] Val F1 : [0.40106]\n"
     ]
    },
    {
     "name": "stderr",
     "output_type": "stream",
     "text": [
      "100%|█████████████████████████████████████████| 958/958 [03:40<00:00,  4.34it/s]\n",
      "100%|█████████████████████████████████████████| 107/107 [00:13<00:00,  7.65it/s]\n"
     ]
    },
    {
     "name": "stdout",
     "output_type": "stream",
     "text": [
      "Epoch [19], Train Loss : [1.28275] Val Loss : [1.31736] Val F1 : [0.40458]\n",
      "Epoch 00019: reducing learning rate of group 0 to 5.0000e-05.\n"
     ]
    },
    {
     "name": "stderr",
     "output_type": "stream",
     "text": [
      "100%|█████████████████████████████████████████| 958/958 [03:38<00:00,  4.38it/s]\n",
      "100%|█████████████████████████████████████████| 107/107 [00:12<00:00,  8.66it/s]\n"
     ]
    },
    {
     "name": "stdout",
     "output_type": "stream",
     "text": [
      "Epoch [20], Train Loss : [1.21260] Val Loss : [1.25448] Val F1 : [0.43511]\n"
     ]
    },
    {
     "name": "stderr",
     "output_type": "stream",
     "text": [
      "100%|█████████████████████████████████████████| 958/958 [03:44<00:00,  4.27it/s]\n",
      "100%|█████████████████████████████████████████| 107/107 [00:13<00:00,  8.11it/s]\n"
     ]
    },
    {
     "name": "stdout",
     "output_type": "stream",
     "text": [
      "Epoch [21], Train Loss : [1.19082] Val Loss : [1.24755] Val F1 : [0.42983]\n"
     ]
    },
    {
     "name": "stderr",
     "output_type": "stream",
     "text": [
      "100%|█████████████████████████████████████████| 958/958 [03:42<00:00,  4.30it/s]\n",
      "100%|█████████████████████████████████████████| 107/107 [00:13<00:00,  8.06it/s]\n"
     ]
    },
    {
     "name": "stdout",
     "output_type": "stream",
     "text": [
      "Epoch [22], Train Loss : [1.18006] Val Loss : [1.23371] Val F1 : [0.44510]\n"
     ]
    },
    {
     "name": "stderr",
     "output_type": "stream",
     "text": [
      "100%|█████████████████████████████████████████| 958/958 [03:35<00:00,  4.44it/s]\n",
      "100%|█████████████████████████████████████████| 107/107 [00:12<00:00,  8.69it/s]\n"
     ]
    },
    {
     "name": "stdout",
     "output_type": "stream",
     "text": [
      "Epoch [23], Train Loss : [1.16648] Val Loss : [1.24282] Val F1 : [0.42924]\n"
     ]
    },
    {
     "name": "stderr",
     "output_type": "stream",
     "text": [
      "100%|█████████████████████████████████████████| 958/958 [03:40<00:00,  4.34it/s]\n",
      "100%|█████████████████████████████████████████| 107/107 [00:12<00:00,  8.76it/s]\n"
     ]
    },
    {
     "name": "stdout",
     "output_type": "stream",
     "text": [
      "Epoch [24], Train Loss : [1.15327] Val Loss : [1.27234] Val F1 : [0.42513]\n"
     ]
    },
    {
     "name": "stderr",
     "output_type": "stream",
     "text": [
      "100%|█████████████████████████████████████████| 958/958 [03:40<00:00,  4.35it/s]\n",
      "100%|█████████████████████████████████████████| 107/107 [00:12<00:00,  8.91it/s]\n"
     ]
    },
    {
     "name": "stdout",
     "output_type": "stream",
     "text": [
      "Epoch [25], Train Loss : [1.14302] Val Loss : [1.24164] Val F1 : [0.43042]\n",
      "Epoch 00025: reducing learning rate of group 0 to 2.5000e-05.\n"
     ]
    },
    {
     "name": "stderr",
     "output_type": "stream",
     "text": [
      "100%|█████████████████████████████████████████| 958/958 [03:39<00:00,  4.36it/s]\n",
      "100%|█████████████████████████████████████████| 107/107 [00:12<00:00,  8.74it/s]\n"
     ]
    },
    {
     "name": "stdout",
     "output_type": "stream",
     "text": [
      "Epoch [26], Train Loss : [1.10471] Val Loss : [1.22587] Val F1 : [0.44510]\n"
     ]
    },
    {
     "name": "stderr",
     "output_type": "stream",
     "text": [
      "100%|█████████████████████████████████████████| 958/958 [03:34<00:00,  4.46it/s]\n",
      "100%|█████████████████████████████████████████| 107/107 [00:12<00:00,  8.58it/s]\n"
     ]
    },
    {
     "name": "stdout",
     "output_type": "stream",
     "text": [
      "Epoch [27], Train Loss : [1.08988] Val Loss : [1.20819] Val F1 : [0.44275]\n"
     ]
    },
    {
     "name": "stderr",
     "output_type": "stream",
     "text": [
      "100%|█████████████████████████████████████████| 958/958 [03:39<00:00,  4.37it/s]\n",
      "100%|█████████████████████████████████████████| 107/107 [00:13<00:00,  8.22it/s]\n"
     ]
    },
    {
     "name": "stdout",
     "output_type": "stream",
     "text": [
      "Epoch [28], Train Loss : [1.08701] Val Loss : [1.20095] Val F1 : [0.46213]\n"
     ]
    },
    {
     "name": "stderr",
     "output_type": "stream",
     "text": [
      "100%|█████████████████████████████████████████| 958/958 [03:41<00:00,  4.33it/s]\n",
      "100%|█████████████████████████████████████████| 107/107 [00:12<00:00,  8.78it/s]\n"
     ]
    },
    {
     "name": "stdout",
     "output_type": "stream",
     "text": [
      "Epoch [29], Train Loss : [1.07600] Val Loss : [1.20877] Val F1 : [0.44451]\n"
     ]
    },
    {
     "name": "stderr",
     "output_type": "stream",
     "text": [
      "100%|█████████████████████████████████████████| 958/958 [03:36<00:00,  4.42it/s]\n",
      "100%|█████████████████████████████████████████| 107/107 [00:12<00:00,  8.68it/s]\n"
     ]
    },
    {
     "name": "stdout",
     "output_type": "stream",
     "text": [
      "Epoch [30], Train Loss : [1.06921] Val Loss : [1.21251] Val F1 : [0.44392]\n"
     ]
    },
    {
     "name": "stderr",
     "output_type": "stream",
     "text": [
      "100%|█████████████████████████████████████████| 958/958 [03:39<00:00,  4.36it/s]\n",
      "100%|█████████████████████████████████████████| 107/107 [00:12<00:00,  8.83it/s]\n"
     ]
    },
    {
     "name": "stdout",
     "output_type": "stream",
     "text": [
      "Epoch [31], Train Loss : [1.06032] Val Loss : [1.19825] Val F1 : [0.45332]\n",
      "Epoch 00031: reducing learning rate of group 0 to 1.2500e-05.\n"
     ]
    },
    {
     "name": "stderr",
     "output_type": "stream",
     "text": [
      "100%|█████████████████████████████████████████| 958/958 [03:38<00:00,  4.38it/s]\n",
      "100%|█████████████████████████████████████████| 107/107 [00:11<00:00,  9.02it/s]\n"
     ]
    },
    {
     "name": "stdout",
     "output_type": "stream",
     "text": [
      "Epoch [32], Train Loss : [1.02692] Val Loss : [1.19374] Val F1 : [0.45567]\n"
     ]
    },
    {
     "name": "stderr",
     "output_type": "stream",
     "text": [
      "100%|█████████████████████████████████████████| 958/958 [03:39<00:00,  4.36it/s]\n",
      "100%|█████████████████████████████████████████| 107/107 [00:12<00:00,  8.67it/s]\n"
     ]
    },
    {
     "name": "stdout",
     "output_type": "stream",
     "text": [
      "Epoch [33], Train Loss : [1.03414] Val Loss : [1.18159] Val F1 : [0.46095]\n"
     ]
    },
    {
     "name": "stderr",
     "output_type": "stream",
     "text": [
      "100%|█████████████████████████████████████████| 958/958 [03:37<00:00,  4.41it/s]\n",
      "100%|█████████████████████████████████████████| 107/107 [00:12<00:00,  8.82it/s]\n"
     ]
    },
    {
     "name": "stdout",
     "output_type": "stream",
     "text": [
      "Epoch [34], Train Loss : [1.02108] Val Loss : [1.19191] Val F1 : [0.45625]\n",
      "Epoch 00034: reducing learning rate of group 0 to 6.2500e-06.\n"
     ]
    },
    {
     "name": "stderr",
     "output_type": "stream",
     "text": [
      "100%|█████████████████████████████████████████| 958/958 [03:38<00:00,  4.39it/s]\n",
      "100%|█████████████████████████████████████████| 107/107 [00:12<00:00,  8.77it/s]\n"
     ]
    },
    {
     "name": "stdout",
     "output_type": "stream",
     "text": [
      "Epoch [35], Train Loss : [1.00919] Val Loss : [1.17543] Val F1 : [0.46506]\n"
     ]
    },
    {
     "name": "stderr",
     "output_type": "stream",
     "text": [
      "100%|█████████████████████████████████████████| 958/958 [03:35<00:00,  4.45it/s]\n",
      "100%|█████████████████████████████████████████| 107/107 [00:12<00:00,  8.79it/s]\n"
     ]
    },
    {
     "name": "stdout",
     "output_type": "stream",
     "text": [
      "Epoch [36], Train Loss : [1.00229] Val Loss : [1.18232] Val F1 : [0.46447]\n"
     ]
    },
    {
     "name": "stderr",
     "output_type": "stream",
     "text": [
      "100%|█████████████████████████████████████████| 958/958 [03:36<00:00,  4.42it/s]\n",
      "100%|█████████████████████████████████████████| 107/107 [00:12<00:00,  8.34it/s]\n"
     ]
    },
    {
     "name": "stdout",
     "output_type": "stream",
     "text": [
      "Epoch [37], Train Loss : [1.00338] Val Loss : [1.17602] Val F1 : [0.45860]\n"
     ]
    },
    {
     "name": "stderr",
     "output_type": "stream",
     "text": [
      "100%|█████████████████████████████████████████| 958/958 [03:38<00:00,  4.38it/s]\n",
      "100%|█████████████████████████████████████████| 107/107 [00:11<00:00,  9.07it/s]\n"
     ]
    },
    {
     "name": "stdout",
     "output_type": "stream",
     "text": [
      "Epoch [38], Train Loss : [0.99876] Val Loss : [1.17191] Val F1 : [0.45625]\n",
      "Epoch 00038: reducing learning rate of group 0 to 3.1250e-06.\n"
     ]
    },
    {
     "name": "stderr",
     "output_type": "stream",
     "text": [
      "100%|█████████████████████████████████████████| 958/958 [03:39<00:00,  4.36it/s]\n",
      "100%|█████████████████████████████████████████| 107/107 [00:13<00:00,  7.70it/s]\n"
     ]
    },
    {
     "name": "stdout",
     "output_type": "stream",
     "text": [
      "Epoch [39], Train Loss : [0.99048] Val Loss : [1.17150] Val F1 : [0.46213]\n"
     ]
    },
    {
     "name": "stderr",
     "output_type": "stream",
     "text": [
      "100%|█████████████████████████████████████████| 958/958 [03:36<00:00,  4.42it/s]\n",
      "100%|█████████████████████████████████████████| 107/107 [00:12<00:00,  8.79it/s]\n"
     ]
    },
    {
     "name": "stdout",
     "output_type": "stream",
     "text": [
      "Epoch [40], Train Loss : [0.99211] Val Loss : [1.17090] Val F1 : [0.46389]\n"
     ]
    },
    {
     "name": "stderr",
     "output_type": "stream",
     "text": [
      "100%|█████████████████████████████████████████| 958/958 [03:38<00:00,  4.39it/s]\n",
      "100%|█████████████████████████████████████████| 107/107 [00:11<00:00,  8.94it/s]\n"
     ]
    },
    {
     "name": "stdout",
     "output_type": "stream",
     "text": [
      "Epoch [41], Train Loss : [0.99161] Val Loss : [1.17052] Val F1 : [0.46389]\n",
      "Epoch 00041: reducing learning rate of group 0 to 1.5625e-06.\n"
     ]
    },
    {
     "name": "stderr",
     "output_type": "stream",
     "text": [
      "100%|█████████████████████████████████████████| 958/958 [03:36<00:00,  4.43it/s]\n",
      "100%|█████████████████████████████████████████| 107/107 [00:11<00:00,  9.06it/s]\n"
     ]
    },
    {
     "name": "stdout",
     "output_type": "stream",
     "text": [
      "Epoch [42], Train Loss : [0.98003] Val Loss : [1.17326] Val F1 : [0.46858]\n"
     ]
    },
    {
     "name": "stderr",
     "output_type": "stream",
     "text": [
      "100%|█████████████████████████████████████████| 958/958 [03:36<00:00,  4.43it/s]\n",
      "100%|█████████████████████████████████████████| 107/107 [00:14<00:00,  7.57it/s]\n"
     ]
    },
    {
     "name": "stdout",
     "output_type": "stream",
     "text": [
      "Epoch [43], Train Loss : [0.97783] Val Loss : [1.17614] Val F1 : [0.45860]\n"
     ]
    },
    {
     "name": "stderr",
     "output_type": "stream",
     "text": [
      "100%|█████████████████████████████████████████| 958/958 [03:37<00:00,  4.41it/s]\n",
      "100%|█████████████████████████████████████████| 107/107 [00:12<00:00,  8.77it/s]\n"
     ]
    },
    {
     "name": "stdout",
     "output_type": "stream",
     "text": [
      "Epoch [44], Train Loss : [0.98283] Val Loss : [1.17173] Val F1 : [0.46858]\n"
     ]
    },
    {
     "name": "stderr",
     "output_type": "stream",
     "text": [
      "100%|█████████████████████████████████████████| 958/958 [03:41<00:00,  4.33it/s]\n",
      "100%|█████████████████████████████████████████| 107/107 [00:11<00:00,  8.92it/s]\n"
     ]
    },
    {
     "name": "stdout",
     "output_type": "stream",
     "text": [
      "Epoch [45], Train Loss : [0.97482] Val Loss : [1.17388] Val F1 : [0.46095]\n",
      "Epoch 00045: reducing learning rate of group 0 to 7.8125e-07.\n"
     ]
    },
    {
     "name": "stderr",
     "output_type": "stream",
     "text": [
      "100%|█████████████████████████████████████████| 958/958 [03:40<00:00,  4.34it/s]\n",
      "100%|█████████████████████████████████████████| 107/107 [00:12<00:00,  8.84it/s]\n"
     ]
    },
    {
     "name": "stdout",
     "output_type": "stream",
     "text": [
      "Epoch [46], Train Loss : [0.97626] Val Loss : [1.17575] Val F1 : [0.45684]\n"
     ]
    },
    {
     "name": "stderr",
     "output_type": "stream",
     "text": [
      "100%|█████████████████████████████████████████| 958/958 [03:36<00:00,  4.43it/s]\n",
      "100%|█████████████████████████████████████████| 107/107 [00:11<00:00,  8.94it/s]\n"
     ]
    },
    {
     "name": "stdout",
     "output_type": "stream",
     "text": [
      "Epoch [47], Train Loss : [0.97341] Val Loss : [1.17237] Val F1 : [0.45860]\n"
     ]
    },
    {
     "name": "stderr",
     "output_type": "stream",
     "text": [
      "100%|█████████████████████████████████████████| 958/958 [03:42<00:00,  4.31it/s]\n",
      "100%|█████████████████████████████████████████| 107/107 [00:13<00:00,  8.21it/s]\n"
     ]
    },
    {
     "name": "stdout",
     "output_type": "stream",
     "text": [
      "Epoch [48], Train Loss : [0.98097] Val Loss : [1.17580] Val F1 : [0.46447]\n",
      "Epoch 00048: reducing learning rate of group 0 to 3.9063e-07.\n"
     ]
    },
    {
     "name": "stderr",
     "output_type": "stream",
     "text": [
      "100%|█████████████████████████████████████████| 958/958 [03:36<00:00,  4.42it/s]\n",
      "100%|█████████████████████████████████████████| 107/107 [00:12<00:00,  8.25it/s]\n"
     ]
    },
    {
     "name": "stdout",
     "output_type": "stream",
     "text": [
      "Epoch [49], Train Loss : [0.97489] Val Loss : [1.17328] Val F1 : [0.46154]\n"
     ]
    },
    {
     "name": "stderr",
     "output_type": "stream",
     "text": [
      "100%|█████████████████████████████████████████| 958/958 [03:36<00:00,  4.42it/s]\n",
      "100%|█████████████████████████████████████████| 107/107 [00:12<00:00,  8.88it/s]\n"
     ]
    },
    {
     "name": "stdout",
     "output_type": "stream",
     "text": [
      "Epoch [50], Train Loss : [0.97563] Val Loss : [1.17749] Val F1 : [0.45860]\n"
     ]
    },
    {
     "name": "stderr",
     "output_type": "stream",
     "text": [
      "100%|█████████████████████████████████████████| 958/958 [03:43<00:00,  4.28it/s]\n",
      "100%|█████████████████████████████████████████| 107/107 [00:12<00:00,  8.81it/s]\n"
     ]
    },
    {
     "name": "stdout",
     "output_type": "stream",
     "text": [
      "Epoch [51], Train Loss : [0.97408] Val Loss : [1.17580] Val F1 : [0.46565]\n",
      "Epoch 00051: reducing learning rate of group 0 to 1.9531e-07.\n"
     ]
    },
    {
     "name": "stderr",
     "output_type": "stream",
     "text": [
      "100%|█████████████████████████████████████████| 958/958 [03:36<00:00,  4.42it/s]\n",
      "100%|█████████████████████████████████████████| 107/107 [00:12<00:00,  8.87it/s]\n"
     ]
    },
    {
     "name": "stdout",
     "output_type": "stream",
     "text": [
      "Epoch [52], Train Loss : [0.97395] Val Loss : [1.18478] Val F1 : [0.45919]\n"
     ]
    },
    {
     "name": "stderr",
     "output_type": "stream",
     "text": [
      "100%|█████████████████████████████████████████| 958/958 [03:38<00:00,  4.39it/s]\n",
      "100%|█████████████████████████████████████████| 107/107 [00:12<00:00,  8.80it/s]\n"
     ]
    },
    {
     "name": "stdout",
     "output_type": "stream",
     "text": [
      "Epoch [53], Train Loss : [0.97476] Val Loss : [1.17758] Val F1 : [0.46154]\n"
     ]
    },
    {
     "name": "stderr",
     "output_type": "stream",
     "text": [
      "100%|█████████████████████████████████████████| 958/958 [03:40<00:00,  4.34it/s]\n",
      "100%|█████████████████████████████████████████| 107/107 [00:12<00:00,  8.86it/s]\n"
     ]
    },
    {
     "name": "stdout",
     "output_type": "stream",
     "text": [
      "Epoch [54], Train Loss : [0.96874] Val Loss : [1.16941] Val F1 : [0.46389]\n",
      "Epoch 00054: reducing learning rate of group 0 to 9.7656e-08.\n"
     ]
    },
    {
     "name": "stderr",
     "output_type": "stream",
     "text": [
      "100%|█████████████████████████████████████████| 958/958 [03:36<00:00,  4.43it/s]\n",
      "100%|█████████████████████████████████████████| 107/107 [00:12<00:00,  8.76it/s]\n"
     ]
    },
    {
     "name": "stdout",
     "output_type": "stream",
     "text": [
      "Epoch [55], Train Loss : [0.98013] Val Loss : [1.17435] Val F1 : [0.46036]\n"
     ]
    },
    {
     "name": "stderr",
     "output_type": "stream",
     "text": [
      "100%|█████████████████████████████████████████| 958/958 [03:36<00:00,  4.42it/s]\n",
      "100%|█████████████████████████████████████████| 107/107 [00:12<00:00,  8.89it/s]\n"
     ]
    },
    {
     "name": "stdout",
     "output_type": "stream",
     "text": [
      "Epoch [56], Train Loss : [0.97467] Val Loss : [1.17786] Val F1 : [0.46447]\n"
     ]
    },
    {
     "name": "stderr",
     "output_type": "stream",
     "text": [
      "100%|█████████████████████████████████████████| 958/958 [03:40<00:00,  4.35it/s]\n",
      "100%|█████████████████████████████████████████| 107/107 [00:12<00:00,  8.72it/s]\n"
     ]
    },
    {
     "name": "stdout",
     "output_type": "stream",
     "text": [
      "Epoch [57], Train Loss : [0.98044] Val Loss : [1.17101] Val F1 : [0.46213]\n",
      "Epoch 00057: reducing learning rate of group 0 to 4.8828e-08.\n"
     ]
    },
    {
     "name": "stderr",
     "output_type": "stream",
     "text": [
      "100%|█████████████████████████████████████████| 958/958 [03:37<00:00,  4.40it/s]\n",
      "100%|█████████████████████████████████████████| 107/107 [00:12<00:00,  8.75it/s]\n"
     ]
    },
    {
     "name": "stdout",
     "output_type": "stream",
     "text": [
      "Epoch [58], Train Loss : [0.97608] Val Loss : [1.17068] Val F1 : [0.46154]\n"
     ]
    },
    {
     "name": "stderr",
     "output_type": "stream",
     "text": [
      "100%|█████████████████████████████████████████| 958/958 [03:37<00:00,  4.40it/s]\n",
      "100%|█████████████████████████████████████████| 107/107 [00:12<00:00,  8.84it/s]\n"
     ]
    },
    {
     "name": "stdout",
     "output_type": "stream",
     "text": [
      "Epoch [59], Train Loss : [0.97480] Val Loss : [1.17782] Val F1 : [0.46036]\n"
     ]
    },
    {
     "name": "stderr",
     "output_type": "stream",
     "text": [
      "100%|█████████████████████████████████████████| 958/958 [03:36<00:00,  4.43it/s]\n",
      "100%|█████████████████████████████████████████| 107/107 [00:12<00:00,  8.78it/s]\n"
     ]
    },
    {
     "name": "stdout",
     "output_type": "stream",
     "text": [
      "Epoch [60], Train Loss : [0.97504] Val Loss : [1.17521] Val F1 : [0.46036]\n",
      "Epoch 00060: reducing learning rate of group 0 to 2.4414e-08.\n"
     ]
    },
    {
     "name": "stderr",
     "output_type": "stream",
     "text": [
      "100%|█████████████████████████████████████████| 958/958 [03:37<00:00,  4.41it/s]\n",
      "100%|█████████████████████████████████████████| 107/107 [00:12<00:00,  8.89it/s]\n"
     ]
    },
    {
     "name": "stdout",
     "output_type": "stream",
     "text": [
      "Epoch [61], Train Loss : [0.97201] Val Loss : [1.17651] Val F1 : [0.46506]\n"
     ]
    },
    {
     "name": "stderr",
     "output_type": "stream",
     "text": [
      "100%|█████████████████████████████████████████| 958/958 [03:39<00:00,  4.36it/s]\n",
      "100%|█████████████████████████████████████████| 107/107 [00:12<00:00,  8.71it/s]\n"
     ]
    },
    {
     "name": "stdout",
     "output_type": "stream",
     "text": [
      "Epoch [62], Train Loss : [0.96534] Val Loss : [1.17985] Val F1 : [0.46154]\n"
     ]
    },
    {
     "name": "stderr",
     "output_type": "stream",
     "text": [
      "100%|█████████████████████████████████████████| 958/958 [03:38<00:00,  4.39it/s]\n",
      "100%|█████████████████████████████████████████| 107/107 [00:12<00:00,  8.66it/s]\n"
     ]
    },
    {
     "name": "stdout",
     "output_type": "stream",
     "text": [
      "Epoch [63], Train Loss : [0.96528] Val Loss : [1.17666] Val F1 : [0.45684]\n",
      "Epoch 00063: reducing learning rate of group 0 to 1.2207e-08.\n"
     ]
    },
    {
     "name": "stderr",
     "output_type": "stream",
     "text": [
      "100%|█████████████████████████████████████████| 958/958 [03:36<00:00,  4.43it/s]\n",
      "100%|█████████████████████████████████████████| 107/107 [00:12<00:00,  8.67it/s]\n"
     ]
    },
    {
     "name": "stdout",
     "output_type": "stream",
     "text": [
      "Epoch [64], Train Loss : [0.97730] Val Loss : [1.16894] Val F1 : [0.46330]\n"
     ]
    },
    {
     "name": "stderr",
     "output_type": "stream",
     "text": [
      "100%|█████████████████████████████████████████| 958/958 [03:37<00:00,  4.39it/s]\n",
      "100%|█████████████████████████████████████████| 107/107 [00:12<00:00,  8.72it/s]\n"
     ]
    },
    {
     "name": "stdout",
     "output_type": "stream",
     "text": [
      "Epoch [65], Train Loss : [0.97266] Val Loss : [1.18104] Val F1 : [0.45919]\n"
     ]
    },
    {
     "name": "stderr",
     "output_type": "stream",
     "text": [
      "100%|█████████████████████████████████████████| 958/958 [03:37<00:00,  4.40it/s]\n",
      "100%|█████████████████████████████████████████| 107/107 [00:12<00:00,  8.70it/s]\n"
     ]
    },
    {
     "name": "stdout",
     "output_type": "stream",
     "text": [
      "Epoch [66], Train Loss : [0.97539] Val Loss : [1.17960] Val F1 : [0.45802]\n"
     ]
    },
    {
     "name": "stderr",
     "output_type": "stream",
     "text": [
      "100%|█████████████████████████████████████████| 958/958 [03:39<00:00,  4.36it/s]\n",
      "100%|█████████████████████████████████████████| 107/107 [00:13<00:00,  7.83it/s]\n"
     ]
    },
    {
     "name": "stdout",
     "output_type": "stream",
     "text": [
      "Epoch [67], Train Loss : [0.97439] Val Loss : [1.17256] Val F1 : [0.46213]\n"
     ]
    },
    {
     "name": "stderr",
     "output_type": "stream",
     "text": [
      "100%|█████████████████████████████████████████| 958/958 [03:40<00:00,  4.34it/s]\n",
      "100%|█████████████████████████████████████████| 107/107 [00:12<00:00,  8.72it/s]\n"
     ]
    },
    {
     "name": "stdout",
     "output_type": "stream",
     "text": [
      "Epoch [68], Train Loss : [0.97748] Val Loss : [1.16770] Val F1 : [0.46389]\n"
     ]
    },
    {
     "name": "stderr",
     "output_type": "stream",
     "text": [
      "100%|█████████████████████████████████████████| 958/958 [03:36<00:00,  4.43it/s]\n",
      "100%|█████████████████████████████████████████| 107/107 [00:12<00:00,  8.72it/s]\n"
     ]
    },
    {
     "name": "stdout",
     "output_type": "stream",
     "text": [
      "Epoch [69], Train Loss : [0.97616] Val Loss : [1.18168] Val F1 : [0.46036]\n"
     ]
    },
    {
     "name": "stderr",
     "output_type": "stream",
     "text": [
      "100%|█████████████████████████████████████████| 958/958 [03:40<00:00,  4.34it/s]\n",
      "100%|█████████████████████████████████████████| 107/107 [00:12<00:00,  8.76it/s]\n"
     ]
    },
    {
     "name": "stdout",
     "output_type": "stream",
     "text": [
      "Epoch [70], Train Loss : [0.97171] Val Loss : [1.18062] Val F1 : [0.45919]\n"
     ]
    },
    {
     "name": "stderr",
     "output_type": "stream",
     "text": [
      "100%|█████████████████████████████████████████| 958/958 [03:37<00:00,  4.41it/s]\n",
      "100%|█████████████████████████████████████████| 107/107 [00:13<00:00,  7.86it/s]\n"
     ]
    },
    {
     "name": "stdout",
     "output_type": "stream",
     "text": [
      "Epoch [71], Train Loss : [0.97706] Val Loss : [1.18212] Val F1 : [0.45625]\n"
     ]
    },
    {
     "name": "stderr",
     "output_type": "stream",
     "text": [
      "100%|█████████████████████████████████████████| 958/958 [03:37<00:00,  4.40it/s]\n",
      "100%|█████████████████████████████████████████| 107/107 [00:13<00:00,  7.78it/s]\n"
     ]
    },
    {
     "name": "stdout",
     "output_type": "stream",
     "text": [
      "Epoch [72], Train Loss : [0.97235] Val Loss : [1.17498] Val F1 : [0.46154]\n"
     ]
    },
    {
     "name": "stderr",
     "output_type": "stream",
     "text": [
      "100%|█████████████████████████████████████████| 958/958 [03:37<00:00,  4.41it/s]\n",
      "100%|█████████████████████████████████████████| 107/107 [00:12<00:00,  8.71it/s]\n"
     ]
    },
    {
     "name": "stdout",
     "output_type": "stream",
     "text": [
      "Epoch [73], Train Loss : [0.97328] Val Loss : [1.17756] Val F1 : [0.46213]\n"
     ]
    },
    {
     "name": "stderr",
     "output_type": "stream",
     "text": [
      "100%|█████████████████████████████████████████| 958/958 [03:39<00:00,  4.36it/s]\n",
      "100%|█████████████████████████████████████████| 107/107 [00:12<00:00,  8.74it/s]\n"
     ]
    },
    {
     "name": "stdout",
     "output_type": "stream",
     "text": [
      "Epoch [74], Train Loss : [0.97629] Val Loss : [1.17638] Val F1 : [0.46036]\n"
     ]
    },
    {
     "name": "stderr",
     "output_type": "stream",
     "text": [
      "100%|█████████████████████████████████████████| 958/958 [03:41<00:00,  4.33it/s]\n",
      "100%|█████████████████████████████████████████| 107/107 [00:12<00:00,  8.89it/s]\n"
     ]
    },
    {
     "name": "stdout",
     "output_type": "stream",
     "text": [
      "Epoch [75], Train Loss : [0.97623] Val Loss : [1.17822] Val F1 : [0.46154]\n"
     ]
    },
    {
     "name": "stderr",
     "output_type": "stream",
     "text": [
      "100%|█████████████████████████████████████████| 958/958 [03:36<00:00,  4.43it/s]\n",
      "100%|█████████████████████████████████████████| 107/107 [00:13<00:00,  8.22it/s]\n"
     ]
    },
    {
     "name": "stdout",
     "output_type": "stream",
     "text": [
      "Epoch [76], Train Loss : [0.97642] Val Loss : [1.18246] Val F1 : [0.45214]\n"
     ]
    },
    {
     "name": "stderr",
     "output_type": "stream",
     "text": [
      "100%|█████████████████████████████████████████| 958/958 [03:37<00:00,  4.41it/s]\n",
      "100%|█████████████████████████████████████████| 107/107 [00:12<00:00,  8.75it/s]\n"
     ]
    },
    {
     "name": "stdout",
     "output_type": "stream",
     "text": [
      "Epoch [77], Train Loss : [0.97452] Val Loss : [1.18266] Val F1 : [0.45802]\n"
     ]
    },
    {
     "name": "stderr",
     "output_type": "stream",
     "text": [
      "100%|█████████████████████████████████████████| 958/958 [03:39<00:00,  4.36it/s]\n",
      "100%|█████████████████████████████████████████| 107/107 [00:13<00:00,  7.77it/s]\n"
     ]
    },
    {
     "name": "stdout",
     "output_type": "stream",
     "text": [
      "Epoch [78], Train Loss : [0.97072] Val Loss : [1.17769] Val F1 : [0.46271]\n"
     ]
    },
    {
     "name": "stderr",
     "output_type": "stream",
     "text": [
      "100%|█████████████████████████████████████████| 958/958 [03:36<00:00,  4.43it/s]\n",
      "100%|█████████████████████████████████████████| 107/107 [00:13<00:00,  8.18it/s]\n"
     ]
    },
    {
     "name": "stdout",
     "output_type": "stream",
     "text": [
      "Epoch [79], Train Loss : [0.97696] Val Loss : [1.17712] Val F1 : [0.46213]\n"
     ]
    },
    {
     "name": "stderr",
     "output_type": "stream",
     "text": [
      "100%|█████████████████████████████████████████| 958/958 [03:38<00:00,  4.38it/s]\n",
      "100%|█████████████████████████████████████████| 107/107 [00:12<00:00,  8.86it/s]\n"
     ]
    },
    {
     "name": "stdout",
     "output_type": "stream",
     "text": [
      "Epoch [80], Train Loss : [0.97394] Val Loss : [1.17382] Val F1 : [0.46389]\n"
     ]
    },
    {
     "name": "stderr",
     "output_type": "stream",
     "text": [
      "100%|█████████████████████████████████████████| 958/958 [03:36<00:00,  4.42it/s]\n",
      "100%|█████████████████████████████████████████| 107/107 [00:12<00:00,  8.61it/s]\n"
     ]
    },
    {
     "name": "stdout",
     "output_type": "stream",
     "text": [
      "Epoch [81], Train Loss : [0.97663] Val Loss : [1.18771] Val F1 : [0.45332]\n"
     ]
    },
    {
     "name": "stderr",
     "output_type": "stream",
     "text": [
      "100%|█████████████████████████████████████████| 958/958 [03:39<00:00,  4.37it/s]\n",
      "100%|█████████████████████████████████████████| 107/107 [00:12<00:00,  8.81it/s]\n"
     ]
    },
    {
     "name": "stdout",
     "output_type": "stream",
     "text": [
      "Epoch [82], Train Loss : [0.97289] Val Loss : [1.17284] Val F1 : [0.45449]\n"
     ]
    },
    {
     "name": "stderr",
     "output_type": "stream",
     "text": [
      "100%|█████████████████████████████████████████| 958/958 [03:39<00:00,  4.37it/s]\n",
      "100%|█████████████████████████████████████████| 107/107 [00:12<00:00,  8.75it/s]\n"
     ]
    },
    {
     "name": "stdout",
     "output_type": "stream",
     "text": [
      "Epoch [83], Train Loss : [0.97409] Val Loss : [1.17279] Val F1 : [0.46330]\n"
     ]
    },
    {
     "name": "stderr",
     "output_type": "stream",
     "text": [
      "100%|█████████████████████████████████████████| 958/958 [03:41<00:00,  4.33it/s]\n",
      "100%|█████████████████████████████████████████| 107/107 [00:12<00:00,  8.72it/s]\n"
     ]
    },
    {
     "name": "stdout",
     "output_type": "stream",
     "text": [
      "Epoch [84], Train Loss : [0.97288] Val Loss : [1.17322] Val F1 : [0.46447]\n"
     ]
    },
    {
     "name": "stderr",
     "output_type": "stream",
     "text": [
      "100%|█████████████████████████████████████████| 958/958 [03:35<00:00,  4.44it/s]\n",
      "100%|█████████████████████████████████████████| 107/107 [00:12<00:00,  8.75it/s]\n"
     ]
    },
    {
     "name": "stdout",
     "output_type": "stream",
     "text": [
      "Epoch [85], Train Loss : [0.97022] Val Loss : [1.17552] Val F1 : [0.45860]\n"
     ]
    },
    {
     "name": "stderr",
     "output_type": "stream",
     "text": [
      "100%|█████████████████████████████████████████| 958/958 [03:39<00:00,  4.35it/s]\n",
      "100%|█████████████████████████████████████████| 107/107 [00:11<00:00,  9.05it/s]\n"
     ]
    },
    {
     "name": "stdout",
     "output_type": "stream",
     "text": [
      "Epoch [86], Train Loss : [0.97728] Val Loss : [1.18057] Val F1 : [0.45978]\n"
     ]
    },
    {
     "name": "stderr",
     "output_type": "stream",
     "text": [
      "100%|█████████████████████████████████████████| 958/958 [03:40<00:00,  4.35it/s]\n",
      "100%|█████████████████████████████████████████| 107/107 [00:11<00:00,  8.92it/s]\n"
     ]
    },
    {
     "name": "stdout",
     "output_type": "stream",
     "text": [
      "Epoch [87], Train Loss : [0.97737] Val Loss : [1.17318] Val F1 : [0.46036]\n"
     ]
    },
    {
     "name": "stderr",
     "output_type": "stream",
     "text": [
      "100%|█████████████████████████████████████████| 958/958 [03:36<00:00,  4.42it/s]\n",
      "100%|█████████████████████████████████████████| 107/107 [00:12<00:00,  8.82it/s]\n"
     ]
    },
    {
     "name": "stdout",
     "output_type": "stream",
     "text": [
      "Epoch [88], Train Loss : [0.97153] Val Loss : [1.18157] Val F1 : [0.46389]\n"
     ]
    },
    {
     "name": "stderr",
     "output_type": "stream",
     "text": [
      "100%|█████████████████████████████████████████| 958/958 [03:40<00:00,  4.34it/s]\n",
      "100%|█████████████████████████████████████████| 107/107 [00:12<00:00,  8.89it/s]\n"
     ]
    },
    {
     "name": "stdout",
     "output_type": "stream",
     "text": [
      "Epoch [89], Train Loss : [0.97865] Val Loss : [1.17922] Val F1 : [0.46036]\n"
     ]
    },
    {
     "name": "stderr",
     "output_type": "stream",
     "text": [
      "100%|█████████████████████████████████████████| 958/958 [03:39<00:00,  4.36it/s]\n",
      "100%|█████████████████████████████████████████| 107/107 [00:12<00:00,  8.27it/s]\n"
     ]
    },
    {
     "name": "stdout",
     "output_type": "stream",
     "text": [
      "Epoch [90], Train Loss : [0.96895] Val Loss : [1.18010] Val F1 : [0.46389]\n"
     ]
    },
    {
     "name": "stderr",
     "output_type": "stream",
     "text": [
      "100%|█████████████████████████████████████████| 958/958 [03:38<00:00,  4.39it/s]\n",
      "100%|█████████████████████████████████████████| 107/107 [00:12<00:00,  8.80it/s]\n"
     ]
    },
    {
     "name": "stdout",
     "output_type": "stream",
     "text": [
      "Epoch [91], Train Loss : [0.97175] Val Loss : [1.17244] Val F1 : [0.45919]\n"
     ]
    },
    {
     "name": "stderr",
     "output_type": "stream",
     "text": [
      "100%|█████████████████████████████████████████| 958/958 [03:39<00:00,  4.37it/s]\n",
      "100%|█████████████████████████████████████████| 107/107 [00:12<00:00,  8.78it/s]\n"
     ]
    },
    {
     "name": "stdout",
     "output_type": "stream",
     "text": [
      "Epoch [92], Train Loss : [0.96908] Val Loss : [1.17209] Val F1 : [0.45978]\n"
     ]
    },
    {
     "name": "stderr",
     "output_type": "stream",
     "text": [
      "100%|█████████████████████████████████████████| 958/958 [03:35<00:00,  4.45it/s]\n",
      "100%|█████████████████████████████████████████| 107/107 [00:12<00:00,  8.81it/s]\n"
     ]
    },
    {
     "name": "stdout",
     "output_type": "stream",
     "text": [
      "Epoch [93], Train Loss : [0.97904] Val Loss : [1.16945] Val F1 : [0.46976]\n"
     ]
    },
    {
     "name": "stderr",
     "output_type": "stream",
     "text": [
      "100%|█████████████████████████████████████████| 958/958 [03:36<00:00,  4.42it/s]\n",
      "100%|█████████████████████████████████████████| 107/107 [00:12<00:00,  8.78it/s]\n"
     ]
    },
    {
     "name": "stdout",
     "output_type": "stream",
     "text": [
      "Epoch [94], Train Loss : [0.97316] Val Loss : [1.17601] Val F1 : [0.45919]\n"
     ]
    },
    {
     "name": "stderr",
     "output_type": "stream",
     "text": [
      "100%|█████████████████████████████████████████| 958/958 [03:41<00:00,  4.33it/s]\n",
      "100%|█████████████████████████████████████████| 107/107 [00:12<00:00,  8.75it/s]\n"
     ]
    },
    {
     "name": "stdout",
     "output_type": "stream",
     "text": [
      "Epoch [95], Train Loss : [0.97093] Val Loss : [1.18003] Val F1 : [0.45860]\n"
     ]
    },
    {
     "name": "stderr",
     "output_type": "stream",
     "text": [
      "100%|█████████████████████████████████████████| 958/958 [03:36<00:00,  4.43it/s]\n",
      "100%|█████████████████████████████████████████| 107/107 [00:11<00:00,  9.02it/s]\n"
     ]
    },
    {
     "name": "stdout",
     "output_type": "stream",
     "text": [
      "Epoch [96], Train Loss : [0.96743] Val Loss : [1.17768] Val F1 : [0.45978]\n"
     ]
    },
    {
     "name": "stderr",
     "output_type": "stream",
     "text": [
      "100%|█████████████████████████████████████████| 958/958 [03:39<00:00,  4.36it/s]\n",
      "100%|█████████████████████████████████████████| 107/107 [00:12<00:00,  8.55it/s]\n"
     ]
    },
    {
     "name": "stdout",
     "output_type": "stream",
     "text": [
      "Epoch [97], Train Loss : [0.97521] Val Loss : [1.17529] Val F1 : [0.45802]\n"
     ]
    },
    {
     "name": "stderr",
     "output_type": "stream",
     "text": [
      "100%|█████████████████████████████████████████| 958/958 [03:35<00:00,  4.45it/s]\n",
      "100%|█████████████████████████████████████████| 107/107 [00:12<00:00,  8.86it/s]\n"
     ]
    },
    {
     "name": "stdout",
     "output_type": "stream",
     "text": [
      "Epoch [98], Train Loss : [0.97339] Val Loss : [1.18266] Val F1 : [0.45860]\n"
     ]
    },
    {
     "name": "stderr",
     "output_type": "stream",
     "text": [
      "100%|█████████████████████████████████████████| 958/958 [03:41<00:00,  4.32it/s]\n",
      "100%|█████████████████████████████████████████| 107/107 [00:13<00:00,  8.16it/s]\n"
     ]
    },
    {
     "name": "stdout",
     "output_type": "stream",
     "text": [
      "Epoch [99], Train Loss : [0.97324] Val Loss : [1.18465] Val F1 : [0.45332]\n"
     ]
    },
    {
     "name": "stderr",
     "output_type": "stream",
     "text": [
      "100%|█████████████████████████████████████████| 958/958 [03:40<00:00,  4.34it/s]\n",
      "100%|█████████████████████████████████████████| 107/107 [00:12<00:00,  8.75it/s]\n"
     ]
    },
    {
     "name": "stdout",
     "output_type": "stream",
     "text": [
      "Epoch [100], Train Loss : [0.97149] Val Loss : [1.17208] Val F1 : [0.45978]\n"
     ]
    },
    {
     "name": "stderr",
     "output_type": "stream",
     "text": [
      "100%|█████████████████████████████████████████| 958/958 [03:39<00:00,  4.36it/s]\n",
      "100%|█████████████████████████████████████████| 107/107 [00:12<00:00,  8.79it/s]\n"
     ]
    },
    {
     "name": "stdout",
     "output_type": "stream",
     "text": [
      "Epoch [101], Train Loss : [0.97657] Val Loss : [1.17666] Val F1 : [0.45567]\n"
     ]
    },
    {
     "name": "stderr",
     "output_type": "stream",
     "text": [
      "100%|█████████████████████████████████████████| 958/958 [03:37<00:00,  4.41it/s]\n",
      "100%|█████████████████████████████████████████| 107/107 [00:12<00:00,  8.76it/s]\n"
     ]
    },
    {
     "name": "stdout",
     "output_type": "stream",
     "text": [
      "Epoch [102], Train Loss : [0.97341] Val Loss : [1.18088] Val F1 : [0.45743]\n"
     ]
    },
    {
     "name": "stderr",
     "output_type": "stream",
     "text": [
      "100%|█████████████████████████████████████████| 958/958 [03:36<00:00,  4.41it/s]\n",
      "100%|█████████████████████████████████████████| 107/107 [00:11<00:00,  9.08it/s]\n"
     ]
    },
    {
     "name": "stdout",
     "output_type": "stream",
     "text": [
      "Epoch [103], Train Loss : [0.97878] Val Loss : [1.17516] Val F1 : [0.46154]\n"
     ]
    },
    {
     "name": "stderr",
     "output_type": "stream",
     "text": [
      "100%|█████████████████████████████████████████| 958/958 [03:45<00:00,  4.25it/s]\n",
      "100%|█████████████████████████████████████████| 107/107 [00:12<00:00,  8.80it/s]\n"
     ]
    },
    {
     "name": "stdout",
     "output_type": "stream",
     "text": [
      "Epoch [104], Train Loss : [0.97383] Val Loss : [1.17824] Val F1 : [0.46154]\n"
     ]
    },
    {
     "name": "stderr",
     "output_type": "stream",
     "text": [
      "100%|█████████████████████████████████████████| 958/958 [03:36<00:00,  4.42it/s]\n",
      "100%|█████████████████████████████████████████| 107/107 [00:12<00:00,  8.80it/s]\n"
     ]
    },
    {
     "name": "stdout",
     "output_type": "stream",
     "text": [
      "Epoch [105], Train Loss : [0.97719] Val Loss : [1.17625] Val F1 : [0.46624]\n"
     ]
    },
    {
     "name": "stderr",
     "output_type": "stream",
     "text": [
      "100%|█████████████████████████████████████████| 958/958 [03:36<00:00,  4.43it/s]\n",
      "100%|█████████████████████████████████████████| 107/107 [00:12<00:00,  8.90it/s]\n"
     ]
    },
    {
     "name": "stdout",
     "output_type": "stream",
     "text": [
      "Epoch [106], Train Loss : [0.97498] Val Loss : [1.17900] Val F1 : [0.45743]\n"
     ]
    },
    {
     "name": "stderr",
     "output_type": "stream",
     "text": [
      "100%|█████████████████████████████████████████| 958/958 [03:38<00:00,  4.39it/s]\n",
      "100%|█████████████████████████████████████████| 107/107 [00:13<00:00,  7.97it/s]\n"
     ]
    },
    {
     "name": "stdout",
     "output_type": "stream",
     "text": [
      "Epoch [107], Train Loss : [0.97774] Val Loss : [1.17435] Val F1 : [0.46213]\n"
     ]
    },
    {
     "name": "stderr",
     "output_type": "stream",
     "text": [
      "100%|█████████████████████████████████████████| 958/958 [03:36<00:00,  4.42it/s]\n",
      "100%|█████████████████████████████████████████| 107/107 [00:12<00:00,  8.75it/s]\n"
     ]
    },
    {
     "name": "stdout",
     "output_type": "stream",
     "text": [
      "Epoch [108], Train Loss : [0.97962] Val Loss : [1.18192] Val F1 : [0.45508]\n"
     ]
    },
    {
     "name": "stderr",
     "output_type": "stream",
     "text": [
      "100%|█████████████████████████████████████████| 958/958 [03:45<00:00,  4.24it/s]\n",
      "100%|█████████████████████████████████████████| 107/107 [00:14<00:00,  7.63it/s]\n"
     ]
    },
    {
     "name": "stdout",
     "output_type": "stream",
     "text": [
      "Epoch [109], Train Loss : [0.96666] Val Loss : [1.17333] Val F1 : [0.46036]\n"
     ]
    },
    {
     "name": "stderr",
     "output_type": "stream",
     "text": [
      "100%|█████████████████████████████████████████| 958/958 [03:38<00:00,  4.38it/s]\n",
      "100%|█████████████████████████████████████████| 107/107 [00:12<00:00,  8.74it/s]\n"
     ]
    },
    {
     "name": "stdout",
     "output_type": "stream",
     "text": [
      "Epoch [110], Train Loss : [0.97492] Val Loss : [1.17156] Val F1 : [0.46389]\n"
     ]
    },
    {
     "name": "stderr",
     "output_type": "stream",
     "text": [
      "100%|█████████████████████████████████████████| 958/958 [03:40<00:00,  4.34it/s]\n",
      "100%|█████████████████████████████████████████| 107/107 [00:12<00:00,  8.80it/s]\n"
     ]
    },
    {
     "name": "stdout",
     "output_type": "stream",
     "text": [
      "Epoch [111], Train Loss : [0.97451] Val Loss : [1.17883] Val F1 : [0.46741]\n"
     ]
    },
    {
     "name": "stderr",
     "output_type": "stream",
     "text": [
      "100%|█████████████████████████████████████████| 958/958 [03:36<00:00,  4.43it/s]\n",
      "100%|█████████████████████████████████████████| 107/107 [00:12<00:00,  8.54it/s]\n"
     ]
    },
    {
     "name": "stdout",
     "output_type": "stream",
     "text": [
      "Epoch [112], Train Loss : [0.96998] Val Loss : [1.17176] Val F1 : [0.46682]\n"
     ]
    },
    {
     "name": "stderr",
     "output_type": "stream",
     "text": [
      "100%|█████████████████████████████████████████| 958/958 [03:43<00:00,  4.28it/s]\n",
      "100%|█████████████████████████████████████████| 107/107 [00:11<00:00,  9.00it/s]\n"
     ]
    },
    {
     "name": "stdout",
     "output_type": "stream",
     "text": [
      "Epoch [113], Train Loss : [0.96993] Val Loss : [1.18017] Val F1 : [0.46917]\n"
     ]
    },
    {
     "name": "stderr",
     "output_type": "stream",
     "text": [
      "100%|█████████████████████████████████████████| 958/958 [03:36<00:00,  4.43it/s]\n",
      "100%|█████████████████████████████████████████| 107/107 [00:12<00:00,  8.56it/s]\n"
     ]
    },
    {
     "name": "stdout",
     "output_type": "stream",
     "text": [
      "Epoch [114], Train Loss : [0.97014] Val Loss : [1.18297] Val F1 : [0.45743]\n"
     ]
    },
    {
     "name": "stderr",
     "output_type": "stream",
     "text": [
      "100%|█████████████████████████████████████████| 958/958 [03:42<00:00,  4.31it/s]\n",
      "100%|█████████████████████████████████████████| 107/107 [00:12<00:00,  8.75it/s]\n"
     ]
    },
    {
     "name": "stdout",
     "output_type": "stream",
     "text": [
      "Epoch [115], Train Loss : [0.97496] Val Loss : [1.17874] Val F1 : [0.45743]\n"
     ]
    },
    {
     "name": "stderr",
     "output_type": "stream",
     "text": [
      "100%|█████████████████████████████████████████| 958/958 [03:36<00:00,  4.42it/s]\n",
      "100%|█████████████████████████████████████████| 107/107 [00:12<00:00,  8.30it/s]\n"
     ]
    },
    {
     "name": "stdout",
     "output_type": "stream",
     "text": [
      "Epoch [116], Train Loss : [0.97544] Val Loss : [1.17581] Val F1 : [0.45390]\n"
     ]
    },
    {
     "name": "stderr",
     "output_type": "stream",
     "text": [
      "100%|█████████████████████████████████████████| 958/958 [03:46<00:00,  4.23it/s]\n",
      "100%|█████████████████████████████████████████| 107/107 [00:12<00:00,  8.78it/s]\n"
     ]
    },
    {
     "name": "stdout",
     "output_type": "stream",
     "text": [
      "Epoch [117], Train Loss : [0.97010] Val Loss : [1.18237] Val F1 : [0.46095]\n"
     ]
    },
    {
     "name": "stderr",
     "output_type": "stream",
     "text": [
      "100%|█████████████████████████████████████████| 958/958 [03:41<00:00,  4.33it/s]\n",
      "100%|█████████████████████████████████████████| 107/107 [00:12<00:00,  8.60it/s]\n"
     ]
    },
    {
     "name": "stdout",
     "output_type": "stream",
     "text": [
      "Epoch [118], Train Loss : [0.97234] Val Loss : [1.17822] Val F1 : [0.45919]\n"
     ]
    },
    {
     "name": "stderr",
     "output_type": "stream",
     "text": [
      "100%|█████████████████████████████████████████| 958/958 [03:40<00:00,  4.35it/s]\n",
      "100%|█████████████████████████████████████████| 107/107 [00:12<00:00,  8.76it/s]\n"
     ]
    },
    {
     "name": "stdout",
     "output_type": "stream",
     "text": [
      "Epoch [119], Train Loss : [0.96585] Val Loss : [1.17048] Val F1 : [0.46506]\n"
     ]
    },
    {
     "name": "stderr",
     "output_type": "stream",
     "text": [
      "100%|█████████████████████████████████████████| 958/958 [03:42<00:00,  4.31it/s]\n",
      "100%|█████████████████████████████████████████| 107/107 [00:12<00:00,  8.78it/s]\n"
     ]
    },
    {
     "name": "stdout",
     "output_type": "stream",
     "text": [
      "Epoch [120], Train Loss : [0.97479] Val Loss : [1.17640] Val F1 : [0.46330]\n"
     ]
    },
    {
     "name": "stderr",
     "output_type": "stream",
     "text": [
      "100%|█████████████████████████████████████████| 958/958 [03:38<00:00,  4.38it/s]\n",
      "100%|█████████████████████████████████████████| 107/107 [00:12<00:00,  8.80it/s]\n"
     ]
    },
    {
     "name": "stdout",
     "output_type": "stream",
     "text": [
      "Epoch [121], Train Loss : [0.97605] Val Loss : [1.17557] Val F1 : [0.46095]\n"
     ]
    },
    {
     "name": "stderr",
     "output_type": "stream",
     "text": [
      "100%|█████████████████████████████████████████| 958/958 [03:38<00:00,  4.39it/s]\n",
      "100%|█████████████████████████████████████████| 107/107 [00:13<00:00,  8.21it/s]\n"
     ]
    },
    {
     "name": "stdout",
     "output_type": "stream",
     "text": [
      "Epoch [122], Train Loss : [0.97060] Val Loss : [1.17147] Val F1 : [0.46271]\n"
     ]
    },
    {
     "name": "stderr",
     "output_type": "stream",
     "text": [
      "100%|█████████████████████████████████████████| 958/958 [03:37<00:00,  4.40it/s]\n",
      "100%|█████████████████████████████████████████| 107/107 [00:12<00:00,  8.85it/s]\n"
     ]
    },
    {
     "name": "stdout",
     "output_type": "stream",
     "text": [
      "Epoch [123], Train Loss : [0.97360] Val Loss : [1.16867] Val F1 : [0.46565]\n"
     ]
    },
    {
     "name": "stderr",
     "output_type": "stream",
     "text": [
      "100%|█████████████████████████████████████████| 958/958 [03:39<00:00,  4.37it/s]\n",
      "100%|█████████████████████████████████████████| 107/107 [00:12<00:00,  8.77it/s]\n"
     ]
    },
    {
     "name": "stdout",
     "output_type": "stream",
     "text": [
      "Epoch [124], Train Loss : [0.97176] Val Loss : [1.17138] Val F1 : [0.46506]\n"
     ]
    },
    {
     "name": "stderr",
     "output_type": "stream",
     "text": [
      "100%|█████████████████████████████████████████| 958/958 [03:37<00:00,  4.40it/s]\n",
      "100%|█████████████████████████████████████████| 107/107 [00:12<00:00,  8.90it/s]\n"
     ]
    },
    {
     "name": "stdout",
     "output_type": "stream",
     "text": [
      "Epoch [125], Train Loss : [0.96716] Val Loss : [1.17219] Val F1 : [0.46565]\n"
     ]
    },
    {
     "name": "stderr",
     "output_type": "stream",
     "text": [
      "100%|█████████████████████████████████████████| 958/958 [03:40<00:00,  4.34it/s]\n",
      "100%|█████████████████████████████████████████| 107/107 [00:12<00:00,  8.76it/s]\n"
     ]
    },
    {
     "name": "stdout",
     "output_type": "stream",
     "text": [
      "Epoch [126], Train Loss : [0.97236] Val Loss : [1.18401] Val F1 : [0.46389]\n"
     ]
    },
    {
     "name": "stderr",
     "output_type": "stream",
     "text": [
      "100%|█████████████████████████████████████████| 958/958 [03:35<00:00,  4.44it/s]\n",
      "100%|█████████████████████████████████████████| 107/107 [00:12<00:00,  8.63it/s]\n"
     ]
    },
    {
     "name": "stdout",
     "output_type": "stream",
     "text": [
      "Epoch [127], Train Loss : [0.97367] Val Loss : [1.17393] Val F1 : [0.46213]\n"
     ]
    },
    {
     "name": "stderr",
     "output_type": "stream",
     "text": [
      "100%|█████████████████████████████████████████| 958/958 [03:38<00:00,  4.38it/s]\n",
      "100%|█████████████████████████████████████████| 107/107 [00:12<00:00,  8.76it/s]\n"
     ]
    },
    {
     "name": "stdout",
     "output_type": "stream",
     "text": [
      "Epoch [128], Train Loss : [0.97695] Val Loss : [1.16903] Val F1 : [0.46213]\n"
     ]
    },
    {
     "name": "stderr",
     "output_type": "stream",
     "text": [
      "100%|█████████████████████████████████████████| 958/958 [03:36<00:00,  4.42it/s]\n",
      "100%|█████████████████████████████████████████| 107/107 [00:14<00:00,  7.60it/s]\n"
     ]
    },
    {
     "name": "stdout",
     "output_type": "stream",
     "text": [
      "Epoch [129], Train Loss : [0.97672] Val Loss : [1.17604] Val F1 : [0.46036]\n"
     ]
    },
    {
     "name": "stderr",
     "output_type": "stream",
     "text": [
      "100%|█████████████████████████████████████████| 958/958 [03:38<00:00,  4.39it/s]\n",
      "100%|█████████████████████████████████████████| 107/107 [00:12<00:00,  8.74it/s]\n"
     ]
    },
    {
     "name": "stdout",
     "output_type": "stream",
     "text": [
      "Epoch [130], Train Loss : [0.97646] Val Loss : [1.17467] Val F1 : [0.46095]\n"
     ]
    },
    {
     "name": "stderr",
     "output_type": "stream",
     "text": [
      "100%|█████████████████████████████████████████| 958/958 [03:38<00:00,  4.39it/s]\n",
      "100%|█████████████████████████████████████████| 107/107 [00:12<00:00,  8.80it/s]\n"
     ]
    },
    {
     "name": "stdout",
     "output_type": "stream",
     "text": [
      "Epoch [131], Train Loss : [0.96971] Val Loss : [1.17772] Val F1 : [0.46154]\n"
     ]
    },
    {
     "name": "stderr",
     "output_type": "stream",
     "text": [
      "100%|█████████████████████████████████████████| 958/958 [03:38<00:00,  4.39it/s]\n",
      "100%|█████████████████████████████████████████| 107/107 [00:12<00:00,  8.73it/s]\n"
     ]
    },
    {
     "name": "stdout",
     "output_type": "stream",
     "text": [
      "Epoch [132], Train Loss : [0.97210] Val Loss : [1.18465] Val F1 : [0.45273]\n"
     ]
    },
    {
     "name": "stderr",
     "output_type": "stream",
     "text": [
      "100%|█████████████████████████████████████████| 958/958 [03:39<00:00,  4.37it/s]\n",
      "100%|█████████████████████████████████████████| 107/107 [00:13<00:00,  7.88it/s]\n"
     ]
    },
    {
     "name": "stdout",
     "output_type": "stream",
     "text": [
      "Epoch [133], Train Loss : [0.97456] Val Loss : [1.17436] Val F1 : [0.46389]\n"
     ]
    },
    {
     "name": "stderr",
     "output_type": "stream",
     "text": [
      "100%|█████████████████████████████████████████| 958/958 [03:36<00:00,  4.42it/s]\n",
      "100%|█████████████████████████████████████████| 107/107 [00:12<00:00,  8.29it/s]\n"
     ]
    },
    {
     "name": "stdout",
     "output_type": "stream",
     "text": [
      "Epoch [134], Train Loss : [0.96909] Val Loss : [1.17435] Val F1 : [0.46330]\n"
     ]
    },
    {
     "name": "stderr",
     "output_type": "stream",
     "text": [
      "100%|█████████████████████████████████████████| 958/958 [03:42<00:00,  4.31it/s]\n",
      "100%|█████████████████████████████████████████| 107/107 [00:12<00:00,  8.49it/s]\n"
     ]
    },
    {
     "name": "stdout",
     "output_type": "stream",
     "text": [
      "Epoch [135], Train Loss : [0.97519] Val Loss : [1.17406] Val F1 : [0.46565]\n"
     ]
    },
    {
     "name": "stderr",
     "output_type": "stream",
     "text": [
      "100%|█████████████████████████████████████████| 958/958 [03:37<00:00,  4.41it/s]\n",
      "100%|█████████████████████████████████████████| 107/107 [00:12<00:00,  8.72it/s]\n"
     ]
    },
    {
     "name": "stdout",
     "output_type": "stream",
     "text": [
      "Epoch [136], Train Loss : [0.96907] Val Loss : [1.16876] Val F1 : [0.46682]\n"
     ]
    },
    {
     "name": "stderr",
     "output_type": "stream",
     "text": [
      "100%|█████████████████████████████████████████| 958/958 [03:36<00:00,  4.42it/s]\n",
      "100%|█████████████████████████████████████████| 107/107 [00:12<00:00,  8.76it/s]\n"
     ]
    },
    {
     "name": "stdout",
     "output_type": "stream",
     "text": [
      "Epoch [137], Train Loss : [0.96892] Val Loss : [1.17221] Val F1 : [0.45919]\n"
     ]
    },
    {
     "name": "stderr",
     "output_type": "stream",
     "text": [
      "100%|█████████████████████████████████████████| 958/958 [03:35<00:00,  4.44it/s]\n",
      "100%|█████████████████████████████████████████| 107/107 [00:12<00:00,  8.71it/s]\n"
     ]
    },
    {
     "name": "stdout",
     "output_type": "stream",
     "text": [
      "Epoch [138], Train Loss : [0.97200] Val Loss : [1.17062] Val F1 : [0.46565]\n"
     ]
    },
    {
     "name": "stderr",
     "output_type": "stream",
     "text": [
      "100%|█████████████████████████████████████████| 958/958 [03:37<00:00,  4.40it/s]\n",
      "100%|█████████████████████████████████████████| 107/107 [00:12<00:00,  8.86it/s]\n"
     ]
    },
    {
     "name": "stdout",
     "output_type": "stream",
     "text": [
      "Epoch [139], Train Loss : [0.97189] Val Loss : [1.18072] Val F1 : [0.46506]\n"
     ]
    },
    {
     "name": "stderr",
     "output_type": "stream",
     "text": [
      "100%|█████████████████████████████████████████| 958/958 [03:35<00:00,  4.44it/s]\n",
      "100%|█████████████████████████████████████████| 107/107 [00:12<00:00,  8.68it/s]\n"
     ]
    },
    {
     "name": "stdout",
     "output_type": "stream",
     "text": [
      "Epoch [140], Train Loss : [0.97197] Val Loss : [1.18372] Val F1 : [0.45978]\n"
     ]
    },
    {
     "name": "stderr",
     "output_type": "stream",
     "text": [
      "100%|█████████████████████████████████████████| 958/958 [03:39<00:00,  4.37it/s]\n",
      "100%|█████████████████████████████████████████| 107/107 [00:11<00:00,  9.03it/s]\n"
     ]
    },
    {
     "name": "stdout",
     "output_type": "stream",
     "text": [
      "Epoch [141], Train Loss : [0.97820] Val Loss : [1.17511] Val F1 : [0.46154]\n"
     ]
    },
    {
     "name": "stderr",
     "output_type": "stream",
     "text": [
      "100%|█████████████████████████████████████████| 958/958 [03:35<00:00,  4.45it/s]\n",
      "100%|█████████████████████████████████████████| 107/107 [00:11<00:00,  9.01it/s]\n"
     ]
    },
    {
     "name": "stdout",
     "output_type": "stream",
     "text": [
      "Epoch [142], Train Loss : [0.97144] Val Loss : [1.17711] Val F1 : [0.45978]\n"
     ]
    },
    {
     "name": "stderr",
     "output_type": "stream",
     "text": [
      "100%|█████████████████████████████████████████| 958/958 [03:34<00:00,  4.46it/s]\n",
      "100%|█████████████████████████████████████████| 107/107 [00:12<00:00,  8.87it/s]\n"
     ]
    },
    {
     "name": "stdout",
     "output_type": "stream",
     "text": [
      "Epoch [143], Train Loss : [0.97369] Val Loss : [1.17638] Val F1 : [0.46036]\n"
     ]
    },
    {
     "name": "stderr",
     "output_type": "stream",
     "text": [
      "100%|█████████████████████████████████████████| 958/958 [03:38<00:00,  4.38it/s]\n",
      "100%|█████████████████████████████████████████| 107/107 [00:12<00:00,  8.89it/s]\n"
     ]
    },
    {
     "name": "stdout",
     "output_type": "stream",
     "text": [
      "Epoch [144], Train Loss : [0.97012] Val Loss : [1.17177] Val F1 : [0.45860]\n"
     ]
    },
    {
     "name": "stderr",
     "output_type": "stream",
     "text": [
      "100%|█████████████████████████████████████████| 958/958 [03:41<00:00,  4.32it/s]\n",
      "100%|█████████████████████████████████████████| 107/107 [00:12<00:00,  8.72it/s]\n"
     ]
    },
    {
     "name": "stdout",
     "output_type": "stream",
     "text": [
      "Epoch [145], Train Loss : [0.97313] Val Loss : [1.17616] Val F1 : [0.45919]\n"
     ]
    },
    {
     "name": "stderr",
     "output_type": "stream",
     "text": [
      "100%|█████████████████████████████████████████| 958/958 [03:37<00:00,  4.41it/s]\n",
      "100%|█████████████████████████████████████████| 107/107 [00:12<00:00,  8.85it/s]\n"
     ]
    },
    {
     "name": "stdout",
     "output_type": "stream",
     "text": [
      "Epoch [146], Train Loss : [0.96908] Val Loss : [1.17811] Val F1 : [0.46036]\n"
     ]
    },
    {
     "name": "stderr",
     "output_type": "stream",
     "text": [
      "100%|█████████████████████████████████████████| 958/958 [03:39<00:00,  4.37it/s]\n",
      "100%|█████████████████████████████████████████| 107/107 [00:12<00:00,  8.79it/s]\n"
     ]
    },
    {
     "name": "stdout",
     "output_type": "stream",
     "text": [
      "Epoch [147], Train Loss : [0.96992] Val Loss : [1.17563] Val F1 : [0.46682]\n"
     ]
    },
    {
     "name": "stderr",
     "output_type": "stream",
     "text": [
      "100%|█████████████████████████████████████████| 958/958 [03:39<00:00,  4.36it/s]\n",
      "100%|█████████████████████████████████████████| 107/107 [00:11<00:00,  9.00it/s]\n"
     ]
    },
    {
     "name": "stdout",
     "output_type": "stream",
     "text": [
      "Epoch [148], Train Loss : [0.96849] Val Loss : [1.18138] Val F1 : [0.46682]\n"
     ]
    },
    {
     "name": "stderr",
     "output_type": "stream",
     "text": [
      "100%|█████████████████████████████████████████| 958/958 [03:37<00:00,  4.41it/s]\n",
      "100%|█████████████████████████████████████████| 107/107 [00:12<00:00,  8.73it/s]\n"
     ]
    },
    {
     "name": "stdout",
     "output_type": "stream",
     "text": [
      "Epoch [149], Train Loss : [0.96754] Val Loss : [1.17498] Val F1 : [0.46095]\n"
     ]
    },
    {
     "name": "stderr",
     "output_type": "stream",
     "text": [
      "100%|█████████████████████████████████████████| 958/958 [03:35<00:00,  4.45it/s]\n",
      "100%|█████████████████████████████████████████| 107/107 [00:12<00:00,  8.90it/s]"
     ]
    },
    {
     "name": "stdout",
     "output_type": "stream",
     "text": [
      "Epoch [150], Train Loss : [0.97738] Val Loss : [1.18374] Val F1 : [0.46095]\n"
     ]
    },
    {
     "name": "stderr",
     "output_type": "stream",
     "text": [
      "\n"
     ]
    }
   ],
   "source": [
    "# model = resnet.ResNet18(64, 15)\n",
    "model = ResNet18(64, 15)\n",
    "model.eval()\n",
    "optimizer = torch.optim.Adam(params = model.parameters(), lr = CFG[\"LEARNING_RATE\"])\n",
    "scheduler = torch.optim.lr_scheduler.ReduceLROnPlateau(optimizer, mode='max', factor=0.5, patience=2,threshold_mode='abs',min_lr=1e-8, verbose=True)\n",
    "\n",
    "infer_model = train(model, optimizer, scheduler, device)"
   ]
  },
  {
   "cell_type": "code",
   "execution_count": 53,
   "id": "ca96d9da",
   "metadata": {},
   "outputs": [],
   "source": [
    "RP_test_dataset = RPDataset(df=test_df, rp_path_list=test_df['img_path'].values, label_list=test_df['action'].values, tfms=RP_tfms)\n",
    "RP_test_loader = DataLoader(RP_test_dataset, batch_size = CFG['BATCH_SIZE'], shuffle=False, num_workers=0)\n",
    "\n",
    "Gps_test_dataset = GpsDataset(df=test_df, lat_path_list=test_df['lat'].values, lon_path_list=test_df['lon'].values, label_list=test_df['action'].values, tfms=Gps_tfms)\n",
    "Gps_test_loader = DataLoader(Gps_test_dataset, batch_size = CFG['BATCH_SIZE'], shuffle=True, num_workers=0)"
   ]
  },
  {
   "cell_type": "code",
   "execution_count": null,
   "id": "6c63042f",
   "metadata": {},
   "outputs": [],
   "source": []
  },
  {
   "cell_type": "code",
   "execution_count": null,
   "id": "f59912df",
   "metadata": {},
   "outputs": [],
   "source": []
  },
  {
   "cell_type": "code",
   "execution_count": 54,
   "id": "d4233fe0",
   "metadata": {},
   "outputs": [],
   "source": [
    "def inference(model, device):\n",
    "    model.to(device)\n",
    "    model.eval()\n",
    "    preds = []\n",
    "    with torch.no_grad():\n",
    "        for i, data in enumerate(zip(tqdm(RP_test_loader), Gps_test_loader)):\n",
    "            data1, data2 = data\n",
    "            images, labels = data1\n",
    "            gps, _ = data2\n",
    "            \n",
    "            images = images.to(device)\n",
    "            gps = gps.to(device)\n",
    "            labels = labels.to(device)\n",
    "            \n",
    "            logit = model(images, gps)\n",
    "            preds += logit.argmax(1).detach().cpu().numpy().tolist()\n",
    "    return preds"
   ]
  },
  {
   "cell_type": "code",
   "execution_count": 55,
   "id": "4e04ea42",
   "metadata": {},
   "outputs": [
    {
     "name": "stderr",
     "output_type": "stream",
     "text": [
      "100%|█████████████████████████████████████████| 117/117 [00:14<00:00,  8.21it/s]\n"
     ]
    }
   ],
   "source": [
    "preds = inference(model, device)"
   ]
  },
  {
   "cell_type": "code",
   "execution_count": 56,
   "id": "2b40252d",
   "metadata": {},
   "outputs": [
    {
     "data": {
      "text/plain": [
       "array([[  0,   1,   0,   0,   1,   1,   4,   0,   1,   1,   0,   1,   0,\n",
       "          5,   0],\n",
       "       [  0,  24,   0,   1,   4,   3,   6,   0,   2,   2,   0,   7,   0,\n",
       "          8,  14],\n",
       "       [  0,   0,   0,   0,   1,   0,   0,   0,   2,   0,   0,   3,   0,\n",
       "          0,   4],\n",
       "       [  0,   1,   0,  41,  12,   6,   7,   0,  10,   2,   0,   9,   0,\n",
       "         18,  28],\n",
       "       [  0,   2,   0,  31,  86,   7,  10,   0,  19,   7,   1,  20,   0,\n",
       "         32,  45],\n",
       "       [  0,   1,   0,  10,   8,  85,   1,   0,   3,   0,   0,   3,   0,\n",
       "         12,   6],\n",
       "       [  1,   5,   0,  12,  11,   3,  46,   0,   5,   5,   4,   8,   0,\n",
       "         11,  15],\n",
       "       [  0,   0,   0,   3,   3,   1,   4,   9,  12,   1,   3,   5,   0,\n",
       "          7,  14],\n",
       "       [  0,   1,   0,   6,  21,   1,   4,   1,  42,   1,   1,   3,   0,\n",
       "          7,  40],\n",
       "       [  0,   4,   0,   4,  12,   6,  10,   0,   8,  15,   0,   7,   0,\n",
       "         20,   9],\n",
       "       [  0,   2,   0,   3,   1,   0,   2,   1,   2,   0,  10,   0,   0,\n",
       "          1,   3],\n",
       "       [  0,   3,   0,  12,  33,  14,  10,   2,   5,   5,   2,  32,   0,\n",
       "         23,  39],\n",
       "       [  0,   0,   0,   2,   2,   0,   5,   0,   1,   0,   0,   1,   0,\n",
       "          2,  13],\n",
       "       [  0,   6,   0,   9,  21,  12,  17,   0,   9,   3,   0,   3,   0,\n",
       "        189,  31],\n",
       "       [  0,   3,   0,  12,  27,   8,   4,   0,  12,   4,   1,  16,   0,\n",
       "         14, 199]])"
      ]
     },
     "execution_count": 56,
     "metadata": {},
     "output_type": "execute_result"
    }
   ],
   "source": [
    "from sklearn.metrics import confusion_matrix\n",
    "\n",
    "confusion_matrix = confusion_matrix(test_df['action'], preds, labels=[x for x in range(0, 15)])\n",
    "confusion_matrix"
   ]
  },
  {
   "cell_type": "code",
   "execution_count": 57,
   "id": "cb14491f",
   "metadata": {},
   "outputs": [
    {
     "data": {
      "text/plain": [
       "<Axes: title={'center': 'Confusion Matrix'}>"
      ]
     },
     "execution_count": 57,
     "metadata": {},
     "output_type": "execute_result"
    },
    {
     "data": {
      "image/png": "[encoded data removed]",
      "text/plain": [
       "<Figure size 2500x2500 with 2 Axes>"
      ]
     },
     "metadata": {},
     "output_type": "display_data"
    }
   ],
   "source": [
    "import seaborn as sns\n",
    "import matplotlib.pyplot as plt\n",
    "%matplotlib inline\n",
    "\n",
    "plt.figure(figsize = (25,25))\n",
    "plt.title('Confusion Matrix')\n",
    "\n",
    "sns.heatmap(confusion_matrix, annot=True)"
   ]
  },
  {
   "cell_type": "code",
   "execution_count": 58,
   "id": "ecb171de",
   "metadata": {},
   "outputs": [
    {
     "name": "stdout",
     "output_type": "stream",
     "text": [
      "F1-score: 0.4181\n"
     ]
    }
   ],
   "source": [
    "from sklearn.metrics import f1_score \n",
    "f1 = f1_score(test_df['action'], preds, average='micro')\n",
    "print('F1-score: {0:.4f}'.format(f1))"
   ]
  },
  {
   "cell_type": "code",
   "execution_count": 59,
   "id": "fbf166d0",
   "metadata": {},
   "outputs": [],
   "source": [
    "torch.save(model, f'./save_model/0409_RPmGps.pt')"
   ]
  },
  {
   "cell_type": "code",
   "execution_count": null,
   "id": "a44bb7f2",
   "metadata": {},
   "outputs": [],
   "source": []
  },
  {
   "cell_type": "code",
   "execution_count": null,
   "id": "c7f32754",
   "metadata": {},
   "outputs": [],
   "source": []
  },
  {
   "cell_type": "code",
   "execution_count": null,
   "id": "72c6a01d",
   "metadata": {},
   "outputs": [],
   "source": []
  }
 ],
 "metadata": {
  "kernelspec": {
   "display_name": "Python 3 (ipykernel)",
   "language": "python",
   "name": "python3"
  },
  "language_info": {
   "codemirror_mode": {
    "name": "ipython",
    "version": 3
   },
   "file_extension": ".py",
   "mimetype": "text/x-python",
   "name": "python",
   "nbconvert_exporter": "python",
   "pygments_lexer": "ipython3",
   "version": "3.9.16"
  }
 },
 "nbformat": 4,
 "nbformat_minor": 5
}

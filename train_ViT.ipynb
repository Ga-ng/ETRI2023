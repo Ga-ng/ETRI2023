{
 "cells": [
  {
   "cell_type": "code",
   "execution_count": 1,
   "id": "aa75dda6",
   "metadata": {},
   "outputs": [],
   "source": [
    "import os\n",
    "import pandas as pd\n",
    "import numpy as np\n",
    "import torch\n",
    "import torch.nn as nn\n",
    "import torch.optim as optim\n",
    "from torch.autograd import Variable\n",
    "import torchvision.datasets as dset\n",
    "import torchvision.transforms as transforms\n",
    "import albumentations as A\n",
    "from albumentations.pytorch.transforms import ToTensorV2\n",
    "import torch.nn.functional as F\n",
    "from torch.utils.data import Dataset\n",
    "from torch.utils.data import DataLoader\n",
    "import torchvision.models as models\n",
    "import cv2\n",
    "import sys\n",
    "import math\n",
    "import random\n",
    "import splitfolders\n",
    "import torchsummary\n",
    "from ViT import vit\n",
    "from tqdm.auto import tqdm\n",
    "from sklearn.preprocessing import LabelEncoder\n",
    "from sklearn.model_selection import train_test_split\n",
    "from sklearn.model_selection import cross_val_score\n",
    "from sklearn.metrics import f1_score"
   ]
  },
  {
   "cell_type": "code",
   "execution_count": 2,
   "id": "990b3869",
   "metadata": {},
   "outputs": [
    {
     "data": {
      "text/plain": [
       "device(type='cuda')"
      ]
     },
     "execution_count": 2,
     "metadata": {},
     "output_type": "execute_result"
    }
   ],
   "source": [
    "device = torch.device('cuda') if torch.cuda.is_available() else torch.device('cpu')\n",
    "device"
   ]
  },
  {
   "cell_type": "code",
   "execution_count": 3,
   "id": "789a6ad7",
   "metadata": {},
   "outputs": [],
   "source": [
    "CFG = {\n",
    "    'IMG_SIZE':224,\n",
    "    'EPOCHS':100,\n",
    "    'LEARNING_RATE':3e-5,\n",
    "    'BATCH_SIZE':12,\n",
    "    'SEED':42\n",
    "}"
   ]
  },
  {
   "cell_type": "code",
   "execution_count": 4,
   "id": "ecc11a30",
   "metadata": {},
   "outputs": [],
   "source": [
    "def seed_everything(seed):\n",
    "    random.seed(seed)\n",
    "    os.environ['PYTHONHASHSEED'] = str(seed)\n",
    "    np.random.seed(seed)\n",
    "    torch.manual_seed(seed)\n",
    "    torch.cuda.manual_seed(seed)\n",
    "    torch.backends.cudnn.deterministic = True\n",
    "    torch.backends.cudnn.benchmark = True\n",
    "\n",
    "seed_everything(CFG['SEED'])"
   ]
  },
  {
   "cell_type": "code",
   "execution_count": 5,
   "id": "f6f1111e",
   "metadata": {},
   "outputs": [],
   "source": [
    "train_df = pd.read_csv('./train_data_action.csv')\n",
    "test_df = pd.read_csv('./test_data_action.csv')"
   ]
  },
  {
   "cell_type": "code",
   "execution_count": 6,
   "id": "1c539311",
   "metadata": {},
   "outputs": [
    {
     "data": {
      "text/plain": [
       "work                     13458\n",
       "travel                    5020\n",
       "recreation_media          4886\n",
       "meal                      4012\n",
       "household                 2304\n",
       "recreation_etc            2045\n",
       "socialising               1922\n",
       "outdoor_act               1717\n",
       "personal_care             1254\n",
       "sleep                      573\n",
       "study                      465\n",
       "hobby                      392\n",
       "shop                       184\n",
       "community_interaction       28\n",
       "entertainment                6\n",
       "Name: action, dtype: int64"
      ]
     },
     "execution_count": 6,
     "metadata": {},
     "output_type": "execute_result"
    }
   ],
   "source": [
    "train_df['action'].value_counts()"
   ]
  },
  {
   "cell_type": "code",
   "execution_count": 7,
   "id": "bc0a9cb5",
   "metadata": {},
   "outputs": [
    {
     "data": {
      "text/plain": [
       "work                     3365\n",
       "travel                   1255\n",
       "recreation_media         1222\n",
       "meal                     1003\n",
       "household                 576\n",
       "recreation_etc            511\n",
       "socialising               480\n",
       "outdoor_act               429\n",
       "personal_care             314\n",
       "sleep                     143\n",
       "study                     116\n",
       "hobby                      98\n",
       "shop                       46\n",
       "community_interaction       7\n",
       "entertainment               2\n",
       "Name: action, dtype: int64"
      ]
     },
     "execution_count": 7,
     "metadata": {},
     "output_type": "execute_result"
    }
   ],
   "source": [
    "test_df['action'].value_counts()"
   ]
  },
  {
   "cell_type": "code",
   "execution_count": 8,
   "id": "30a8786a",
   "metadata": {},
   "outputs": [],
   "source": [
    "le = LabelEncoder()\n",
    "le = le.fit(train_df['action'])\n",
    "train_df['action'] = le.transform(train_df['action'])\n",
    "test_df['action'] = le.transform(test_df['action'])"
   ]
  },
  {
   "cell_type": "code",
   "execution_count": 9,
   "id": "9468411e",
   "metadata": {},
   "outputs": [
    {
     "data": {
      "text/html": [
       "<div>\n",
       "<style scoped>\n",
       "    .dataframe tbody tr th:only-of-type {\n",
       "        vertical-align: middle;\n",
       "    }\n",
       "\n",
       "    .dataframe tbody tr th {\n",
       "        vertical-align: top;\n",
       "    }\n",
       "\n",
       "    .dataframe thead th {\n",
       "        text-align: right;\n",
       "    }\n",
       "</style>\n",
       "<table border=\"1\" class=\"dataframe\">\n",
       "  <thead>\n",
       "    <tr style=\"text-align: right;\">\n",
       "      <th></th>\n",
       "      <th>Unnamed: 0</th>\n",
       "      <th>ts</th>\n",
       "      <th>action</th>\n",
       "      <th>img_path</th>\n",
       "    </tr>\n",
       "  </thead>\n",
       "  <tbody>\n",
       "    <tr>\n",
       "      <th>0</th>\n",
       "      <td>23440</td>\n",
       "      <td>1.600663e+09</td>\n",
       "      <td>14</td>\n",
       "      <td>./train/data/user03/1600635600/RP/1600662780.png</td>\n",
       "    </tr>\n",
       "    <tr>\n",
       "      <th>1</th>\n",
       "      <td>39052</td>\n",
       "      <td>1.600233e+09</td>\n",
       "      <td>14</td>\n",
       "      <td>./train/data/user04/1600207800/RP/1600233000.png</td>\n",
       "    </tr>\n",
       "    <tr>\n",
       "      <th>4</th>\n",
       "      <td>15779</td>\n",
       "      <td>1.599108e+09</td>\n",
       "      <td>14</td>\n",
       "      <td>./train/data/user03/1599058980/RP/1599108300.png</td>\n",
       "    </tr>\n",
       "    <tr>\n",
       "      <th>6</th>\n",
       "      <td>29029</td>\n",
       "      <td>1.598920e+09</td>\n",
       "      <td>14</td>\n",
       "      <td>./train/data/user04/1598912400/RP/1598919840.png</td>\n",
       "    </tr>\n",
       "    <tr>\n",
       "      <th>13</th>\n",
       "      <td>12951</td>\n",
       "      <td>1.600820e+09</td>\n",
       "      <td>14</td>\n",
       "      <td>./train/data/user02/1600786800/RP/1600819860.png</td>\n",
       "    </tr>\n",
       "    <tr>\n",
       "      <th>...</th>\n",
       "      <td>...</td>\n",
       "      <td>...</td>\n",
       "      <td>...</td>\n",
       "      <td>...</td>\n",
       "    </tr>\n",
       "    <tr>\n",
       "      <th>38258</th>\n",
       "      <td>47512</td>\n",
       "      <td>1.601186e+09</td>\n",
       "      <td>14</td>\n",
       "      <td>./train/data/user04/1601163000/RP/1601185980.png</td>\n",
       "    </tr>\n",
       "    <tr>\n",
       "      <th>38259</th>\n",
       "      <td>42817</td>\n",
       "      <td>1.600666e+09</td>\n",
       "      <td>14</td>\n",
       "      <td>./train/data/user04/1600640400/RP/1600665660.png</td>\n",
       "    </tr>\n",
       "    <tr>\n",
       "      <th>38261</th>\n",
       "      <td>36655</td>\n",
       "      <td>1.599880e+09</td>\n",
       "      <td>14</td>\n",
       "      <td>./train/data/user04/1599859800/RP/1599880440.png</td>\n",
       "    </tr>\n",
       "    <tr>\n",
       "      <th>38262</th>\n",
       "      <td>10357</td>\n",
       "      <td>1.599116e+09</td>\n",
       "      <td>14</td>\n",
       "      <td>./train/data/user02/1599058800/RP/1599116160.png</td>\n",
       "    </tr>\n",
       "    <tr>\n",
       "      <th>38265</th>\n",
       "      <td>20358</td>\n",
       "      <td>1.600239e+09</td>\n",
       "      <td>14</td>\n",
       "      <td>./train/data/user03/1600192800/RP/1600238640.png</td>\n",
       "    </tr>\n",
       "  </tbody>\n",
       "</table>\n",
       "<p>13458 rows × 4 columns</p>\n",
       "</div>"
      ],
      "text/plain": [
       "       Unnamed: 0            ts  action  \\\n",
       "0           23440  1.600663e+09      14   \n",
       "1           39052  1.600233e+09      14   \n",
       "4           15779  1.599108e+09      14   \n",
       "6           29029  1.598920e+09      14   \n",
       "13          12951  1.600820e+09      14   \n",
       "...           ...           ...     ...   \n",
       "38258       47512  1.601186e+09      14   \n",
       "38259       42817  1.600666e+09      14   \n",
       "38261       36655  1.599880e+09      14   \n",
       "38262       10357  1.599116e+09      14   \n",
       "38265       20358  1.600239e+09      14   \n",
       "\n",
       "                                               img_path  \n",
       "0      ./train/data/user03/1600635600/RP/1600662780.png  \n",
       "1      ./train/data/user04/1600207800/RP/1600233000.png  \n",
       "4      ./train/data/user03/1599058980/RP/1599108300.png  \n",
       "6      ./train/data/user04/1598912400/RP/1598919840.png  \n",
       "13     ./train/data/user02/1600786800/RP/1600819860.png  \n",
       "...                                                 ...  \n",
       "38258  ./train/data/user04/1601163000/RP/1601185980.png  \n",
       "38259  ./train/data/user04/1600640400/RP/1600665660.png  \n",
       "38261  ./train/data/user04/1599859800/RP/1599880440.png  \n",
       "38262  ./train/data/user02/1599058800/RP/1599116160.png  \n",
       "38265  ./train/data/user03/1600192800/RP/1600238640.png  \n",
       "\n",
       "[13458 rows x 4 columns]"
      ]
     },
     "execution_count": 9,
     "metadata": {},
     "output_type": "execute_result"
    }
   ],
   "source": [
    "train_df[train_df['action']==14]"
   ]
  },
  {
   "cell_type": "code",
   "execution_count": 10,
   "id": "e753cb34",
   "metadata": {},
   "outputs": [],
   "source": [
    "path_list = train_df[train_df['action']==14]['img_path']\n",
    "pl = list(path_list)"
   ]
  },
  {
   "cell_type": "code",
   "execution_count": 11,
   "id": "b57440be",
   "metadata": {},
   "outputs": [],
   "source": [
    "tmp = random.sample(pl, 500)"
   ]
  },
  {
   "cell_type": "code",
   "execution_count": 12,
   "id": "ffb902bf",
   "metadata": {},
   "outputs": [
    {
     "data": {
      "text/plain": [
       "['./train/data/user04/1600035000/RP/1600056840.png',\n",
       " './train/data/user04/1600294800/RP/1600328820.png',\n",
       " './train/data/user04/1599690000/RP/1599701640.png',\n",
       " './train/data/user04/1600899900/RP/1600908360.png',\n",
       " './train/data/user04/1600207800/RP/1600223100.png',\n",
       " './train/data/user02/1600700400/RP/1600758660.png',\n",
       " './train/data/user04/1600726800/RP/1600754940.png',\n",
       " './train/data/user04/1599690000/RP/1599717300.png',\n",
       " './train/data/user01/1600315920/RP/1600328040.png',\n",
       " './train/data/user04/1600558200/RP/1600574220.png',\n",
       " './train/data/user02/1598972400/RP/1599041520.png',\n",
       " './train/data/user04/1599522960/RP/1599523260.png',\n",
       " './train/data/user01/1600450920/RP/1600498740.png',\n",
       " './train/data/user04/1600640400/RP/1600667460.png',\n",
       " './train/data/user02/1600961640/RP/1601007660.png',\n",
       " './train/data/user03/1600707600/RP/1600737660.png',\n",
       " './train/data/user02/1599922800/RP/1599992940.png',\n",
       " './train/data/user04/1599430860/RP/1599460560.png',\n",
       " './train/data/user02/1598886000/RP/1598922300.png',\n",
       " './train/data/user04/1598912400/RP/1598930880.png',\n",
       " './train/data/user03/1599058980/RP/1599106020.png',\n",
       " './train/data/user04/1600986000/RP/1601007180.png',\n",
       " './train/data/user04/1600470000/RP/1600494540.png',\n",
       " './train/data/user02/1600961640/RP/1601006760.png',\n",
       " './train/data/user04/1600640400/RP/1600662120.png',\n",
       " './train/data/user04/1599430860/RP/1599441240.png',\n",
       " './train/data/user02/1599058800/RP/1599107640.png',\n",
       " './train/data/user04/1600986000/RP/1600992840.png',\n",
       " './train/data/user04/1599522960/RP/1599548400.png',\n",
       " './train/data/user04/1600899900/RP/1600919100.png',\n",
       " './train/data/user03/1600635600/RP/1600666980.png',\n",
       " './train/data/user03/1600707600/RP/1600756080.png',\n",
       " './train/data/user04/1599085500/RP/1599095580.png',\n",
       " './train/data/user02/1598886000/RP/1598950860.png',\n",
       " './train/data/user04/1599690000/RP/1599714840.png',\n",
       " './train/data/user04/1600816860/RP/1600853100.png',\n",
       " './train/data/user03/1600020000/RP/1600059120.png',\n",
       " './train/data/user04/1600640400/RP/1600644900.png',\n",
       " './train/data/user04/1599174600/RP/1599200400.png',\n",
       " './train/data/user02/1600700400/RP/1600773060.png',\n",
       " './train/data/user01/1600450920/RP/1600499160.png',\n",
       " './train/data/user03/1600876800/RP/1600919280.png',\n",
       " './train/data/user04/1601163000/RP/1601172960.png',\n",
       " './train/data/user04/1600035000/RP/1600044840.png',\n",
       " './train/data/user03/1600963200/RP/1601006940.png',\n",
       " './train/data/user04/1599522960/RP/1599553380.png',\n",
       " './train/data/user04/1599001800/RP/1599025620.png',\n",
       " './train/data/user01/1600315920/RP/1600328100.png',\n",
       " './train/data/user04/1600726800/RP/1600748640.png',\n",
       " './train/data/user04/1600122300/RP/1600149240.png',\n",
       " './train/data/user03/1600020000/RP/1600063800.png',\n",
       " './train/data/user04/1599085500/RP/1599090540.png',\n",
       " './train/data/user02/1600786800/RP/1600843500.png',\n",
       " './train/data/user02/1600961640/RP/1600996440.png',\n",
       " './train/data/user03/1599510360/RP/1599548400.png',\n",
       " './train/data/user04/1600816860/RP/1600851780.png',\n",
       " './train/data/user04/1598912400/RP/1598933580.png',\n",
       " './train/data/user04/1600294800/RP/1600326540.png',\n",
       " './train/data/user03/1600106400/RP/1600158060.png',\n",
       " './train/data/user04/1600035000/RP/1600061340.png',\n",
       " './train/data/user01/1600315920/RP/1600336680.png',\n",
       " './train/data/user01/1599269580/RP/1599299580.png',\n",
       " './train/data/user04/1600035000/RP/1600065900.png',\n",
       " './train/data/user04/1599430860/RP/1599447480.png',\n",
       " './train/data/user03/1600963200/RP/1601007720.png',\n",
       " './train/data/user04/1598912400/RP/1598919180.png',\n",
       " './train/data/user04/1600986000/RP/1601017080.png',\n",
       " './train/data/user03/1600707600/RP/1600746180.png',\n",
       " './train/data/user02/1600961640/RP/1601013420.png',\n",
       " './train/data/user04/1600986000/RP/1601016540.png',\n",
       " './train/data/user02/1600700400/RP/1600738860.png',\n",
       " './train/data/user02/1600700400/RP/1600741320.png',\n",
       " './train/data/user03/1599584400/RP/1599633300.png',\n",
       " './train/data/user02/1598886000/RP/1598920680.png',\n",
       " './train/data/user02/1599922800/RP/1599991260.png',\n",
       " './train/data/user04/1600986000/RP/1601012100.png',\n",
       " './train/data/user04/1598828400/RP/1598840100.png',\n",
       " './train/data/user03/1600707600/RP/1600764420.png',\n",
       " './train/data/user03/1599584400/RP/1599610920.png',\n",
       " './train/data/user04/1600380900/RP/1600393680.png',\n",
       " './train/data/user03/1599510360/RP/1599547920.png',\n",
       " './train/data/user04/1599085500/RP/1599095340.png',\n",
       " './train/data/user04/1600986000/RP/1601011560.png',\n",
       " './train/data/user01/1599890820/RP/1599921900.png',\n",
       " './train/data/user04/1600294800/RP/1600338960.png',\n",
       " './train/data/user04/1600035000/RP/1600072020.png',\n",
       " './train/data/user04/1598912400/RP/1598941680.png',\n",
       " './train/data/user03/1600792200/RP/1600826340.png',\n",
       " './train/data/user01/1600315920/RP/1600335540.png',\n",
       " './train/data/user01/1600315920/RP/1600335000.png',\n",
       " './train/data/user04/1598912400/RP/1598943960.png',\n",
       " './train/data/user04/1600640400/RP/1600662060.png',\n",
       " './train/data/user04/1601163000/RP/1601188020.png',\n",
       " './train/data/user04/1600816860/RP/1600846020.png',\n",
       " './train/data/user02/1599058800/RP/1599092520.png',\n",
       " './train/data/user02/1598886000/RP/1598940600.png',\n",
       " './train/data/user01/1599442080/RP/1599450000.png',\n",
       " './train/data/user04/1600380900/RP/1600390980.png',\n",
       " './train/data/user02/1598972400/RP/1599008160.png',\n",
       " './train/data/user03/1598818020/RP/1598855700.png',\n",
       " './train/data/user02/1600614000/RP/1600647000.png',\n",
       " './train/data/user02/1598972400/RP/1599024600.png',\n",
       " './train/data/user03/1600106400/RP/1600154760.png',\n",
       " './train/data/user04/1600899900/RP/1600936200.png',\n",
       " './train/data/user02/1598886000/RP/1598941500.png',\n",
       " './train/data/user01/1599922800/RP/1599923820.png',\n",
       " './train/data/user03/1599584400/RP/1599617280.png',\n",
       " './train/data/user04/1600122300/RP/1600142400.png',\n",
       " './train/data/user04/1599174600/RP/1599196620.png',\n",
       " './train/data/user04/1599522960/RP/1599546180.png',\n",
       " './train/data/user04/1601163000/RP/1601194320.png',\n",
       " './train/data/user02/1599058800/RP/1599131160.png',\n",
       " './train/data/user04/1598912400/RP/1598916600.png',\n",
       " './train/data/user02/1598886000/RP/1598925480.png',\n",
       " './train/data/user02/1600786800/RP/1600846860.png',\n",
       " './train/data/user01/1599890820/RP/1599921300.png',\n",
       " './train/data/user03/1600192800/RP/1600239660.png',\n",
       " './train/data/user02/1600961640/RP/1600999980.png',\n",
       " './train/data/user04/1599690000/RP/1599699420.png',\n",
       " './train/data/user04/1599085500/RP/1599116580.png',\n",
       " './train/data/user02/1600961640/RP/1601002440.png',\n",
       " './train/data/user04/1600380900/RP/1600403040.png',\n",
       " './train/data/user04/1599690000/RP/1599725940.png',\n",
       " './train/data/user03/1600792200/RP/1600857660.png',\n",
       " './train/data/user04/1600380900/RP/1600407120.png',\n",
       " './train/data/user02/1598972400/RP/1599031560.png',\n",
       " './train/data/user04/1600207800/RP/1600232940.png',\n",
       " './train/data/user02/1600700400/RP/1600734420.png',\n",
       " './train/data/user01/1600315920/RP/1600337400.png',\n",
       " './train/data/user02/1600961640/RP/1600996620.png',\n",
       " './train/data/user03/1600106400/RP/1600139580.png',\n",
       " './train/data/user04/1598912400/RP/1598938860.png',\n",
       " './train/data/user02/1600614000/RP/1600652340.png',\n",
       " './train/data/user03/1600371000/RP/1600401720.png',\n",
       " './train/data/user02/1600614000/RP/1600657080.png',\n",
       " './train/data/user03/1600963200/RP/1601005020.png',\n",
       " './train/data/user03/1600792200/RP/1600848000.png',\n",
       " './train/data/user03/1600192800/RP/1600235760.png',\n",
       " './train/data/user03/1600020000/RP/1600058580.png',\n",
       " './train/data/user04/1600470000/RP/1600501800.png',\n",
       " './train/data/user04/1599522960/RP/1599553680.png',\n",
       " './train/data/user03/1600792200/RP/1600823880.png',\n",
       " './train/data/user04/1600207800/RP/1600241760.png',\n",
       " './train/data/user02/1598972400/RP/1599024240.png',\n",
       " './train/data/user04/1598912400/RP/1598927460.png',\n",
       " './train/data/user04/1599174600/RP/1599202620.png',\n",
       " './train/data/user04/1600380900/RP/1600407180.png',\n",
       " './train/data/user03/1600020000/RP/1600060560.png',\n",
       " './train/data/user04/1599085500/RP/1599111240.png',\n",
       " './train/data/user04/1600558200/RP/1600579920.png',\n",
       " './train/data/user04/1600986000/RP/1601012700.png',\n",
       " './train/data/user03/1600876800/RP/1600913760.png',\n",
       " './train/data/user04/1601163000/RP/1601192760.png',\n",
       " './train/data/user04/1599690000/RP/1599727020.png',\n",
       " './train/data/user04/1600986000/RP/1601018640.png',\n",
       " './train/data/user04/1599085500/RP/1599113760.png',\n",
       " './train/data/user04/1599522960/RP/1599551400.png',\n",
       " './train/data/user02/1600786800/RP/1600847220.png',\n",
       " './train/data/user02/1598886000/RP/1598928360.png',\n",
       " './train/data/user04/1599690000/RP/1599729120.png',\n",
       " './train/data/user04/1600294800/RP/1600326300.png',\n",
       " './train/data/user04/1600380900/RP/1600418040.png',\n",
       " './train/data/user04/1600640400/RP/1600647720.png',\n",
       " './train/data/user04/1600899900/RP/1600934280.png',\n",
       " './train/data/user04/1600380900/RP/1600417080.png',\n",
       " './train/data/user04/1599085500/RP/1599091740.png',\n",
       " './train/data/user02/1600614000/RP/1600663860.png',\n",
       " './train/data/user04/1600294800/RP/1600340880.png',\n",
       " './train/data/user03/1600020000/RP/1600060680.png',\n",
       " './train/data/user02/1600961640/RP/1600998300.png',\n",
       " './train/data/user04/1600207800/RP/1600232400.png',\n",
       " './train/data/user04/1600207800/RP/1600213500.png',\n",
       " './train/data/user02/1599058800/RP/1599119400.png',\n",
       " './train/data/user04/1600899900/RP/1600934520.png',\n",
       " './train/data/user04/1600294800/RP/1600343880.png',\n",
       " './train/data/user04/1600035000/RP/1600061100.png',\n",
       " './train/data/user04/1599430860/RP/1599450660.png',\n",
       " './train/data/user02/1598886000/RP/1598955900.png',\n",
       " './train/data/user03/1600792200/RP/1600841100.png',\n",
       " './train/data/user04/1600380900/RP/1600396440.png',\n",
       " './train/data/user03/1600707600/RP/1600747500.png',\n",
       " './train/data/user04/1600640400/RP/1600662840.png',\n",
       " './train/data/user01/1600527600/RP/1600601220.png',\n",
       " './train/data/user04/1598912400/RP/1598933280.png',\n",
       " './train/data/user04/1598912400/RP/1598929020.png',\n",
       " './train/data/user04/1600470000/RP/1600502940.png',\n",
       " './train/data/user01/1600315920/RP/1600326780.png',\n",
       " './train/data/user04/1599522960/RP/1599524220.png',\n",
       " './train/data/user03/1598886300/RP/1598941200.png',\n",
       " './train/data/user04/1599690000/RP/1599697680.png',\n",
       " './train/data/user04/1600122300/RP/1600155840.png',\n",
       " './train/data/user04/1600207800/RP/1600212900.png',\n",
       " './train/data/user04/1598912400/RP/1598917560.png',\n",
       " './train/data/user04/1599001800/RP/1599024600.png',\n",
       " './train/data/user04/1600035000/RP/1600062240.png',\n",
       " './train/data/user04/1600470000/RP/1600494360.png',\n",
       " './train/data/user04/1598912400/RP/1598928420.png',\n",
       " './train/data/user04/1599522960/RP/1599538860.png',\n",
       " './train/data/user04/1600294800/RP/1600340040.png',\n",
       " './train/data/user01/1600731000/RP/1600735200.png',\n",
       " './train/data/user04/1600899900/RP/1600908780.png',\n",
       " './train/data/user03/1599584400/RP/1599611700.png',\n",
       " './train/data/user04/1599522960/RP/1599542700.png',\n",
       " './train/data/user04/1599522960/RP/1599544920.png',\n",
       " './train/data/user04/1600122300/RP/1600144920.png',\n",
       " './train/data/user02/1600786800/RP/1600820400.png',\n",
       " './train/data/user02/1600700400/RP/1600739160.png',\n",
       " './train/data/user03/1599584400/RP/1599615180.png',\n",
       " './train/data/user04/1600640400/RP/1600662480.png',\n",
       " './train/data/user04/1601163000/RP/1601190180.png',\n",
       " './train/data/user03/1600792200/RP/1600839540.png',\n",
       " './train/data/user04/1600380900/RP/1600419420.png',\n",
       " './train/data/user04/1600899900/RP/1600924500.png',\n",
       " './train/data/user03/1600792200/RP/1600841880.png',\n",
       " './train/data/user01/1599442080/RP/1599448740.png',\n",
       " './train/data/user04/1600380900/RP/1600388940.png',\n",
       " './train/data/user03/1600106400/RP/1600143540.png',\n",
       " './train/data/user04/1600294800/RP/1600322400.png',\n",
       " './train/data/user04/1600380900/RP/1600418880.png',\n",
       " './train/data/user04/1598912400/RP/1598937540.png',\n",
       " './train/data/user04/1600816860/RP/1600852620.png',\n",
       " './train/data/user02/1600700400/RP/1600742400.png',\n",
       " './train/data/user04/1600470000/RP/1600482000.png',\n",
       " './train/data/user03/1600192800/RP/1600231860.png',\n",
       " './train/data/user04/1599001800/RP/1599031560.png',\n",
       " './train/data/user02/1598886000/RP/1598938140.png',\n",
       " './train/data/user04/1598912400/RP/1598944620.png',\n",
       " './train/data/user04/1599174600/RP/1599202380.png',\n",
       " './train/data/user04/1599522960/RP/1599547560.png',\n",
       " './train/data/user03/1598886300/RP/1598937300.png',\n",
       " './train/data/user03/1600876800/RP/1600937460.png',\n",
       " './train/data/user04/1599001800/RP/1599032160.png',\n",
       " './train/data/user02/1600700400/RP/1600754520.png',\n",
       " './train/data/user01/1599890820/RP/1599919800.png',\n",
       " './train/data/user02/1600961640/RP/1601020140.png',\n",
       " './train/data/user02/1599058800/RP/1599131460.png',\n",
       " './train/data/user04/1599522960/RP/1599555000.png',\n",
       " './train/data/user04/1598912400/RP/1598935560.png',\n",
       " './train/data/user02/1600614000/RP/1600663080.png',\n",
       " './train/data/user04/1600899900/RP/1600919460.png',\n",
       " './train/data/user02/1599058800/RP/1599131760.png',\n",
       " './train/data/user03/1600876800/RP/1600909560.png',\n",
       " './train/data/user04/1600122300/RP/1600151640.png',\n",
       " './train/data/user03/1600876800/RP/1600927920.png',\n",
       " './train/data/user04/1598828400/RP/1598839080.png',\n",
       " './train/data/user03/1599058980/RP/1599114480.png',\n",
       " './train/data/user04/1600380900/RP/1600403400.png',\n",
       " './train/data/user03/1600192800/RP/1600233240.png',\n",
       " './train/data/user02/1600700400/RP/1600756260.png',\n",
       " './train/data/user02/1600961640/RP/1601010000.png',\n",
       " './train/data/user04/1599522960/RP/1599549420.png',\n",
       " './train/data/user04/1599085500/RP/1599099900.png',\n",
       " './train/data/user03/1600707600/RP/1600735500.png',\n",
       " './train/data/user02/1600961640/RP/1601007960.png',\n",
       " './train/data/user04/1600035000/RP/1600043940.png',\n",
       " './train/data/user03/1600020000/RP/1600059420.png',\n",
       " './train/data/user04/1599776160/RP/1599798600.png',\n",
       " './train/data/user04/1600380900/RP/1600417440.png',\n",
       " './train/data/user04/1600899900/RP/1600903380.png',\n",
       " './train/data/user04/1599690000/RP/1599718440.png',\n",
       " './train/data/user03/1600707600/RP/1600752180.png',\n",
       " './train/data/user04/1599690000/RP/1599726720.png',\n",
       " './train/data/user03/1599058980/RP/1599108240.png',\n",
       " './train/data/user04/1600207800/RP/1600230000.png',\n",
       " './train/data/user04/1601163000/RP/1601194200.png',\n",
       " './train/data/user01/1599442080/RP/1599448860.png',\n",
       " './train/data/user03/1598986800/RP/1599025200.png',\n",
       " './train/data/user04/1599522960/RP/1599550260.png',\n",
       " './train/data/user04/1598828400/RP/1598844960.png',\n",
       " './train/data/user04/1600294800/RP/1600345560.png',\n",
       " './train/data/user01/1599442080/RP/1599448920.png',\n",
       " './train/data/user04/1600640400/RP/1600646520.png',\n",
       " './train/data/user02/1600614000/RP/1600653120.png',\n",
       " './train/data/user02/1599146220/RP/1599211620.png',\n",
       " './train/data/user02/1600700400/RP/1600749480.png',\n",
       " './train/data/user04/1599690000/RP/1599727860.png',\n",
       " './train/data/user04/1601163000/RP/1601174940.png',\n",
       " './train/data/user03/1600876800/RP/1600918380.png',\n",
       " './train/data/user04/1598828400/RP/1598861820.png',\n",
       " './train/data/user02/1598972400/RP/1599024000.png',\n",
       " './train/data/user04/1599085500/RP/1599122820.png',\n",
       " './train/data/user04/1599776160/RP/1599783180.png',\n",
       " './train/data/user04/1600899900/RP/1600935480.png',\n",
       " './train/data/user03/1600020000/RP/1600062660.png',\n",
       " './train/data/user02/1600700400/RP/1600758360.png',\n",
       " './train/data/user03/1600876800/RP/1600934340.png',\n",
       " './train/data/user03/1600792200/RP/1600819560.png',\n",
       " './train/data/user04/1600986000/RP/1601019420.png',\n",
       " './train/data/user04/1600726800/RP/1600772400.png',\n",
       " './train/data/user04/1600380900/RP/1600406340.png',\n",
       " './train/data/user03/1600106400/RP/1600156380.png',\n",
       " './train/data/user02/1598886000/RP/1598939220.png',\n",
       " './train/data/user03/1600192800/RP/1600239480.png',\n",
       " './train/data/user03/1600192800/RP/1600238580.png',\n",
       " './train/data/user04/1600726800/RP/1600763520.png',\n",
       " './train/data/user04/1600122300/RP/1600153260.png',\n",
       " './train/data/user04/1599085500/RP/1599092160.png',\n",
       " './train/data/user02/1600961640/RP/1600994820.png',\n",
       " './train/data/user04/1599347400/RP/1599373560.png',\n",
       " './train/data/user01/1600831800/RP/1600852320.png',\n",
       " './train/data/user04/1599430860/RP/1599449880.png',\n",
       " './train/data/user04/1600122300/RP/1600146120.png',\n",
       " './train/data/user03/1600876800/RP/1600935060.png',\n",
       " './train/data/user04/1600640400/RP/1600675980.png',\n",
       " './train/data/user04/1601163000/RP/1601194980.png',\n",
       " './train/data/user02/1600786800/RP/1600840680.png',\n",
       " './train/data/user03/1600106400/RP/1600143780.png',\n",
       " './train/data/user04/1600207800/RP/1600233900.png',\n",
       " './train/data/user04/1600986000/RP/1601022840.png',\n",
       " './train/data/user04/1600726800/RP/1600776780.png',\n",
       " './train/data/user04/1600726800/RP/1600752300.png',\n",
       " './train/data/user04/1600726800/RP/1600736220.png',\n",
       " './train/data/user03/1600792200/RP/1600842900.png',\n",
       " './train/data/user03/1600792200/RP/1600847640.png',\n",
       " './train/data/user04/1599690000/RP/1599716460.png',\n",
       " './train/data/user04/1601163000/RP/1601187480.png',\n",
       " './train/data/user02/1599058800/RP/1599108660.png',\n",
       " './train/data/user04/1600816860/RP/1600853520.png',\n",
       " './train/data/user03/1600876800/RP/1600907640.png',\n",
       " './train/data/user02/1600786800/RP/1600835040.png',\n",
       " './train/data/user04/1600207800/RP/1600238520.png',\n",
       " './train/data/user03/1600106400/RP/1600147020.png',\n",
       " './train/data/user04/1599522960/RP/1599524340.png',\n",
       " './train/data/user04/1600816860/RP/1600849860.png',\n",
       " './train/data/user04/1599430860/RP/1599445020.png',\n",
       " './train/data/user01/1600450920/RP/1600501440.png',\n",
       " './train/data/user04/1598828400/RP/1598861100.png',\n",
       " './train/data/user02/1599058800/RP/1599123120.png',\n",
       " './train/data/user04/1600207800/RP/1600232160.png',\n",
       " './train/data/user02/1599058800/RP/1599095160.png',\n",
       " './train/data/user02/1600614000/RP/1600661040.png',\n",
       " './train/data/user04/1600726800/RP/1600731840.png',\n",
       " './train/data/user04/1600640400/RP/1600674720.png',\n",
       " './train/data/user04/1600986000/RP/1601009820.png',\n",
       " './train/data/user02/1600700400/RP/1600733700.png',\n",
       " './train/data/user04/1599430860/RP/1599469140.png',\n",
       " './train/data/user01/1599442080/RP/1599461040.png',\n",
       " './train/data/user04/1600122300/RP/1600142580.png',\n",
       " './train/data/user02/1599146220/RP/1599211200.png',\n",
       " './train/data/user02/1600961640/RP/1601023380.png',\n",
       " './train/data/user04/1600294800/RP/1600322100.png',\n",
       " './train/data/user02/1598886000/RP/1598921580.png',\n",
       " './train/data/user04/1600726800/RP/1600752780.png',\n",
       " './train/data/user02/1600614000/RP/1600664880.png',\n",
       " './train/data/user03/1600792200/RP/1600855320.png',\n",
       " './train/data/user03/1599058980/RP/1599113580.png',\n",
       " './train/data/user02/1599058800/RP/1599131400.png',\n",
       " './train/data/user04/1600986000/RP/1601016900.png',\n",
       " './train/data/user03/1600707600/RP/1600762140.png',\n",
       " './train/data/user02/1599058800/RP/1599113220.png',\n",
       " './train/data/user03/1599422400/RP/1599484680.png',\n",
       " './train/data/user04/1600470000/RP/1600502880.png',\n",
       " './train/data/user04/1600380900/RP/1600386600.png',\n",
       " './train/data/user04/1599174600/RP/1599194640.png',\n",
       " './train/data/user01/1599922800/RP/1599975840.png',\n",
       " './train/data/user04/1600294800/RP/1600338660.png',\n",
       " './train/data/user03/1599058980/RP/1599105900.png',\n",
       " './train/data/user04/1598828400/RP/1598850060.png',\n",
       " './train/data/user04/1598912400/RP/1598925420.png',\n",
       " './train/data/user03/1600876800/RP/1600927200.png',\n",
       " './train/data/user03/1599584400/RP/1599617880.png',\n",
       " './train/data/user04/1598828400/RP/1598855640.png',\n",
       " './train/data/user04/1600899900/RP/1600932300.png',\n",
       " './train/data/user04/1600726800/RP/1600753920.png',\n",
       " './train/data/user02/1598886000/RP/1598961300.png',\n",
       " './train/data/user02/1598972400/RP/1599021600.png',\n",
       " './train/data/user04/1600986000/RP/1600996260.png',\n",
       " './train/data/user03/1598986800/RP/1599029520.png',\n",
       " './train/data/user04/1600294800/RP/1600329360.png',\n",
       " './train/data/user04/1600726800/RP/1600735080.png',\n",
       " './train/data/user01/1599269580/RP/1599287580.png',\n",
       " './train/data/user02/1598886000/RP/1598946540.png',\n",
       " './train/data/user02/1600700400/RP/1600747260.png',\n",
       " './train/data/user04/1598828400/RP/1598864400.png',\n",
       " './train/data/user01/1600450920/RP/1600503480.png',\n",
       " './train/data/user03/1600192800/RP/1600239060.png',\n",
       " './train/data/user04/1599690000/RP/1599699000.png',\n",
       " './train/data/user04/1599085500/RP/1599119160.png',\n",
       " './train/data/user03/1600707600/RP/1600755660.png',\n",
       " './train/data/user04/1600122300/RP/1600158300.png',\n",
       " './train/data/user02/1600786800/RP/1600848000.png',\n",
       " './train/data/user04/1599430860/RP/1599438420.png',\n",
       " './train/data/user04/1600122300/RP/1600152840.png',\n",
       " './train/data/user02/1599058800/RP/1599096780.png',\n",
       " './train/data/user03/1600792200/RP/1600859760.png',\n",
       " './train/data/user04/1600380900/RP/1600385880.png',\n",
       " './train/data/user04/1599085500/RP/1599110700.png',\n",
       " './train/data/user02/1600786800/RP/1600849020.png',\n",
       " './train/data/user02/1600700400/RP/1600761000.png',\n",
       " './train/data/user03/1599422400/RP/1599473580.png',\n",
       " './train/data/user04/1600899900/RP/1600934100.png',\n",
       " './train/data/user04/1599085500/RP/1599111900.png',\n",
       " './train/data/user04/1599690000/RP/1599715560.png',\n",
       " './train/data/user02/1600961640/RP/1601010300.png',\n",
       " './train/data/user04/1600726800/RP/1600736100.png',\n",
       " './train/data/user04/1599430860/RP/1599461700.png',\n",
       " './train/data/user03/1599584400/RP/1599615060.png',\n",
       " './train/data/user03/1600371000/RP/1600409100.png',\n",
       " './train/data/user04/1600726800/RP/1600738500.png',\n",
       " './train/data/user02/1600786800/RP/1600819920.png',\n",
       " './train/data/user03/1600192800/RP/1600241640.png',\n",
       " './train/data/user04/1599690000/RP/1599721380.png',\n",
       " './train/data/user02/1600700400/RP/1600747380.png',\n",
       " './train/data/user03/1600792200/RP/1600835040.png',\n",
       " './train/data/user03/1600707600/RP/1600735140.png',\n",
       " './train/data/user03/1600792200/RP/1600833420.png',\n",
       " './train/data/user04/1600640400/RP/1600667280.png',\n",
       " './train/data/user01/1599442080/RP/1599460440.png',\n",
       " './train/data/user04/1600122300/RP/1600142880.png',\n",
       " './train/data/user02/1600614000/RP/1600680720.png',\n",
       " './train/data/user04/1600122300/RP/1600144980.png',\n",
       " './train/data/user03/1600192800/RP/1600241040.png',\n",
       " './train/data/user03/1600106400/RP/1600145160.png',\n",
       " './train/data/user03/1600707600/RP/1600757220.png',\n",
       " './train/data/user04/1600899900/RP/1600926900.png',\n",
       " './train/data/user01/1600450920/RP/1600510200.png',\n",
       " './train/data/user04/1599430860/RP/1599459780.png',\n",
       " './train/data/user04/1600726800/RP/1600732680.png',\n",
       " './train/data/user01/1599442080/RP/1599461220.png',\n",
       " './train/data/user02/1598972400/RP/1599008340.png',\n",
       " './train/data/user02/1600786800/RP/1600823220.png',\n",
       " './train/data/user03/1600707600/RP/1600747380.png',\n",
       " './train/data/user04/1599522960/RP/1599544380.png',\n",
       " './train/data/user03/1600876800/RP/1600928400.png',\n",
       " './train/data/user04/1600207800/RP/1600230360.png',\n",
       " './train/data/user02/1600786800/RP/1600823340.png',\n",
       " './train/data/user03/1600792200/RP/1600823520.png',\n",
       " './train/data/user04/1599690000/RP/1599717000.png',\n",
       " './train/data/user03/1599584400/RP/1599620940.png',\n",
       " './train/data/user04/1599085500/RP/1599126720.png',\n",
       " './train/data/user02/1598886000/RP/1598938740.png',\n",
       " './train/data/user04/1600726800/RP/1600746060.png',\n",
       " './train/data/user02/1598886000/RP/1598934060.png',\n",
       " './train/data/user02/1600614000/RP/1600684980.png',\n",
       " './train/data/user03/1599584400/RP/1599610980.png',\n",
       " './train/data/user01/1600731000/RP/1600737060.png',\n",
       " './train/data/user03/1599510360/RP/1599555000.png',\n",
       " './train/data/user04/1600986000/RP/1601006880.png',\n",
       " './train/data/user04/1600816860/RP/1600840740.png',\n",
       " './train/data/user02/1600786800/RP/1600843980.png',\n",
       " './train/data/user04/1599085500/RP/1599109560.png',\n",
       " './train/data/user04/1600726800/RP/1600776600.png',\n",
       " './train/data/user04/1599085500/RP/1599116220.png',\n",
       " './train/data/user04/1599174600/RP/1599197820.png',\n",
       " './train/data/user02/1599146220/RP/1599208800.png',\n",
       " './train/data/user04/1600986000/RP/1601006640.png',\n",
       " './train/data/user02/1600786800/RP/1600822800.png',\n",
       " './train/data/user03/1600876800/RP/1600917180.png',\n",
       " './train/data/user04/1598828400/RP/1598838600.png',\n",
       " './train/data/user04/1599001800/RP/1599023580.png',\n",
       " './train/data/user04/1599174600/RP/1599197460.png',\n",
       " './train/data/user04/1600380900/RP/1600395960.png',\n",
       " './train/data/user03/1600707600/RP/1600740660.png',\n",
       " './train/data/user03/1600106400/RP/1600149420.png',\n",
       " './train/data/user03/1599584400/RP/1599612120.png',\n",
       " './train/data/user04/1599174600/RP/1599190380.png',\n",
       " './train/data/user04/1599776160/RP/1599789900.png',\n",
       " './train/data/user04/1599085500/RP/1599109200.png',\n",
       " './train/data/user03/1600963200/RP/1601007900.png',\n",
       " './train/data/user03/1600707600/RP/1600738440.png',\n",
       " './train/data/user04/1600640400/RP/1600668480.png',\n",
       " './train/data/user02/1600961640/RP/1600992480.png',\n",
       " './train/data/user04/1599690000/RP/1599720660.png',\n",
       " './train/data/user02/1600786800/RP/1600822380.png',\n",
       " './train/data/user04/1600726800/RP/1600772940.png',\n",
       " './train/data/user04/1599776160/RP/1599788220.png',\n",
       " './train/data/user01/1600315920/RP/1600331340.png',\n",
       " './train/data/user04/1599347400/RP/1599375660.png',\n",
       " './train/data/user02/1599058800/RP/1599095400.png',\n",
       " './train/data/user04/1600816860/RP/1600846140.png',\n",
       " './train/data/user04/1599430860/RP/1599457740.png',\n",
       " './train/data/user04/1600470000/RP/1600480920.png',\n",
       " './train/data/user04/1600035000/RP/1600072860.png',\n",
       " './train/data/user03/1600963200/RP/1601002980.png',\n",
       " './train/data/user04/1600726800/RP/1600753620.png',\n",
       " './train/data/user02/1599058800/RP/1599111600.png',\n",
       " './train/data/user04/1600294800/RP/1600335900.png',\n",
       " './train/data/user02/1598886000/RP/1598961840.png',\n",
       " './train/data/user04/1600899900/RP/1600924740.png',\n",
       " './train/data/user03/1600707600/RP/1600752720.png',\n",
       " './train/data/user04/1598912400/RP/1598934360.png',\n",
       " './train/data/user02/1598886000/RP/1598959440.png',\n",
       " './train/data/user04/1599430860/RP/1599466320.png',\n",
       " './train/data/user03/1600106400/RP/1600143240.png',\n",
       " './train/data/user04/1598912400/RP/1598944320.png',\n",
       " './train/data/user04/1600986000/RP/1600990620.png',\n",
       " './train/data/user03/1600106400/RP/1600154460.png',\n",
       " './train/data/user02/1598972400/RP/1599041880.png',\n",
       " './train/data/user04/1600470000/RP/1600490820.png',\n",
       " './train/data/user03/1600963200/RP/1601006160.png',\n",
       " './train/data/user04/1600470000/RP/1600501500.png',\n",
       " './train/data/user03/1600707600/RP/1600735080.png',\n",
       " './train/data/user03/1600792200/RP/1600847580.png',\n",
       " './train/data/user04/1599001800/RP/1599031080.png',\n",
       " './train/data/user04/1600035000/RP/1600058280.png',\n",
       " './train/data/user04/1600035000/RP/1600074000.png',\n",
       " './train/data/user03/1600106400/RP/1600139700.png',\n",
       " './train/data/user04/1600640400/RP/1600650840.png',\n",
       " './train/data/user04/1599085500/RP/1599111480.png',\n",
       " './train/data/user04/1600122300/RP/1600153500.png']"
      ]
     },
     "execution_count": 12,
     "metadata": {},
     "output_type": "execute_result"
    }
   ],
   "source": [
    "tmp"
   ]
  },
  {
   "cell_type": "code",
   "execution_count": 13,
   "id": "2c037a45",
   "metadata": {},
   "outputs": [],
   "source": [
    "img_path_list = []"
   ]
  },
  {
   "cell_type": "code",
   "execution_count": 14,
   "id": "979bcaed",
   "metadata": {},
   "outputs": [],
   "source": [
    "for i in range(15):\n",
    "    path_list = list(train_df[train_df['action']==i]['img_path'])\n",
    "    if len(path_list) >= 500:\n",
    "        tmp = random.sample(path_list, 500)\n",
    "        for i in tmp:\n",
    "            img_path_list.append(i)\n",
    "    else:\n",
    "        for i in path_list:\n",
    "            img_path_list.append(i)"
   ]
  },
  {
   "cell_type": "code",
   "execution_count": 15,
   "id": "f789c220",
   "metadata": {},
   "outputs": [
    {
     "data": {
      "text/html": [
       "<div>\n",
       "<style scoped>\n",
       "    .dataframe tbody tr th:only-of-type {\n",
       "        vertical-align: middle;\n",
       "    }\n",
       "\n",
       "    .dataframe tbody tr th {\n",
       "        vertical-align: top;\n",
       "    }\n",
       "\n",
       "    .dataframe thead th {\n",
       "        text-align: right;\n",
       "    }\n",
       "</style>\n",
       "<table border=\"1\" class=\"dataframe\">\n",
       "  <thead>\n",
       "    <tr style=\"text-align: right;\">\n",
       "      <th></th>\n",
       "      <th>img_path</th>\n",
       "    </tr>\n",
       "  </thead>\n",
       "  <tbody>\n",
       "    <tr>\n",
       "      <th>0</th>\n",
       "      <td>./train/data/user01/1601166300/RP/1601173320.png</td>\n",
       "    </tr>\n",
       "    <tr>\n",
       "      <th>1</th>\n",
       "      <td>./train/data/user01/1601166300/RP/1601172960.png</td>\n",
       "    </tr>\n",
       "    <tr>\n",
       "      <th>2</th>\n",
       "      <td>./train/data/user01/1601166300/RP/1601173140.png</td>\n",
       "    </tr>\n",
       "    <tr>\n",
       "      <th>3</th>\n",
       "      <td>./train/data/user01/1601166300/RP/1601173560.png</td>\n",
       "    </tr>\n",
       "    <tr>\n",
       "      <th>4</th>\n",
       "      <td>./train/data/user01/1601166300/RP/1601173620.png</td>\n",
       "    </tr>\n",
       "    <tr>\n",
       "      <th>...</th>\n",
       "      <td>...</td>\n",
       "    </tr>\n",
       "    <tr>\n",
       "      <th>6070</th>\n",
       "      <td>./train/data/user03/1600792200/RP/1600841280.png</td>\n",
       "    </tr>\n",
       "    <tr>\n",
       "      <th>6071</th>\n",
       "      <td>./train/data/user04/1600207800/RP/1600218600.png</td>\n",
       "    </tr>\n",
       "    <tr>\n",
       "      <th>6072</th>\n",
       "      <td>./train/data/user04/1599522960/RP/1599552060.png</td>\n",
       "    </tr>\n",
       "    <tr>\n",
       "      <th>6073</th>\n",
       "      <td>./train/data/user03/1598886300/RP/1598941020.png</td>\n",
       "    </tr>\n",
       "    <tr>\n",
       "      <th>6074</th>\n",
       "      <td>./train/data/user02/1598886000/RP/1598946720.png</td>\n",
       "    </tr>\n",
       "  </tbody>\n",
       "</table>\n",
       "<p>6075 rows × 1 columns</p>\n",
       "</div>"
      ],
      "text/plain": [
       "                                              img_path\n",
       "0     ./train/data/user01/1601166300/RP/1601173320.png\n",
       "1     ./train/data/user01/1601166300/RP/1601172960.png\n",
       "2     ./train/data/user01/1601166300/RP/1601173140.png\n",
       "3     ./train/data/user01/1601166300/RP/1601173560.png\n",
       "4     ./train/data/user01/1601166300/RP/1601173620.png\n",
       "...                                                ...\n",
       "6070  ./train/data/user03/1600792200/RP/1600841280.png\n",
       "6071  ./train/data/user04/1600207800/RP/1600218600.png\n",
       "6072  ./train/data/user04/1599522960/RP/1599552060.png\n",
       "6073  ./train/data/user03/1598886300/RP/1598941020.png\n",
       "6074  ./train/data/user02/1598886000/RP/1598946720.png\n",
       "\n",
       "[6075 rows x 1 columns]"
      ]
     },
     "execution_count": 15,
     "metadata": {},
     "output_type": "execute_result"
    }
   ],
   "source": [
    "df = pd.DataFrame(img_path_list)\n",
    "df.columns = ['img_path']\n",
    "df"
   ]
  },
  {
   "cell_type": "code",
   "execution_count": 16,
   "id": "e665b935",
   "metadata": {},
   "outputs": [
    {
     "data": {
      "text/html": [
       "<div>\n",
       "<style scoped>\n",
       "    .dataframe tbody tr th:only-of-type {\n",
       "        vertical-align: middle;\n",
       "    }\n",
       "\n",
       "    .dataframe tbody tr th {\n",
       "        vertical-align: top;\n",
       "    }\n",
       "\n",
       "    .dataframe thead th {\n",
       "        text-align: right;\n",
       "    }\n",
       "</style>\n",
       "<table border=\"1\" class=\"dataframe\">\n",
       "  <thead>\n",
       "    <tr style=\"text-align: right;\">\n",
       "      <th></th>\n",
       "      <th>Unnamed: 0</th>\n",
       "      <th>ts</th>\n",
       "      <th>action</th>\n",
       "      <th>img_path</th>\n",
       "    </tr>\n",
       "  </thead>\n",
       "  <tbody>\n",
       "    <tr>\n",
       "      <th>0</th>\n",
       "      <td>35</td>\n",
       "      <td>1.598878e+09</td>\n",
       "      <td>12</td>\n",
       "      <td>./train/data/user01/1598832660/RP/1598878440.png</td>\n",
       "    </tr>\n",
       "    <tr>\n",
       "      <th>1</th>\n",
       "      <td>7447</td>\n",
       "      <td>1.601106e+09</td>\n",
       "      <td>10</td>\n",
       "      <td>./train/data/user01/1601085900/RP/1601105520.png</td>\n",
       "    </tr>\n",
       "    <tr>\n",
       "      <th>2</th>\n",
       "      <td>10644</td>\n",
       "      <td>1.599904e+09</td>\n",
       "      <td>10</td>\n",
       "      <td>./train/data/user02/1599893100/RP/1599903840.png</td>\n",
       "    </tr>\n",
       "    <tr>\n",
       "      <th>3</th>\n",
       "      <td>34985</td>\n",
       "      <td>1.599693e+09</td>\n",
       "      <td>13</td>\n",
       "      <td>./train/data/user04/1599690000/RP/1599692940.png</td>\n",
       "    </tr>\n",
       "    <tr>\n",
       "      <th>4</th>\n",
       "      <td>9987</td>\n",
       "      <td>1.599104e+09</td>\n",
       "      <td>4</td>\n",
       "      <td>./train/data/user02/1599058800/RP/1599103620.png</td>\n",
       "    </tr>\n",
       "    <tr>\n",
       "      <th>...</th>\n",
       "      <td>...</td>\n",
       "      <td>...</td>\n",
       "      <td>...</td>\n",
       "      <td>...</td>\n",
       "    </tr>\n",
       "    <tr>\n",
       "      <th>6070</th>\n",
       "      <td>6479</td>\n",
       "      <td>1.600865e+09</td>\n",
       "      <td>12</td>\n",
       "      <td>./train/data/user01/1600831800/RP/1600864620.png</td>\n",
       "    </tr>\n",
       "    <tr>\n",
       "      <th>6071</th>\n",
       "      <td>13877</td>\n",
       "      <td>1.601099e+09</td>\n",
       "      <td>6</td>\n",
       "      <td>./train/data/user02/1601046000/RP/1601098980.png</td>\n",
       "    </tr>\n",
       "    <tr>\n",
       "      <th>6072</th>\n",
       "      <td>16350</td>\n",
       "      <td>1.599290e+09</td>\n",
       "      <td>3</td>\n",
       "      <td>./train/data/user03/1599231660/RP/1599289560.png</td>\n",
       "    </tr>\n",
       "    <tr>\n",
       "      <th>6073</th>\n",
       "      <td>39489</td>\n",
       "      <td>1.600260e+09</td>\n",
       "      <td>5</td>\n",
       "      <td>./train/data/user04/1600207800/RP/1600259700.png</td>\n",
       "    </tr>\n",
       "    <tr>\n",
       "      <th>6074</th>\n",
       "      <td>36686</td>\n",
       "      <td>1.599885e+09</td>\n",
       "      <td>7</td>\n",
       "      <td>./train/data/user04/1599859800/RP/1599884880.png</td>\n",
       "    </tr>\n",
       "  </tbody>\n",
       "</table>\n",
       "<p>6075 rows × 4 columns</p>\n",
       "</div>"
      ],
      "text/plain": [
       "      Unnamed: 0            ts  action  \\\n",
       "0             35  1.598878e+09      12   \n",
       "1           7447  1.601106e+09      10   \n",
       "2          10644  1.599904e+09      10   \n",
       "3          34985  1.599693e+09      13   \n",
       "4           9987  1.599104e+09       4   \n",
       "...          ...           ...     ...   \n",
       "6070        6479  1.600865e+09      12   \n",
       "6071       13877  1.601099e+09       6   \n",
       "6072       16350  1.599290e+09       3   \n",
       "6073       39489  1.600260e+09       5   \n",
       "6074       36686  1.599885e+09       7   \n",
       "\n",
       "                                              img_path  \n",
       "0     ./train/data/user01/1598832660/RP/1598878440.png  \n",
       "1     ./train/data/user01/1601085900/RP/1601105520.png  \n",
       "2     ./train/data/user02/1599893100/RP/1599903840.png  \n",
       "3     ./train/data/user04/1599690000/RP/1599692940.png  \n",
       "4     ./train/data/user02/1599058800/RP/1599103620.png  \n",
       "...                                                ...  \n",
       "6070  ./train/data/user01/1600831800/RP/1600864620.png  \n",
       "6071  ./train/data/user02/1601046000/RP/1601098980.png  \n",
       "6072  ./train/data/user03/1599231660/RP/1599289560.png  \n",
       "6073  ./train/data/user04/1600207800/RP/1600259700.png  \n",
       "6074  ./train/data/user04/1599859800/RP/1599884880.png  \n",
       "\n",
       "[6075 rows x 4 columns]"
      ]
     },
     "execution_count": 16,
     "metadata": {},
     "output_type": "execute_result"
    }
   ],
   "source": [
    "path_label_df = pd.merge(train_df, df, on='img_path', how='inner')\n",
    "path_label_df"
   ]
  },
  {
   "cell_type": "code",
   "execution_count": 17,
   "id": "bee399bf",
   "metadata": {},
   "outputs": [
    {
     "data": {
      "text/plain": [
       "10    500\n",
       "13    500\n",
       "4     500\n",
       "11    500\n",
       "3     500\n",
       "6     500\n",
       "14    500\n",
       "7     500\n",
       "5     500\n",
       "8     500\n",
       "12    465\n",
       "2     392\n",
       "9     184\n",
       "0      28\n",
       "1       6\n",
       "Name: action, dtype: int64"
      ]
     },
     "execution_count": 17,
     "metadata": {},
     "output_type": "execute_result"
    }
   ],
   "source": [
    "path_label_df['action'].value_counts()"
   ]
  },
  {
   "cell_type": "code",
   "execution_count": 18,
   "id": "392e1c46",
   "metadata": {},
   "outputs": [],
   "source": [
    "train, val, _, _ = train_test_split(path_label_df, path_label_df['action'], test_size=0.1, random_state=CFG['SEED'])"
   ]
  },
  {
   "cell_type": "code",
   "execution_count": 19,
   "id": "d5c86927",
   "metadata": {},
   "outputs": [],
   "source": [
    "tfms = A.Compose([\n",
    "    A.Resize(width=CFG['IMG_SIZE'], height=CFG['IMG_SIZE']),\n",
    "    A.Normalize()\n",
    "], p=1)"
   ]
  },
  {
   "cell_type": "code",
   "execution_count": 20,
   "id": "f86628c6",
   "metadata": {},
   "outputs": [],
   "source": [
    "class CustomDataset(Dataset):\n",
    "    def __init__(self, df, rp_path_list, label_list, tfms=None):\n",
    "        super().__init__()\n",
    "        self.df = df\n",
    "        self.rp_path_list = rp_path_list\n",
    "        self.label_list = label_list\n",
    "        self.tfms=tfms\n",
    "    \n",
    "    def __len__(self):\n",
    "        return len(self.rp_path_list)\n",
    "    \n",
    "    def __getitem__(self, idx):\n",
    "        img = cv2.imread(self.rp_path_list[idx])\n",
    "        img = cv2.cvtColor(img, cv2.COLOR_BGR2RGB)\n",
    "        image = self.tfms(image=img)['image']\n",
    "        image = torch.tensor(np.array(image)).permute(2, 0, 1)\n",
    "        \n",
    "        if self.label_list is not None:\n",
    "            label = self.label_list[idx]\n",
    "            return image, label\n",
    "        else:\n",
    "            return image"
   ]
  },
  {
   "cell_type": "code",
   "execution_count": 21,
   "id": "0adae7ba",
   "metadata": {},
   "outputs": [],
   "source": [
    "train_dataset = CustomDataset(df=train, rp_path_list=train['img_path'].values, label_list=train['action'].values, tfms=tfms)\n",
    "train_loader = DataLoader(train_dataset, batch_size = CFG['BATCH_SIZE'], shuffle=True, num_workers=0)\n",
    "\n",
    "val_dataset = CustomDataset(df=val,rp_path_list=val['img_path'].values, label_list=val['action'].values, tfms=tfms)\n",
    "val_loader = DataLoader(val_dataset, batch_size = CFG['BATCH_SIZE'], shuffle=False, num_workers=0)"
   ]
  },
  {
   "cell_type": "code",
   "execution_count": 22,
   "id": "94f86f91",
   "metadata": {},
   "outputs": [],
   "source": [
    "class FocalLoss(nn.Module):\n",
    "    def __init__(self, weight=None, gamma=2, reduction='mean'):\n",
    "        super(FocalLoss, self).__init__()\n",
    "        self.weight = weight\n",
    "        self.gamma = gamma\n",
    "        self.reduction = reduction\n",
    "\n",
    "    def forward(self, inputs, targets):\n",
    "        ce_loss = F.cross_entropy(inputs, targets, weight=self.weight, reduction=self.reduction)\n",
    "        pt = torch.exp(-ce_loss)\n",
    "        focal_loss = ((1-pt)**self.gamma * ce_loss).mean()\n",
    "        return focal_loss"
   ]
  },
  {
   "cell_type": "code",
   "execution_count": 23,
   "id": "d3724661",
   "metadata": {},
   "outputs": [],
   "source": [
    "def train(model, optimizer, train_loader, val_loader, scheduler, device):\n",
    "    model.to(device)\n",
    "    criterion = FocalLoss().to(device)\n",
    "    \n",
    "    best_val_score = 0\n",
    "    best_model = None\n",
    "    \n",
    "    for epoch in range(1, CFG['EPOCHS']+1):\n",
    "        model.train()\n",
    "        train_loss = []\n",
    "        for images, labels in tqdm(iter(train_loader)):\n",
    "            images = images.to(device)\n",
    "            labels = labels.to(device)\n",
    "            \n",
    "            optimizer.zero_grad()\n",
    "            \n",
    "            output = model(images)\n",
    "            loss = criterion(output, labels)\n",
    "            \n",
    "            loss.backward()\n",
    "            optimizer.step()\n",
    "            \n",
    "            train_loss.append(loss.item())\n",
    "                    \n",
    "        _val_loss, _val_score = validation(model, criterion, val_loader, device)\n",
    "        _train_loss = np.mean(train_loss)\n",
    "        print(f'Epoch [{epoch}], Train Loss : [{_train_loss:.5f}] Val Loss : [{_val_loss:.5f}] Val F1 : [{_val_score:.5f}]')\n",
    "        \n",
    "        if scheduler is not None:\n",
    "            scheduler.step(_val_score)\n",
    "            \n",
    "        if best_val_score < _val_score:\n",
    "            best_val_score = _val_score\n",
    "            best_model = model\n",
    "    \n",
    "    return best_model"
   ]
  },
  {
   "cell_type": "code",
   "execution_count": 24,
   "id": "3eb09fa1",
   "metadata": {},
   "outputs": [],
   "source": [
    "def validation(model, criterion, val_loader, device):\n",
    "    model.eval()\n",
    "    val_loss = []\n",
    "    preds, trues = [], []\n",
    "    \n",
    "    with torch.no_grad():\n",
    "        for images, labels in tqdm(iter(val_loader)):\n",
    "            images = images.to(device)\n",
    "            labels = labels.to(device)\n",
    "            \n",
    "            logit = model(images)\n",
    "            \n",
    "            loss = criterion(logit, labels)\n",
    "            \n",
    "            val_loss.append(loss.item())\n",
    "            \n",
    "            preds += logit.argmax(1).detach().cpu().numpy().tolist()\n",
    "            trues += labels.detach().cpu().numpy().tolist()\n",
    "        \n",
    "        _val_loss = np.mean(val_loss)\n",
    "    \n",
    "    _val_score = f1_score(trues, preds, average='micro')\n",
    "    return _val_loss, _val_score"
   ]
  },
  {
   "cell_type": "code",
   "execution_count": 25,
   "id": "1822c2eb",
   "metadata": {
    "scrolled": false
   },
   "outputs": [
    {
     "data": {
      "application/vnd.jupyter.widget-view+json": {
       "model_id": "a128f493cab244e2942c4739000f59b2",
       "version_major": 2,
       "version_minor": 0
      },
      "text/plain": [
       "  0%|          | 0/456 [00:00<?, ?it/s]"
      ]
     },
     "metadata": {},
     "output_type": "display_data"
    },
    {
     "data": {
      "application/vnd.jupyter.widget-view+json": {
       "model_id": "0d37e565177c4a138d14faa2615c08a2",
       "version_major": 2,
       "version_minor": 0
      },
      "text/plain": [
       "  0%|          | 0/51 [00:00<?, ?it/s]"
      ]
     },
     "metadata": {},
     "output_type": "display_data"
    },
    {
     "name": "stdout",
     "output_type": "stream",
     "text": [
      "Epoch [1], Train Loss : [2.21677] Val Loss : [2.16966] Val F1 : [0.11513]\n"
     ]
    },
    {
     "data": {
      "application/vnd.jupyter.widget-view+json": {
       "model_id": "34944babcd7548e69bb25b655ec0e516",
       "version_major": 2,
       "version_minor": 0
      },
      "text/plain": [
       "  0%|          | 0/456 [00:00<?, ?it/s]"
      ]
     },
     "metadata": {},
     "output_type": "display_data"
    },
    {
     "data": {
      "application/vnd.jupyter.widget-view+json": {
       "model_id": "e8de1b7130594641b68a16eac053c33e",
       "version_major": 2,
       "version_minor": 0
      },
      "text/plain": [
       "  0%|          | 0/51 [00:00<?, ?it/s]"
      ]
     },
     "metadata": {},
     "output_type": "display_data"
    },
    {
     "name": "stdout",
     "output_type": "stream",
     "text": [
      "Epoch [2], Train Loss : [2.09416] Val Loss : [2.06123] Val F1 : [0.15461]\n"
     ]
    },
    {
     "data": {
      "application/vnd.jupyter.widget-view+json": {
       "model_id": "e5462d86d23c48f6884bc3e164ea42a1",
       "version_major": 2,
       "version_minor": 0
      },
      "text/plain": [
       "  0%|          | 0/456 [00:00<?, ?it/s]"
      ]
     },
     "metadata": {},
     "output_type": "display_data"
    },
    {
     "data": {
      "application/vnd.jupyter.widget-view+json": {
       "model_id": "816d5c4a750f4661aedc72a988c85545",
       "version_major": 2,
       "version_minor": 0
      },
      "text/plain": [
       "  0%|          | 0/51 [00:00<?, ?it/s]"
      ]
     },
     "metadata": {},
     "output_type": "display_data"
    },
    {
     "name": "stdout",
     "output_type": "stream",
     "text": [
      "Epoch [3], Train Loss : [2.03929] Val Loss : [2.09293] Val F1 : [0.12829]\n"
     ]
    },
    {
     "data": {
      "application/vnd.jupyter.widget-view+json": {
       "model_id": "296eda3055784039be8b1164799e8688",
       "version_major": 2,
       "version_minor": 0
      },
      "text/plain": [
       "  0%|          | 0/456 [00:00<?, ?it/s]"
      ]
     },
     "metadata": {},
     "output_type": "display_data"
    },
    {
     "data": {
      "application/vnd.jupyter.widget-view+json": {
       "model_id": "978d2a1d28044a7e808489311da055f4",
       "version_major": 2,
       "version_minor": 0
      },
      "text/plain": [
       "  0%|          | 0/51 [00:00<?, ?it/s]"
      ]
     },
     "metadata": {},
     "output_type": "display_data"
    },
    {
     "name": "stdout",
     "output_type": "stream",
     "text": [
      "Epoch [4], Train Loss : [2.01349] Val Loss : [2.02443] Val F1 : [0.15789]\n"
     ]
    },
    {
     "data": {
      "application/vnd.jupyter.widget-view+json": {
       "model_id": "8b9e68d9276c44f18342a10ff7f313ef",
       "version_major": 2,
       "version_minor": 0
      },
      "text/plain": [
       "  0%|          | 0/456 [00:00<?, ?it/s]"
      ]
     },
     "metadata": {},
     "output_type": "display_data"
    },
    {
     "data": {
      "application/vnd.jupyter.widget-view+json": {
       "model_id": "41da559c4d984eca98d6bbb9dedc88a4",
       "version_major": 2,
       "version_minor": 0
      },
      "text/plain": [
       "  0%|          | 0/51 [00:00<?, ?it/s]"
      ]
     },
     "metadata": {},
     "output_type": "display_data"
    },
    {
     "name": "stdout",
     "output_type": "stream",
     "text": [
      "Epoch [5], Train Loss : [1.98959] Val Loss : [2.02291] Val F1 : [0.18092]\n"
     ]
    },
    {
     "data": {
      "application/vnd.jupyter.widget-view+json": {
       "model_id": "a420bf0998684d0bbd2abb9a016db3b6",
       "version_major": 2,
       "version_minor": 0
      },
      "text/plain": [
       "  0%|          | 0/456 [00:00<?, ?it/s]"
      ]
     },
     "metadata": {},
     "output_type": "display_data"
    },
    {
     "data": {
      "application/vnd.jupyter.widget-view+json": {
       "model_id": "9c4fb75c443b404a9b09beba1318656c",
       "version_major": 2,
       "version_minor": 0
      },
      "text/plain": [
       "  0%|          | 0/51 [00:00<?, ?it/s]"
      ]
     },
     "metadata": {},
     "output_type": "display_data"
    },
    {
     "name": "stdout",
     "output_type": "stream",
     "text": [
      "Epoch [6], Train Loss : [1.96863] Val Loss : [2.04887] Val F1 : [0.14309]\n"
     ]
    },
    {
     "data": {
      "application/vnd.jupyter.widget-view+json": {
       "model_id": "1d47c9e30c394995b1a4796d60764b97",
       "version_major": 2,
       "version_minor": 0
      },
      "text/plain": [
       "  0%|          | 0/456 [00:00<?, ?it/s]"
      ]
     },
     "metadata": {},
     "output_type": "display_data"
    },
    {
     "data": {
      "application/vnd.jupyter.widget-view+json": {
       "model_id": "c2ebaa65eab84d48991a2cc79940182b",
       "version_major": 2,
       "version_minor": 0
      },
      "text/plain": [
       "  0%|          | 0/51 [00:00<?, ?it/s]"
      ]
     },
     "metadata": {},
     "output_type": "display_data"
    },
    {
     "name": "stdout",
     "output_type": "stream",
     "text": [
      "Epoch [7], Train Loss : [1.95782] Val Loss : [2.01239] Val F1 : [0.15789]\n"
     ]
    },
    {
     "data": {
      "application/vnd.jupyter.widget-view+json": {
       "model_id": "c4218f5f53ba48d7924441bf7f8d072e",
       "version_major": 2,
       "version_minor": 0
      },
      "text/plain": [
       "  0%|          | 0/456 [00:00<?, ?it/s]"
      ]
     },
     "metadata": {},
     "output_type": "display_data"
    },
    {
     "data": {
      "application/vnd.jupyter.widget-view+json": {
       "model_id": "3269bd402b6a433cae88d523ef1edbe4",
       "version_major": 2,
       "version_minor": 0
      },
      "text/plain": [
       "  0%|          | 0/51 [00:00<?, ?it/s]"
      ]
     },
     "metadata": {},
     "output_type": "display_data"
    },
    {
     "name": "stdout",
     "output_type": "stream",
     "text": [
      "Epoch [8], Train Loss : [1.94830] Val Loss : [2.03041] Val F1 : [0.16776]\n",
      "Epoch 00008: reducing learning rate of group 0 to 1.5000e-05.\n"
     ]
    },
    {
     "data": {
      "application/vnd.jupyter.widget-view+json": {
       "model_id": "bc4f6ffddae04c7d9cae7d320b620df1",
       "version_major": 2,
       "version_minor": 0
      },
      "text/plain": [
       "  0%|          | 0/456 [00:00<?, ?it/s]"
      ]
     },
     "metadata": {},
     "output_type": "display_data"
    },
    {
     "data": {
      "application/vnd.jupyter.widget-view+json": {
       "model_id": "d83974147e2e4f3784d8ef21a5cb2331",
       "version_major": 2,
       "version_minor": 0
      },
      "text/plain": [
       "  0%|          | 0/51 [00:00<?, ?it/s]"
      ]
     },
     "metadata": {},
     "output_type": "display_data"
    },
    {
     "name": "stdout",
     "output_type": "stream",
     "text": [
      "Epoch [9], Train Loss : [1.89652] Val Loss : [1.98255] Val F1 : [0.20066]\n"
     ]
    },
    {
     "data": {
      "application/vnd.jupyter.widget-view+json": {
       "model_id": "c4d219d83935486e9d35e129f4f22477",
       "version_major": 2,
       "version_minor": 0
      },
      "text/plain": [
       "  0%|          | 0/456 [00:00<?, ?it/s]"
      ]
     },
     "metadata": {},
     "output_type": "display_data"
    },
    {
     "data": {
      "application/vnd.jupyter.widget-view+json": {
       "model_id": "ff3e245f81ec4396a11841e07d18d788",
       "version_major": 2,
       "version_minor": 0
      },
      "text/plain": [
       "  0%|          | 0/51 [00:00<?, ?it/s]"
      ]
     },
     "metadata": {},
     "output_type": "display_data"
    },
    {
     "name": "stdout",
     "output_type": "stream",
     "text": [
      "Epoch [10], Train Loss : [1.88211] Val Loss : [1.98336] Val F1 : [0.21053]\n"
     ]
    },
    {
     "data": {
      "application/vnd.jupyter.widget-view+json": {
       "model_id": "fc9ad1d763b64159a92472f9cdd6709d",
       "version_major": 2,
       "version_minor": 0
      },
      "text/plain": [
       "  0%|          | 0/456 [00:00<?, ?it/s]"
      ]
     },
     "metadata": {},
     "output_type": "display_data"
    },
    {
     "data": {
      "application/vnd.jupyter.widget-view+json": {
       "model_id": "75b63c6a4d7d495db2e2165bfe95a960",
       "version_major": 2,
       "version_minor": 0
      },
      "text/plain": [
       "  0%|          | 0/51 [00:00<?, ?it/s]"
      ]
     },
     "metadata": {},
     "output_type": "display_data"
    },
    {
     "name": "stdout",
     "output_type": "stream",
     "text": [
      "Epoch [11], Train Loss : [1.87349] Val Loss : [2.00927] Val F1 : [0.18421]\n"
     ]
    },
    {
     "data": {
      "application/vnd.jupyter.widget-view+json": {
       "model_id": "9313daef32874342bd8fdb6282e8b4a5",
       "version_major": 2,
       "version_minor": 0
      },
      "text/plain": [
       "  0%|          | 0/456 [00:00<?, ?it/s]"
      ]
     },
     "metadata": {},
     "output_type": "display_data"
    },
    {
     "data": {
      "application/vnd.jupyter.widget-view+json": {
       "model_id": "6c081eab554b4c97b396fdcd05a8f932",
       "version_major": 2,
       "version_minor": 0
      },
      "text/plain": [
       "  0%|          | 0/51 [00:00<?, ?it/s]"
      ]
     },
     "metadata": {},
     "output_type": "display_data"
    },
    {
     "name": "stdout",
     "output_type": "stream",
     "text": [
      "Epoch [12], Train Loss : [1.85585] Val Loss : [1.95331] Val F1 : [0.19901]\n"
     ]
    },
    {
     "data": {
      "application/vnd.jupyter.widget-view+json": {
       "model_id": "0a90637e175643b3a2bd1096122c0672",
       "version_major": 2,
       "version_minor": 0
      },
      "text/plain": [
       "  0%|          | 0/456 [00:00<?, ?it/s]"
      ]
     },
     "metadata": {},
     "output_type": "display_data"
    },
    {
     "data": {
      "application/vnd.jupyter.widget-view+json": {
       "model_id": "4e795188958042c1842592d883152c6f",
       "version_major": 2,
       "version_minor": 0
      },
      "text/plain": [
       "  0%|          | 0/51 [00:00<?, ?it/s]"
      ]
     },
     "metadata": {},
     "output_type": "display_data"
    },
    {
     "name": "stdout",
     "output_type": "stream",
     "text": [
      "Epoch [13], Train Loss : [1.84893] Val Loss : [1.96588] Val F1 : [0.21217]\n"
     ]
    },
    {
     "data": {
      "application/vnd.jupyter.widget-view+json": {
       "model_id": "e76b0575ee194e4cacada8eb01f7dd81",
       "version_major": 2,
       "version_minor": 0
      },
      "text/plain": [
       "  0%|          | 0/456 [00:00<?, ?it/s]"
      ]
     },
     "metadata": {},
     "output_type": "display_data"
    },
    {
     "data": {
      "application/vnd.jupyter.widget-view+json": {
       "model_id": "0f4d2b2c91a34fadb512576c36f5e5ed",
       "version_major": 2,
       "version_minor": 0
      },
      "text/plain": [
       "  0%|          | 0/51 [00:00<?, ?it/s]"
      ]
     },
     "metadata": {},
     "output_type": "display_data"
    },
    {
     "name": "stdout",
     "output_type": "stream",
     "text": [
      "Epoch [14], Train Loss : [1.83490] Val Loss : [1.94895] Val F1 : [0.20230]\n"
     ]
    },
    {
     "data": {
      "application/vnd.jupyter.widget-view+json": {
       "model_id": "5eefc20a083042f79ec016d5b28c38cf",
       "version_major": 2,
       "version_minor": 0
      },
      "text/plain": [
       "  0%|          | 0/456 [00:00<?, ?it/s]"
      ]
     },
     "metadata": {},
     "output_type": "display_data"
    },
    {
     "data": {
      "application/vnd.jupyter.widget-view+json": {
       "model_id": "0c671e85df6e4d23b1e420088107c438",
       "version_major": 2,
       "version_minor": 0
      },
      "text/plain": [
       "  0%|          | 0/51 [00:00<?, ?it/s]"
      ]
     },
     "metadata": {},
     "output_type": "display_data"
    },
    {
     "name": "stdout",
     "output_type": "stream",
     "text": [
      "Epoch [15], Train Loss : [1.82334] Val Loss : [1.96513] Val F1 : [0.18421]\n"
     ]
    },
    {
     "data": {
      "application/vnd.jupyter.widget-view+json": {
       "model_id": "f357ee9876b64cb18669cb223125d545",
       "version_major": 2,
       "version_minor": 0
      },
      "text/plain": [
       "  0%|          | 0/456 [00:00<?, ?it/s]"
      ]
     },
     "metadata": {},
     "output_type": "display_data"
    },
    {
     "data": {
      "application/vnd.jupyter.widget-view+json": {
       "model_id": "e469497dd5014922b2137a47e150d9bc",
       "version_major": 2,
       "version_minor": 0
      },
      "text/plain": [
       "  0%|          | 0/51 [00:00<?, ?it/s]"
      ]
     },
     "metadata": {},
     "output_type": "display_data"
    },
    {
     "name": "stdout",
     "output_type": "stream",
     "text": [
      "Epoch [16], Train Loss : [1.81425] Val Loss : [1.94903] Val F1 : [0.20395]\n",
      "Epoch 00016: reducing learning rate of group 0 to 7.5000e-06.\n"
     ]
    },
    {
     "data": {
      "application/vnd.jupyter.widget-view+json": {
       "model_id": "58b598eb76fe4b16b8d90fc4e9f012ef",
       "version_major": 2,
       "version_minor": 0
      },
      "text/plain": [
       "  0%|          | 0/456 [00:00<?, ?it/s]"
      ]
     },
     "metadata": {},
     "output_type": "display_data"
    },
    {
     "data": {
      "application/vnd.jupyter.widget-view+json": {
       "model_id": "c280f1aedeae4fe78ca47a9b83db78b1",
       "version_major": 2,
       "version_minor": 0
      },
      "text/plain": [
       "  0%|          | 0/51 [00:00<?, ?it/s]"
      ]
     },
     "metadata": {},
     "output_type": "display_data"
    },
    {
     "name": "stdout",
     "output_type": "stream",
     "text": [
      "Epoch [17], Train Loss : [1.77192] Val Loss : [1.94916] Val F1 : [0.21382]\n"
     ]
    },
    {
     "data": {
      "application/vnd.jupyter.widget-view+json": {
       "model_id": "045f80783b104aabb0ed9f73199f4182",
       "version_major": 2,
       "version_minor": 0
      },
      "text/plain": [
       "  0%|          | 0/456 [00:00<?, ?it/s]"
      ]
     },
     "metadata": {},
     "output_type": "display_data"
    },
    {
     "data": {
      "application/vnd.jupyter.widget-view+json": {
       "model_id": "dd3cc3a655394c27b5c8667092187762",
       "version_major": 2,
       "version_minor": 0
      },
      "text/plain": [
       "  0%|          | 0/51 [00:00<?, ?it/s]"
      ]
     },
     "metadata": {},
     "output_type": "display_data"
    },
    {
     "name": "stdout",
     "output_type": "stream",
     "text": [
      "Epoch [18], Train Loss : [1.75465] Val Loss : [1.95768] Val F1 : [0.21053]\n"
     ]
    },
    {
     "data": {
      "application/vnd.jupyter.widget-view+json": {
       "model_id": "cdc5d1d0e0c04b049fbee8601fe9075a",
       "version_major": 2,
       "version_minor": 0
      },
      "text/plain": [
       "  0%|          | 0/456 [00:00<?, ?it/s]"
      ]
     },
     "metadata": {},
     "output_type": "display_data"
    },
    {
     "data": {
      "application/vnd.jupyter.widget-view+json": {
       "model_id": "f021e93549714d81bab75888e491b155",
       "version_major": 2,
       "version_minor": 0
      },
      "text/plain": [
       "  0%|          | 0/51 [00:00<?, ?it/s]"
      ]
     },
     "metadata": {},
     "output_type": "display_data"
    },
    {
     "name": "stdout",
     "output_type": "stream",
     "text": [
      "Epoch [19], Train Loss : [1.74076] Val Loss : [1.94420] Val F1 : [0.21546]\n"
     ]
    },
    {
     "data": {
      "application/vnd.jupyter.widget-view+json": {
       "model_id": "dd586a6deaaf4a4e85a08b9a61370738",
       "version_major": 2,
       "version_minor": 0
      },
      "text/plain": [
       "  0%|          | 0/456 [00:00<?, ?it/s]"
      ]
     },
     "metadata": {},
     "output_type": "display_data"
    },
    {
     "data": {
      "application/vnd.jupyter.widget-view+json": {
       "model_id": "39b906dd7da3436faf972f14f230b5cb",
       "version_major": 2,
       "version_minor": 0
      },
      "text/plain": [
       "  0%|          | 0/51 [00:00<?, ?it/s]"
      ]
     },
     "metadata": {},
     "output_type": "display_data"
    },
    {
     "name": "stdout",
     "output_type": "stream",
     "text": [
      "Epoch [20], Train Loss : [1.72486] Val Loss : [1.95128] Val F1 : [0.21875]\n"
     ]
    },
    {
     "data": {
      "application/vnd.jupyter.widget-view+json": {
       "model_id": "67d2c122a0e7432dad5602ae0919ad03",
       "version_major": 2,
       "version_minor": 0
      },
      "text/plain": [
       "  0%|          | 0/456 [00:00<?, ?it/s]"
      ]
     },
     "metadata": {},
     "output_type": "display_data"
    },
    {
     "data": {
      "application/vnd.jupyter.widget-view+json": {
       "model_id": "1ac2726f781b4b67a826c2e89a6ac16b",
       "version_major": 2,
       "version_minor": 0
      },
      "text/plain": [
       "  0%|          | 0/51 [00:00<?, ?it/s]"
      ]
     },
     "metadata": {},
     "output_type": "display_data"
    },
    {
     "name": "stdout",
     "output_type": "stream",
     "text": [
      "Epoch [21], Train Loss : [1.71605] Val Loss : [1.96761] Val F1 : [0.21053]\n"
     ]
    },
    {
     "data": {
      "application/vnd.jupyter.widget-view+json": {
       "model_id": "8677921afa2644dcaeedcf168d9bc2f4",
       "version_major": 2,
       "version_minor": 0
      },
      "text/plain": [
       "  0%|          | 0/456 [00:00<?, ?it/s]"
      ]
     },
     "metadata": {},
     "output_type": "display_data"
    },
    {
     "data": {
      "application/vnd.jupyter.widget-view+json": {
       "model_id": "4b405c8f72fc4b9287f52dcbaa789e26",
       "version_major": 2,
       "version_minor": 0
      },
      "text/plain": [
       "  0%|          | 0/51 [00:00<?, ?it/s]"
      ]
     },
     "metadata": {},
     "output_type": "display_data"
    },
    {
     "name": "stdout",
     "output_type": "stream",
     "text": [
      "Epoch [22], Train Loss : [1.69877] Val Loss : [1.96471] Val F1 : [0.21875]\n"
     ]
    },
    {
     "data": {
      "application/vnd.jupyter.widget-view+json": {
       "model_id": "0320870efc504fff9f9b53a3c89d2a9a",
       "version_major": 2,
       "version_minor": 0
      },
      "text/plain": [
       "  0%|          | 0/456 [00:00<?, ?it/s]"
      ]
     },
     "metadata": {},
     "output_type": "display_data"
    },
    {
     "data": {
      "application/vnd.jupyter.widget-view+json": {
       "model_id": "7ef3958b4274465987acbf9eb3f2cad5",
       "version_major": 2,
       "version_minor": 0
      },
      "text/plain": [
       "  0%|          | 0/51 [00:00<?, ?it/s]"
      ]
     },
     "metadata": {},
     "output_type": "display_data"
    },
    {
     "name": "stdout",
     "output_type": "stream",
     "text": [
      "Epoch [23], Train Loss : [1.68421] Val Loss : [1.97776] Val F1 : [0.22204]\n"
     ]
    },
    {
     "data": {
      "application/vnd.jupyter.widget-view+json": {
       "model_id": "7753f3048f7845b8923834ca251d8a8a",
       "version_major": 2,
       "version_minor": 0
      },
      "text/plain": [
       "  0%|          | 0/456 [00:00<?, ?it/s]"
      ]
     },
     "metadata": {},
     "output_type": "display_data"
    },
    {
     "data": {
      "application/vnd.jupyter.widget-view+json": {
       "model_id": "139a04bd5e064ff39ac21ed3475fd9cf",
       "version_major": 2,
       "version_minor": 0
      },
      "text/plain": [
       "  0%|          | 0/51 [00:00<?, ?it/s]"
      ]
     },
     "metadata": {},
     "output_type": "display_data"
    },
    {
     "name": "stdout",
     "output_type": "stream",
     "text": [
      "Epoch [24], Train Loss : [1.66829] Val Loss : [1.97316] Val F1 : [0.23026]\n"
     ]
    },
    {
     "data": {
      "application/vnd.jupyter.widget-view+json": {
       "model_id": "093649e758b940949ea76804dd778131",
       "version_major": 2,
       "version_minor": 0
      },
      "text/plain": [
       "  0%|          | 0/456 [00:00<?, ?it/s]"
      ]
     },
     "metadata": {},
     "output_type": "display_data"
    },
    {
     "data": {
      "application/vnd.jupyter.widget-view+json": {
       "model_id": "4ed94d5c1f594bc9bcbdbe81caa120f1",
       "version_major": 2,
       "version_minor": 0
      },
      "text/plain": [
       "  0%|          | 0/51 [00:00<?, ?it/s]"
      ]
     },
     "metadata": {},
     "output_type": "display_data"
    },
    {
     "name": "stdout",
     "output_type": "stream",
     "text": [
      "Epoch [25], Train Loss : [1.64738] Val Loss : [1.96626] Val F1 : [0.22039]\n"
     ]
    },
    {
     "data": {
      "application/vnd.jupyter.widget-view+json": {
       "model_id": "83baa661fc104fadaad8e42fd5db525a",
       "version_major": 2,
       "version_minor": 0
      },
      "text/plain": [
       "  0%|          | 0/456 [00:00<?, ?it/s]"
      ]
     },
     "metadata": {},
     "output_type": "display_data"
    },
    {
     "data": {
      "application/vnd.jupyter.widget-view+json": {
       "model_id": "f30e7615f3ad410e93d42197dd5b9097",
       "version_major": 2,
       "version_minor": 0
      },
      "text/plain": [
       "  0%|          | 0/51 [00:00<?, ?it/s]"
      ]
     },
     "metadata": {},
     "output_type": "display_data"
    },
    {
     "name": "stdout",
     "output_type": "stream",
     "text": [
      "Epoch [26], Train Loss : [1.63499] Val Loss : [1.98349] Val F1 : [0.22204]\n"
     ]
    },
    {
     "data": {
      "application/vnd.jupyter.widget-view+json": {
       "model_id": "71b0ebfe9a7f4e9f908fa9896f7a2b5e",
       "version_major": 2,
       "version_minor": 0
      },
      "text/plain": [
       "  0%|          | 0/456 [00:00<?, ?it/s]"
      ]
     },
     "metadata": {},
     "output_type": "display_data"
    },
    {
     "data": {
      "application/vnd.jupyter.widget-view+json": {
       "model_id": "7eaca2de8000402d9de32e1f877f7015",
       "version_major": 2,
       "version_minor": 0
      },
      "text/plain": [
       "  0%|          | 0/51 [00:00<?, ?it/s]"
      ]
     },
     "metadata": {},
     "output_type": "display_data"
    },
    {
     "name": "stdout",
     "output_type": "stream",
     "text": [
      "Epoch [27], Train Loss : [1.61666] Val Loss : [2.00297] Val F1 : [0.21875]\n",
      "Epoch 00027: reducing learning rate of group 0 to 3.7500e-06.\n"
     ]
    },
    {
     "data": {
      "application/vnd.jupyter.widget-view+json": {
       "model_id": "67b9ddeeb7e64706a4b642956737d59a",
       "version_major": 2,
       "version_minor": 0
      },
      "text/plain": [
       "  0%|          | 0/456 [00:00<?, ?it/s]"
      ]
     },
     "metadata": {},
     "output_type": "display_data"
    },
    {
     "data": {
      "application/vnd.jupyter.widget-view+json": {
       "model_id": "c5754049e1ae45aa9bd471f56f467f14",
       "version_major": 2,
       "version_minor": 0
      },
      "text/plain": [
       "  0%|          | 0/51 [00:00<?, ?it/s]"
      ]
     },
     "metadata": {},
     "output_type": "display_data"
    },
    {
     "name": "stdout",
     "output_type": "stream",
     "text": [
      "Epoch [28], Train Loss : [1.56272] Val Loss : [2.01320] Val F1 : [0.23355]\n"
     ]
    },
    {
     "data": {
      "application/vnd.jupyter.widget-view+json": {
       "model_id": "aadd32beb1da4fcfbd40bea668f8d772",
       "version_major": 2,
       "version_minor": 0
      },
      "text/plain": [
       "  0%|          | 0/456 [00:00<?, ?it/s]"
      ]
     },
     "metadata": {},
     "output_type": "display_data"
    },
    {
     "data": {
      "application/vnd.jupyter.widget-view+json": {
       "model_id": "2306af514a7144e681434d15f12ce2d9",
       "version_major": 2,
       "version_minor": 0
      },
      "text/plain": [
       "  0%|          | 0/51 [00:00<?, ?it/s]"
      ]
     },
     "metadata": {},
     "output_type": "display_data"
    },
    {
     "name": "stdout",
     "output_type": "stream",
     "text": [
      "Epoch [29], Train Loss : [1.53646] Val Loss : [2.01122] Val F1 : [0.22368]\n"
     ]
    },
    {
     "data": {
      "application/vnd.jupyter.widget-view+json": {
       "model_id": "d882caea83ae4b1e9de85540d892146c",
       "version_major": 2,
       "version_minor": 0
      },
      "text/plain": [
       "  0%|          | 0/456 [00:00<?, ?it/s]"
      ]
     },
     "metadata": {},
     "output_type": "display_data"
    },
    {
     "data": {
      "application/vnd.jupyter.widget-view+json": {
       "model_id": "9eb455b9086e415cbf8b25dbc21ae401",
       "version_major": 2,
       "version_minor": 0
      },
      "text/plain": [
       "  0%|          | 0/51 [00:00<?, ?it/s]"
      ]
     },
     "metadata": {},
     "output_type": "display_data"
    },
    {
     "name": "stdout",
     "output_type": "stream",
     "text": [
      "Epoch [30], Train Loss : [1.51691] Val Loss : [2.05074] Val F1 : [0.22039]\n"
     ]
    },
    {
     "data": {
      "application/vnd.jupyter.widget-view+json": {
       "model_id": "3e47254e65844b2eab6d61f3f95a9b3e",
       "version_major": 2,
       "version_minor": 0
      },
      "text/plain": [
       "  0%|          | 0/456 [00:00<?, ?it/s]"
      ]
     },
     "metadata": {},
     "output_type": "display_data"
    },
    {
     "data": {
      "application/vnd.jupyter.widget-view+json": {
       "model_id": "1f08d8c6b9b94ebeabf5b3eb5057c910",
       "version_major": 2,
       "version_minor": 0
      },
      "text/plain": [
       "  0%|          | 0/51 [00:00<?, ?it/s]"
      ]
     },
     "metadata": {},
     "output_type": "display_data"
    },
    {
     "name": "stdout",
     "output_type": "stream",
     "text": [
      "Epoch [31], Train Loss : [1.49888] Val Loss : [2.06253] Val F1 : [0.22368]\n",
      "Epoch 00031: reducing learning rate of group 0 to 1.8750e-06.\n"
     ]
    },
    {
     "data": {
      "application/vnd.jupyter.widget-view+json": {
       "model_id": "ad61d3e78351440090cf0c9e1dfbd448",
       "version_major": 2,
       "version_minor": 0
      },
      "text/plain": [
       "  0%|          | 0/456 [00:00<?, ?it/s]"
      ]
     },
     "metadata": {},
     "output_type": "display_data"
    },
    {
     "data": {
      "application/vnd.jupyter.widget-view+json": {
       "model_id": "507d68cead8244b0b686c53469f8302e",
       "version_major": 2,
       "version_minor": 0
      },
      "text/plain": [
       "  0%|          | 0/51 [00:00<?, ?it/s]"
      ]
     },
     "metadata": {},
     "output_type": "display_data"
    },
    {
     "name": "stdout",
     "output_type": "stream",
     "text": [
      "Epoch [32], Train Loss : [1.45509] Val Loss : [2.06591] Val F1 : [0.21546]\n"
     ]
    },
    {
     "data": {
      "application/vnd.jupyter.widget-view+json": {
       "model_id": "f1267bb1f823463dac7f94da32639d1a",
       "version_major": 2,
       "version_minor": 0
      },
      "text/plain": [
       "  0%|          | 0/456 [00:00<?, ?it/s]"
      ]
     },
     "metadata": {},
     "output_type": "display_data"
    },
    {
     "data": {
      "application/vnd.jupyter.widget-view+json": {
       "model_id": "a06e8cd357524a1e95f3bf0eac520d5c",
       "version_major": 2,
       "version_minor": 0
      },
      "text/plain": [
       "  0%|          | 0/51 [00:00<?, ?it/s]"
      ]
     },
     "metadata": {},
     "output_type": "display_data"
    },
    {
     "name": "stdout",
     "output_type": "stream",
     "text": [
      "Epoch [33], Train Loss : [1.43361] Val Loss : [2.09063] Val F1 : [0.23026]\n"
     ]
    },
    {
     "data": {
      "application/vnd.jupyter.widget-view+json": {
       "model_id": "cfda8cec67cd4b84909f47b7b742b88a",
       "version_major": 2,
       "version_minor": 0
      },
      "text/plain": [
       "  0%|          | 0/456 [00:00<?, ?it/s]"
      ]
     },
     "metadata": {},
     "output_type": "display_data"
    },
    {
     "data": {
      "application/vnd.jupyter.widget-view+json": {
       "model_id": "fca42de1bcc94223876b32a478e08417",
       "version_major": 2,
       "version_minor": 0
      },
      "text/plain": [
       "  0%|          | 0/51 [00:00<?, ?it/s]"
      ]
     },
     "metadata": {},
     "output_type": "display_data"
    },
    {
     "name": "stdout",
     "output_type": "stream",
     "text": [
      "Epoch [34], Train Loss : [1.41854] Val Loss : [2.10694] Val F1 : [0.22862]\n",
      "Epoch 00034: reducing learning rate of group 0 to 9.3750e-07.\n"
     ]
    },
    {
     "data": {
      "application/vnd.jupyter.widget-view+json": {
       "model_id": "2c8674126e094b158b982c7713501433",
       "version_major": 2,
       "version_minor": 0
      },
      "text/plain": [
       "  0%|          | 0/456 [00:00<?, ?it/s]"
      ]
     },
     "metadata": {},
     "output_type": "display_data"
    },
    {
     "data": {
      "application/vnd.jupyter.widget-view+json": {
       "model_id": "983eed68c39e4932869d751f54013739",
       "version_major": 2,
       "version_minor": 0
      },
      "text/plain": [
       "  0%|          | 0/51 [00:00<?, ?it/s]"
      ]
     },
     "metadata": {},
     "output_type": "display_data"
    },
    {
     "name": "stdout",
     "output_type": "stream",
     "text": [
      "Epoch [35], Train Loss : [1.38756] Val Loss : [2.12650] Val F1 : [0.21382]\n"
     ]
    },
    {
     "data": {
      "application/vnd.jupyter.widget-view+json": {
       "model_id": "b8634423b0e344569af3347220f3949b",
       "version_major": 2,
       "version_minor": 0
      },
      "text/plain": [
       "  0%|          | 0/456 [00:00<?, ?it/s]"
      ]
     },
     "metadata": {},
     "output_type": "display_data"
    },
    {
     "data": {
      "application/vnd.jupyter.widget-view+json": {
       "model_id": "6b09a7fe6b584425896540a502e2fb0a",
       "version_major": 2,
       "version_minor": 0
      },
      "text/plain": [
       "  0%|          | 0/51 [00:00<?, ?it/s]"
      ]
     },
     "metadata": {},
     "output_type": "display_data"
    },
    {
     "name": "stdout",
     "output_type": "stream",
     "text": [
      "Epoch [36], Train Loss : [1.37586] Val Loss : [2.13211] Val F1 : [0.22039]\n"
     ]
    },
    {
     "data": {
      "application/vnd.jupyter.widget-view+json": {
       "model_id": "947d797e46f84858884c21e6b2252249",
       "version_major": 2,
       "version_minor": 0
      },
      "text/plain": [
       "  0%|          | 0/456 [00:00<?, ?it/s]"
      ]
     },
     "metadata": {},
     "output_type": "display_data"
    },
    {
     "data": {
      "application/vnd.jupyter.widget-view+json": {
       "model_id": "55a14b7d1b5543f48a5320db972b7937",
       "version_major": 2,
       "version_minor": 0
      },
      "text/plain": [
       "  0%|          | 0/51 [00:00<?, ?it/s]"
      ]
     },
     "metadata": {},
     "output_type": "display_data"
    },
    {
     "name": "stdout",
     "output_type": "stream",
     "text": [
      "Epoch [37], Train Loss : [1.36788] Val Loss : [2.14032] Val F1 : [0.21875]\n",
      "Epoch 00037: reducing learning rate of group 0 to 4.6875e-07.\n"
     ]
    },
    {
     "data": {
      "application/vnd.jupyter.widget-view+json": {
       "model_id": "1520aa1dc69a4fc3b7504c4c52f3ebca",
       "version_major": 2,
       "version_minor": 0
      },
      "text/plain": [
       "  0%|          | 0/456 [00:00<?, ?it/s]"
      ]
     },
     "metadata": {},
     "output_type": "display_data"
    },
    {
     "data": {
      "application/vnd.jupyter.widget-view+json": {
       "model_id": "d4e5564c5ac24f12be9849eeae5c8b35",
       "version_major": 2,
       "version_minor": 0
      },
      "text/plain": [
       "  0%|          | 0/51 [00:00<?, ?it/s]"
      ]
     },
     "metadata": {},
     "output_type": "display_data"
    },
    {
     "name": "stdout",
     "output_type": "stream",
     "text": [
      "Epoch [38], Train Loss : [1.34967] Val Loss : [2.15724] Val F1 : [0.21217]\n"
     ]
    },
    {
     "data": {
      "application/vnd.jupyter.widget-view+json": {
       "model_id": "f8374cb9d248414eb608c04facb7d905",
       "version_major": 2,
       "version_minor": 0
      },
      "text/plain": [
       "  0%|          | 0/456 [00:00<?, ?it/s]"
      ]
     },
     "metadata": {},
     "output_type": "display_data"
    },
    {
     "data": {
      "application/vnd.jupyter.widget-view+json": {
       "model_id": "fda8d612110b48d9bc1b2da2ada063e9",
       "version_major": 2,
       "version_minor": 0
      },
      "text/plain": [
       "  0%|          | 0/51 [00:00<?, ?it/s]"
      ]
     },
     "metadata": {},
     "output_type": "display_data"
    },
    {
     "name": "stdout",
     "output_type": "stream",
     "text": [
      "Epoch [39], Train Loss : [1.34519] Val Loss : [2.16047] Val F1 : [0.23191]\n"
     ]
    },
    {
     "data": {
      "application/vnd.jupyter.widget-view+json": {
       "model_id": "d75eb5089c154ad3bd2302ccf7715f99",
       "version_major": 2,
       "version_minor": 0
      },
      "text/plain": [
       "  0%|          | 0/456 [00:00<?, ?it/s]"
      ]
     },
     "metadata": {},
     "output_type": "display_data"
    },
    {
     "data": {
      "application/vnd.jupyter.widget-view+json": {
       "model_id": "5b5c14efbe5041c28ae2a5bacb12f448",
       "version_major": 2,
       "version_minor": 0
      },
      "text/plain": [
       "  0%|          | 0/51 [00:00<?, ?it/s]"
      ]
     },
     "metadata": {},
     "output_type": "display_data"
    },
    {
     "name": "stdout",
     "output_type": "stream",
     "text": [
      "Epoch [40], Train Loss : [1.33886] Val Loss : [2.17188] Val F1 : [0.22039]\n",
      "Epoch 00040: reducing learning rate of group 0 to 2.3438e-07.\n"
     ]
    },
    {
     "data": {
      "application/vnd.jupyter.widget-view+json": {
       "model_id": "68076748657c43158c565bf37dec5ec8",
       "version_major": 2,
       "version_minor": 0
      },
      "text/plain": [
       "  0%|          | 0/456 [00:00<?, ?it/s]"
      ]
     },
     "metadata": {},
     "output_type": "display_data"
    },
    {
     "data": {
      "application/vnd.jupyter.widget-view+json": {
       "model_id": "fc0b47abdfac4be3b5d42c1aaf750caa",
       "version_major": 2,
       "version_minor": 0
      },
      "text/plain": [
       "  0%|          | 0/51 [00:00<?, ?it/s]"
      ]
     },
     "metadata": {},
     "output_type": "display_data"
    },
    {
     "name": "stdout",
     "output_type": "stream",
     "text": [
      "Epoch [41], Train Loss : [1.32888] Val Loss : [2.17091] Val F1 : [0.21217]\n"
     ]
    },
    {
     "data": {
      "application/vnd.jupyter.widget-view+json": {
       "model_id": "84a80d7bd5d5437d941da8444d95ecdc",
       "version_major": 2,
       "version_minor": 0
      },
      "text/plain": [
       "  0%|          | 0/456 [00:00<?, ?it/s]"
      ]
     },
     "metadata": {},
     "output_type": "display_data"
    },
    {
     "data": {
      "application/vnd.jupyter.widget-view+json": {
       "model_id": "fcb0007315754bdab4919a45e71c2835",
       "version_major": 2,
       "version_minor": 0
      },
      "text/plain": [
       "  0%|          | 0/51 [00:00<?, ?it/s]"
      ]
     },
     "metadata": {},
     "output_type": "display_data"
    },
    {
     "name": "stdout",
     "output_type": "stream",
     "text": [
      "Epoch [42], Train Loss : [1.32673] Val Loss : [2.16852] Val F1 : [0.21711]\n"
     ]
    },
    {
     "data": {
      "application/vnd.jupyter.widget-view+json": {
       "model_id": "783a78a4501646ab86d7c2b6f2eb71f4",
       "version_major": 2,
       "version_minor": 0
      },
      "text/plain": [
       "  0%|          | 0/456 [00:00<?, ?it/s]"
      ]
     },
     "metadata": {},
     "output_type": "display_data"
    },
    {
     "data": {
      "application/vnd.jupyter.widget-view+json": {
       "model_id": "da87c8dcdfe2400abb308f4baa029bd1",
       "version_major": 2,
       "version_minor": 0
      },
      "text/plain": [
       "  0%|          | 0/51 [00:00<?, ?it/s]"
      ]
     },
     "metadata": {},
     "output_type": "display_data"
    },
    {
     "name": "stdout",
     "output_type": "stream",
     "text": [
      "Epoch [43], Train Loss : [1.32302] Val Loss : [2.17633] Val F1 : [0.21217]\n",
      "Epoch 00043: reducing learning rate of group 0 to 1.1719e-07.\n"
     ]
    },
    {
     "data": {
      "application/vnd.jupyter.widget-view+json": {
       "model_id": "099f5a5667e94675ba7873c305f18722",
       "version_major": 2,
       "version_minor": 0
      },
      "text/plain": [
       "  0%|          | 0/456 [00:00<?, ?it/s]"
      ]
     },
     "metadata": {},
     "output_type": "display_data"
    },
    {
     "data": {
      "application/vnd.jupyter.widget-view+json": {
       "model_id": "2d09fe380eaa4fcc81941000641db337",
       "version_major": 2,
       "version_minor": 0
      },
      "text/plain": [
       "  0%|          | 0/51 [00:00<?, ?it/s]"
      ]
     },
     "metadata": {},
     "output_type": "display_data"
    },
    {
     "name": "stdout",
     "output_type": "stream",
     "text": [
      "Epoch [44], Train Loss : [1.31884] Val Loss : [2.17776] Val F1 : [0.21382]\n"
     ]
    },
    {
     "data": {
      "application/vnd.jupyter.widget-view+json": {
       "model_id": "d9df40c2232448c5aef7d934bb9448cb",
       "version_major": 2,
       "version_minor": 0
      },
      "text/plain": [
       "  0%|          | 0/456 [00:00<?, ?it/s]"
      ]
     },
     "metadata": {},
     "output_type": "display_data"
    },
    {
     "data": {
      "application/vnd.jupyter.widget-view+json": {
       "model_id": "fc0eaf598c2542a4badf70e24da46fa5",
       "version_major": 2,
       "version_minor": 0
      },
      "text/plain": [
       "  0%|          | 0/51 [00:00<?, ?it/s]"
      ]
     },
     "metadata": {},
     "output_type": "display_data"
    },
    {
     "name": "stdout",
     "output_type": "stream",
     "text": [
      "Epoch [45], Train Loss : [1.31773] Val Loss : [2.18148] Val F1 : [0.20888]\n"
     ]
    },
    {
     "data": {
      "application/vnd.jupyter.widget-view+json": {
       "model_id": "adfdcc192c2a4295abc680abb5d1c3e2",
       "version_major": 2,
       "version_minor": 0
      },
      "text/plain": [
       "  0%|          | 0/456 [00:00<?, ?it/s]"
      ]
     },
     "metadata": {},
     "output_type": "display_data"
    },
    {
     "data": {
      "application/vnd.jupyter.widget-view+json": {
       "model_id": "63ac6cc670074c57869f69c424699731",
       "version_major": 2,
       "version_minor": 0
      },
      "text/plain": [
       "  0%|          | 0/51 [00:00<?, ?it/s]"
      ]
     },
     "metadata": {},
     "output_type": "display_data"
    },
    {
     "name": "stdout",
     "output_type": "stream",
     "text": [
      "Epoch [46], Train Loss : [1.31677] Val Loss : [2.18261] Val F1 : [0.20888]\n",
      "Epoch 00046: reducing learning rate of group 0 to 5.8594e-08.\n"
     ]
    },
    {
     "data": {
      "application/vnd.jupyter.widget-view+json": {
       "model_id": "7405c3ddc26f4875a46dd4a6443c95b1",
       "version_major": 2,
       "version_minor": 0
      },
      "text/plain": [
       "  0%|          | 0/456 [00:00<?, ?it/s]"
      ]
     },
     "metadata": {},
     "output_type": "display_data"
    },
    {
     "data": {
      "application/vnd.jupyter.widget-view+json": {
       "model_id": "964ea6bdb8af4c208e4c44eb5024cc3f",
       "version_major": 2,
       "version_minor": 0
      },
      "text/plain": [
       "  0%|          | 0/51 [00:00<?, ?it/s]"
      ]
     },
     "metadata": {},
     "output_type": "display_data"
    },
    {
     "name": "stdout",
     "output_type": "stream",
     "text": [
      "Epoch [47], Train Loss : [1.31324] Val Loss : [2.18246] Val F1 : [0.21053]\n"
     ]
    },
    {
     "data": {
      "application/vnd.jupyter.widget-view+json": {
       "model_id": "1c23e8f4c8b842a695e156bfb1589663",
       "version_major": 2,
       "version_minor": 0
      },
      "text/plain": [
       "  0%|          | 0/456 [00:00<?, ?it/s]"
      ]
     },
     "metadata": {},
     "output_type": "display_data"
    },
    {
     "data": {
      "application/vnd.jupyter.widget-view+json": {
       "model_id": "b6afa6e7b0f54d14852d0fc4b23f856f",
       "version_major": 2,
       "version_minor": 0
      },
      "text/plain": [
       "  0%|          | 0/51 [00:00<?, ?it/s]"
      ]
     },
     "metadata": {},
     "output_type": "display_data"
    },
    {
     "name": "stdout",
     "output_type": "stream",
     "text": [
      "Epoch [48], Train Loss : [1.31389] Val Loss : [2.18366] Val F1 : [0.21382]\n"
     ]
    },
    {
     "data": {
      "application/vnd.jupyter.widget-view+json": {
       "model_id": "9207b45492264d3f89f2f7a0da6074fe",
       "version_major": 2,
       "version_minor": 0
      },
      "text/plain": [
       "  0%|          | 0/456 [00:00<?, ?it/s]"
      ]
     },
     "metadata": {},
     "output_type": "display_data"
    },
    {
     "data": {
      "application/vnd.jupyter.widget-view+json": {
       "model_id": "f74ded7dc5d0465a9e7c2ab0a67b221c",
       "version_major": 2,
       "version_minor": 0
      },
      "text/plain": [
       "  0%|          | 0/51 [00:00<?, ?it/s]"
      ]
     },
     "metadata": {},
     "output_type": "display_data"
    },
    {
     "name": "stdout",
     "output_type": "stream",
     "text": [
      "Epoch [49], Train Loss : [1.31218] Val Loss : [2.18577] Val F1 : [0.20888]\n",
      "Epoch 00049: reducing learning rate of group 0 to 2.9297e-08.\n"
     ]
    },
    {
     "data": {
      "application/vnd.jupyter.widget-view+json": {
       "model_id": "450166bac4794721a99ffc2f7737726e",
       "version_major": 2,
       "version_minor": 0
      },
      "text/plain": [
       "  0%|          | 0/456 [00:00<?, ?it/s]"
      ]
     },
     "metadata": {},
     "output_type": "display_data"
    },
    {
     "data": {
      "application/vnd.jupyter.widget-view+json": {
       "model_id": "6dcddb9258614472a5aefb3b8102e323",
       "version_major": 2,
       "version_minor": 0
      },
      "text/plain": [
       "  0%|          | 0/51 [00:00<?, ?it/s]"
      ]
     },
     "metadata": {},
     "output_type": "display_data"
    },
    {
     "name": "stdout",
     "output_type": "stream",
     "text": [
      "Epoch [50], Train Loss : [1.31116] Val Loss : [2.18566] Val F1 : [0.21053]\n"
     ]
    },
    {
     "data": {
      "application/vnd.jupyter.widget-view+json": {
       "model_id": "f8a339208c52422bb32a4221a2385d21",
       "version_major": 2,
       "version_minor": 0
      },
      "text/plain": [
       "  0%|          | 0/456 [00:00<?, ?it/s]"
      ]
     },
     "metadata": {},
     "output_type": "display_data"
    },
    {
     "data": {
      "application/vnd.jupyter.widget-view+json": {
       "model_id": "00667cf446c14e2f85df654b24bb7d26",
       "version_major": 2,
       "version_minor": 0
      },
      "text/plain": [
       "  0%|          | 0/51 [00:00<?, ?it/s]"
      ]
     },
     "metadata": {},
     "output_type": "display_data"
    },
    {
     "name": "stdout",
     "output_type": "stream",
     "text": [
      "Epoch [51], Train Loss : [1.31174] Val Loss : [2.18612] Val F1 : [0.21053]\n"
     ]
    },
    {
     "data": {
      "application/vnd.jupyter.widget-view+json": {
       "model_id": "4c266707a0ee4b6a9a866dbed3ef0b21",
       "version_major": 2,
       "version_minor": 0
      },
      "text/plain": [
       "  0%|          | 0/456 [00:00<?, ?it/s]"
      ]
     },
     "metadata": {},
     "output_type": "display_data"
    },
    {
     "data": {
      "application/vnd.jupyter.widget-view+json": {
       "model_id": "dba1a4a96df4436e965a8bbebbd2c89a",
       "version_major": 2,
       "version_minor": 0
      },
      "text/plain": [
       "  0%|          | 0/51 [00:00<?, ?it/s]"
      ]
     },
     "metadata": {},
     "output_type": "display_data"
    },
    {
     "name": "stdout",
     "output_type": "stream",
     "text": [
      "Epoch [52], Train Loss : [1.31083] Val Loss : [2.18631] Val F1 : [0.21217]\n",
      "Epoch 00052: reducing learning rate of group 0 to 1.4648e-08.\n"
     ]
    },
    {
     "data": {
      "application/vnd.jupyter.widget-view+json": {
       "model_id": "a5c3da08bfa1435b8b851d13ba615f4a",
       "version_major": 2,
       "version_minor": 0
      },
      "text/plain": [
       "  0%|          | 0/456 [00:00<?, ?it/s]"
      ]
     },
     "metadata": {},
     "output_type": "display_data"
    },
    {
     "data": {
      "application/vnd.jupyter.widget-view+json": {
       "model_id": "a1c6833ede1246cba66a0f189148d4ea",
       "version_major": 2,
       "version_minor": 0
      },
      "text/plain": [
       "  0%|          | 0/51 [00:00<?, ?it/s]"
      ]
     },
     "metadata": {},
     "output_type": "display_data"
    },
    {
     "name": "stdout",
     "output_type": "stream",
     "text": [
      "Epoch [53], Train Loss : [1.31063] Val Loss : [2.18659] Val F1 : [0.21053]\n"
     ]
    },
    {
     "data": {
      "application/vnd.jupyter.widget-view+json": {
       "model_id": "a2e49363c8e546808498b5c554afefde",
       "version_major": 2,
       "version_minor": 0
      },
      "text/plain": [
       "  0%|          | 0/456 [00:00<?, ?it/s]"
      ]
     },
     "metadata": {},
     "output_type": "display_data"
    },
    {
     "data": {
      "application/vnd.jupyter.widget-view+json": {
       "model_id": "3339dab5454b40978884fe41a028dfcf",
       "version_major": 2,
       "version_minor": 0
      },
      "text/plain": [
       "  0%|          | 0/51 [00:00<?, ?it/s]"
      ]
     },
     "metadata": {},
     "output_type": "display_data"
    },
    {
     "name": "stdout",
     "output_type": "stream",
     "text": [
      "Epoch [54], Train Loss : [1.30885] Val Loss : [2.18676] Val F1 : [0.21053]\n"
     ]
    },
    {
     "data": {
      "application/vnd.jupyter.widget-view+json": {
       "model_id": "a90387760d0448bda52e715fefb534e1",
       "version_major": 2,
       "version_minor": 0
      },
      "text/plain": [
       "  0%|          | 0/456 [00:00<?, ?it/s]"
      ]
     },
     "metadata": {},
     "output_type": "display_data"
    },
    {
     "data": {
      "application/vnd.jupyter.widget-view+json": {
       "model_id": "abb48cf0337a4367b70adf7f3d72fadc",
       "version_major": 2,
       "version_minor": 0
      },
      "text/plain": [
       "  0%|          | 0/51 [00:00<?, ?it/s]"
      ]
     },
     "metadata": {},
     "output_type": "display_data"
    },
    {
     "name": "stdout",
     "output_type": "stream",
     "text": [
      "Epoch [55], Train Loss : [1.31029] Val Loss : [2.18698] Val F1 : [0.21053]\n"
     ]
    },
    {
     "data": {
      "application/vnd.jupyter.widget-view+json": {
       "model_id": "3a8ef905cfcb4bdfbb63d86a6872dbc1",
       "version_major": 2,
       "version_minor": 0
      },
      "text/plain": [
       "  0%|          | 0/456 [00:00<?, ?it/s]"
      ]
     },
     "metadata": {},
     "output_type": "display_data"
    },
    {
     "data": {
      "application/vnd.jupyter.widget-view+json": {
       "model_id": "32457fb1a0ea4fddbf092daea7eb7b6c",
       "version_major": 2,
       "version_minor": 0
      },
      "text/plain": [
       "  0%|          | 0/51 [00:00<?, ?it/s]"
      ]
     },
     "metadata": {},
     "output_type": "display_data"
    },
    {
     "name": "stdout",
     "output_type": "stream",
     "text": [
      "Epoch [56], Train Loss : [1.31010] Val Loss : [2.18723] Val F1 : [0.21053]\n"
     ]
    },
    {
     "data": {
      "application/vnd.jupyter.widget-view+json": {
       "model_id": "d7bc834b8c0b40f3895f6029d6f1341e",
       "version_major": 2,
       "version_minor": 0
      },
      "text/plain": [
       "  0%|          | 0/456 [00:00<?, ?it/s]"
      ]
     },
     "metadata": {},
     "output_type": "display_data"
    },
    {
     "data": {
      "application/vnd.jupyter.widget-view+json": {
       "model_id": "23896c5f14484c6ca35864f7ef2b219c",
       "version_major": 2,
       "version_minor": 0
      },
      "text/plain": [
       "  0%|          | 0/51 [00:00<?, ?it/s]"
      ]
     },
     "metadata": {},
     "output_type": "display_data"
    },
    {
     "name": "stdout",
     "output_type": "stream",
     "text": [
      "Epoch [57], Train Loss : [1.30977] Val Loss : [2.18761] Val F1 : [0.21053]\n"
     ]
    },
    {
     "data": {
      "application/vnd.jupyter.widget-view+json": {
       "model_id": "aa8846456b45474885d1041d39c0bacd",
       "version_major": 2,
       "version_minor": 0
      },
      "text/plain": [
       "  0%|          | 0/456 [00:00<?, ?it/s]"
      ]
     },
     "metadata": {},
     "output_type": "display_data"
    },
    {
     "data": {
      "application/vnd.jupyter.widget-view+json": {
       "model_id": "1768381d7d084ccca193caa99a747a06",
       "version_major": 2,
       "version_minor": 0
      },
      "text/plain": [
       "  0%|          | 0/51 [00:00<?, ?it/s]"
      ]
     },
     "metadata": {},
     "output_type": "display_data"
    },
    {
     "name": "stdout",
     "output_type": "stream",
     "text": [
      "Epoch [58], Train Loss : [1.30753] Val Loss : [2.18771] Val F1 : [0.21053]\n"
     ]
    },
    {
     "data": {
      "application/vnd.jupyter.widget-view+json": {
       "model_id": "61f67d48bddc4ec7ac4f86697bb692c4",
       "version_major": 2,
       "version_minor": 0
      },
      "text/plain": [
       "  0%|          | 0/456 [00:00<?, ?it/s]"
      ]
     },
     "metadata": {},
     "output_type": "display_data"
    },
    {
     "data": {
      "application/vnd.jupyter.widget-view+json": {
       "model_id": "294b651fa88d4f69a8051ed584a23ab0",
       "version_major": 2,
       "version_minor": 0
      },
      "text/plain": [
       "  0%|          | 0/51 [00:00<?, ?it/s]"
      ]
     },
     "metadata": {},
     "output_type": "display_data"
    },
    {
     "name": "stdout",
     "output_type": "stream",
     "text": [
      "Epoch [59], Train Loss : [1.30897] Val Loss : [2.18789] Val F1 : [0.21053]\n"
     ]
    },
    {
     "data": {
      "application/vnd.jupyter.widget-view+json": {
       "model_id": "081ca99db1424bbdaf70d11098efc754",
       "version_major": 2,
       "version_minor": 0
      },
      "text/plain": [
       "  0%|          | 0/456 [00:00<?, ?it/s]"
      ]
     },
     "metadata": {},
     "output_type": "display_data"
    },
    {
     "data": {
      "application/vnd.jupyter.widget-view+json": {
       "model_id": "76f3dda97a564e5e94e3c5d64c569660",
       "version_major": 2,
       "version_minor": 0
      },
      "text/plain": [
       "  0%|          | 0/51 [00:00<?, ?it/s]"
      ]
     },
     "metadata": {},
     "output_type": "display_data"
    },
    {
     "name": "stdout",
     "output_type": "stream",
     "text": [
      "Epoch [60], Train Loss : [1.30878] Val Loss : [2.18815] Val F1 : [0.21053]\n"
     ]
    },
    {
     "data": {
      "application/vnd.jupyter.widget-view+json": {
       "model_id": "899e95de81034737928e2d33af31470d",
       "version_major": 2,
       "version_minor": 0
      },
      "text/plain": [
       "  0%|          | 0/456 [00:00<?, ?it/s]"
      ]
     },
     "metadata": {},
     "output_type": "display_data"
    },
    {
     "data": {
      "application/vnd.jupyter.widget-view+json": {
       "model_id": "5739c24f29494535a8315f1b94dc45ce",
       "version_major": 2,
       "version_minor": 0
      },
      "text/plain": [
       "  0%|          | 0/51 [00:00<?, ?it/s]"
      ]
     },
     "metadata": {},
     "output_type": "display_data"
    },
    {
     "name": "stdout",
     "output_type": "stream",
     "text": [
      "Epoch [61], Train Loss : [1.30944] Val Loss : [2.18843] Val F1 : [0.21053]\n"
     ]
    },
    {
     "data": {
      "application/vnd.jupyter.widget-view+json": {
       "model_id": "60b7bdcd2ad24c528fd86082aba9dade",
       "version_major": 2,
       "version_minor": 0
      },
      "text/plain": [
       "  0%|          | 0/456 [00:00<?, ?it/s]"
      ]
     },
     "metadata": {},
     "output_type": "display_data"
    },
    {
     "data": {
      "application/vnd.jupyter.widget-view+json": {
       "model_id": "27afb9a23d174ef3ba6e69218249707d",
       "version_major": 2,
       "version_minor": 0
      },
      "text/plain": [
       "  0%|          | 0/51 [00:00<?, ?it/s]"
      ]
     },
     "metadata": {},
     "output_type": "display_data"
    },
    {
     "name": "stdout",
     "output_type": "stream",
     "text": [
      "Epoch [62], Train Loss : [1.30848] Val Loss : [2.18863] Val F1 : [0.21053]\n"
     ]
    },
    {
     "data": {
      "application/vnd.jupyter.widget-view+json": {
       "model_id": "9c3f579ce8a94ea68a3e5043ace0ed3f",
       "version_major": 2,
       "version_minor": 0
      },
      "text/plain": [
       "  0%|          | 0/456 [00:00<?, ?it/s]"
      ]
     },
     "metadata": {},
     "output_type": "display_data"
    },
    {
     "data": {
      "application/vnd.jupyter.widget-view+json": {
       "model_id": "84f136abe38d4118b40999abf9c5be58",
       "version_major": 2,
       "version_minor": 0
      },
      "text/plain": [
       "  0%|          | 0/51 [00:00<?, ?it/s]"
      ]
     },
     "metadata": {},
     "output_type": "display_data"
    },
    {
     "name": "stdout",
     "output_type": "stream",
     "text": [
      "Epoch [63], Train Loss : [1.30905] Val Loss : [2.18877] Val F1 : [0.21053]\n"
     ]
    },
    {
     "data": {
      "application/vnd.jupyter.widget-view+json": {
       "model_id": "0ac09377613d41f29aa6122ab3143a69",
       "version_major": 2,
       "version_minor": 0
      },
      "text/plain": [
       "  0%|          | 0/456 [00:00<?, ?it/s]"
      ]
     },
     "metadata": {},
     "output_type": "display_data"
    },
    {
     "data": {
      "application/vnd.jupyter.widget-view+json": {
       "model_id": "a5a812a85220444192808f6d52672c7f",
       "version_major": 2,
       "version_minor": 0
      },
      "text/plain": [
       "  0%|          | 0/51 [00:00<?, ?it/s]"
      ]
     },
     "metadata": {},
     "output_type": "display_data"
    },
    {
     "name": "stdout",
     "output_type": "stream",
     "text": [
      "Epoch [64], Train Loss : [1.30749] Val Loss : [2.18914] Val F1 : [0.21053]\n"
     ]
    },
    {
     "data": {
      "application/vnd.jupyter.widget-view+json": {
       "model_id": "b76fdfc485b74febb0bc54202b03260a",
       "version_major": 2,
       "version_minor": 0
      },
      "text/plain": [
       "  0%|          | 0/456 [00:00<?, ?it/s]"
      ]
     },
     "metadata": {},
     "output_type": "display_data"
    },
    {
     "data": {
      "application/vnd.jupyter.widget-view+json": {
       "model_id": "1026e0fc8d454aea91334471f9088aa5",
       "version_major": 2,
       "version_minor": 0
      },
      "text/plain": [
       "  0%|          | 0/51 [00:00<?, ?it/s]"
      ]
     },
     "metadata": {},
     "output_type": "display_data"
    },
    {
     "name": "stdout",
     "output_type": "stream",
     "text": [
      "Epoch [65], Train Loss : [1.30763] Val Loss : [2.18917] Val F1 : [0.21053]\n"
     ]
    },
    {
     "data": {
      "application/vnd.jupyter.widget-view+json": {
       "model_id": "6cc1e8e47e2d4b269433f6d3270ba1ec",
       "version_major": 2,
       "version_minor": 0
      },
      "text/plain": [
       "  0%|          | 0/456 [00:00<?, ?it/s]"
      ]
     },
     "metadata": {},
     "output_type": "display_data"
    },
    {
     "data": {
      "application/vnd.jupyter.widget-view+json": {
       "model_id": "f0026b3b2de446a688aff171935cb67d",
       "version_major": 2,
       "version_minor": 0
      },
      "text/plain": [
       "  0%|          | 0/51 [00:00<?, ?it/s]"
      ]
     },
     "metadata": {},
     "output_type": "display_data"
    },
    {
     "name": "stdout",
     "output_type": "stream",
     "text": [
      "Epoch [66], Train Loss : [1.30795] Val Loss : [2.18947] Val F1 : [0.21053]\n"
     ]
    },
    {
     "data": {
      "application/vnd.jupyter.widget-view+json": {
       "model_id": "824838367db44c179769addd07ad16d1",
       "version_major": 2,
       "version_minor": 0
      },
      "text/plain": [
       "  0%|          | 0/456 [00:00<?, ?it/s]"
      ]
     },
     "metadata": {},
     "output_type": "display_data"
    },
    {
     "data": {
      "application/vnd.jupyter.widget-view+json": {
       "model_id": "60f086028a294ae0816c08e5bef1464f",
       "version_major": 2,
       "version_minor": 0
      },
      "text/plain": [
       "  0%|          | 0/51 [00:00<?, ?it/s]"
      ]
     },
     "metadata": {},
     "output_type": "display_data"
    },
    {
     "name": "stdout",
     "output_type": "stream",
     "text": [
      "Epoch [67], Train Loss : [1.30831] Val Loss : [2.18952] Val F1 : [0.21053]\n"
     ]
    },
    {
     "data": {
      "application/vnd.jupyter.widget-view+json": {
       "model_id": "2121b94112e24286a2638983cfbc1daa",
       "version_major": 2,
       "version_minor": 0
      },
      "text/plain": [
       "  0%|          | 0/456 [00:00<?, ?it/s]"
      ]
     },
     "metadata": {},
     "output_type": "display_data"
    },
    {
     "data": {
      "application/vnd.jupyter.widget-view+json": {
       "model_id": "06cb38c237444a3c80221e279a183e79",
       "version_major": 2,
       "version_minor": 0
      },
      "text/plain": [
       "  0%|          | 0/51 [00:00<?, ?it/s]"
      ]
     },
     "metadata": {},
     "output_type": "display_data"
    },
    {
     "name": "stdout",
     "output_type": "stream",
     "text": [
      "Epoch [68], Train Loss : [1.30774] Val Loss : [2.18978] Val F1 : [0.21053]\n"
     ]
    },
    {
     "data": {
      "application/vnd.jupyter.widget-view+json": {
       "model_id": "0ceced0b16534a65a8cd04cf401a5fa4",
       "version_major": 2,
       "version_minor": 0
      },
      "text/plain": [
       "  0%|          | 0/456 [00:00<?, ?it/s]"
      ]
     },
     "metadata": {},
     "output_type": "display_data"
    },
    {
     "data": {
      "application/vnd.jupyter.widget-view+json": {
       "model_id": "4cba14a651de4c78ad648911be75eda7",
       "version_major": 2,
       "version_minor": 0
      },
      "text/plain": [
       "  0%|          | 0/51 [00:00<?, ?it/s]"
      ]
     },
     "metadata": {},
     "output_type": "display_data"
    },
    {
     "name": "stdout",
     "output_type": "stream",
     "text": [
      "Epoch [69], Train Loss : [1.30807] Val Loss : [2.19006] Val F1 : [0.21053]\n"
     ]
    },
    {
     "data": {
      "application/vnd.jupyter.widget-view+json": {
       "model_id": "79af26c8ade84dc086586039a5d939e2",
       "version_major": 2,
       "version_minor": 0
      },
      "text/plain": [
       "  0%|          | 0/456 [00:00<?, ?it/s]"
      ]
     },
     "metadata": {},
     "output_type": "display_data"
    },
    {
     "data": {
      "application/vnd.jupyter.widget-view+json": {
       "model_id": "04d3d93f7a6140a3a28f4a6f0dfbd3f7",
       "version_major": 2,
       "version_minor": 0
      },
      "text/plain": [
       "  0%|          | 0/51 [00:00<?, ?it/s]"
      ]
     },
     "metadata": {},
     "output_type": "display_data"
    },
    {
     "name": "stdout",
     "output_type": "stream",
     "text": [
      "Epoch [70], Train Loss : [1.30753] Val Loss : [2.19033] Val F1 : [0.21053]\n"
     ]
    },
    {
     "data": {
      "application/vnd.jupyter.widget-view+json": {
       "model_id": "06d9c94316d8426eb1b6f9d2cde3dbd1",
       "version_major": 2,
       "version_minor": 0
      },
      "text/plain": [
       "  0%|          | 0/456 [00:00<?, ?it/s]"
      ]
     },
     "metadata": {},
     "output_type": "display_data"
    },
    {
     "data": {
      "application/vnd.jupyter.widget-view+json": {
       "model_id": "fdebad283af84d1f8dcf622a57b46420",
       "version_major": 2,
       "version_minor": 0
      },
      "text/plain": [
       "  0%|          | 0/51 [00:00<?, ?it/s]"
      ]
     },
     "metadata": {},
     "output_type": "display_data"
    },
    {
     "name": "stdout",
     "output_type": "stream",
     "text": [
      "Epoch [71], Train Loss : [1.30716] Val Loss : [2.19033] Val F1 : [0.21053]\n"
     ]
    },
    {
     "data": {
      "application/vnd.jupyter.widget-view+json": {
       "model_id": "c4030f63ee3e455d91d57e86a56ddf8a",
       "version_major": 2,
       "version_minor": 0
      },
      "text/plain": [
       "  0%|          | 0/456 [00:00<?, ?it/s]"
      ]
     },
     "metadata": {},
     "output_type": "display_data"
    },
    {
     "data": {
      "application/vnd.jupyter.widget-view+json": {
       "model_id": "f958084414964d4ba30d47fcf406c8a0",
       "version_major": 2,
       "version_minor": 0
      },
      "text/plain": [
       "  0%|          | 0/51 [00:00<?, ?it/s]"
      ]
     },
     "metadata": {},
     "output_type": "display_data"
    },
    {
     "name": "stdout",
     "output_type": "stream",
     "text": [
      "Epoch [72], Train Loss : [1.30690] Val Loss : [2.19069] Val F1 : [0.21053]\n"
     ]
    },
    {
     "data": {
      "application/vnd.jupyter.widget-view+json": {
       "model_id": "7689fa55f6ee4df2ac498670dde0a5a5",
       "version_major": 2,
       "version_minor": 0
      },
      "text/plain": [
       "  0%|          | 0/456 [00:00<?, ?it/s]"
      ]
     },
     "metadata": {},
     "output_type": "display_data"
    },
    {
     "data": {
      "application/vnd.jupyter.widget-view+json": {
       "model_id": "be9cfed1fd894b1bab14ae8e1bc75951",
       "version_major": 2,
       "version_minor": 0
      },
      "text/plain": [
       "  0%|          | 0/51 [00:00<?, ?it/s]"
      ]
     },
     "metadata": {},
     "output_type": "display_data"
    },
    {
     "name": "stdout",
     "output_type": "stream",
     "text": [
      "Epoch [73], Train Loss : [1.30703] Val Loss : [2.19076] Val F1 : [0.21053]\n"
     ]
    },
    {
     "data": {
      "application/vnd.jupyter.widget-view+json": {
       "model_id": "9478b3a71541410bb8af2fcacb55bc66",
       "version_major": 2,
       "version_minor": 0
      },
      "text/plain": [
       "  0%|          | 0/456 [00:00<?, ?it/s]"
      ]
     },
     "metadata": {},
     "output_type": "display_data"
    },
    {
     "data": {
      "application/vnd.jupyter.widget-view+json": {
       "model_id": "2dda0d30a6a246f483e8a68818860948",
       "version_major": 2,
       "version_minor": 0
      },
      "text/plain": [
       "  0%|          | 0/51 [00:00<?, ?it/s]"
      ]
     },
     "metadata": {},
     "output_type": "display_data"
    },
    {
     "name": "stdout",
     "output_type": "stream",
     "text": [
      "Epoch [74], Train Loss : [1.30607] Val Loss : [2.19102] Val F1 : [0.21053]\n"
     ]
    },
    {
     "data": {
      "application/vnd.jupyter.widget-view+json": {
       "model_id": "9cf04eb9593e40d191a57adda23a9c89",
       "version_major": 2,
       "version_minor": 0
      },
      "text/plain": [
       "  0%|          | 0/456 [00:00<?, ?it/s]"
      ]
     },
     "metadata": {},
     "output_type": "display_data"
    },
    {
     "data": {
      "application/vnd.jupyter.widget-view+json": {
       "model_id": "816fe09a214c40d6924bf36a7bab6452",
       "version_major": 2,
       "version_minor": 0
      },
      "text/plain": [
       "  0%|          | 0/51 [00:00<?, ?it/s]"
      ]
     },
     "metadata": {},
     "output_type": "display_data"
    },
    {
     "name": "stdout",
     "output_type": "stream",
     "text": [
      "Epoch [75], Train Loss : [1.30648] Val Loss : [2.19090] Val F1 : [0.21053]\n"
     ]
    },
    {
     "data": {
      "application/vnd.jupyter.widget-view+json": {
       "model_id": "7d27c39a5ff94a9ca6d9883efb855e3e",
       "version_major": 2,
       "version_minor": 0
      },
      "text/plain": [
       "  0%|          | 0/456 [00:00<?, ?it/s]"
      ]
     },
     "metadata": {},
     "output_type": "display_data"
    },
    {
     "data": {
      "application/vnd.jupyter.widget-view+json": {
       "model_id": "292183705f084835a549856ec93fa980",
       "version_major": 2,
       "version_minor": 0
      },
      "text/plain": [
       "  0%|          | 0/51 [00:00<?, ?it/s]"
      ]
     },
     "metadata": {},
     "output_type": "display_data"
    },
    {
     "name": "stdout",
     "output_type": "stream",
     "text": [
      "Epoch [76], Train Loss : [1.30532] Val Loss : [2.19114] Val F1 : [0.21053]\n"
     ]
    },
    {
     "data": {
      "application/vnd.jupyter.widget-view+json": {
       "model_id": "6b89649407384920b7f4e774f1d3cbef",
       "version_major": 2,
       "version_minor": 0
      },
      "text/plain": [
       "  0%|          | 0/456 [00:00<?, ?it/s]"
      ]
     },
     "metadata": {},
     "output_type": "display_data"
    },
    {
     "data": {
      "application/vnd.jupyter.widget-view+json": {
       "model_id": "cabe89cd962847378defdd6af8e201b7",
       "version_major": 2,
       "version_minor": 0
      },
      "text/plain": [
       "  0%|          | 0/51 [00:00<?, ?it/s]"
      ]
     },
     "metadata": {},
     "output_type": "display_data"
    },
    {
     "name": "stdout",
     "output_type": "stream",
     "text": [
      "Epoch [77], Train Loss : [1.30593] Val Loss : [2.19141] Val F1 : [0.21053]\n"
     ]
    },
    {
     "data": {
      "application/vnd.jupyter.widget-view+json": {
       "model_id": "90202cd5d1f34d3d88c03aa4e73f29da",
       "version_major": 2,
       "version_minor": 0
      },
      "text/plain": [
       "  0%|          | 0/456 [00:00<?, ?it/s]"
      ]
     },
     "metadata": {},
     "output_type": "display_data"
    },
    {
     "data": {
      "application/vnd.jupyter.widget-view+json": {
       "model_id": "b62ef2f5264e49dea021d8e9ef46fd4c",
       "version_major": 2,
       "version_minor": 0
      },
      "text/plain": [
       "  0%|          | 0/51 [00:00<?, ?it/s]"
      ]
     },
     "metadata": {},
     "output_type": "display_data"
    },
    {
     "name": "stdout",
     "output_type": "stream",
     "text": [
      "Epoch [78], Train Loss : [1.30625] Val Loss : [2.19161] Val F1 : [0.21053]\n"
     ]
    },
    {
     "data": {
      "application/vnd.jupyter.widget-view+json": {
       "model_id": "5b88ea10d7cb41f2990881d5cd1004ad",
       "version_major": 2,
       "version_minor": 0
      },
      "text/plain": [
       "  0%|          | 0/456 [00:00<?, ?it/s]"
      ]
     },
     "metadata": {},
     "output_type": "display_data"
    },
    {
     "data": {
      "application/vnd.jupyter.widget-view+json": {
       "model_id": "6d0dcb5ae0e34070a72952d8de72cbcc",
       "version_major": 2,
       "version_minor": 0
      },
      "text/plain": [
       "  0%|          | 0/51 [00:00<?, ?it/s]"
      ]
     },
     "metadata": {},
     "output_type": "display_data"
    },
    {
     "name": "stdout",
     "output_type": "stream",
     "text": [
      "Epoch [79], Train Loss : [1.30616] Val Loss : [2.19167] Val F1 : [0.21053]\n"
     ]
    },
    {
     "data": {
      "application/vnd.jupyter.widget-view+json": {
       "model_id": "369983c975534a6bbcbbeb8792b04d1c",
       "version_major": 2,
       "version_minor": 0
      },
      "text/plain": [
       "  0%|          | 0/456 [00:00<?, ?it/s]"
      ]
     },
     "metadata": {},
     "output_type": "display_data"
    },
    {
     "data": {
      "application/vnd.jupyter.widget-view+json": {
       "model_id": "fe762ccde5db4857bbaf069c73a2a0f0",
       "version_major": 2,
       "version_minor": 0
      },
      "text/plain": [
       "  0%|          | 0/51 [00:00<?, ?it/s]"
      ]
     },
     "metadata": {},
     "output_type": "display_data"
    },
    {
     "name": "stdout",
     "output_type": "stream",
     "text": [
      "Epoch [80], Train Loss : [1.30441] Val Loss : [2.19195] Val F1 : [0.21053]\n"
     ]
    },
    {
     "data": {
      "application/vnd.jupyter.widget-view+json": {
       "model_id": "147601ef8190486f864cd507b525dc6d",
       "version_major": 2,
       "version_minor": 0
      },
      "text/plain": [
       "  0%|          | 0/456 [00:00<?, ?it/s]"
      ]
     },
     "metadata": {},
     "output_type": "display_data"
    },
    {
     "data": {
      "application/vnd.jupyter.widget-view+json": {
       "model_id": "d76367d3974948ca93484f2aaf405569",
       "version_major": 2,
       "version_minor": 0
      },
      "text/plain": [
       "  0%|          | 0/51 [00:00<?, ?it/s]"
      ]
     },
     "metadata": {},
     "output_type": "display_data"
    },
    {
     "name": "stdout",
     "output_type": "stream",
     "text": [
      "Epoch [81], Train Loss : [1.30549] Val Loss : [2.19210] Val F1 : [0.20888]\n"
     ]
    },
    {
     "data": {
      "application/vnd.jupyter.widget-view+json": {
       "model_id": "4c10a43a7e9b424f8f81c3c973c8f203",
       "version_major": 2,
       "version_minor": 0
      },
      "text/plain": [
       "  0%|          | 0/456 [00:00<?, ?it/s]"
      ]
     },
     "metadata": {},
     "output_type": "display_data"
    },
    {
     "data": {
      "application/vnd.jupyter.widget-view+json": {
       "model_id": "d709e9a5981744b8b7d03ff0413eedf2",
       "version_major": 2,
       "version_minor": 0
      },
      "text/plain": [
       "  0%|          | 0/51 [00:00<?, ?it/s]"
      ]
     },
     "metadata": {},
     "output_type": "display_data"
    },
    {
     "name": "stdout",
     "output_type": "stream",
     "text": [
      "Epoch [82], Train Loss : [1.30613] Val Loss : [2.19255] Val F1 : [0.21053]\n"
     ]
    },
    {
     "data": {
      "application/vnd.jupyter.widget-view+json": {
       "model_id": "f500d671440241838a41f711838cc08f",
       "version_major": 2,
       "version_minor": 0
      },
      "text/plain": [
       "  0%|          | 0/456 [00:00<?, ?it/s]"
      ]
     },
     "metadata": {},
     "output_type": "display_data"
    },
    {
     "data": {
      "application/vnd.jupyter.widget-view+json": {
       "model_id": "92ebc30b4bdc40b4b375c29d7569840f",
       "version_major": 2,
       "version_minor": 0
      },
      "text/plain": [
       "  0%|          | 0/51 [00:00<?, ?it/s]"
      ]
     },
     "metadata": {},
     "output_type": "display_data"
    },
    {
     "name": "stdout",
     "output_type": "stream",
     "text": [
      "Epoch [83], Train Loss : [1.30476] Val Loss : [2.19254] Val F1 : [0.20888]\n"
     ]
    },
    {
     "data": {
      "application/vnd.jupyter.widget-view+json": {
       "model_id": "87b76b75ce4749f2bfc65fefed831be1",
       "version_major": 2,
       "version_minor": 0
      },
      "text/plain": [
       "  0%|          | 0/456 [00:00<?, ?it/s]"
      ]
     },
     "metadata": {},
     "output_type": "display_data"
    },
    {
     "data": {
      "application/vnd.jupyter.widget-view+json": {
       "model_id": "2891f78fcb0c4d28b677f8ac9be9fb6e",
       "version_major": 2,
       "version_minor": 0
      },
      "text/plain": [
       "  0%|          | 0/51 [00:00<?, ?it/s]"
      ]
     },
     "metadata": {},
     "output_type": "display_data"
    },
    {
     "name": "stdout",
     "output_type": "stream",
     "text": [
      "Epoch [84], Train Loss : [1.30513] Val Loss : [2.19282] Val F1 : [0.20724]\n"
     ]
    },
    {
     "data": {
      "application/vnd.jupyter.widget-view+json": {
       "model_id": "0ec74a4163ee4784b72a087f2ff8ee4a",
       "version_major": 2,
       "version_minor": 0
      },
      "text/plain": [
       "  0%|          | 0/456 [00:00<?, ?it/s]"
      ]
     },
     "metadata": {},
     "output_type": "display_data"
    },
    {
     "data": {
      "application/vnd.jupyter.widget-view+json": {
       "model_id": "8f983d1e69c74b7ba2901dbfd0c5675e",
       "version_major": 2,
       "version_minor": 0
      },
      "text/plain": [
       "  0%|          | 0/51 [00:00<?, ?it/s]"
      ]
     },
     "metadata": {},
     "output_type": "display_data"
    },
    {
     "name": "stdout",
     "output_type": "stream",
     "text": [
      "Epoch [85], Train Loss : [1.30553] Val Loss : [2.19307] Val F1 : [0.20724]\n"
     ]
    },
    {
     "data": {
      "application/vnd.jupyter.widget-view+json": {
       "model_id": "0936be93d9f441d8b35ae5764beecd0e",
       "version_major": 2,
       "version_minor": 0
      },
      "text/plain": [
       "  0%|          | 0/456 [00:00<?, ?it/s]"
      ]
     },
     "metadata": {},
     "output_type": "display_data"
    },
    {
     "data": {
      "application/vnd.jupyter.widget-view+json": {
       "model_id": "1f62ab55b83d4e58a5e06969b512f564",
       "version_major": 2,
       "version_minor": 0
      },
      "text/plain": [
       "  0%|          | 0/51 [00:00<?, ?it/s]"
      ]
     },
     "metadata": {},
     "output_type": "display_data"
    },
    {
     "name": "stdout",
     "output_type": "stream",
     "text": [
      "Epoch [86], Train Loss : [1.30403] Val Loss : [2.19324] Val F1 : [0.20724]\n"
     ]
    },
    {
     "data": {
      "application/vnd.jupyter.widget-view+json": {
       "model_id": "d1a5b2be0b594b04a1e8f2a0345cc1db",
       "version_major": 2,
       "version_minor": 0
      },
      "text/plain": [
       "  0%|          | 0/456 [00:00<?, ?it/s]"
      ]
     },
     "metadata": {},
     "output_type": "display_data"
    },
    {
     "data": {
      "application/vnd.jupyter.widget-view+json": {
       "model_id": "2186943cf621420d9aa9c0e479f6e233",
       "version_major": 2,
       "version_minor": 0
      },
      "text/plain": [
       "  0%|          | 0/51 [00:00<?, ?it/s]"
      ]
     },
     "metadata": {},
     "output_type": "display_data"
    },
    {
     "name": "stdout",
     "output_type": "stream",
     "text": [
      "Epoch [87], Train Loss : [1.30444] Val Loss : [2.19354] Val F1 : [0.20724]\n"
     ]
    },
    {
     "data": {
      "application/vnd.jupyter.widget-view+json": {
       "model_id": "2b00a77d4fe143379f50701ac27e50c7",
       "version_major": 2,
       "version_minor": 0
      },
      "text/plain": [
       "  0%|          | 0/456 [00:00<?, ?it/s]"
      ]
     },
     "metadata": {},
     "output_type": "display_data"
    },
    {
     "data": {
      "application/vnd.jupyter.widget-view+json": {
       "model_id": "92ad40021be74ed6aaf63571fa85aa49",
       "version_major": 2,
       "version_minor": 0
      },
      "text/plain": [
       "  0%|          | 0/51 [00:00<?, ?it/s]"
      ]
     },
     "metadata": {},
     "output_type": "display_data"
    },
    {
     "name": "stdout",
     "output_type": "stream",
     "text": [
      "Epoch [88], Train Loss : [1.30400] Val Loss : [2.19354] Val F1 : [0.20888]\n"
     ]
    },
    {
     "data": {
      "application/vnd.jupyter.widget-view+json": {
       "model_id": "506c01a6785f4f35b75ede2007eff8bf",
       "version_major": 2,
       "version_minor": 0
      },
      "text/plain": [
       "  0%|          | 0/456 [00:00<?, ?it/s]"
      ]
     },
     "metadata": {},
     "output_type": "display_data"
    },
    {
     "data": {
      "application/vnd.jupyter.widget-view+json": {
       "model_id": "edb27d888a6240ee8396dae3bbd0ef6c",
       "version_major": 2,
       "version_minor": 0
      },
      "text/plain": [
       "  0%|          | 0/51 [00:00<?, ?it/s]"
      ]
     },
     "metadata": {},
     "output_type": "display_data"
    },
    {
     "name": "stdout",
     "output_type": "stream",
     "text": [
      "Epoch [89], Train Loss : [1.30524] Val Loss : [2.19371] Val F1 : [0.20888]\n"
     ]
    },
    {
     "data": {
      "application/vnd.jupyter.widget-view+json": {
       "model_id": "1f1df1dd714140348769915818214fac",
       "version_major": 2,
       "version_minor": 0
      },
      "text/plain": [
       "  0%|          | 0/456 [00:00<?, ?it/s]"
      ]
     },
     "metadata": {},
     "output_type": "display_data"
    },
    {
     "data": {
      "application/vnd.jupyter.widget-view+json": {
       "model_id": "87a06f7ac6634a41919b5d144f3bbfac",
       "version_major": 2,
       "version_minor": 0
      },
      "text/plain": [
       "  0%|          | 0/51 [00:00<?, ?it/s]"
      ]
     },
     "metadata": {},
     "output_type": "display_data"
    },
    {
     "name": "stdout",
     "output_type": "stream",
     "text": [
      "Epoch [90], Train Loss : [1.30412] Val Loss : [2.19386] Val F1 : [0.20888]\n"
     ]
    },
    {
     "data": {
      "application/vnd.jupyter.widget-view+json": {
       "model_id": "cad2101a49e041b8935cd9d32a62bae5",
       "version_major": 2,
       "version_minor": 0
      },
      "text/plain": [
       "  0%|          | 0/456 [00:00<?, ?it/s]"
      ]
     },
     "metadata": {},
     "output_type": "display_data"
    },
    {
     "data": {
      "application/vnd.jupyter.widget-view+json": {
       "model_id": "ae81280346444ece99dd361fb70b0daa",
       "version_major": 2,
       "version_minor": 0
      },
      "text/plain": [
       "  0%|          | 0/51 [00:00<?, ?it/s]"
      ]
     },
     "metadata": {},
     "output_type": "display_data"
    },
    {
     "name": "stdout",
     "output_type": "stream",
     "text": [
      "Epoch [91], Train Loss : [1.30321] Val Loss : [2.19399] Val F1 : [0.20888]\n"
     ]
    },
    {
     "data": {
      "application/vnd.jupyter.widget-view+json": {
       "model_id": "27d182ec41a742c48cf30341ec318515",
       "version_major": 2,
       "version_minor": 0
      },
      "text/plain": [
       "  0%|          | 0/456 [00:00<?, ?it/s]"
      ]
     },
     "metadata": {},
     "output_type": "display_data"
    },
    {
     "data": {
      "application/vnd.jupyter.widget-view+json": {
       "model_id": "eb3523702ae245b68494b8d7289a34ee",
       "version_major": 2,
       "version_minor": 0
      },
      "text/plain": [
       "  0%|          | 0/51 [00:00<?, ?it/s]"
      ]
     },
     "metadata": {},
     "output_type": "display_data"
    },
    {
     "name": "stdout",
     "output_type": "stream",
     "text": [
      "Epoch [92], Train Loss : [1.30467] Val Loss : [2.19437] Val F1 : [0.20888]\n"
     ]
    },
    {
     "data": {
      "application/vnd.jupyter.widget-view+json": {
       "model_id": "e8dec39e5c3e4ea8a6a3a46f2c902035",
       "version_major": 2,
       "version_minor": 0
      },
      "text/plain": [
       "  0%|          | 0/456 [00:00<?, ?it/s]"
      ]
     },
     "metadata": {},
     "output_type": "display_data"
    },
    {
     "data": {
      "application/vnd.jupyter.widget-view+json": {
       "model_id": "1455453dd86644a7bf521961939df53f",
       "version_major": 2,
       "version_minor": 0
      },
      "text/plain": [
       "  0%|          | 0/51 [00:00<?, ?it/s]"
      ]
     },
     "metadata": {},
     "output_type": "display_data"
    },
    {
     "name": "stdout",
     "output_type": "stream",
     "text": [
      "Epoch [93], Train Loss : [1.30320] Val Loss : [2.19444] Val F1 : [0.20888]\n"
     ]
    },
    {
     "data": {
      "application/vnd.jupyter.widget-view+json": {
       "model_id": "499019efe98c4221b2f107a3dea20f70",
       "version_major": 2,
       "version_minor": 0
      },
      "text/plain": [
       "  0%|          | 0/456 [00:00<?, ?it/s]"
      ]
     },
     "metadata": {},
     "output_type": "display_data"
    },
    {
     "data": {
      "application/vnd.jupyter.widget-view+json": {
       "model_id": "564bde5a54ea452b94bcfeb5a5fa2599",
       "version_major": 2,
       "version_minor": 0
      },
      "text/plain": [
       "  0%|          | 0/51 [00:00<?, ?it/s]"
      ]
     },
     "metadata": {},
     "output_type": "display_data"
    },
    {
     "name": "stdout",
     "output_type": "stream",
     "text": [
      "Epoch [94], Train Loss : [1.30360] Val Loss : [2.19475] Val F1 : [0.20888]\n"
     ]
    },
    {
     "data": {
      "application/vnd.jupyter.widget-view+json": {
       "model_id": "af696fc1c7154c548096eaf4378c5830",
       "version_major": 2,
       "version_minor": 0
      },
      "text/plain": [
       "  0%|          | 0/456 [00:00<?, ?it/s]"
      ]
     },
     "metadata": {},
     "output_type": "display_data"
    },
    {
     "data": {
      "application/vnd.jupyter.widget-view+json": {
       "model_id": "d251728b0070424183e3dee21da086d7",
       "version_major": 2,
       "version_minor": 0
      },
      "text/plain": [
       "  0%|          | 0/51 [00:00<?, ?it/s]"
      ]
     },
     "metadata": {},
     "output_type": "display_data"
    },
    {
     "name": "stdout",
     "output_type": "stream",
     "text": [
      "Epoch [95], Train Loss : [1.30407] Val Loss : [2.19527] Val F1 : [0.20888]\n"
     ]
    },
    {
     "data": {
      "application/vnd.jupyter.widget-view+json": {
       "model_id": "171d82be923d4d6b9291d215e4c6a34d",
       "version_major": 2,
       "version_minor": 0
      },
      "text/plain": [
       "  0%|          | 0/456 [00:00<?, ?it/s]"
      ]
     },
     "metadata": {},
     "output_type": "display_data"
    },
    {
     "data": {
      "application/vnd.jupyter.widget-view+json": {
       "model_id": "3e3b7b53ff824321a0ae9d180b928161",
       "version_major": 2,
       "version_minor": 0
      },
      "text/plain": [
       "  0%|          | 0/51 [00:00<?, ?it/s]"
      ]
     },
     "metadata": {},
     "output_type": "display_data"
    },
    {
     "name": "stdout",
     "output_type": "stream",
     "text": [
      "Epoch [96], Train Loss : [1.30282] Val Loss : [2.19547] Val F1 : [0.20888]\n"
     ]
    },
    {
     "data": {
      "application/vnd.jupyter.widget-view+json": {
       "model_id": "ec7651f18c114c17859cb9775406bff5",
       "version_major": 2,
       "version_minor": 0
      },
      "text/plain": [
       "  0%|          | 0/456 [00:00<?, ?it/s]"
      ]
     },
     "metadata": {},
     "output_type": "display_data"
    },
    {
     "data": {
      "application/vnd.jupyter.widget-view+json": {
       "model_id": "14428c5ff3c34eb18723b091f89c6638",
       "version_major": 2,
       "version_minor": 0
      },
      "text/plain": [
       "  0%|          | 0/51 [00:00<?, ?it/s]"
      ]
     },
     "metadata": {},
     "output_type": "display_data"
    },
    {
     "name": "stdout",
     "output_type": "stream",
     "text": [
      "Epoch [97], Train Loss : [1.30218] Val Loss : [2.19561] Val F1 : [0.20888]\n"
     ]
    },
    {
     "data": {
      "application/vnd.jupyter.widget-view+json": {
       "model_id": "a152b85f6c094d06a844c2d590d9dc95",
       "version_major": 2,
       "version_minor": 0
      },
      "text/plain": [
       "  0%|          | 0/456 [00:00<?, ?it/s]"
      ]
     },
     "metadata": {},
     "output_type": "display_data"
    },
    {
     "data": {
      "application/vnd.jupyter.widget-view+json": {
       "model_id": "4def44a8b69f4f82aee37c3783de4c73",
       "version_major": 2,
       "version_minor": 0
      },
      "text/plain": [
       "  0%|          | 0/51 [00:00<?, ?it/s]"
      ]
     },
     "metadata": {},
     "output_type": "display_data"
    },
    {
     "name": "stdout",
     "output_type": "stream",
     "text": [
      "Epoch [98], Train Loss : [1.30351] Val Loss : [2.19568] Val F1 : [0.20888]\n"
     ]
    },
    {
     "data": {
      "application/vnd.jupyter.widget-view+json": {
       "model_id": "e24e2639c32e4699a926cccd9dc57b9d",
       "version_major": 2,
       "version_minor": 0
      },
      "text/plain": [
       "  0%|          | 0/456 [00:00<?, ?it/s]"
      ]
     },
     "metadata": {},
     "output_type": "display_data"
    },
    {
     "data": {
      "application/vnd.jupyter.widget-view+json": {
       "model_id": "b450ccfb35534e1889eb10c721596250",
       "version_major": 2,
       "version_minor": 0
      },
      "text/plain": [
       "  0%|          | 0/51 [00:00<?, ?it/s]"
      ]
     },
     "metadata": {},
     "output_type": "display_data"
    },
    {
     "name": "stdout",
     "output_type": "stream",
     "text": [
      "Epoch [99], Train Loss : [1.30247] Val Loss : [2.19590] Val F1 : [0.20888]\n"
     ]
    },
    {
     "data": {
      "application/vnd.jupyter.widget-view+json": {
       "model_id": "af8b3bfb9a5d42f59d27cb02610fd7db",
       "version_major": 2,
       "version_minor": 0
      },
      "text/plain": [
       "  0%|          | 0/456 [00:00<?, ?it/s]"
      ]
     },
     "metadata": {},
     "output_type": "display_data"
    },
    {
     "data": {
      "application/vnd.jupyter.widget-view+json": {
       "model_id": "c2941da937cb45578ac2415bf0ba0595",
       "version_major": 2,
       "version_minor": 0
      },
      "text/plain": [
       "  0%|          | 0/51 [00:00<?, ?it/s]"
      ]
     },
     "metadata": {},
     "output_type": "display_data"
    },
    {
     "name": "stdout",
     "output_type": "stream",
     "text": [
      "Epoch [100], Train Loss : [1.30331] Val Loss : [2.19580] Val F1 : [0.21053]\n"
     ]
    }
   ],
   "source": [
    "model = vit.ViT(n_classes = 15)\n",
    "model.eval()\n",
    "optimizer = torch.optim.Adam(params = model.parameters(), lr = CFG[\"LEARNING_RATE\"])\n",
    "scheduler = torch.optim.lr_scheduler.ReduceLROnPlateau(optimizer, mode='max', factor=0.5, patience=2,threshold_mode='abs',min_lr=1e-8, verbose=True)\n",
    "\n",
    "infer_model = train(model, optimizer, train_loader, val_loader, scheduler, device)"
   ]
  },
  {
   "cell_type": "code",
   "execution_count": 26,
   "id": "ca96d9da",
   "metadata": {},
   "outputs": [],
   "source": [
    "test_dataset = CustomDataset(test_df, test_df['img_path'].values, None, tfms=tfms)\n",
    "test_loader = DataLoader(test_dataset, batch_size = CFG['BATCH_SIZE'], shuffle=False, num_workers=0)"
   ]
  },
  {
   "cell_type": "code",
   "execution_count": 27,
   "id": "d4233fe0",
   "metadata": {},
   "outputs": [],
   "source": [
    "def inference(model, test_loader, device):\n",
    "    model.to(device)\n",
    "    model.eval()\n",
    "    preds = []\n",
    "    with torch.no_grad():\n",
    "        for videos in tqdm(iter(test_loader)):\n",
    "            videos = videos.to(device)\n",
    "            logit = model(videos)\n",
    "            preds += logit.argmax(1).detach().cpu().numpy().tolist()\n",
    "    return preds"
   ]
  },
  {
   "cell_type": "code",
   "execution_count": 28,
   "id": "4e04ea42",
   "metadata": {},
   "outputs": [
    {
     "data": {
      "application/vnd.jupyter.widget-view+json": {
       "model_id": "cf1dd758131c434e86905adda82c78e9",
       "version_major": 2,
       "version_minor": 0
      },
      "text/plain": [
       "  0%|          | 0/798 [00:00<?, ?it/s]"
      ]
     },
     "metadata": {},
     "output_type": "display_data"
    }
   ],
   "source": [
    "preds = inference(model, test_loader, device)"
   ]
  },
  {
   "cell_type": "code",
   "execution_count": 29,
   "id": "16a5100e",
   "metadata": {},
   "outputs": [
    {
     "data": {
      "text/html": [
       "<div>\n",
       "<style scoped>\n",
       "    .dataframe tbody tr th:only-of-type {\n",
       "        vertical-align: middle;\n",
       "    }\n",
       "\n",
       "    .dataframe tbody tr th {\n",
       "        vertical-align: top;\n",
       "    }\n",
       "\n",
       "    .dataframe thead th {\n",
       "        text-align: right;\n",
       "    }\n",
       "</style>\n",
       "<table border=\"1\" class=\"dataframe\">\n",
       "  <thead>\n",
       "    <tr style=\"text-align: right;\">\n",
       "      <th></th>\n",
       "      <th>Unnamed: 0</th>\n",
       "      <th>ts</th>\n",
       "      <th>action</th>\n",
       "      <th>img_path</th>\n",
       "    </tr>\n",
       "  </thead>\n",
       "  <tbody>\n",
       "    <tr>\n",
       "      <th>0</th>\n",
       "      <td>42176</td>\n",
       "      <td>1.600573e+09</td>\n",
       "      <td>4</td>\n",
       "      <td>./train/data/user04/1600558200/RP/1600572600.png</td>\n",
       "    </tr>\n",
       "    <tr>\n",
       "      <th>1</th>\n",
       "      <td>46781</td>\n",
       "      <td>1.601090e+09</td>\n",
       "      <td>8</td>\n",
       "      <td>./train/data/user04/1601079300/RP/1601089620.png</td>\n",
       "    </tr>\n",
       "    <tr>\n",
       "      <th>2</th>\n",
       "      <td>41251</td>\n",
       "      <td>1.600476e+09</td>\n",
       "      <td>8</td>\n",
       "      <td>./train/data/user04/1600470000/RP/1600475940.png</td>\n",
       "    </tr>\n",
       "    <tr>\n",
       "      <th>3</th>\n",
       "      <td>32495</td>\n",
       "      <td>1.599353e+09</td>\n",
       "      <td>7</td>\n",
       "      <td>./train/data/user04/1599347400/RP/1599352560.png</td>\n",
       "    </tr>\n",
       "    <tr>\n",
       "      <th>4</th>\n",
       "      <td>34492</td>\n",
       "      <td>1.599566e+09</td>\n",
       "      <td>5</td>\n",
       "      <td>./train/data/user04/1599522960/RP/1599566280.png</td>\n",
       "    </tr>\n",
       "    <tr>\n",
       "      <th>...</th>\n",
       "      <td>...</td>\n",
       "      <td>...</td>\n",
       "      <td>...</td>\n",
       "      <td>...</td>\n",
       "    </tr>\n",
       "    <tr>\n",
       "      <th>9562</th>\n",
       "      <td>15701</td>\n",
       "      <td>1.599102e+09</td>\n",
       "      <td>4</td>\n",
       "      <td>./train/data/user03/1599058980/RP/1599101940.png</td>\n",
       "    </tr>\n",
       "    <tr>\n",
       "      <th>9563</th>\n",
       "      <td>10536</td>\n",
       "      <td>1.599898e+09</td>\n",
       "      <td>4</td>\n",
       "      <td>./train/data/user02/1599893100/RP/1599897600.png</td>\n",
       "    </tr>\n",
       "    <tr>\n",
       "      <th>9564</th>\n",
       "      <td>12726</td>\n",
       "      <td>1.600769e+09</td>\n",
       "      <td>4</td>\n",
       "      <td>./train/data/user02/1600700400/RP/1600769280.png</td>\n",
       "    </tr>\n",
       "    <tr>\n",
       "      <th>9565</th>\n",
       "      <td>28573</td>\n",
       "      <td>1.598851e+09</td>\n",
       "      <td>14</td>\n",
       "      <td>./train/data/user04/1598828400/RP/1598850540.png</td>\n",
       "    </tr>\n",
       "    <tr>\n",
       "      <th>9566</th>\n",
       "      <td>27092</td>\n",
       "      <td>1.601118e+09</td>\n",
       "      <td>8</td>\n",
       "      <td>./train/data/user03/1601054580/RP/1601117820.png</td>\n",
       "    </tr>\n",
       "  </tbody>\n",
       "</table>\n",
       "<p>9567 rows × 4 columns</p>\n",
       "</div>"
      ],
      "text/plain": [
       "      Unnamed: 0            ts  action  \\\n",
       "0          42176  1.600573e+09       4   \n",
       "1          46781  1.601090e+09       8   \n",
       "2          41251  1.600476e+09       8   \n",
       "3          32495  1.599353e+09       7   \n",
       "4          34492  1.599566e+09       5   \n",
       "...          ...           ...     ...   \n",
       "9562       15701  1.599102e+09       4   \n",
       "9563       10536  1.599898e+09       4   \n",
       "9564       12726  1.600769e+09       4   \n",
       "9565       28573  1.598851e+09      14   \n",
       "9566       27092  1.601118e+09       8   \n",
       "\n",
       "                                              img_path  \n",
       "0     ./train/data/user04/1600558200/RP/1600572600.png  \n",
       "1     ./train/data/user04/1601079300/RP/1601089620.png  \n",
       "2     ./train/data/user04/1600470000/RP/1600475940.png  \n",
       "3     ./train/data/user04/1599347400/RP/1599352560.png  \n",
       "4     ./train/data/user04/1599522960/RP/1599566280.png  \n",
       "...                                                ...  \n",
       "9562  ./train/data/user03/1599058980/RP/1599101940.png  \n",
       "9563  ./train/data/user02/1599893100/RP/1599897600.png  \n",
       "9564  ./train/data/user02/1600700400/RP/1600769280.png  \n",
       "9565  ./train/data/user04/1598828400/RP/1598850540.png  \n",
       "9566  ./train/data/user03/1601054580/RP/1601117820.png  \n",
       "\n",
       "[9567 rows x 4 columns]"
      ]
     },
     "execution_count": 29,
     "metadata": {},
     "output_type": "execute_result"
    }
   ],
   "source": [
    "test_df"
   ]
  },
  {
   "cell_type": "code",
   "execution_count": 30,
   "id": "2eea0ab9",
   "metadata": {},
   "outputs": [
    {
     "data": {
      "text/plain": [
       "[13,\n",
       " 14,\n",
       " 14,\n",
       " 3,\n",
       " 14,\n",
       " 3,\n",
       " 3,\n",
       " 10,\n",
       " 14,\n",
       " 3,\n",
       " 13,\n",
       " 14,\n",
       " 14,\n",
       " 4,\n",
       " 8,\n",
       " 14,\n",
       " 8,\n",
       " 14,\n",
       " 13,\n",
       " 10,\n",
       " 4,\n",
       " 8,\n",
       " 11,\n",
       " 3,\n",
       " 8,\n",
       " 10,\n",
       " 14,\n",
       " 7,\n",
       " 14,\n",
       " 3,\n",
       " 14,\n",
       " 5,\n",
       " 13,\n",
       " 14,\n",
       " 3,\n",
       " 3,\n",
       " 4,\n",
       " 3,\n",
       " 8,\n",
       " 14,\n",
       " 14,\n",
       " 7,\n",
       " 8,\n",
       " 4,\n",
       " 12,\n",
       " 4,\n",
       " 4,\n",
       " 8,\n",
       " 8,\n",
       " 14,\n",
       " 14,\n",
       " 2,\n",
       " 8,\n",
       " 13,\n",
       " 14,\n",
       " 13,\n",
       " 5,\n",
       " 14,\n",
       " 14,\n",
       " 7,\n",
       " 5,\n",
       " 5,\n",
       " 14,\n",
       " 10,\n",
       " 14,\n",
       " 2,\n",
       " 14,\n",
       " 14,\n",
       " 13,\n",
       " 7,\n",
       " 3,\n",
       " 8,\n",
       " 14,\n",
       " 7,\n",
       " 14,\n",
       " 8,\n",
       " 10,\n",
       " 3,\n",
       " 4,\n",
       " 4,\n",
       " 3,\n",
       " 14,\n",
       " 8,\n",
       " 13,\n",
       " 11,\n",
       " 5,\n",
       " 13,\n",
       " 12,\n",
       " 7,\n",
       " 7,\n",
       " 13,\n",
       " 12,\n",
       " 2,\n",
       " 11,\n",
       " 14,\n",
       " 13,\n",
       " 11,\n",
       " 7,\n",
       " 14,\n",
       " 10,\n",
       " 3,\n",
       " 5,\n",
       " 10,\n",
       " 11,\n",
       " 3,\n",
       " 8,\n",
       " 4,\n",
       " 7,\n",
       " 10,\n",
       " 14,\n",
       " 3,\n",
       " 2,\n",
       " 12,\n",
       " 14,\n",
       " 14,\n",
       " 11,\n",
       " 8,\n",
       " 8,\n",
       " 4,\n",
       " 5,\n",
       " 11,\n",
       " 5,\n",
       " 7,\n",
       " 7,\n",
       " 6,\n",
       " 7,\n",
       " 5,\n",
       " 4,\n",
       " 10,\n",
       " 5,\n",
       " 2,\n",
       " 6,\n",
       " 14,\n",
       " 11,\n",
       " 5,\n",
       " 7,\n",
       " 13,\n",
       " 10,\n",
       " 10,\n",
       " 2,\n",
       " 10,\n",
       " 8,\n",
       " 12,\n",
       " 13,\n",
       " 14,\n",
       " 4,\n",
       " 10,\n",
       " 5,\n",
       " 8,\n",
       " 3,\n",
       " 13,\n",
       " 13,\n",
       " 5,\n",
       " 12,\n",
       " 7,\n",
       " 8,\n",
       " 10,\n",
       " 8,\n",
       " 8,\n",
       " 12,\n",
       " 5,\n",
       " 8,\n",
       " 11,\n",
       " 2,\n",
       " 8,\n",
       " 13,\n",
       " 12,\n",
       " 12,\n",
       " 14,\n",
       " 13,\n",
       " 13,\n",
       " 5,\n",
       " 6,\n",
       " 14,\n",
       " 4,\n",
       " 14,\n",
       " 5,\n",
       " 8,\n",
       " 11,\n",
       " 13,\n",
       " 10,\n",
       " 10,\n",
       " 12,\n",
       " 14,\n",
       " 8,\n",
       " 14,\n",
       " 4,\n",
       " 14,\n",
       " 3,\n",
       " 4,\n",
       " 13,\n",
       " 7,\n",
       " 5,\n",
       " 12,\n",
       " 3,\n",
       " 4,\n",
       " 14,\n",
       " 13,\n",
       " 14,\n",
       " 5,\n",
       " 8,\n",
       " 10,\n",
       " 3,\n",
       " 11,\n",
       " 14,\n",
       " 13,\n",
       " 5,\n",
       " 2,\n",
       " 6,\n",
       " 13,\n",
       " 7,\n",
       " 7,\n",
       " 14,\n",
       " 10,\n",
       " 8,\n",
       " 14,\n",
       " 2,\n",
       " 5,\n",
       " 12,\n",
       " 4,\n",
       " 14,\n",
       " 14,\n",
       " 3,\n",
       " 12,\n",
       " 7,\n",
       " 8,\n",
       " 12,\n",
       " 7,\n",
       " 14,\n",
       " 11,\n",
       " 8,\n",
       " 14,\n",
       " 13,\n",
       " 8,\n",
       " 8,\n",
       " 11,\n",
       " 3,\n",
       " 12,\n",
       " 14,\n",
       " 2,\n",
       " 5,\n",
       " 8,\n",
       " 14,\n",
       " 13,\n",
       " 14,\n",
       " 6,\n",
       " 8,\n",
       " 8,\n",
       " 13,\n",
       " 4,\n",
       " 8,\n",
       " 8,\n",
       " 5,\n",
       " 7,\n",
       " 4,\n",
       " 2,\n",
       " 4,\n",
       " 12,\n",
       " 12,\n",
       " 8,\n",
       " 4,\n",
       " 5,\n",
       " 8,\n",
       " 10,\n",
       " 12,\n",
       " 13,\n",
       " 7,\n",
       " 13,\n",
       " 6,\n",
       " 4,\n",
       " 14,\n",
       " 12,\n",
       " 11,\n",
       " 11,\n",
       " 12,\n",
       " 11,\n",
       " 3,\n",
       " 5,\n",
       " 11,\n",
       " 13,\n",
       " 3,\n",
       " 11,\n",
       " 9,\n",
       " 13,\n",
       " 7,\n",
       " 4,\n",
       " 8,\n",
       " 14,\n",
       " 4,\n",
       " 11,\n",
       " 6,\n",
       " 7,\n",
       " 7,\n",
       " 14,\n",
       " 13,\n",
       " 14,\n",
       " 5,\n",
       " 12,\n",
       " 3,\n",
       " 14,\n",
       " 12,\n",
       " 10,\n",
       " 4,\n",
       " 7,\n",
       " 7,\n",
       " 14,\n",
       " 5,\n",
       " 8,\n",
       " 4,\n",
       " 9,\n",
       " 13,\n",
       " 13,\n",
       " 10,\n",
       " 6,\n",
       " 14,\n",
       " 4,\n",
       " 11,\n",
       " 7,\n",
       " 3,\n",
       " 5,\n",
       " 4,\n",
       " 7,\n",
       " 10,\n",
       " 3,\n",
       " 2,\n",
       " 3,\n",
       " 13,\n",
       " 7,\n",
       " 3,\n",
       " 14,\n",
       " 2,\n",
       " 14,\n",
       " 2,\n",
       " 13,\n",
       " 12,\n",
       " 12,\n",
       " 7,\n",
       " 3,\n",
       " 4,\n",
       " 4,\n",
       " 3,\n",
       " 4,\n",
       " 12,\n",
       " 5,\n",
       " 8,\n",
       " 5,\n",
       " 2,\n",
       " 11,\n",
       " 14,\n",
       " 2,\n",
       " 7,\n",
       " 9,\n",
       " 10,\n",
       " 14,\n",
       " 3,\n",
       " 5,\n",
       " 14,\n",
       " 5,\n",
       " 3,\n",
       " 14,\n",
       " 13,\n",
       " 13,\n",
       " 14,\n",
       " 5,\n",
       " 4,\n",
       " 10,\n",
       " 5,\n",
       " 8,\n",
       " 11,\n",
       " 14,\n",
       " 4,\n",
       " 10,\n",
       " 5,\n",
       " 4,\n",
       " 5,\n",
       " 14,\n",
       " 13,\n",
       " 2,\n",
       " 2,\n",
       " 14,\n",
       " 14,\n",
       " 12,\n",
       " 6,\n",
       " 8,\n",
       " 7,\n",
       " 12,\n",
       " 12,\n",
       " 4,\n",
       " 6,\n",
       " 12,\n",
       " 14,\n",
       " 2,\n",
       " 7,\n",
       " 14,\n",
       " 14,\n",
       " 2,\n",
       " 14,\n",
       " 2,\n",
       " 7,\n",
       " 4,\n",
       " 12,\n",
       " 14,\n",
       " 6,\n",
       " 5,\n",
       " 14,\n",
       " 7,\n",
       " 13,\n",
       " 14,\n",
       " 14,\n",
       " 13,\n",
       " 5,\n",
       " 8,\n",
       " 13,\n",
       " 10,\n",
       " 2,\n",
       " 12,\n",
       " 8,\n",
       " 11,\n",
       " 7,\n",
       " 3,\n",
       " 7,\n",
       " 11,\n",
       " 5,\n",
       " 11,\n",
       " 14,\n",
       " 14,\n",
       " 14,\n",
       " 14,\n",
       " 10,\n",
       " 10,\n",
       " 3,\n",
       " 4,\n",
       " 3,\n",
       " 5,\n",
       " 8,\n",
       " 9,\n",
       " 6,\n",
       " 13,\n",
       " 4,\n",
       " 14,\n",
       " 2,\n",
       " 14,\n",
       " 10,\n",
       " 12,\n",
       " 14,\n",
       " 7,\n",
       " 8,\n",
       " 2,\n",
       " 8,\n",
       " 10,\n",
       " 3,\n",
       " 11,\n",
       " 9,\n",
       " 3,\n",
       " 14,\n",
       " 14,\n",
       " 14,\n",
       " 8,\n",
       " 8,\n",
       " 12,\n",
       " 14,\n",
       " 14,\n",
       " 8,\n",
       " 11,\n",
       " 3,\n",
       " 13,\n",
       " 14,\n",
       " 3,\n",
       " 12,\n",
       " 14,\n",
       " 11,\n",
       " 10,\n",
       " 2,\n",
       " 5,\n",
       " 7,\n",
       " 12,\n",
       " 8,\n",
       " 13,\n",
       " 5,\n",
       " 14,\n",
       " 3,\n",
       " 14,\n",
       " 5,\n",
       " 14,\n",
       " 4,\n",
       " 13,\n",
       " 6,\n",
       " 3,\n",
       " 5,\n",
       " 14,\n",
       " 12,\n",
       " 14,\n",
       " 7,\n",
       " 7,\n",
       " 14,\n",
       " 2,\n",
       " 2,\n",
       " 14,\n",
       " 11,\n",
       " 5,\n",
       " 7,\n",
       " 2,\n",
       " 7,\n",
       " 8,\n",
       " 5,\n",
       " 14,\n",
       " 14,\n",
       " 4,\n",
       " 14,\n",
       " 4,\n",
       " 7,\n",
       " 7,\n",
       " 11,\n",
       " 8,\n",
       " 14,\n",
       " 6,\n",
       " 12,\n",
       " 4,\n",
       " 7,\n",
       " 2,\n",
       " 14,\n",
       " 12,\n",
       " 10,\n",
       " 8,\n",
       " 7,\n",
       " 3,\n",
       " 14,\n",
       " 14,\n",
       " 5,\n",
       " 11,\n",
       " 13,\n",
       " 7,\n",
       " 5,\n",
       " 2,\n",
       " 8,\n",
       " 14,\n",
       " 3,\n",
       " 11,\n",
       " 2,\n",
       " 12,\n",
       " 8,\n",
       " 4,\n",
       " 9,\n",
       " 14,\n",
       " 14,\n",
       " 5,\n",
       " 11,\n",
       " 11,\n",
       " 14,\n",
       " 3,\n",
       " 11,\n",
       " 14,\n",
       " 14,\n",
       " 6,\n",
       " 4,\n",
       " 14,\n",
       " 13,\n",
       " 14,\n",
       " 11,\n",
       " 12,\n",
       " 3,\n",
       " 13,\n",
       " 12,\n",
       " 14,\n",
       " 2,\n",
       " 5,\n",
       " 4,\n",
       " 7,\n",
       " 14,\n",
       " 11,\n",
       " 8,\n",
       " 6,\n",
       " 10,\n",
       " 14,\n",
       " 4,\n",
       " 6,\n",
       " 12,\n",
       " 13,\n",
       " 14,\n",
       " 11,\n",
       " 13,\n",
       " 4,\n",
       " 8,\n",
       " 8,\n",
       " 11,\n",
       " 2,\n",
       " 11,\n",
       " 11,\n",
       " 7,\n",
       " 14,\n",
       " 3,\n",
       " 7,\n",
       " 13,\n",
       " 3,\n",
       " 4,\n",
       " 7,\n",
       " 11,\n",
       " 4,\n",
       " 6,\n",
       " 2,\n",
       " 7,\n",
       " 14,\n",
       " 14,\n",
       " 13,\n",
       " 5,\n",
       " 6,\n",
       " 14,\n",
       " 7,\n",
       " 6,\n",
       " 13,\n",
       " 14,\n",
       " 14,\n",
       " 11,\n",
       " 8,\n",
       " 8,\n",
       " 10,\n",
       " 4,\n",
       " 12,\n",
       " 7,\n",
       " 4,\n",
       " 13,\n",
       " 13,\n",
       " 2,\n",
       " 14,\n",
       " 7,\n",
       " 12,\n",
       " 14,\n",
       " 6,\n",
       " 13,\n",
       " 4,\n",
       " 12,\n",
       " 14,\n",
       " 12,\n",
       " 14,\n",
       " 2,\n",
       " 6,\n",
       " 10,\n",
       " 6,\n",
       " 5,\n",
       " 11,\n",
       " 14,\n",
       " 4,\n",
       " 13,\n",
       " 10,\n",
       " 11,\n",
       " 5,\n",
       " 3,\n",
       " 7,\n",
       " 2,\n",
       " 14,\n",
       " 14,\n",
       " 13,\n",
       " 3,\n",
       " 14,\n",
       " 10,\n",
       " 3,\n",
       " 5,\n",
       " 14,\n",
       " 13,\n",
       " 13,\n",
       " 12,\n",
       " 3,\n",
       " 12,\n",
       " 10,\n",
       " 8,\n",
       " 3,\n",
       " 2,\n",
       " 3,\n",
       " 12,\n",
       " 14,\n",
       " 10,\n",
       " 14,\n",
       " 5,\n",
       " 13,\n",
       " 8,\n",
       " 14,\n",
       " 12,\n",
       " 5,\n",
       " 14,\n",
       " 3,\n",
       " 14,\n",
       " 10,\n",
       " 5,\n",
       " 4,\n",
       " 7,\n",
       " 13,\n",
       " 5,\n",
       " 7,\n",
       " 8,\n",
       " 14,\n",
       " 3,\n",
       " 4,\n",
       " 12,\n",
       " 10,\n",
       " 14,\n",
       " 11,\n",
       " 8,\n",
       " 14,\n",
       " 12,\n",
       " 14,\n",
       " 4,\n",
       " 13,\n",
       " 5,\n",
       " 4,\n",
       " 2,\n",
       " 14,\n",
       " 8,\n",
       " 4,\n",
       " 7,\n",
       " 11,\n",
       " 14,\n",
       " 6,\n",
       " 11,\n",
       " 11,\n",
       " 4,\n",
       " 8,\n",
       " 13,\n",
       " 9,\n",
       " 13,\n",
       " 13,\n",
       " 10,\n",
       " 4,\n",
       " 5,\n",
       " 14,\n",
       " 4,\n",
       " 11,\n",
       " 4,\n",
       " 8,\n",
       " 4,\n",
       " 4,\n",
       " 4,\n",
       " 14,\n",
       " 13,\n",
       " 13,\n",
       " 13,\n",
       " 4,\n",
       " 9,\n",
       " 5,\n",
       " 4,\n",
       " 8,\n",
       " 8,\n",
       " 6,\n",
       " 14,\n",
       " 12,\n",
       " 6,\n",
       " 8,\n",
       " 14,\n",
       " 4,\n",
       " 14,\n",
       " 11,\n",
       " 7,\n",
       " 12,\n",
       " 3,\n",
       " 3,\n",
       " 2,\n",
       " 13,\n",
       " 8,\n",
       " 4,\n",
       " 4,\n",
       " 4,\n",
       " 14,\n",
       " 4,\n",
       " 8,\n",
       " 2,\n",
       " 5,\n",
       " 13,\n",
       " 14,\n",
       " 10,\n",
       " 4,\n",
       " 12,\n",
       " 3,\n",
       " 7,\n",
       " 7,\n",
       " 11,\n",
       " 11,\n",
       " 10,\n",
       " 5,\n",
       " 5,\n",
       " 7,\n",
       " 4,\n",
       " 4,\n",
       " 5,\n",
       " 13,\n",
       " 12,\n",
       " 13,\n",
       " 13,\n",
       " 11,\n",
       " 13,\n",
       " 14,\n",
       " 14,\n",
       " 8,\n",
       " 5,\n",
       " 4,\n",
       " 14,\n",
       " 11,\n",
       " 14,\n",
       " 13,\n",
       " 13,\n",
       " 8,\n",
       " 14,\n",
       " 10,\n",
       " 5,\n",
       " 14,\n",
       " 8,\n",
       " 4,\n",
       " 4,\n",
       " 5,\n",
       " 4,\n",
       " 5,\n",
       " 7,\n",
       " 8,\n",
       " 14,\n",
       " 7,\n",
       " 6,\n",
       " 3,\n",
       " 2,\n",
       " 10,\n",
       " 12,\n",
       " 11,\n",
       " 13,\n",
       " 11,\n",
       " 14,\n",
       " 4,\n",
       " 5,\n",
       " 14,\n",
       " 3,\n",
       " 2,\n",
       " 11,\n",
       " 13,\n",
       " 7,\n",
       " 14,\n",
       " 11,\n",
       " 13,\n",
       " 5,\n",
       " 8,\n",
       " 12,\n",
       " 13,\n",
       " 14,\n",
       " 14,\n",
       " 11,\n",
       " 7,\n",
       " 14,\n",
       " 13,\n",
       " 8,\n",
       " 14,\n",
       " 7,\n",
       " 8,\n",
       " 11,\n",
       " 10,\n",
       " 6,\n",
       " 13,\n",
       " 12,\n",
       " 13,\n",
       " 14,\n",
       " 5,\n",
       " 5,\n",
       " 5,\n",
       " 12,\n",
       " 14,\n",
       " 3,\n",
       " 3,\n",
       " 14,\n",
       " 5,\n",
       " 14,\n",
       " 14,\n",
       " 14,\n",
       " 7,\n",
       " 12,\n",
       " 8,\n",
       " 14,\n",
       " 7,\n",
       " 3,\n",
       " 13,\n",
       " 4,\n",
       " 8,\n",
       " 10,\n",
       " 14,\n",
       " 13,\n",
       " 14,\n",
       " 10,\n",
       " 12,\n",
       " 2,\n",
       " 3,\n",
       " 6,\n",
       " 5,\n",
       " 13,\n",
       " 7,\n",
       " 6,\n",
       " 12,\n",
       " 5,\n",
       " 4,\n",
       " 3,\n",
       " 6,\n",
       " 11,\n",
       " 14,\n",
       " 5,\n",
       " 14,\n",
       " 5,\n",
       " 13,\n",
       " 4,\n",
       " 12,\n",
       " 3,\n",
       " 12,\n",
       " 11,\n",
       " 13,\n",
       " 8,\n",
       " 3,\n",
       " 10,\n",
       " 4,\n",
       " 14,\n",
       " 3,\n",
       " 14,\n",
       " 6,\n",
       " 5,\n",
       " 7,\n",
       " 13,\n",
       " 3,\n",
       " 7,\n",
       " 11,\n",
       " 13,\n",
       " 3,\n",
       " 3,\n",
       " 11,\n",
       " 2,\n",
       " 5,\n",
       " 3,\n",
       " 5,\n",
       " 11,\n",
       " 5,\n",
       " 8,\n",
       " 13,\n",
       " 14,\n",
       " 9,\n",
       " 13,\n",
       " 8,\n",
       " 14,\n",
       " 6,\n",
       " 4,\n",
       " 6,\n",
       " 8,\n",
       " 10,\n",
       " 11,\n",
       " 13,\n",
       " 7,\n",
       " 14,\n",
       " 14,\n",
       " 8,\n",
       " 7,\n",
       " 8,\n",
       " 8,\n",
       " 8,\n",
       " 12,\n",
       " 5,\n",
       " 11,\n",
       " 3,\n",
       " 3,\n",
       " 9,\n",
       " 8,\n",
       " 2,\n",
       " 7,\n",
       " 4,\n",
       " 10,\n",
       " 12,\n",
       " 5,\n",
       " 13,\n",
       " 14,\n",
       " 13,\n",
       " 14,\n",
       " 4,\n",
       " 11,\n",
       " 14,\n",
       " 5,\n",
       " 8,\n",
       " 4,\n",
       " 6,\n",
       " 12,\n",
       " 3,\n",
       " 14,\n",
       " 14,\n",
       " 14,\n",
       " 5,\n",
       " 4,\n",
       " 14,\n",
       " 8,\n",
       " 7,\n",
       " 14,\n",
       " 4,\n",
       " 8,\n",
       " 11,\n",
       " 2,\n",
       " 14,\n",
       " 11,\n",
       " 14,\n",
       " 5,\n",
       " 10,\n",
       " 8,\n",
       " 2,\n",
       " 12,\n",
       " 11,\n",
       " 11,\n",
       " ...]"
      ]
     },
     "execution_count": 30,
     "metadata": {},
     "output_type": "execute_result"
    }
   ],
   "source": [
    "preds"
   ]
  },
  {
   "cell_type": "code",
   "execution_count": 31,
   "id": "8114b0e8",
   "metadata": {},
   "outputs": [
    {
     "data": {
      "text/html": [
       "<div>\n",
       "<style scoped>\n",
       "    .dataframe tbody tr th:only-of-type {\n",
       "        vertical-align: middle;\n",
       "    }\n",
       "\n",
       "    .dataframe tbody tr th {\n",
       "        vertical-align: top;\n",
       "    }\n",
       "\n",
       "    .dataframe thead th {\n",
       "        text-align: right;\n",
       "    }\n",
       "</style>\n",
       "<table border=\"1\" class=\"dataframe\">\n",
       "  <thead>\n",
       "    <tr style=\"text-align: right;\">\n",
       "      <th></th>\n",
       "      <th>actual_class</th>\n",
       "      <th>predicted_class</th>\n",
       "      <th>img_path</th>\n",
       "    </tr>\n",
       "  </thead>\n",
       "  <tbody>\n",
       "    <tr>\n",
       "      <th>0</th>\n",
       "      <td>4</td>\n",
       "      <td>13</td>\n",
       "      <td>./train/data/user04/1600558200/RP/1600572600.png</td>\n",
       "    </tr>\n",
       "    <tr>\n",
       "      <th>1</th>\n",
       "      <td>8</td>\n",
       "      <td>14</td>\n",
       "      <td>./train/data/user04/1601079300/RP/1601089620.png</td>\n",
       "    </tr>\n",
       "    <tr>\n",
       "      <th>2</th>\n",
       "      <td>8</td>\n",
       "      <td>14</td>\n",
       "      <td>./train/data/user04/1600470000/RP/1600475940.png</td>\n",
       "    </tr>\n",
       "    <tr>\n",
       "      <th>3</th>\n",
       "      <td>7</td>\n",
       "      <td>3</td>\n",
       "      <td>./train/data/user04/1599347400/RP/1599352560.png</td>\n",
       "    </tr>\n",
       "    <tr>\n",
       "      <th>4</th>\n",
       "      <td>5</td>\n",
       "      <td>14</td>\n",
       "      <td>./train/data/user04/1599522960/RP/1599566280.png</td>\n",
       "    </tr>\n",
       "    <tr>\n",
       "      <th>...</th>\n",
       "      <td>...</td>\n",
       "      <td>...</td>\n",
       "      <td>...</td>\n",
       "    </tr>\n",
       "    <tr>\n",
       "      <th>9562</th>\n",
       "      <td>4</td>\n",
       "      <td>8</td>\n",
       "      <td>./train/data/user03/1599058980/RP/1599101940.png</td>\n",
       "    </tr>\n",
       "    <tr>\n",
       "      <th>9563</th>\n",
       "      <td>4</td>\n",
       "      <td>6</td>\n",
       "      <td>./train/data/user02/1599893100/RP/1599897600.png</td>\n",
       "    </tr>\n",
       "    <tr>\n",
       "      <th>9564</th>\n",
       "      <td>4</td>\n",
       "      <td>10</td>\n",
       "      <td>./train/data/user02/1600700400/RP/1600769280.png</td>\n",
       "    </tr>\n",
       "    <tr>\n",
       "      <th>9565</th>\n",
       "      <td>14</td>\n",
       "      <td>13</td>\n",
       "      <td>./train/data/user04/1598828400/RP/1598850540.png</td>\n",
       "    </tr>\n",
       "    <tr>\n",
       "      <th>9566</th>\n",
       "      <td>8</td>\n",
       "      <td>6</td>\n",
       "      <td>./train/data/user03/1601054580/RP/1601117820.png</td>\n",
       "    </tr>\n",
       "  </tbody>\n",
       "</table>\n",
       "<p>9567 rows × 3 columns</p>\n",
       "</div>"
      ],
      "text/plain": [
       "      actual_class  predicted_class  \\\n",
       "0                4               13   \n",
       "1                8               14   \n",
       "2                8               14   \n",
       "3                7                3   \n",
       "4                5               14   \n",
       "...            ...              ...   \n",
       "9562             4                8   \n",
       "9563             4                6   \n",
       "9564             4               10   \n",
       "9565            14               13   \n",
       "9566             8                6   \n",
       "\n",
       "                                              img_path  \n",
       "0     ./train/data/user04/1600558200/RP/1600572600.png  \n",
       "1     ./train/data/user04/1601079300/RP/1601089620.png  \n",
       "2     ./train/data/user04/1600470000/RP/1600475940.png  \n",
       "3     ./train/data/user04/1599347400/RP/1599352560.png  \n",
       "4     ./train/data/user04/1599522960/RP/1599566280.png  \n",
       "...                                                ...  \n",
       "9562  ./train/data/user03/1599058980/RP/1599101940.png  \n",
       "9563  ./train/data/user02/1599893100/RP/1599897600.png  \n",
       "9564  ./train/data/user02/1600700400/RP/1600769280.png  \n",
       "9565  ./train/data/user04/1598828400/RP/1598850540.png  \n",
       "9566  ./train/data/user03/1601054580/RP/1601117820.png  \n",
       "\n",
       "[9567 rows x 3 columns]"
      ]
     },
     "execution_count": 31,
     "metadata": {},
     "output_type": "execute_result"
    }
   ],
   "source": [
    "pred_df = pd.DataFrame({\n",
    "    'actual_class': test_df['action'], \n",
    "    'predicted_class': preds,\n",
    "    'img_path': test_df['img_path']\n",
    "})\n",
    "\n",
    "pred_df"
   ]
  },
  {
   "cell_type": "code",
   "execution_count": 32,
   "id": "2b40252d",
   "metadata": {},
   "outputs": [
    {
     "data": {
      "text/plain": [
       "array([[  0,   0,   1,   0,   2,   0,   0,   0,   1,   1,   1,   0,   0,\n",
       "          1,   0],\n",
       "       [  0,   0,   0,   0,   0,   0,   0,   1,   0,   0,   0,   0,   0,\n",
       "          0,   1],\n",
       "       [  0,   0,  18,  10,  15,   6,   2,   2,   9,   2,   1,   7,   5,\n",
       "         11,  10],\n",
       "       [  0,   0,  39,  88,  56,  52,  30,  33,  43,   4,  36,  38,  45,\n",
       "         47,  65],\n",
       "       [  2,   0,  51,  72, 162,  94,  41,  95,  76,  10,  33,  80,  65,\n",
       "        109, 113],\n",
       "       [  0,   0,  23,  35,  22, 172,  27,  15,  22,   7,   5,  33,   9,\n",
       "         40,  19],\n",
       "       [  0,   0,  11,  31,  12,  33,  56,  26,  19,   2,  46,  16,  14,\n",
       "         25,  23],\n",
       "       [  2,   0,  29,  43,  57,  35,  21,  79,  36,   8,  54,  37,  30,\n",
       "         34,  46],\n",
       "       [  2,   0,  79,  75, 106,  91,  46, 106, 197,  20,  70,  80,  75,\n",
       "        117, 158],\n",
       "       [  0,   0,   5,   3,   2,   3,   1,   4,   5,   1,   1,   4,   3,\n",
       "          5,   9],\n",
       "       [  0,   0,   2,   2,   1,   3,   7,   4,  21,   0,  91,   3,   2,\n",
       "          2,   5],\n",
       "       [  4,   0,  31,  44,  42,  56,  11,  39,  44,  13,  25,  54,  35,\n",
       "         33,  49],\n",
       "       [  0,   0,   6,  12,   8,  10,   4,  12,  11,   1,  10,  10,  17,\n",
       "          8,   7],\n",
       "       [  3,   1,  65, 117, 109, 131,  40, 102,  94,  13,  11,  75,  82,\n",
       "        301, 111],\n",
       "       [  6,   0, 180, 227, 248, 192,  92, 209, 347,  76, 102, 253, 243,\n",
       "        247, 943]])"
      ]
     },
     "execution_count": 32,
     "metadata": {},
     "output_type": "execute_result"
    }
   ],
   "source": [
    "from sklearn.metrics import confusion_matrix\n",
    "\n",
    "confusion_matrix = confusion_matrix(test_df['action'], preds, labels=[x for x in range(0, 15)])\n",
    "confusion_matrix"
   ]
  },
  {
   "cell_type": "code",
   "execution_count": 33,
   "id": "cb14491f",
   "metadata": {},
   "outputs": [
    {
     "data": {
      "text/plain": [
       "<Axes: title={'center': 'Confusion Matrix'}>"
      ]
     },
     "execution_count": 33,
     "metadata": {},
     "output_type": "execute_result"
    },
    {
     "data": {
      "image/png": "[encoded data removed]",
      "text/plain": [
       "<Figure size 2500x2500 with 2 Axes>"
      ]
     },
     "metadata": {},
     "output_type": "display_data"
    }
   ],
   "source": [
    "import seaborn as sns\n",
    "import matplotlib.pyplot as plt\n",
    "%matplotlib inline\n",
    "\n",
    "plt.figure(figsize = (25,25))\n",
    "plt.title('Confusion Matrix')\n",
    "\n",
    "sns.heatmap(confusion_matrix, annot=True)"
   ]
  },
  {
   "cell_type": "code",
   "execution_count": 34,
   "id": "ecb171de",
   "metadata": {},
   "outputs": [
    {
     "name": "stdout",
     "output_type": "stream",
     "text": [
      "F1-score: 0.2278\n"
     ]
    }
   ],
   "source": [
    "from sklearn.metrics import f1_score \n",
    "f1 = f1_score(test_df['action'], preds, average='micro')\n",
    "print('F1-score: {0:.4f}'.format(f1))"
   ]
  },
  {
   "cell_type": "code",
   "execution_count": null,
   "id": "fbf166d0",
   "metadata": {},
   "outputs": [],
   "source": []
  },
  {
   "cell_type": "code",
   "execution_count": null,
   "id": "a44bb7f2",
   "metadata": {},
   "outputs": [],
   "source": []
  },
  {
   "cell_type": "code",
   "execution_count": null,
   "id": "c7f32754",
   "metadata": {},
   "outputs": [],
   "source": []
  }
 ],
 "metadata": {
  "kernelspec": {
   "display_name": "Python 3 (ipykernel)",
   "language": "python",
   "name": "python3"
  },
  "language_info": {
   "codemirror_mode": {
    "name": "ipython",
    "version": 3
   },
   "file_extension": ".py",
   "mimetype": "text/x-python",
   "name": "python",
   "nbconvert_exporter": "python",
   "pygments_lexer": "ipython3",
   "version": "3.9.16"
  }
 },
 "nbformat": 4,
 "nbformat_minor": 5
}

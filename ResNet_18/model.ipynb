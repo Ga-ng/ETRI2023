{
 "cells": [
  {
   "cell_type": "code",
   "execution_count": 2,
   "id": "f468b3d2",
   "metadata": {},
   "outputs": [
    {
     "name": "stdout",
     "output_type": "stream",
     "text": [
      "Collecting torchsummary\n",
      "  Downloading torchsummary-1.5.1-py3-none-any.whl (2.8 kB)\n",
      "Installing collected packages: torchsummary\n",
      "Successfully installed torchsummary-1.5.1\n"
     ]
    }
   ],
   "source": [
    "!pip install torchsummary"
   ]
  },
  {
   "cell_type": "code",
   "execution_count": 3,
   "id": "52481727",
   "metadata": {},
   "outputs": [],
   "source": [
    "import os\n",
    "import torch\n",
    "import torch.nn as nn\n",
    "import torch.optim as optim\n",
    "import torch.nn.functional as F\n",
    "from torch.autograd import Variable\n",
    "import torchvision.datasets as dset\n",
    "import torchvision.transforms as transforms\n",
    "from torch.utils.data import DataLoader\n",
    "import torchvision.models as models\n",
    "import sys\n",
    "import math\n",
    "import torchsummary"
   ]
  },
  {
   "cell_type": "code",
   "execution_count": 4,
   "id": "7a09bab5",
   "metadata": {},
   "outputs": [
    {
     "data": {
      "text/plain": [
       "True"
      ]
     },
     "execution_count": 4,
     "metadata": {},
     "output_type": "execute_result"
    }
   ],
   "source": [
    "torch.cuda.is_available()"
   ]
  },
  {
   "cell_type": "code",
   "execution_count": 5,
   "id": "165be95c",
   "metadata": {},
   "outputs": [
    {
     "name": "stdout",
     "output_type": "stream",
     "text": [
      "1.13.1\n"
     ]
    }
   ],
   "source": [
    "print(torch.__version__)"
   ]
  },
  {
   "cell_type": "code",
   "execution_count": 6,
   "id": "58505ce1",
   "metadata": {},
   "outputs": [],
   "source": [
    "def conv3x3(in_planes, out_planes, stride=1):\n",
    "    return nn.Conv2d(\n",
    "        in_planes,\n",
    "        out_planes,\n",
    "        kernel_size=3,\n",
    "        stride=stride,\n",
    "        bias=False,\n",
    "        padding = 1,\n",
    "        padding_mode='zeros'\n",
    "    )\n",
    "\n",
    "def conv1x1(in_planes, out_planes, stride=1):\n",
    "    return nn.Conv2d(\n",
    "        in_planes,\n",
    "        out_planes,\n",
    "        kernel_size=1,\n",
    "        stride=stride,\n",
    "        bias=False,\n",
    "        padding = 1,\n",
    "        padding_mode='zeros'\n",
    "    )\n",
    "\n",
    "\n",
    "class IdentityBlock(nn.Module):\n",
    "    def __init__(self, in_planes, out_planes, stride = 1):\n",
    "        super(IdentityBlock, self).__init__()\n",
    "\n",
    "        self.conv1 = conv3x3(in_planes, out_planes, stride)\n",
    "        self.conv2 = conv3x3(out_planes, out_planes, 1)\n",
    "\n",
    "        self.bn1   = nn.BatchNorm2d(out_planes)\n",
    "        self.bn2   = nn.BatchNorm2d(out_planes)\n",
    "\n",
    "        self.shortcut = nn.Sequential()\n",
    "        if stride != 1:\n",
    "            self.shortcut = nn.Sequential(\n",
    "                conv1x1(in_planes, out_planes, stride),\n",
    "                nn.BatchNorm2d(out_planes)\n",
    "            )\n",
    "\n",
    "    def forward(self, x):\n",
    "        identity = x\n",
    "        out  = self.conv1(x)\n",
    "        out  = self.bn1(out)\n",
    "        out  = F.relu(out)\n",
    "        out  = self.conv2(out)\n",
    "        out  = self.bn2(out)\n",
    "        out += identity\n",
    "        out  = F.relu(out)\n",
    "        return out"
   ]
  },
  {
   "cell_type": "code",
   "execution_count": 7,
   "id": "a66fb5ab",
   "metadata": {},
   "outputs": [],
   "source": [
    "class ResNet(nn.Module):\n",
    "    def __init__(self, block, in_planes, num_blocks, num_classes):\n",
    "        super(ResNet, self).__init__()\n",
    "\n",
    "        self.in_planes = in_planes\n",
    "\n",
    "        self.conv = nn.Conv2d(3, self.in_planes, kernel_size = 3, stride = 1, padding = 1, padding_mode='zeros', bias=False)\n",
    "        self.bn = nn.BatchNorm2d(self.in_planes)\n",
    "\n",
    "        self.layer1 = self.make_layer(block, 64, num_blocks[0], stride=1)\n",
    "        self.layer2 = self.make_layer(block, 64, num_blocks[1], stride=1)\n",
    "        self.layer3 = self.make_layer(block, 64, num_blocks[2], stride=1)\n",
    "        self.layer4 = self.make_layer(block, 64, num_blocks[3], stride=1)\n",
    "\n",
    "        self.avgpool = nn.AdaptiveAvgPool2d((1, 1))\n",
    "        self.linear  = nn.Linear(64, num_classes)\n",
    "\n",
    "    def make_layer(self, block, out_planes, num_blocks, stride):\n",
    "            strides = [stride] + [1] * (num_blocks -1)\n",
    "            layers = []\n",
    "            for stride in strides:\n",
    "                layers.append(block(self.in_planes, out_planes))\n",
    "                self.in_planes = out_planes\n",
    "            return nn.Sequential(*layers)\n",
    "\n",
    "    def forward(self, x):\n",
    "        out = self.conv(x)\n",
    "        out = self.bn(out)\n",
    "        out = F.relu(out)\n",
    "        out = self.layer1(out)\n",
    "        out = self.layer2(out)\n",
    "        out = self.layer3(out)\n",
    "        out = self.layer4(out)\n",
    "        out = self.avgpool(out)\n",
    "        out = torch.flatten(out, 1)\n",
    "        out = self.linear(out)\n",
    "        return out"
   ]
  },
  {
   "cell_type": "code",
   "execution_count": 8,
   "id": "2ed7e51e",
   "metadata": {},
   "outputs": [],
   "source": [
    "def ResNet18(in_planes, num_classes):\n",
    "    return ResNet(block = IdentityBlock, in_planes = in_planes, num_blocks = [2, 2, 2, 2], num_classes = num_classes)"
   ]
  },
  {
   "cell_type": "code",
   "execution_count": 9,
   "id": "e112d67a",
   "metadata": {
    "scrolled": false
   },
   "outputs": [
    {
     "name": "stdout",
     "output_type": "stream",
     "text": [
      "----------------------------------------------------------------\n",
      "        Layer (type)               Output Shape         Param #\n",
      "================================================================\n",
      "            Conv2d-1            [-1, 64, 20, 4]           1,728\n",
      "       BatchNorm2d-2            [-1, 64, 20, 4]             128\n",
      "            Conv2d-3            [-1, 64, 20, 4]          36,864\n",
      "       BatchNorm2d-4            [-1, 64, 20, 4]             128\n",
      "            Conv2d-5            [-1, 64, 20, 4]          36,864\n",
      "       BatchNorm2d-6            [-1, 64, 20, 4]             128\n",
      "     IdentityBlock-7            [-1, 64, 20, 4]               0\n",
      "            Conv2d-8            [-1, 64, 20, 4]          36,864\n",
      "       BatchNorm2d-9            [-1, 64, 20, 4]             128\n",
      "           Conv2d-10            [-1, 64, 20, 4]          36,864\n",
      "      BatchNorm2d-11            [-1, 64, 20, 4]             128\n",
      "    IdentityBlock-12            [-1, 64, 20, 4]               0\n",
      "           Conv2d-13            [-1, 64, 20, 4]          36,864\n",
      "      BatchNorm2d-14            [-1, 64, 20, 4]             128\n",
      "           Conv2d-15            [-1, 64, 20, 4]          36,864\n",
      "      BatchNorm2d-16            [-1, 64, 20, 4]             128\n",
      "    IdentityBlock-17            [-1, 64, 20, 4]               0\n",
      "           Conv2d-18            [-1, 64, 20, 4]          36,864\n",
      "      BatchNorm2d-19            [-1, 64, 20, 4]             128\n",
      "           Conv2d-20            [-1, 64, 20, 4]          36,864\n",
      "      BatchNorm2d-21            [-1, 64, 20, 4]             128\n",
      "    IdentityBlock-22            [-1, 64, 20, 4]               0\n",
      "           Conv2d-23            [-1, 64, 20, 4]          36,864\n",
      "      BatchNorm2d-24            [-1, 64, 20, 4]             128\n",
      "           Conv2d-25            [-1, 64, 20, 4]          36,864\n",
      "      BatchNorm2d-26            [-1, 64, 20, 4]             128\n",
      "    IdentityBlock-27            [-1, 64, 20, 4]               0\n",
      "           Conv2d-28            [-1, 64, 20, 4]          36,864\n",
      "      BatchNorm2d-29            [-1, 64, 20, 4]             128\n",
      "           Conv2d-30            [-1, 64, 20, 4]          36,864\n",
      "      BatchNorm2d-31            [-1, 64, 20, 4]             128\n",
      "    IdentityBlock-32            [-1, 64, 20, 4]               0\n",
      "           Conv2d-33            [-1, 64, 20, 4]          36,864\n",
      "      BatchNorm2d-34            [-1, 64, 20, 4]             128\n",
      "           Conv2d-35            [-1, 64, 20, 4]          36,864\n",
      "      BatchNorm2d-36            [-1, 64, 20, 4]             128\n",
      "    IdentityBlock-37            [-1, 64, 20, 4]               0\n",
      "           Conv2d-38            [-1, 64, 20, 4]          36,864\n",
      "      BatchNorm2d-39            [-1, 64, 20, 4]             128\n",
      "           Conv2d-40            [-1, 64, 20, 4]          36,864\n",
      "      BatchNorm2d-41            [-1, 64, 20, 4]             128\n",
      "    IdentityBlock-42            [-1, 64, 20, 4]               0\n",
      "AdaptiveAvgPool2d-43             [-1, 64, 1, 1]               0\n",
      "           Linear-44                   [-1, 47]           3,055\n",
      "================================================================\n",
      "Total params: 596,783\n",
      "Trainable params: 596,783\n",
      "Non-trainable params: 0\n",
      "----------------------------------------------------------------\n",
      "Input size (MB): 0.00\n",
      "Forward/backward pass size (MB): 1.64\n",
      "Params size (MB): 2.28\n",
      "Estimated Total Size (MB): 3.92\n",
      "----------------------------------------------------------------\n"
     ]
    }
   ],
   "source": [
    "net = ResNet18(64, 47)\n",
    "net.to('cuda')\n",
    "\n",
    "torchsummary.summary(net, (3, 20, 4))"
   ]
  },
  {
   "cell_type": "code",
   "execution_count": null,
   "id": "c37bd965",
   "metadata": {},
   "outputs": [],
   "source": []
  }
 ],
 "metadata": {
  "kernelspec": {
   "display_name": "Python 3 (ipykernel)",
   "language": "python",
   "name": "python3"
  },
  "language_info": {
   "codemirror_mode": {
    "name": "ipython",
    "version": 3
   },
   "file_extension": ".py",
   "mimetype": "text/x-python",
   "name": "python",
   "nbconvert_exporter": "python",
   "pygments_lexer": "ipython3",
   "version": "3.9.16"
  }
 },
 "nbformat": 4,
 "nbformat_minor": 5
}

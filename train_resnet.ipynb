{
 "cells": [
  {
   "cell_type": "code",
   "execution_count": 1,
   "id": "aa75dda6",
   "metadata": {},
   "outputs": [],
   "source": [
    "import os\n",
    "import pandas as pd\n",
    "import numpy as np\n",
    "import torch\n",
    "import torch.nn as nn\n",
    "import torch.optim as optim\n",
    "from torch.autograd import Variable\n",
    "import torchvision.datasets as dset\n",
    "import torchvision.transforms as transforms\n",
    "import albumentations as A\n",
    "from albumentations.pytorch.transforms import ToTensorV2\n",
    "import torch.nn.functional as F\n",
    "from torch.utils.data import Dataset\n",
    "from torch.utils.data import DataLoader\n",
    "import torchvision.models as models\n",
    "import cv2\n",
    "import sys\n",
    "import math\n",
    "import random\n",
    "import splitfolders\n",
    "import torchsummary\n",
    "from tqdm.auto import tqdm\n",
    "from ResNet_18 import resnet\n",
    "from sklearn.preprocessing import LabelEncoder\n",
    "from sklearn.model_selection import train_test_split\n",
    "from sklearn.model_selection import cross_val_score\n",
    "from sklearn.metrics import f1_score"
   ]
  },
  {
   "cell_type": "code",
   "execution_count": 2,
   "id": "990b3869",
   "metadata": {},
   "outputs": [
    {
     "data": {
      "text/plain": [
       "device(type='cuda')"
      ]
     },
     "execution_count": 2,
     "metadata": {},
     "output_type": "execute_result"
    }
   ],
   "source": [
    "device = torch.device('cuda') if torch.cuda.is_available() else torch.device('cpu')\n",
    "device"
   ]
  },
  {
   "cell_type": "code",
   "execution_count": 3,
   "id": "789a6ad7",
   "metadata": {},
   "outputs": [],
   "source": [
    "CFG = {\n",
    "    'IMG_SIZE':224,\n",
    "    'EPOCHS':50,\n",
    "    'LEARNING_RATE':1e-4,\n",
    "    'BATCH_SIZE':16,\n",
    "    'SEED':42\n",
    "}"
   ]
  },
  {
   "cell_type": "code",
   "execution_count": 4,
   "id": "ecc11a30",
   "metadata": {},
   "outputs": [],
   "source": [
    "def seed_everything(seed):\n",
    "    random.seed(seed)\n",
    "    os.environ['PYTHONHASHSEED'] = str(seed)\n",
    "    np.random.seed(seed)\n",
    "    torch.manual_seed(seed)\n",
    "    torch.cuda.manual_seed(seed)\n",
    "    torch.backends.cudnn.deterministic = True\n",
    "    torch.backends.cudnn.benchmark = True\n",
    "\n",
    "seed_everything(CFG['SEED'])"
   ]
  },
  {
   "cell_type": "code",
   "execution_count": 5,
   "id": "f6f1111e",
   "metadata": {},
   "outputs": [],
   "source": [
    "train_df = pd.read_csv('./train_data_action.csv')\n",
    "test_df = pd.read_csv('./test_data_action.csv')"
   ]
  },
  {
   "cell_type": "code",
   "execution_count": 6,
   "id": "1c539311",
   "metadata": {},
   "outputs": [
    {
     "data": {
      "text/plain": [
       "work                     13458\n",
       "travel                    5020\n",
       "recreation_media          4886\n",
       "meal                      4012\n",
       "household                 2304\n",
       "recreation_etc            2045\n",
       "socialising               1922\n",
       "outdoor_act               1717\n",
       "personal_care             1254\n",
       "sleep                      573\n",
       "study                      465\n",
       "hobby                      392\n",
       "shop                       184\n",
       "community_interaction       28\n",
       "entertainment                6\n",
       "Name: action, dtype: int64"
      ]
     },
     "execution_count": 6,
     "metadata": {},
     "output_type": "execute_result"
    }
   ],
   "source": [
    "train_df['action'].value_counts()"
   ]
  },
  {
   "cell_type": "code",
   "execution_count": 7,
   "id": "bc0a9cb5",
   "metadata": {},
   "outputs": [
    {
     "data": {
      "text/plain": [
       "work                     3365\n",
       "travel                   1255\n",
       "recreation_media         1222\n",
       "meal                     1003\n",
       "household                 576\n",
       "recreation_etc            511\n",
       "socialising               480\n",
       "outdoor_act               429\n",
       "personal_care             314\n",
       "sleep                     143\n",
       "study                     116\n",
       "hobby                      98\n",
       "shop                       46\n",
       "community_interaction       7\n",
       "entertainment               2\n",
       "Name: action, dtype: int64"
      ]
     },
     "execution_count": 7,
     "metadata": {},
     "output_type": "execute_result"
    }
   ],
   "source": [
    "test_df['action'].value_counts()"
   ]
  },
  {
   "cell_type": "code",
   "execution_count": 8,
   "id": "30a8786a",
   "metadata": {},
   "outputs": [],
   "source": [
    "le = LabelEncoder()\n",
    "le = le.fit(train_df['action'])\n",
    "train_df['action'] = le.transform(train_df['action'])\n",
    "test_df['action'] = le.transform(test_df['action'])"
   ]
  },
  {
   "cell_type": "code",
   "execution_count": 9,
   "id": "9468411e",
   "metadata": {},
   "outputs": [
    {
     "data": {
      "text/html": [
       "<div>\n",
       "<style scoped>\n",
       "    .dataframe tbody tr th:only-of-type {\n",
       "        vertical-align: middle;\n",
       "    }\n",
       "\n",
       "    .dataframe tbody tr th {\n",
       "        vertical-align: top;\n",
       "    }\n",
       "\n",
       "    .dataframe thead th {\n",
       "        text-align: right;\n",
       "    }\n",
       "</style>\n",
       "<table border=\"1\" class=\"dataframe\">\n",
       "  <thead>\n",
       "    <tr style=\"text-align: right;\">\n",
       "      <th></th>\n",
       "      <th>Unnamed: 0</th>\n",
       "      <th>ts</th>\n",
       "      <th>action</th>\n",
       "      <th>img_path</th>\n",
       "    </tr>\n",
       "  </thead>\n",
       "  <tbody>\n",
       "    <tr>\n",
       "      <th>0</th>\n",
       "      <td>23440</td>\n",
       "      <td>1.600663e+09</td>\n",
       "      <td>14</td>\n",
       "      <td>./train/data/user03/1600635600/RP/1600662780.png</td>\n",
       "    </tr>\n",
       "    <tr>\n",
       "      <th>1</th>\n",
       "      <td>39052</td>\n",
       "      <td>1.600233e+09</td>\n",
       "      <td>14</td>\n",
       "      <td>./train/data/user04/1600207800/RP/1600233000.png</td>\n",
       "    </tr>\n",
       "    <tr>\n",
       "      <th>4</th>\n",
       "      <td>15779</td>\n",
       "      <td>1.599108e+09</td>\n",
       "      <td>14</td>\n",
       "      <td>./train/data/user03/1599058980/RP/1599108300.png</td>\n",
       "    </tr>\n",
       "    <tr>\n",
       "      <th>6</th>\n",
       "      <td>29029</td>\n",
       "      <td>1.598920e+09</td>\n",
       "      <td>14</td>\n",
       "      <td>./train/data/user04/1598912400/RP/1598919840.png</td>\n",
       "    </tr>\n",
       "    <tr>\n",
       "      <th>13</th>\n",
       "      <td>12951</td>\n",
       "      <td>1.600820e+09</td>\n",
       "      <td>14</td>\n",
       "      <td>./train/data/user02/1600786800/RP/1600819860.png</td>\n",
       "    </tr>\n",
       "    <tr>\n",
       "      <th>...</th>\n",
       "      <td>...</td>\n",
       "      <td>...</td>\n",
       "      <td>...</td>\n",
       "      <td>...</td>\n",
       "    </tr>\n",
       "    <tr>\n",
       "      <th>38258</th>\n",
       "      <td>47512</td>\n",
       "      <td>1.601186e+09</td>\n",
       "      <td>14</td>\n",
       "      <td>./train/data/user04/1601163000/RP/1601185980.png</td>\n",
       "    </tr>\n",
       "    <tr>\n",
       "      <th>38259</th>\n",
       "      <td>42817</td>\n",
       "      <td>1.600666e+09</td>\n",
       "      <td>14</td>\n",
       "      <td>./train/data/user04/1600640400/RP/1600665660.png</td>\n",
       "    </tr>\n",
       "    <tr>\n",
       "      <th>38261</th>\n",
       "      <td>36655</td>\n",
       "      <td>1.599880e+09</td>\n",
       "      <td>14</td>\n",
       "      <td>./train/data/user04/1599859800/RP/1599880440.png</td>\n",
       "    </tr>\n",
       "    <tr>\n",
       "      <th>38262</th>\n",
       "      <td>10357</td>\n",
       "      <td>1.599116e+09</td>\n",
       "      <td>14</td>\n",
       "      <td>./train/data/user02/1599058800/RP/1599116160.png</td>\n",
       "    </tr>\n",
       "    <tr>\n",
       "      <th>38265</th>\n",
       "      <td>20358</td>\n",
       "      <td>1.600239e+09</td>\n",
       "      <td>14</td>\n",
       "      <td>./train/data/user03/1600192800/RP/1600238640.png</td>\n",
       "    </tr>\n",
       "  </tbody>\n",
       "</table>\n",
       "<p>13458 rows × 4 columns</p>\n",
       "</div>"
      ],
      "text/plain": [
       "       Unnamed: 0            ts  action  \\\n",
       "0           23440  1.600663e+09      14   \n",
       "1           39052  1.600233e+09      14   \n",
       "4           15779  1.599108e+09      14   \n",
       "6           29029  1.598920e+09      14   \n",
       "13          12951  1.600820e+09      14   \n",
       "...           ...           ...     ...   \n",
       "38258       47512  1.601186e+09      14   \n",
       "38259       42817  1.600666e+09      14   \n",
       "38261       36655  1.599880e+09      14   \n",
       "38262       10357  1.599116e+09      14   \n",
       "38265       20358  1.600239e+09      14   \n",
       "\n",
       "                                               img_path  \n",
       "0      ./train/data/user03/1600635600/RP/1600662780.png  \n",
       "1      ./train/data/user04/1600207800/RP/1600233000.png  \n",
       "4      ./train/data/user03/1599058980/RP/1599108300.png  \n",
       "6      ./train/data/user04/1598912400/RP/1598919840.png  \n",
       "13     ./train/data/user02/1600786800/RP/1600819860.png  \n",
       "...                                                 ...  \n",
       "38258  ./train/data/user04/1601163000/RP/1601185980.png  \n",
       "38259  ./train/data/user04/1600640400/RP/1600665660.png  \n",
       "38261  ./train/data/user04/1599859800/RP/1599880440.png  \n",
       "38262  ./train/data/user02/1599058800/RP/1599116160.png  \n",
       "38265  ./train/data/user03/1600192800/RP/1600238640.png  \n",
       "\n",
       "[13458 rows x 4 columns]"
      ]
     },
     "execution_count": 9,
     "metadata": {},
     "output_type": "execute_result"
    }
   ],
   "source": [
    "train_df[train_df['action']==14]"
   ]
  },
  {
   "cell_type": "code",
   "execution_count": 10,
   "id": "e753cb34",
   "metadata": {},
   "outputs": [],
   "source": [
    "path_list = train_df[train_df['action']==14]['img_path']\n",
    "pl = list(path_list)"
   ]
  },
  {
   "cell_type": "code",
   "execution_count": 11,
   "id": "b57440be",
   "metadata": {},
   "outputs": [],
   "source": [
    "tmp = random.sample(pl, 500)"
   ]
  },
  {
   "cell_type": "code",
   "execution_count": 12,
   "id": "ffb902bf",
   "metadata": {},
   "outputs": [
    {
     "data": {
      "text/plain": [
       "['./train/data/user04/1600035000/RP/1600056840.png',\n",
       " './train/data/user04/1600294800/RP/1600328820.png',\n",
       " './train/data/user04/1599690000/RP/1599701640.png',\n",
       " './train/data/user04/1600899900/RP/1600908360.png',\n",
       " './train/data/user04/1600207800/RP/1600223100.png',\n",
       " './train/data/user02/1600700400/RP/1600758660.png',\n",
       " './train/data/user04/1600726800/RP/1600754940.png',\n",
       " './train/data/user04/1599690000/RP/1599717300.png',\n",
       " './train/data/user01/1600315920/RP/1600328040.png',\n",
       " './train/data/user04/1600558200/RP/1600574220.png',\n",
       " './train/data/user02/1598972400/RP/1599041520.png',\n",
       " './train/data/user04/1599522960/RP/1599523260.png',\n",
       " './train/data/user01/1600450920/RP/1600498740.png',\n",
       " './train/data/user04/1600640400/RP/1600667460.png',\n",
       " './train/data/user02/1600961640/RP/1601007660.png',\n",
       " './train/data/user03/1600707600/RP/1600737660.png',\n",
       " './train/data/user02/1599922800/RP/1599992940.png',\n",
       " './train/data/user04/1599430860/RP/1599460560.png',\n",
       " './train/data/user02/1598886000/RP/1598922300.png',\n",
       " './train/data/user04/1598912400/RP/1598930880.png',\n",
       " './train/data/user03/1599058980/RP/1599106020.png',\n",
       " './train/data/user04/1600986000/RP/1601007180.png',\n",
       " './train/data/user04/1600470000/RP/1600494540.png',\n",
       " './train/data/user02/1600961640/RP/1601006760.png',\n",
       " './train/data/user04/1600640400/RP/1600662120.png',\n",
       " './train/data/user04/1599430860/RP/1599441240.png',\n",
       " './train/data/user02/1599058800/RP/1599107640.png',\n",
       " './train/data/user04/1600986000/RP/1600992840.png',\n",
       " './train/data/user04/1599522960/RP/1599548400.png',\n",
       " './train/data/user04/1600899900/RP/1600919100.png',\n",
       " './train/data/user03/1600635600/RP/1600666980.png',\n",
       " './train/data/user03/1600707600/RP/1600756080.png',\n",
       " './train/data/user04/1599085500/RP/1599095580.png',\n",
       " './train/data/user02/1598886000/RP/1598950860.png',\n",
       " './train/data/user04/1599690000/RP/1599714840.png',\n",
       " './train/data/user04/1600816860/RP/1600853100.png',\n",
       " './train/data/user03/1600020000/RP/1600059120.png',\n",
       " './train/data/user04/1600640400/RP/1600644900.png',\n",
       " './train/data/user04/1599174600/RP/1599200400.png',\n",
       " './train/data/user02/1600700400/RP/1600773060.png',\n",
       " './train/data/user01/1600450920/RP/1600499160.png',\n",
       " './train/data/user03/1600876800/RP/1600919280.png',\n",
       " './train/data/user04/1601163000/RP/1601172960.png',\n",
       " './train/data/user04/1600035000/RP/1600044840.png',\n",
       " './train/data/user03/1600963200/RP/1601006940.png',\n",
       " './train/data/user04/1599522960/RP/1599553380.png',\n",
       " './train/data/user04/1599001800/RP/1599025620.png',\n",
       " './train/data/user01/1600315920/RP/1600328100.png',\n",
       " './train/data/user04/1600726800/RP/1600748640.png',\n",
       " './train/data/user04/1600122300/RP/1600149240.png',\n",
       " './train/data/user03/1600020000/RP/1600063800.png',\n",
       " './train/data/user04/1599085500/RP/1599090540.png',\n",
       " './train/data/user02/1600786800/RP/1600843500.png',\n",
       " './train/data/user02/1600961640/RP/1600996440.png',\n",
       " './train/data/user03/1599510360/RP/1599548400.png',\n",
       " './train/data/user04/1600816860/RP/1600851780.png',\n",
       " './train/data/user04/1598912400/RP/1598933580.png',\n",
       " './train/data/user04/1600294800/RP/1600326540.png',\n",
       " './train/data/user03/1600106400/RP/1600158060.png',\n",
       " './train/data/user04/1600035000/RP/1600061340.png',\n",
       " './train/data/user01/1600315920/RP/1600336680.png',\n",
       " './train/data/user01/1599269580/RP/1599299580.png',\n",
       " './train/data/user04/1600035000/RP/1600065900.png',\n",
       " './train/data/user04/1599430860/RP/1599447480.png',\n",
       " './train/data/user03/1600963200/RP/1601007720.png',\n",
       " './train/data/user04/1598912400/RP/1598919180.png',\n",
       " './train/data/user04/1600986000/RP/1601017080.png',\n",
       " './train/data/user03/1600707600/RP/1600746180.png',\n",
       " './train/data/user02/1600961640/RP/1601013420.png',\n",
       " './train/data/user04/1600986000/RP/1601016540.png',\n",
       " './train/data/user02/1600700400/RP/1600738860.png',\n",
       " './train/data/user02/1600700400/RP/1600741320.png',\n",
       " './train/data/user03/1599584400/RP/1599633300.png',\n",
       " './train/data/user02/1598886000/RP/1598920680.png',\n",
       " './train/data/user02/1599922800/RP/1599991260.png',\n",
       " './train/data/user04/1600986000/RP/1601012100.png',\n",
       " './train/data/user04/1598828400/RP/1598840100.png',\n",
       " './train/data/user03/1600707600/RP/1600764420.png',\n",
       " './train/data/user03/1599584400/RP/1599610920.png',\n",
       " './train/data/user04/1600380900/RP/1600393680.png',\n",
       " './train/data/user03/1599510360/RP/1599547920.png',\n",
       " './train/data/user04/1599085500/RP/1599095340.png',\n",
       " './train/data/user04/1600986000/RP/1601011560.png',\n",
       " './train/data/user01/1599890820/RP/1599921900.png',\n",
       " './train/data/user04/1600294800/RP/1600338960.png',\n",
       " './train/data/user04/1600035000/RP/1600072020.png',\n",
       " './train/data/user04/1598912400/RP/1598941680.png',\n",
       " './train/data/user03/1600792200/RP/1600826340.png',\n",
       " './train/data/user01/1600315920/RP/1600335540.png',\n",
       " './train/data/user01/1600315920/RP/1600335000.png',\n",
       " './train/data/user04/1598912400/RP/1598943960.png',\n",
       " './train/data/user04/1600640400/RP/1600662060.png',\n",
       " './train/data/user04/1601163000/RP/1601188020.png',\n",
       " './train/data/user04/1600816860/RP/1600846020.png',\n",
       " './train/data/user02/1599058800/RP/1599092520.png',\n",
       " './train/data/user02/1598886000/RP/1598940600.png',\n",
       " './train/data/user01/1599442080/RP/1599450000.png',\n",
       " './train/data/user04/1600380900/RP/1600390980.png',\n",
       " './train/data/user02/1598972400/RP/1599008160.png',\n",
       " './train/data/user03/1598818020/RP/1598855700.png',\n",
       " './train/data/user02/1600614000/RP/1600647000.png',\n",
       " './train/data/user02/1598972400/RP/1599024600.png',\n",
       " './train/data/user03/1600106400/RP/1600154760.png',\n",
       " './train/data/user04/1600899900/RP/1600936200.png',\n",
       " './train/data/user02/1598886000/RP/1598941500.png',\n",
       " './train/data/user01/1599922800/RP/1599923820.png',\n",
       " './train/data/user03/1599584400/RP/1599617280.png',\n",
       " './train/data/user04/1600122300/RP/1600142400.png',\n",
       " './train/data/user04/1599174600/RP/1599196620.png',\n",
       " './train/data/user04/1599522960/RP/1599546180.png',\n",
       " './train/data/user04/1601163000/RP/1601194320.png',\n",
       " './train/data/user02/1599058800/RP/1599131160.png',\n",
       " './train/data/user04/1598912400/RP/1598916600.png',\n",
       " './train/data/user02/1598886000/RP/1598925480.png',\n",
       " './train/data/user02/1600786800/RP/1600846860.png',\n",
       " './train/data/user01/1599890820/RP/1599921300.png',\n",
       " './train/data/user03/1600192800/RP/1600239660.png',\n",
       " './train/data/user02/1600961640/RP/1600999980.png',\n",
       " './train/data/user04/1599690000/RP/1599699420.png',\n",
       " './train/data/user04/1599085500/RP/1599116580.png',\n",
       " './train/data/user02/1600961640/RP/1601002440.png',\n",
       " './train/data/user04/1600380900/RP/1600403040.png',\n",
       " './train/data/user04/1599690000/RP/1599725940.png',\n",
       " './train/data/user03/1600792200/RP/1600857660.png',\n",
       " './train/data/user04/1600380900/RP/1600407120.png',\n",
       " './train/data/user02/1598972400/RP/1599031560.png',\n",
       " './train/data/user04/1600207800/RP/1600232940.png',\n",
       " './train/data/user02/1600700400/RP/1600734420.png',\n",
       " './train/data/user01/1600315920/RP/1600337400.png',\n",
       " './train/data/user02/1600961640/RP/1600996620.png',\n",
       " './train/data/user03/1600106400/RP/1600139580.png',\n",
       " './train/data/user04/1598912400/RP/1598938860.png',\n",
       " './train/data/user02/1600614000/RP/1600652340.png',\n",
       " './train/data/user03/1600371000/RP/1600401720.png',\n",
       " './train/data/user02/1600614000/RP/1600657080.png',\n",
       " './train/data/user03/1600963200/RP/1601005020.png',\n",
       " './train/data/user03/1600792200/RP/1600848000.png',\n",
       " './train/data/user03/1600192800/RP/1600235760.png',\n",
       " './train/data/user03/1600020000/RP/1600058580.png',\n",
       " './train/data/user04/1600470000/RP/1600501800.png',\n",
       " './train/data/user04/1599522960/RP/1599553680.png',\n",
       " './train/data/user03/1600792200/RP/1600823880.png',\n",
       " './train/data/user04/1600207800/RP/1600241760.png',\n",
       " './train/data/user02/1598972400/RP/1599024240.png',\n",
       " './train/data/user04/1598912400/RP/1598927460.png',\n",
       " './train/data/user04/1599174600/RP/1599202620.png',\n",
       " './train/data/user04/1600380900/RP/1600407180.png',\n",
       " './train/data/user03/1600020000/RP/1600060560.png',\n",
       " './train/data/user04/1599085500/RP/1599111240.png',\n",
       " './train/data/user04/1600558200/RP/1600579920.png',\n",
       " './train/data/user04/1600986000/RP/1601012700.png',\n",
       " './train/data/user03/1600876800/RP/1600913760.png',\n",
       " './train/data/user04/1601163000/RP/1601192760.png',\n",
       " './train/data/user04/1599690000/RP/1599727020.png',\n",
       " './train/data/user04/1600986000/RP/1601018640.png',\n",
       " './train/data/user04/1599085500/RP/1599113760.png',\n",
       " './train/data/user04/1599522960/RP/1599551400.png',\n",
       " './train/data/user02/1600786800/RP/1600847220.png',\n",
       " './train/data/user02/1598886000/RP/1598928360.png',\n",
       " './train/data/user04/1599690000/RP/1599729120.png',\n",
       " './train/data/user04/1600294800/RP/1600326300.png',\n",
       " './train/data/user04/1600380900/RP/1600418040.png',\n",
       " './train/data/user04/1600640400/RP/1600647720.png',\n",
       " './train/data/user04/1600899900/RP/1600934280.png',\n",
       " './train/data/user04/1600380900/RP/1600417080.png',\n",
       " './train/data/user04/1599085500/RP/1599091740.png',\n",
       " './train/data/user02/1600614000/RP/1600663860.png',\n",
       " './train/data/user04/1600294800/RP/1600340880.png',\n",
       " './train/data/user03/1600020000/RP/1600060680.png',\n",
       " './train/data/user02/1600961640/RP/1600998300.png',\n",
       " './train/data/user04/1600207800/RP/1600232400.png',\n",
       " './train/data/user04/1600207800/RP/1600213500.png',\n",
       " './train/data/user02/1599058800/RP/1599119400.png',\n",
       " './train/data/user04/1600899900/RP/1600934520.png',\n",
       " './train/data/user04/1600294800/RP/1600343880.png',\n",
       " './train/data/user04/1600035000/RP/1600061100.png',\n",
       " './train/data/user04/1599430860/RP/1599450660.png',\n",
       " './train/data/user02/1598886000/RP/1598955900.png',\n",
       " './train/data/user03/1600792200/RP/1600841100.png',\n",
       " './train/data/user04/1600380900/RP/1600396440.png',\n",
       " './train/data/user03/1600707600/RP/1600747500.png',\n",
       " './train/data/user04/1600640400/RP/1600662840.png',\n",
       " './train/data/user01/1600527600/RP/1600601220.png',\n",
       " './train/data/user04/1598912400/RP/1598933280.png',\n",
       " './train/data/user04/1598912400/RP/1598929020.png',\n",
       " './train/data/user04/1600470000/RP/1600502940.png',\n",
       " './train/data/user01/1600315920/RP/1600326780.png',\n",
       " './train/data/user04/1599522960/RP/1599524220.png',\n",
       " './train/data/user03/1598886300/RP/1598941200.png',\n",
       " './train/data/user04/1599690000/RP/1599697680.png',\n",
       " './train/data/user04/1600122300/RP/1600155840.png',\n",
       " './train/data/user04/1600207800/RP/1600212900.png',\n",
       " './train/data/user04/1598912400/RP/1598917560.png',\n",
       " './train/data/user04/1599001800/RP/1599024600.png',\n",
       " './train/data/user04/1600035000/RP/1600062240.png',\n",
       " './train/data/user04/1600470000/RP/1600494360.png',\n",
       " './train/data/user04/1598912400/RP/1598928420.png',\n",
       " './train/data/user04/1599522960/RP/1599538860.png',\n",
       " './train/data/user04/1600294800/RP/1600340040.png',\n",
       " './train/data/user01/1600731000/RP/1600735200.png',\n",
       " './train/data/user04/1600899900/RP/1600908780.png',\n",
       " './train/data/user03/1599584400/RP/1599611700.png',\n",
       " './train/data/user04/1599522960/RP/1599542700.png',\n",
       " './train/data/user04/1599522960/RP/1599544920.png',\n",
       " './train/data/user04/1600122300/RP/1600144920.png',\n",
       " './train/data/user02/1600786800/RP/1600820400.png',\n",
       " './train/data/user02/1600700400/RP/1600739160.png',\n",
       " './train/data/user03/1599584400/RP/1599615180.png',\n",
       " './train/data/user04/1600640400/RP/1600662480.png',\n",
       " './train/data/user04/1601163000/RP/1601190180.png',\n",
       " './train/data/user03/1600792200/RP/1600839540.png',\n",
       " './train/data/user04/1600380900/RP/1600419420.png',\n",
       " './train/data/user04/1600899900/RP/1600924500.png',\n",
       " './train/data/user03/1600792200/RP/1600841880.png',\n",
       " './train/data/user01/1599442080/RP/1599448740.png',\n",
       " './train/data/user04/1600380900/RP/1600388940.png',\n",
       " './train/data/user03/1600106400/RP/1600143540.png',\n",
       " './train/data/user04/1600294800/RP/1600322400.png',\n",
       " './train/data/user04/1600380900/RP/1600418880.png',\n",
       " './train/data/user04/1598912400/RP/1598937540.png',\n",
       " './train/data/user04/1600816860/RP/1600852620.png',\n",
       " './train/data/user02/1600700400/RP/1600742400.png',\n",
       " './train/data/user04/1600470000/RP/1600482000.png',\n",
       " './train/data/user03/1600192800/RP/1600231860.png',\n",
       " './train/data/user04/1599001800/RP/1599031560.png',\n",
       " './train/data/user02/1598886000/RP/1598938140.png',\n",
       " './train/data/user04/1598912400/RP/1598944620.png',\n",
       " './train/data/user04/1599174600/RP/1599202380.png',\n",
       " './train/data/user04/1599522960/RP/1599547560.png',\n",
       " './train/data/user03/1598886300/RP/1598937300.png',\n",
       " './train/data/user03/1600876800/RP/1600937460.png',\n",
       " './train/data/user04/1599001800/RP/1599032160.png',\n",
       " './train/data/user02/1600700400/RP/1600754520.png',\n",
       " './train/data/user01/1599890820/RP/1599919800.png',\n",
       " './train/data/user02/1600961640/RP/1601020140.png',\n",
       " './train/data/user02/1599058800/RP/1599131460.png',\n",
       " './train/data/user04/1599522960/RP/1599555000.png',\n",
       " './train/data/user04/1598912400/RP/1598935560.png',\n",
       " './train/data/user02/1600614000/RP/1600663080.png',\n",
       " './train/data/user04/1600899900/RP/1600919460.png',\n",
       " './train/data/user02/1599058800/RP/1599131760.png',\n",
       " './train/data/user03/1600876800/RP/1600909560.png',\n",
       " './train/data/user04/1600122300/RP/1600151640.png',\n",
       " './train/data/user03/1600876800/RP/1600927920.png',\n",
       " './train/data/user04/1598828400/RP/1598839080.png',\n",
       " './train/data/user03/1599058980/RP/1599114480.png',\n",
       " './train/data/user04/1600380900/RP/1600403400.png',\n",
       " './train/data/user03/1600192800/RP/1600233240.png',\n",
       " './train/data/user02/1600700400/RP/1600756260.png',\n",
       " './train/data/user02/1600961640/RP/1601010000.png',\n",
       " './train/data/user04/1599522960/RP/1599549420.png',\n",
       " './train/data/user04/1599085500/RP/1599099900.png',\n",
       " './train/data/user03/1600707600/RP/1600735500.png',\n",
       " './train/data/user02/1600961640/RP/1601007960.png',\n",
       " './train/data/user04/1600035000/RP/1600043940.png',\n",
       " './train/data/user03/1600020000/RP/1600059420.png',\n",
       " './train/data/user04/1599776160/RP/1599798600.png',\n",
       " './train/data/user04/1600380900/RP/1600417440.png',\n",
       " './train/data/user04/1600899900/RP/1600903380.png',\n",
       " './train/data/user04/1599690000/RP/1599718440.png',\n",
       " './train/data/user03/1600707600/RP/1600752180.png',\n",
       " './train/data/user04/1599690000/RP/1599726720.png',\n",
       " './train/data/user03/1599058980/RP/1599108240.png',\n",
       " './train/data/user04/1600207800/RP/1600230000.png',\n",
       " './train/data/user04/1601163000/RP/1601194200.png',\n",
       " './train/data/user01/1599442080/RP/1599448860.png',\n",
       " './train/data/user03/1598986800/RP/1599025200.png',\n",
       " './train/data/user04/1599522960/RP/1599550260.png',\n",
       " './train/data/user04/1598828400/RP/1598844960.png',\n",
       " './train/data/user04/1600294800/RP/1600345560.png',\n",
       " './train/data/user01/1599442080/RP/1599448920.png',\n",
       " './train/data/user04/1600640400/RP/1600646520.png',\n",
       " './train/data/user02/1600614000/RP/1600653120.png',\n",
       " './train/data/user02/1599146220/RP/1599211620.png',\n",
       " './train/data/user02/1600700400/RP/1600749480.png',\n",
       " './train/data/user04/1599690000/RP/1599727860.png',\n",
       " './train/data/user04/1601163000/RP/1601174940.png',\n",
       " './train/data/user03/1600876800/RP/1600918380.png',\n",
       " './train/data/user04/1598828400/RP/1598861820.png',\n",
       " './train/data/user02/1598972400/RP/1599024000.png',\n",
       " './train/data/user04/1599085500/RP/1599122820.png',\n",
       " './train/data/user04/1599776160/RP/1599783180.png',\n",
       " './train/data/user04/1600899900/RP/1600935480.png',\n",
       " './train/data/user03/1600020000/RP/1600062660.png',\n",
       " './train/data/user02/1600700400/RP/1600758360.png',\n",
       " './train/data/user03/1600876800/RP/1600934340.png',\n",
       " './train/data/user03/1600792200/RP/1600819560.png',\n",
       " './train/data/user04/1600986000/RP/1601019420.png',\n",
       " './train/data/user04/1600726800/RP/1600772400.png',\n",
       " './train/data/user04/1600380900/RP/1600406340.png',\n",
       " './train/data/user03/1600106400/RP/1600156380.png',\n",
       " './train/data/user02/1598886000/RP/1598939220.png',\n",
       " './train/data/user03/1600192800/RP/1600239480.png',\n",
       " './train/data/user03/1600192800/RP/1600238580.png',\n",
       " './train/data/user04/1600726800/RP/1600763520.png',\n",
       " './train/data/user04/1600122300/RP/1600153260.png',\n",
       " './train/data/user04/1599085500/RP/1599092160.png',\n",
       " './train/data/user02/1600961640/RP/1600994820.png',\n",
       " './train/data/user04/1599347400/RP/1599373560.png',\n",
       " './train/data/user01/1600831800/RP/1600852320.png',\n",
       " './train/data/user04/1599430860/RP/1599449880.png',\n",
       " './train/data/user04/1600122300/RP/1600146120.png',\n",
       " './train/data/user03/1600876800/RP/1600935060.png',\n",
       " './train/data/user04/1600640400/RP/1600675980.png',\n",
       " './train/data/user04/1601163000/RP/1601194980.png',\n",
       " './train/data/user02/1600786800/RP/1600840680.png',\n",
       " './train/data/user03/1600106400/RP/1600143780.png',\n",
       " './train/data/user04/1600207800/RP/1600233900.png',\n",
       " './train/data/user04/1600986000/RP/1601022840.png',\n",
       " './train/data/user04/1600726800/RP/1600776780.png',\n",
       " './train/data/user04/1600726800/RP/1600752300.png',\n",
       " './train/data/user04/1600726800/RP/1600736220.png',\n",
       " './train/data/user03/1600792200/RP/1600842900.png',\n",
       " './train/data/user03/1600792200/RP/1600847640.png',\n",
       " './train/data/user04/1599690000/RP/1599716460.png',\n",
       " './train/data/user04/1601163000/RP/1601187480.png',\n",
       " './train/data/user02/1599058800/RP/1599108660.png',\n",
       " './train/data/user04/1600816860/RP/1600853520.png',\n",
       " './train/data/user03/1600876800/RP/1600907640.png',\n",
       " './train/data/user02/1600786800/RP/1600835040.png',\n",
       " './train/data/user04/1600207800/RP/1600238520.png',\n",
       " './train/data/user03/1600106400/RP/1600147020.png',\n",
       " './train/data/user04/1599522960/RP/1599524340.png',\n",
       " './train/data/user04/1600816860/RP/1600849860.png',\n",
       " './train/data/user04/1599430860/RP/1599445020.png',\n",
       " './train/data/user01/1600450920/RP/1600501440.png',\n",
       " './train/data/user04/1598828400/RP/1598861100.png',\n",
       " './train/data/user02/1599058800/RP/1599123120.png',\n",
       " './train/data/user04/1600207800/RP/1600232160.png',\n",
       " './train/data/user02/1599058800/RP/1599095160.png',\n",
       " './train/data/user02/1600614000/RP/1600661040.png',\n",
       " './train/data/user04/1600726800/RP/1600731840.png',\n",
       " './train/data/user04/1600640400/RP/1600674720.png',\n",
       " './train/data/user04/1600986000/RP/1601009820.png',\n",
       " './train/data/user02/1600700400/RP/1600733700.png',\n",
       " './train/data/user04/1599430860/RP/1599469140.png',\n",
       " './train/data/user01/1599442080/RP/1599461040.png',\n",
       " './train/data/user04/1600122300/RP/1600142580.png',\n",
       " './train/data/user02/1599146220/RP/1599211200.png',\n",
       " './train/data/user02/1600961640/RP/1601023380.png',\n",
       " './train/data/user04/1600294800/RP/1600322100.png',\n",
       " './train/data/user02/1598886000/RP/1598921580.png',\n",
       " './train/data/user04/1600726800/RP/1600752780.png',\n",
       " './train/data/user02/1600614000/RP/1600664880.png',\n",
       " './train/data/user03/1600792200/RP/1600855320.png',\n",
       " './train/data/user03/1599058980/RP/1599113580.png',\n",
       " './train/data/user02/1599058800/RP/1599131400.png',\n",
       " './train/data/user04/1600986000/RP/1601016900.png',\n",
       " './train/data/user03/1600707600/RP/1600762140.png',\n",
       " './train/data/user02/1599058800/RP/1599113220.png',\n",
       " './train/data/user03/1599422400/RP/1599484680.png',\n",
       " './train/data/user04/1600470000/RP/1600502880.png',\n",
       " './train/data/user04/1600380900/RP/1600386600.png',\n",
       " './train/data/user04/1599174600/RP/1599194640.png',\n",
       " './train/data/user01/1599922800/RP/1599975840.png',\n",
       " './train/data/user04/1600294800/RP/1600338660.png',\n",
       " './train/data/user03/1599058980/RP/1599105900.png',\n",
       " './train/data/user04/1598828400/RP/1598850060.png',\n",
       " './train/data/user04/1598912400/RP/1598925420.png',\n",
       " './train/data/user03/1600876800/RP/1600927200.png',\n",
       " './train/data/user03/1599584400/RP/1599617880.png',\n",
       " './train/data/user04/1598828400/RP/1598855640.png',\n",
       " './train/data/user04/1600899900/RP/1600932300.png',\n",
       " './train/data/user04/1600726800/RP/1600753920.png',\n",
       " './train/data/user02/1598886000/RP/1598961300.png',\n",
       " './train/data/user02/1598972400/RP/1599021600.png',\n",
       " './train/data/user04/1600986000/RP/1600996260.png',\n",
       " './train/data/user03/1598986800/RP/1599029520.png',\n",
       " './train/data/user04/1600294800/RP/1600329360.png',\n",
       " './train/data/user04/1600726800/RP/1600735080.png',\n",
       " './train/data/user01/1599269580/RP/1599287580.png',\n",
       " './train/data/user02/1598886000/RP/1598946540.png',\n",
       " './train/data/user02/1600700400/RP/1600747260.png',\n",
       " './train/data/user04/1598828400/RP/1598864400.png',\n",
       " './train/data/user01/1600450920/RP/1600503480.png',\n",
       " './train/data/user03/1600192800/RP/1600239060.png',\n",
       " './train/data/user04/1599690000/RP/1599699000.png',\n",
       " './train/data/user04/1599085500/RP/1599119160.png',\n",
       " './train/data/user03/1600707600/RP/1600755660.png',\n",
       " './train/data/user04/1600122300/RP/1600158300.png',\n",
       " './train/data/user02/1600786800/RP/1600848000.png',\n",
       " './train/data/user04/1599430860/RP/1599438420.png',\n",
       " './train/data/user04/1600122300/RP/1600152840.png',\n",
       " './train/data/user02/1599058800/RP/1599096780.png',\n",
       " './train/data/user03/1600792200/RP/1600859760.png',\n",
       " './train/data/user04/1600380900/RP/1600385880.png',\n",
       " './train/data/user04/1599085500/RP/1599110700.png',\n",
       " './train/data/user02/1600786800/RP/1600849020.png',\n",
       " './train/data/user02/1600700400/RP/1600761000.png',\n",
       " './train/data/user03/1599422400/RP/1599473580.png',\n",
       " './train/data/user04/1600899900/RP/1600934100.png',\n",
       " './train/data/user04/1599085500/RP/1599111900.png',\n",
       " './train/data/user04/1599690000/RP/1599715560.png',\n",
       " './train/data/user02/1600961640/RP/1601010300.png',\n",
       " './train/data/user04/1600726800/RP/1600736100.png',\n",
       " './train/data/user04/1599430860/RP/1599461700.png',\n",
       " './train/data/user03/1599584400/RP/1599615060.png',\n",
       " './train/data/user03/1600371000/RP/1600409100.png',\n",
       " './train/data/user04/1600726800/RP/1600738500.png',\n",
       " './train/data/user02/1600786800/RP/1600819920.png',\n",
       " './train/data/user03/1600192800/RP/1600241640.png',\n",
       " './train/data/user04/1599690000/RP/1599721380.png',\n",
       " './train/data/user02/1600700400/RP/1600747380.png',\n",
       " './train/data/user03/1600792200/RP/1600835040.png',\n",
       " './train/data/user03/1600707600/RP/1600735140.png',\n",
       " './train/data/user03/1600792200/RP/1600833420.png',\n",
       " './train/data/user04/1600640400/RP/1600667280.png',\n",
       " './train/data/user01/1599442080/RP/1599460440.png',\n",
       " './train/data/user04/1600122300/RP/1600142880.png',\n",
       " './train/data/user02/1600614000/RP/1600680720.png',\n",
       " './train/data/user04/1600122300/RP/1600144980.png',\n",
       " './train/data/user03/1600192800/RP/1600241040.png',\n",
       " './train/data/user03/1600106400/RP/1600145160.png',\n",
       " './train/data/user03/1600707600/RP/1600757220.png',\n",
       " './train/data/user04/1600899900/RP/1600926900.png',\n",
       " './train/data/user01/1600450920/RP/1600510200.png',\n",
       " './train/data/user04/1599430860/RP/1599459780.png',\n",
       " './train/data/user04/1600726800/RP/1600732680.png',\n",
       " './train/data/user01/1599442080/RP/1599461220.png',\n",
       " './train/data/user02/1598972400/RP/1599008340.png',\n",
       " './train/data/user02/1600786800/RP/1600823220.png',\n",
       " './train/data/user03/1600707600/RP/1600747380.png',\n",
       " './train/data/user04/1599522960/RP/1599544380.png',\n",
       " './train/data/user03/1600876800/RP/1600928400.png',\n",
       " './train/data/user04/1600207800/RP/1600230360.png',\n",
       " './train/data/user02/1600786800/RP/1600823340.png',\n",
       " './train/data/user03/1600792200/RP/1600823520.png',\n",
       " './train/data/user04/1599690000/RP/1599717000.png',\n",
       " './train/data/user03/1599584400/RP/1599620940.png',\n",
       " './train/data/user04/1599085500/RP/1599126720.png',\n",
       " './train/data/user02/1598886000/RP/1598938740.png',\n",
       " './train/data/user04/1600726800/RP/1600746060.png',\n",
       " './train/data/user02/1598886000/RP/1598934060.png',\n",
       " './train/data/user02/1600614000/RP/1600684980.png',\n",
       " './train/data/user03/1599584400/RP/1599610980.png',\n",
       " './train/data/user01/1600731000/RP/1600737060.png',\n",
       " './train/data/user03/1599510360/RP/1599555000.png',\n",
       " './train/data/user04/1600986000/RP/1601006880.png',\n",
       " './train/data/user04/1600816860/RP/1600840740.png',\n",
       " './train/data/user02/1600786800/RP/1600843980.png',\n",
       " './train/data/user04/1599085500/RP/1599109560.png',\n",
       " './train/data/user04/1600726800/RP/1600776600.png',\n",
       " './train/data/user04/1599085500/RP/1599116220.png',\n",
       " './train/data/user04/1599174600/RP/1599197820.png',\n",
       " './train/data/user02/1599146220/RP/1599208800.png',\n",
       " './train/data/user04/1600986000/RP/1601006640.png',\n",
       " './train/data/user02/1600786800/RP/1600822800.png',\n",
       " './train/data/user03/1600876800/RP/1600917180.png',\n",
       " './train/data/user04/1598828400/RP/1598838600.png',\n",
       " './train/data/user04/1599001800/RP/1599023580.png',\n",
       " './train/data/user04/1599174600/RP/1599197460.png',\n",
       " './train/data/user04/1600380900/RP/1600395960.png',\n",
       " './train/data/user03/1600707600/RP/1600740660.png',\n",
       " './train/data/user03/1600106400/RP/1600149420.png',\n",
       " './train/data/user03/1599584400/RP/1599612120.png',\n",
       " './train/data/user04/1599174600/RP/1599190380.png',\n",
       " './train/data/user04/1599776160/RP/1599789900.png',\n",
       " './train/data/user04/1599085500/RP/1599109200.png',\n",
       " './train/data/user03/1600963200/RP/1601007900.png',\n",
       " './train/data/user03/1600707600/RP/1600738440.png',\n",
       " './train/data/user04/1600640400/RP/1600668480.png',\n",
       " './train/data/user02/1600961640/RP/1600992480.png',\n",
       " './train/data/user04/1599690000/RP/1599720660.png',\n",
       " './train/data/user02/1600786800/RP/1600822380.png',\n",
       " './train/data/user04/1600726800/RP/1600772940.png',\n",
       " './train/data/user04/1599776160/RP/1599788220.png',\n",
       " './train/data/user01/1600315920/RP/1600331340.png',\n",
       " './train/data/user04/1599347400/RP/1599375660.png',\n",
       " './train/data/user02/1599058800/RP/1599095400.png',\n",
       " './train/data/user04/1600816860/RP/1600846140.png',\n",
       " './train/data/user04/1599430860/RP/1599457740.png',\n",
       " './train/data/user04/1600470000/RP/1600480920.png',\n",
       " './train/data/user04/1600035000/RP/1600072860.png',\n",
       " './train/data/user03/1600963200/RP/1601002980.png',\n",
       " './train/data/user04/1600726800/RP/1600753620.png',\n",
       " './train/data/user02/1599058800/RP/1599111600.png',\n",
       " './train/data/user04/1600294800/RP/1600335900.png',\n",
       " './train/data/user02/1598886000/RP/1598961840.png',\n",
       " './train/data/user04/1600899900/RP/1600924740.png',\n",
       " './train/data/user03/1600707600/RP/1600752720.png',\n",
       " './train/data/user04/1598912400/RP/1598934360.png',\n",
       " './train/data/user02/1598886000/RP/1598959440.png',\n",
       " './train/data/user04/1599430860/RP/1599466320.png',\n",
       " './train/data/user03/1600106400/RP/1600143240.png',\n",
       " './train/data/user04/1598912400/RP/1598944320.png',\n",
       " './train/data/user04/1600986000/RP/1600990620.png',\n",
       " './train/data/user03/1600106400/RP/1600154460.png',\n",
       " './train/data/user02/1598972400/RP/1599041880.png',\n",
       " './train/data/user04/1600470000/RP/1600490820.png',\n",
       " './train/data/user03/1600963200/RP/1601006160.png',\n",
       " './train/data/user04/1600470000/RP/1600501500.png',\n",
       " './train/data/user03/1600707600/RP/1600735080.png',\n",
       " './train/data/user03/1600792200/RP/1600847580.png',\n",
       " './train/data/user04/1599001800/RP/1599031080.png',\n",
       " './train/data/user04/1600035000/RP/1600058280.png',\n",
       " './train/data/user04/1600035000/RP/1600074000.png',\n",
       " './train/data/user03/1600106400/RP/1600139700.png',\n",
       " './train/data/user04/1600640400/RP/1600650840.png',\n",
       " './train/data/user04/1599085500/RP/1599111480.png',\n",
       " './train/data/user04/1600122300/RP/1600153500.png']"
      ]
     },
     "execution_count": 12,
     "metadata": {},
     "output_type": "execute_result"
    }
   ],
   "source": [
    "tmp"
   ]
  },
  {
   "cell_type": "code",
   "execution_count": 13,
   "id": "2c037a45",
   "metadata": {},
   "outputs": [],
   "source": [
    "img_path_list = []"
   ]
  },
  {
   "cell_type": "code",
   "execution_count": 14,
   "id": "979bcaed",
   "metadata": {},
   "outputs": [],
   "source": [
    "for i in range(15):\n",
    "    path_list = list(train_df[train_df['action']==i]['img_path'])\n",
    "    if len(path_list) >= 500:\n",
    "        tmp = random.sample(path_list, 500)\n",
    "        for i in tmp:\n",
    "            img_path_list.append(i)\n",
    "    else:\n",
    "        for i in path_list:\n",
    "            img_path_list.append(i)"
   ]
  },
  {
   "cell_type": "code",
   "execution_count": 15,
   "id": "f789c220",
   "metadata": {},
   "outputs": [
    {
     "data": {
      "text/html": [
       "<div>\n",
       "<style scoped>\n",
       "    .dataframe tbody tr th:only-of-type {\n",
       "        vertical-align: middle;\n",
       "    }\n",
       "\n",
       "    .dataframe tbody tr th {\n",
       "        vertical-align: top;\n",
       "    }\n",
       "\n",
       "    .dataframe thead th {\n",
       "        text-align: right;\n",
       "    }\n",
       "</style>\n",
       "<table border=\"1\" class=\"dataframe\">\n",
       "  <thead>\n",
       "    <tr style=\"text-align: right;\">\n",
       "      <th></th>\n",
       "      <th>img_path</th>\n",
       "    </tr>\n",
       "  </thead>\n",
       "  <tbody>\n",
       "    <tr>\n",
       "      <th>0</th>\n",
       "      <td>./train/data/user01/1601166300/RP/1601173320.png</td>\n",
       "    </tr>\n",
       "    <tr>\n",
       "      <th>1</th>\n",
       "      <td>./train/data/user01/1601166300/RP/1601172960.png</td>\n",
       "    </tr>\n",
       "    <tr>\n",
       "      <th>2</th>\n",
       "      <td>./train/data/user01/1601166300/RP/1601173140.png</td>\n",
       "    </tr>\n",
       "    <tr>\n",
       "      <th>3</th>\n",
       "      <td>./train/data/user01/1601166300/RP/1601173560.png</td>\n",
       "    </tr>\n",
       "    <tr>\n",
       "      <th>4</th>\n",
       "      <td>./train/data/user01/1601166300/RP/1601173620.png</td>\n",
       "    </tr>\n",
       "    <tr>\n",
       "      <th>...</th>\n",
       "      <td>...</td>\n",
       "    </tr>\n",
       "    <tr>\n",
       "      <th>6070</th>\n",
       "      <td>./train/data/user03/1600792200/RP/1600841280.png</td>\n",
       "    </tr>\n",
       "    <tr>\n",
       "      <th>6071</th>\n",
       "      <td>./train/data/user04/1600207800/RP/1600218600.png</td>\n",
       "    </tr>\n",
       "    <tr>\n",
       "      <th>6072</th>\n",
       "      <td>./train/data/user04/1599522960/RP/1599552060.png</td>\n",
       "    </tr>\n",
       "    <tr>\n",
       "      <th>6073</th>\n",
       "      <td>./train/data/user03/1598886300/RP/1598941020.png</td>\n",
       "    </tr>\n",
       "    <tr>\n",
       "      <th>6074</th>\n",
       "      <td>./train/data/user02/1598886000/RP/1598946720.png</td>\n",
       "    </tr>\n",
       "  </tbody>\n",
       "</table>\n",
       "<p>6075 rows × 1 columns</p>\n",
       "</div>"
      ],
      "text/plain": [
       "                                              img_path\n",
       "0     ./train/data/user01/1601166300/RP/1601173320.png\n",
       "1     ./train/data/user01/1601166300/RP/1601172960.png\n",
       "2     ./train/data/user01/1601166300/RP/1601173140.png\n",
       "3     ./train/data/user01/1601166300/RP/1601173560.png\n",
       "4     ./train/data/user01/1601166300/RP/1601173620.png\n",
       "...                                                ...\n",
       "6070  ./train/data/user03/1600792200/RP/1600841280.png\n",
       "6071  ./train/data/user04/1600207800/RP/1600218600.png\n",
       "6072  ./train/data/user04/1599522960/RP/1599552060.png\n",
       "6073  ./train/data/user03/1598886300/RP/1598941020.png\n",
       "6074  ./train/data/user02/1598886000/RP/1598946720.png\n",
       "\n",
       "[6075 rows x 1 columns]"
      ]
     },
     "execution_count": 15,
     "metadata": {},
     "output_type": "execute_result"
    }
   ],
   "source": [
    "df = pd.DataFrame(img_path_list)\n",
    "df.columns = ['img_path']\n",
    "df"
   ]
  },
  {
   "cell_type": "code",
   "execution_count": 16,
   "id": "e665b935",
   "metadata": {},
   "outputs": [
    {
     "data": {
      "text/html": [
       "<div>\n",
       "<style scoped>\n",
       "    .dataframe tbody tr th:only-of-type {\n",
       "        vertical-align: middle;\n",
       "    }\n",
       "\n",
       "    .dataframe tbody tr th {\n",
       "        vertical-align: top;\n",
       "    }\n",
       "\n",
       "    .dataframe thead th {\n",
       "        text-align: right;\n",
       "    }\n",
       "</style>\n",
       "<table border=\"1\" class=\"dataframe\">\n",
       "  <thead>\n",
       "    <tr style=\"text-align: right;\">\n",
       "      <th></th>\n",
       "      <th>Unnamed: 0</th>\n",
       "      <th>ts</th>\n",
       "      <th>action</th>\n",
       "      <th>img_path</th>\n",
       "    </tr>\n",
       "  </thead>\n",
       "  <tbody>\n",
       "    <tr>\n",
       "      <th>0</th>\n",
       "      <td>35</td>\n",
       "      <td>1.598878e+09</td>\n",
       "      <td>12</td>\n",
       "      <td>./train/data/user01/1598832660/RP/1598878440.png</td>\n",
       "    </tr>\n",
       "    <tr>\n",
       "      <th>1</th>\n",
       "      <td>7447</td>\n",
       "      <td>1.601106e+09</td>\n",
       "      <td>10</td>\n",
       "      <td>./train/data/user01/1601085900/RP/1601105520.png</td>\n",
       "    </tr>\n",
       "    <tr>\n",
       "      <th>2</th>\n",
       "      <td>10644</td>\n",
       "      <td>1.599904e+09</td>\n",
       "      <td>10</td>\n",
       "      <td>./train/data/user02/1599893100/RP/1599903840.png</td>\n",
       "    </tr>\n",
       "    <tr>\n",
       "      <th>3</th>\n",
       "      <td>34985</td>\n",
       "      <td>1.599693e+09</td>\n",
       "      <td>13</td>\n",
       "      <td>./train/data/user04/1599690000/RP/1599692940.png</td>\n",
       "    </tr>\n",
       "    <tr>\n",
       "      <th>4</th>\n",
       "      <td>9987</td>\n",
       "      <td>1.599104e+09</td>\n",
       "      <td>4</td>\n",
       "      <td>./train/data/user02/1599058800/RP/1599103620.png</td>\n",
       "    </tr>\n",
       "    <tr>\n",
       "      <th>...</th>\n",
       "      <td>...</td>\n",
       "      <td>...</td>\n",
       "      <td>...</td>\n",
       "      <td>...</td>\n",
       "    </tr>\n",
       "    <tr>\n",
       "      <th>6070</th>\n",
       "      <td>6479</td>\n",
       "      <td>1.600865e+09</td>\n",
       "      <td>12</td>\n",
       "      <td>./train/data/user01/1600831800/RP/1600864620.png</td>\n",
       "    </tr>\n",
       "    <tr>\n",
       "      <th>6071</th>\n",
       "      <td>13877</td>\n",
       "      <td>1.601099e+09</td>\n",
       "      <td>6</td>\n",
       "      <td>./train/data/user02/1601046000/RP/1601098980.png</td>\n",
       "    </tr>\n",
       "    <tr>\n",
       "      <th>6072</th>\n",
       "      <td>16350</td>\n",
       "      <td>1.599290e+09</td>\n",
       "      <td>3</td>\n",
       "      <td>./train/data/user03/1599231660/RP/1599289560.png</td>\n",
       "    </tr>\n",
       "    <tr>\n",
       "      <th>6073</th>\n",
       "      <td>39489</td>\n",
       "      <td>1.600260e+09</td>\n",
       "      <td>5</td>\n",
       "      <td>./train/data/user04/1600207800/RP/1600259700.png</td>\n",
       "    </tr>\n",
       "    <tr>\n",
       "      <th>6074</th>\n",
       "      <td>36686</td>\n",
       "      <td>1.599885e+09</td>\n",
       "      <td>7</td>\n",
       "      <td>./train/data/user04/1599859800/RP/1599884880.png</td>\n",
       "    </tr>\n",
       "  </tbody>\n",
       "</table>\n",
       "<p>6075 rows × 4 columns</p>\n",
       "</div>"
      ],
      "text/plain": [
       "      Unnamed: 0            ts  action  \\\n",
       "0             35  1.598878e+09      12   \n",
       "1           7447  1.601106e+09      10   \n",
       "2          10644  1.599904e+09      10   \n",
       "3          34985  1.599693e+09      13   \n",
       "4           9987  1.599104e+09       4   \n",
       "...          ...           ...     ...   \n",
       "6070        6479  1.600865e+09      12   \n",
       "6071       13877  1.601099e+09       6   \n",
       "6072       16350  1.599290e+09       3   \n",
       "6073       39489  1.600260e+09       5   \n",
       "6074       36686  1.599885e+09       7   \n",
       "\n",
       "                                              img_path  \n",
       "0     ./train/data/user01/1598832660/RP/1598878440.png  \n",
       "1     ./train/data/user01/1601085900/RP/1601105520.png  \n",
       "2     ./train/data/user02/1599893100/RP/1599903840.png  \n",
       "3     ./train/data/user04/1599690000/RP/1599692940.png  \n",
       "4     ./train/data/user02/1599058800/RP/1599103620.png  \n",
       "...                                                ...  \n",
       "6070  ./train/data/user01/1600831800/RP/1600864620.png  \n",
       "6071  ./train/data/user02/1601046000/RP/1601098980.png  \n",
       "6072  ./train/data/user03/1599231660/RP/1599289560.png  \n",
       "6073  ./train/data/user04/1600207800/RP/1600259700.png  \n",
       "6074  ./train/data/user04/1599859800/RP/1599884880.png  \n",
       "\n",
       "[6075 rows x 4 columns]"
      ]
     },
     "execution_count": 16,
     "metadata": {},
     "output_type": "execute_result"
    }
   ],
   "source": [
    "path_label_df = pd.merge(train_df, df, on='img_path', how='inner')\n",
    "path_label_df"
   ]
  },
  {
   "cell_type": "code",
   "execution_count": 17,
   "id": "bee399bf",
   "metadata": {},
   "outputs": [
    {
     "data": {
      "text/plain": [
       "10    500\n",
       "13    500\n",
       "4     500\n",
       "11    500\n",
       "3     500\n",
       "6     500\n",
       "14    500\n",
       "7     500\n",
       "5     500\n",
       "8     500\n",
       "12    465\n",
       "2     392\n",
       "9     184\n",
       "0      28\n",
       "1       6\n",
       "Name: action, dtype: int64"
      ]
     },
     "execution_count": 17,
     "metadata": {},
     "output_type": "execute_result"
    }
   ],
   "source": [
    "path_label_df['action'].value_counts()"
   ]
  },
  {
   "cell_type": "code",
   "execution_count": 18,
   "id": "392e1c46",
   "metadata": {},
   "outputs": [],
   "source": [
    "train, val, _, _ = train_test_split(path_label_df, path_label_df['action'], test_size=0.1, random_state=CFG['SEED'])"
   ]
  },
  {
   "cell_type": "code",
   "execution_count": 19,
   "id": "d5c86927",
   "metadata": {},
   "outputs": [],
   "source": [
    "tfms = A.Compose([\n",
    "    A.Resize(width=CFG['IMG_SIZE'], height=CFG['IMG_SIZE']),\n",
    "    A.Normalize()\n",
    "], p=1)"
   ]
  },
  {
   "cell_type": "code",
   "execution_count": 20,
   "id": "f86628c6",
   "metadata": {},
   "outputs": [],
   "source": [
    "class CustomDataset(Dataset):\n",
    "    def __init__(self, df, rp_path_list, label_list, tfms=None):\n",
    "        super().__init__()\n",
    "        self.df = df\n",
    "        self.rp_path_list = rp_path_list\n",
    "        self.label_list = label_list\n",
    "        self.tfms=tfms\n",
    "    \n",
    "    def __len__(self):\n",
    "        return len(self.rp_path_list)\n",
    "    \n",
    "    def __getitem__(self, idx):\n",
    "        img = cv2.imread(self.rp_path_list[idx])\n",
    "        img = cv2.cvtColor(img, cv2.COLOR_BGR2RGB)\n",
    "        image = self.tfms(image=img)['image']\n",
    "        image = torch.tensor(np.array(image)).permute(2, 0, 1)\n",
    "        \n",
    "        if self.label_list is not None:\n",
    "            label = self.label_list[idx]\n",
    "            return image, label\n",
    "        else:\n",
    "            return image"
   ]
  },
  {
   "cell_type": "code",
   "execution_count": 21,
   "id": "0adae7ba",
   "metadata": {},
   "outputs": [],
   "source": [
    "train_dataset = CustomDataset(df=train, rp_path_list=train['img_path'].values, label_list=train['action'].values, tfms=tfms)\n",
    "train_loader = DataLoader(train_dataset, batch_size = CFG['BATCH_SIZE'], shuffle=True, num_workers=0)\n",
    "\n",
    "val_dataset = CustomDataset(df=val,rp_path_list=val['img_path'].values, label_list=val['action'].values, tfms=tfms)\n",
    "val_loader = DataLoader(val_dataset, batch_size = CFG['BATCH_SIZE'], shuffle=False, num_workers=0)"
   ]
  },
  {
   "cell_type": "code",
   "execution_count": 22,
   "id": "94f86f91",
   "metadata": {},
   "outputs": [],
   "source": [
    "class FocalLoss(nn.Module):\n",
    "    def __init__(self, weight=None, gamma=2, reduction='mean'):\n",
    "        super(FocalLoss, self).__init__()\n",
    "        self.weight = weight\n",
    "        self.gamma = gamma\n",
    "        self.reduction = reduction\n",
    "\n",
    "    def forward(self, inputs, targets):\n",
    "        ce_loss = F.cross_entropy(inputs, targets, weight=self.weight, reduction=self.reduction)\n",
    "        pt = torch.exp(-ce_loss)\n",
    "        focal_loss = ((1-pt)**self.gamma * ce_loss).mean()\n",
    "        return focal_loss"
   ]
  },
  {
   "cell_type": "code",
   "execution_count": 23,
   "id": "d3724661",
   "metadata": {},
   "outputs": [],
   "source": [
    "def train(model, optimizer, train_loader, val_loader, scheduler, device):\n",
    "    model.to(device)\n",
    "    criterion = FocalLoss().to(device)\n",
    "    \n",
    "    best_val_score = 0\n",
    "    best_model = None\n",
    "    \n",
    "    for epoch in range(1, CFG['EPOCHS']+1):\n",
    "        model.train()\n",
    "        train_loss = []\n",
    "        for images, labels in tqdm(iter(train_loader)):\n",
    "            images = images.to(device)\n",
    "            labels = labels.to(device)\n",
    "            \n",
    "            optimizer.zero_grad()\n",
    "            \n",
    "            output = model(images)\n",
    "            loss = criterion(output, labels)\n",
    "            \n",
    "            loss.backward()\n",
    "            optimizer.step()\n",
    "            \n",
    "            train_loss.append(loss.item())\n",
    "                    \n",
    "        _val_loss, _val_score = validation(model, criterion, val_loader, device)\n",
    "        _train_loss = np.mean(train_loss)\n",
    "        print(f'Epoch [{epoch}], Train Loss : [{_train_loss:.5f}] Val Loss : [{_val_loss:.5f}] Val F1 : [{_val_score:.5f}]')\n",
    "        \n",
    "        if scheduler is not None:\n",
    "            scheduler.step(_val_score)\n",
    "            \n",
    "        if best_val_score < _val_score:\n",
    "            best_val_score = _val_score\n",
    "            best_model = model\n",
    "    \n",
    "    return best_model"
   ]
  },
  {
   "cell_type": "code",
   "execution_count": 24,
   "id": "3eb09fa1",
   "metadata": {},
   "outputs": [],
   "source": [
    "def validation(model, criterion, val_loader, device):\n",
    "    model.eval()\n",
    "    val_loss = []\n",
    "    preds, trues = [], []\n",
    "    \n",
    "    with torch.no_grad():\n",
    "        for images, labels in tqdm(iter(val_loader)):\n",
    "            images = images.to(device)\n",
    "            labels = labels.to(device)\n",
    "            \n",
    "            logit = model(images)\n",
    "            \n",
    "            loss = criterion(logit, labels)\n",
    "            \n",
    "            val_loss.append(loss.item())\n",
    "            \n",
    "            preds += logit.argmax(1).detach().cpu().numpy().tolist()\n",
    "            trues += labels.detach().cpu().numpy().tolist()\n",
    "        \n",
    "        _val_loss = np.mean(val_loss)\n",
    "    \n",
    "    _val_score = f1_score(trues, preds, average='micro')\n",
    "    return _val_loss, _val_score"
   ]
  },
  {
   "cell_type": "code",
   "execution_count": 25,
   "id": "1822c2eb",
   "metadata": {
    "scrolled": false
   },
   "outputs": [
    {
     "data": {
      "application/vnd.jupyter.widget-view+json": {
       "model_id": "8a49dae8d45142e2852245d138b32ae3",
       "version_major": 2,
       "version_minor": 0
      },
      "text/plain": [
       "  0%|          | 0/342 [00:00<?, ?it/s]"
      ]
     },
     "metadata": {},
     "output_type": "display_data"
    },
    {
     "data": {
      "application/vnd.jupyter.widget-view+json": {
       "model_id": "58a4d3e211a94773b5ae0bec0d1ff917",
       "version_major": 2,
       "version_minor": 0
      },
      "text/plain": [
       "  0%|          | 0/38 [00:00<?, ?it/s]"
      ]
     },
     "metadata": {},
     "output_type": "display_data"
    },
    {
     "name": "stdout",
     "output_type": "stream",
     "text": [
      "Epoch [1], Train Loss : [2.12293] Val Loss : [2.02995] Val F1 : [0.22039]\n"
     ]
    },
    {
     "data": {
      "application/vnd.jupyter.widget-view+json": {
       "model_id": "6331cc0c0b4c431f9baf5a5fef39e3a4",
       "version_major": 2,
       "version_minor": 0
      },
      "text/plain": [
       "  0%|          | 0/342 [00:00<?, ?it/s]"
      ]
     },
     "metadata": {},
     "output_type": "display_data"
    },
    {
     "data": {
      "application/vnd.jupyter.widget-view+json": {
       "model_id": "d59097ba1d244884be3bbacc1d1721e8",
       "version_major": 2,
       "version_minor": 0
      },
      "text/plain": [
       "  0%|          | 0/38 [00:00<?, ?it/s]"
      ]
     },
     "metadata": {},
     "output_type": "display_data"
    },
    {
     "name": "stdout",
     "output_type": "stream",
     "text": [
      "Epoch [2], Train Loss : [1.98415] Val Loss : [1.98303] Val F1 : [0.20395]\n"
     ]
    },
    {
     "data": {
      "application/vnd.jupyter.widget-view+json": {
       "model_id": "fc34a5dda16249a6978a39f9b52b8248",
       "version_major": 2,
       "version_minor": 0
      },
      "text/plain": [
       "  0%|          | 0/342 [00:00<?, ?it/s]"
      ]
     },
     "metadata": {},
     "output_type": "display_data"
    },
    {
     "data": {
      "application/vnd.jupyter.widget-view+json": {
       "model_id": "9cedaab168294b949c26e3977ceaaa5d",
       "version_major": 2,
       "version_minor": 0
      },
      "text/plain": [
       "  0%|          | 0/38 [00:00<?, ?it/s]"
      ]
     },
     "metadata": {},
     "output_type": "display_data"
    },
    {
     "name": "stdout",
     "output_type": "stream",
     "text": [
      "Epoch [3], Train Loss : [1.94874] Val Loss : [1.91717] Val F1 : [0.21711]\n"
     ]
    },
    {
     "data": {
      "application/vnd.jupyter.widget-view+json": {
       "model_id": "72492076e0b84d49952ad41372320d0b",
       "version_major": 2,
       "version_minor": 0
      },
      "text/plain": [
       "  0%|          | 0/342 [00:00<?, ?it/s]"
      ]
     },
     "metadata": {},
     "output_type": "display_data"
    },
    {
     "data": {
      "application/vnd.jupyter.widget-view+json": {
       "model_id": "78a152851a724af1b78ce04e5117c6cc",
       "version_major": 2,
       "version_minor": 0
      },
      "text/plain": [
       "  0%|          | 0/38 [00:00<?, ?it/s]"
      ]
     },
     "metadata": {},
     "output_type": "display_data"
    },
    {
     "name": "stdout",
     "output_type": "stream",
     "text": [
      "Epoch [4], Train Loss : [1.92039] Val Loss : [1.95882] Val F1 : [0.20888]\n",
      "Epoch 00004: reducing learning rate of group 0 to 5.0000e-05.\n"
     ]
    },
    {
     "data": {
      "application/vnd.jupyter.widget-view+json": {
       "model_id": "410e991767cc43d9bc5ac44ac1bd0e27",
       "version_major": 2,
       "version_minor": 0
      },
      "text/plain": [
       "  0%|          | 0/342 [00:00<?, ?it/s]"
      ]
     },
     "metadata": {},
     "output_type": "display_data"
    },
    {
     "data": {
      "application/vnd.jupyter.widget-view+json": {
       "model_id": "a0a3583baf8446df9086a0da5bce7aae",
       "version_major": 2,
       "version_minor": 0
      },
      "text/plain": [
       "  0%|          | 0/38 [00:00<?, ?it/s]"
      ]
     },
     "metadata": {},
     "output_type": "display_data"
    },
    {
     "name": "stdout",
     "output_type": "stream",
     "text": [
      "Epoch [5], Train Loss : [1.85381] Val Loss : [1.90828] Val F1 : [0.25822]\n"
     ]
    },
    {
     "data": {
      "application/vnd.jupyter.widget-view+json": {
       "model_id": "49c34c57c2654758a8b0ce539fc72839",
       "version_major": 2,
       "version_minor": 0
      },
      "text/plain": [
       "  0%|          | 0/342 [00:00<?, ?it/s]"
      ]
     },
     "metadata": {},
     "output_type": "display_data"
    },
    {
     "data": {
      "application/vnd.jupyter.widget-view+json": {
       "model_id": "d4136445b46f493e8a612e6112ae4d54",
       "version_major": 2,
       "version_minor": 0
      },
      "text/plain": [
       "  0%|          | 0/38 [00:00<?, ?it/s]"
      ]
     },
     "metadata": {},
     "output_type": "display_data"
    },
    {
     "name": "stdout",
     "output_type": "stream",
     "text": [
      "Epoch [6], Train Loss : [1.81625] Val Loss : [1.89220] Val F1 : [0.24507]\n"
     ]
    },
    {
     "data": {
      "application/vnd.jupyter.widget-view+json": {
       "model_id": "1bca130953a74512be7426903ea7ef8b",
       "version_major": 2,
       "version_minor": 0
      },
      "text/plain": [
       "  0%|          | 0/342 [00:00<?, ?it/s]"
      ]
     },
     "metadata": {},
     "output_type": "display_data"
    },
    {
     "data": {
      "application/vnd.jupyter.widget-view+json": {
       "model_id": "2fc9104899f24d23a46dd391f2fa1f5d",
       "version_major": 2,
       "version_minor": 0
      },
      "text/plain": [
       "  0%|          | 0/38 [00:00<?, ?it/s]"
      ]
     },
     "metadata": {},
     "output_type": "display_data"
    },
    {
     "name": "stdout",
     "output_type": "stream",
     "text": [
      "Epoch [7], Train Loss : [1.80826] Val Loss : [1.91123] Val F1 : [0.25000]\n"
     ]
    },
    {
     "data": {
      "application/vnd.jupyter.widget-view+json": {
       "model_id": "ef7c816343a04a909dd030ae2370cb79",
       "version_major": 2,
       "version_minor": 0
      },
      "text/plain": [
       "  0%|          | 0/342 [00:00<?, ?it/s]"
      ]
     },
     "metadata": {},
     "output_type": "display_data"
    },
    {
     "data": {
      "application/vnd.jupyter.widget-view+json": {
       "model_id": "92f2164644e94d7e883dc5b1e979bc3b",
       "version_major": 2,
       "version_minor": 0
      },
      "text/plain": [
       "  0%|          | 0/38 [00:00<?, ?it/s]"
      ]
     },
     "metadata": {},
     "output_type": "display_data"
    },
    {
     "name": "stdout",
     "output_type": "stream",
     "text": [
      "Epoch [8], Train Loss : [1.78613] Val Loss : [1.87867] Val F1 : [0.25164]\n",
      "Epoch 00008: reducing learning rate of group 0 to 2.5000e-05.\n"
     ]
    },
    {
     "data": {
      "application/vnd.jupyter.widget-view+json": {
       "model_id": "9d728b98447d452c909d3b46006177da",
       "version_major": 2,
       "version_minor": 0
      },
      "text/plain": [
       "  0%|          | 0/342 [00:00<?, ?it/s]"
      ]
     },
     "metadata": {},
     "output_type": "display_data"
    },
    {
     "data": {
      "application/vnd.jupyter.widget-view+json": {
       "model_id": "55ed0899f8d344f4a2d22cad8dfd2736",
       "version_major": 2,
       "version_minor": 0
      },
      "text/plain": [
       "  0%|          | 0/38 [00:00<?, ?it/s]"
      ]
     },
     "metadata": {},
     "output_type": "display_data"
    },
    {
     "name": "stdout",
     "output_type": "stream",
     "text": [
      "Epoch [9], Train Loss : [1.74643] Val Loss : [1.84580] Val F1 : [0.27467]\n"
     ]
    },
    {
     "data": {
      "application/vnd.jupyter.widget-view+json": {
       "model_id": "3789f46880374a83b2ead862f8a02ae2",
       "version_major": 2,
       "version_minor": 0
      },
      "text/plain": [
       "  0%|          | 0/342 [00:00<?, ?it/s]"
      ]
     },
     "metadata": {},
     "output_type": "display_data"
    },
    {
     "data": {
      "application/vnd.jupyter.widget-view+json": {
       "model_id": "cdd2f1565ee7405e9968df9572d57924",
       "version_major": 2,
       "version_minor": 0
      },
      "text/plain": [
       "  0%|          | 0/38 [00:00<?, ?it/s]"
      ]
     },
     "metadata": {},
     "output_type": "display_data"
    },
    {
     "name": "stdout",
     "output_type": "stream",
     "text": [
      "Epoch [10], Train Loss : [1.72751] Val Loss : [1.88019] Val F1 : [0.25822]\n"
     ]
    },
    {
     "data": {
      "application/vnd.jupyter.widget-view+json": {
       "model_id": "6c02417cb54a4a50951b4ef1c2e5bcc0",
       "version_major": 2,
       "version_minor": 0
      },
      "text/plain": [
       "  0%|          | 0/342 [00:00<?, ?it/s]"
      ]
     },
     "metadata": {},
     "output_type": "display_data"
    },
    {
     "data": {
      "application/vnd.jupyter.widget-view+json": {
       "model_id": "6026bf7944994ddf8fc11413a4115020",
       "version_major": 2,
       "version_minor": 0
      },
      "text/plain": [
       "  0%|          | 0/38 [00:00<?, ?it/s]"
      ]
     },
     "metadata": {},
     "output_type": "display_data"
    },
    {
     "name": "stdout",
     "output_type": "stream",
     "text": [
      "Epoch [11], Train Loss : [1.72011] Val Loss : [1.88163] Val F1 : [0.27138]\n"
     ]
    },
    {
     "data": {
      "application/vnd.jupyter.widget-view+json": {
       "model_id": "a5a37763b56d4a698e10367c9db6ac2c",
       "version_major": 2,
       "version_minor": 0
      },
      "text/plain": [
       "  0%|          | 0/342 [00:00<?, ?it/s]"
      ]
     },
     "metadata": {},
     "output_type": "display_data"
    },
    {
     "data": {
      "application/vnd.jupyter.widget-view+json": {
       "model_id": "47a76f2333fc4fe78d482a1fd0b724fa",
       "version_major": 2,
       "version_minor": 0
      },
      "text/plain": [
       "  0%|          | 0/38 [00:00<?, ?it/s]"
      ]
     },
     "metadata": {},
     "output_type": "display_data"
    },
    {
     "name": "stdout",
     "output_type": "stream",
     "text": [
      "Epoch [12], Train Loss : [1.70612] Val Loss : [1.87609] Val F1 : [0.25493]\n",
      "Epoch 00012: reducing learning rate of group 0 to 1.2500e-05.\n"
     ]
    },
    {
     "data": {
      "application/vnd.jupyter.widget-view+json": {
       "model_id": "2e18a571f97942d390c52e94dcb94b99",
       "version_major": 2,
       "version_minor": 0
      },
      "text/plain": [
       "  0%|          | 0/342 [00:00<?, ?it/s]"
      ]
     },
     "metadata": {},
     "output_type": "display_data"
    },
    {
     "data": {
      "application/vnd.jupyter.widget-view+json": {
       "model_id": "a74d5695f690429f979ae8412400c7cf",
       "version_major": 2,
       "version_minor": 0
      },
      "text/plain": [
       "  0%|          | 0/38 [00:00<?, ?it/s]"
      ]
     },
     "metadata": {},
     "output_type": "display_data"
    },
    {
     "name": "stdout",
     "output_type": "stream",
     "text": [
      "Epoch [13], Train Loss : [1.68193] Val Loss : [1.85985] Val F1 : [0.27138]\n"
     ]
    },
    {
     "data": {
      "application/vnd.jupyter.widget-view+json": {
       "model_id": "aadda2568dfc45d689a178ce903fb02f",
       "version_major": 2,
       "version_minor": 0
      },
      "text/plain": [
       "  0%|          | 0/342 [00:00<?, ?it/s]"
      ]
     },
     "metadata": {},
     "output_type": "display_data"
    },
    {
     "data": {
      "application/vnd.jupyter.widget-view+json": {
       "model_id": "715fb60ae10a4bc9b093a57c10bebdda",
       "version_major": 2,
       "version_minor": 0
      },
      "text/plain": [
       "  0%|          | 0/38 [00:00<?, ?it/s]"
      ]
     },
     "metadata": {},
     "output_type": "display_data"
    },
    {
     "name": "stdout",
     "output_type": "stream",
     "text": [
      "Epoch [14], Train Loss : [1.65772] Val Loss : [1.82810] Val F1 : [0.27796]\n"
     ]
    },
    {
     "data": {
      "application/vnd.jupyter.widget-view+json": {
       "model_id": "e4ad754e86a84942beb50152dda47862",
       "version_major": 2,
       "version_minor": 0
      },
      "text/plain": [
       "  0%|          | 0/342 [00:00<?, ?it/s]"
      ]
     },
     "metadata": {},
     "output_type": "display_data"
    },
    {
     "data": {
      "application/vnd.jupyter.widget-view+json": {
       "model_id": "df5727ec333044c8a13890926cd8777c",
       "version_major": 2,
       "version_minor": 0
      },
      "text/plain": [
       "  0%|          | 0/38 [00:00<?, ?it/s]"
      ]
     },
     "metadata": {},
     "output_type": "display_data"
    },
    {
     "name": "stdout",
     "output_type": "stream",
     "text": [
      "Epoch [15], Train Loss : [1.65912] Val Loss : [1.82957] Val F1 : [0.28125]\n"
     ]
    },
    {
     "data": {
      "application/vnd.jupyter.widget-view+json": {
       "model_id": "74effb2309814683811af21eae3c23bd",
       "version_major": 2,
       "version_minor": 0
      },
      "text/plain": [
       "  0%|          | 0/342 [00:00<?, ?it/s]"
      ]
     },
     "metadata": {},
     "output_type": "display_data"
    },
    {
     "data": {
      "application/vnd.jupyter.widget-view+json": {
       "model_id": "5d915df2de564f3ea613b8f61de2733c",
       "version_major": 2,
       "version_minor": 0
      },
      "text/plain": [
       "  0%|          | 0/38 [00:00<?, ?it/s]"
      ]
     },
     "metadata": {},
     "output_type": "display_data"
    },
    {
     "name": "stdout",
     "output_type": "stream",
     "text": [
      "Epoch [16], Train Loss : [1.65593] Val Loss : [1.85909] Val F1 : [0.24671]\n"
     ]
    },
    {
     "data": {
      "application/vnd.jupyter.widget-view+json": {
       "model_id": "e840e3bf8020405e95d3e336e564a35a",
       "version_major": 2,
       "version_minor": 0
      },
      "text/plain": [
       "  0%|          | 0/342 [00:00<?, ?it/s]"
      ]
     },
     "metadata": {},
     "output_type": "display_data"
    },
    {
     "data": {
      "application/vnd.jupyter.widget-view+json": {
       "model_id": "13586f4784274294a04f3c4587671232",
       "version_major": 2,
       "version_minor": 0
      },
      "text/plain": [
       "  0%|          | 0/38 [00:00<?, ?it/s]"
      ]
     },
     "metadata": {},
     "output_type": "display_data"
    },
    {
     "name": "stdout",
     "output_type": "stream",
     "text": [
      "Epoch [17], Train Loss : [1.64678] Val Loss : [1.85642] Val F1 : [0.26316]\n"
     ]
    },
    {
     "data": {
      "application/vnd.jupyter.widget-view+json": {
       "model_id": "e1b605addc76498c86dbb0b10bb61567",
       "version_major": 2,
       "version_minor": 0
      },
      "text/plain": [
       "  0%|          | 0/342 [00:00<?, ?it/s]"
      ]
     },
     "metadata": {},
     "output_type": "display_data"
    },
    {
     "data": {
      "application/vnd.jupyter.widget-view+json": {
       "model_id": "0efa39abf23746f899a7f127305b1b13",
       "version_major": 2,
       "version_minor": 0
      },
      "text/plain": [
       "  0%|          | 0/38 [00:00<?, ?it/s]"
      ]
     },
     "metadata": {},
     "output_type": "display_data"
    },
    {
     "name": "stdout",
     "output_type": "stream",
     "text": [
      "Epoch [18], Train Loss : [1.64196] Val Loss : [1.85005] Val F1 : [0.25822]\n",
      "Epoch 00018: reducing learning rate of group 0 to 6.2500e-06.\n"
     ]
    },
    {
     "data": {
      "application/vnd.jupyter.widget-view+json": {
       "model_id": "0a83ea5446c14cbe89f89fe7c03beb69",
       "version_major": 2,
       "version_minor": 0
      },
      "text/plain": [
       "  0%|          | 0/342 [00:00<?, ?it/s]"
      ]
     },
     "metadata": {},
     "output_type": "display_data"
    },
    {
     "data": {
      "application/vnd.jupyter.widget-view+json": {
       "model_id": "df5964f5e0d74d5f8dcb1c89e537669e",
       "version_major": 2,
       "version_minor": 0
      },
      "text/plain": [
       "  0%|          | 0/38 [00:00<?, ?it/s]"
      ]
     },
     "metadata": {},
     "output_type": "display_data"
    },
    {
     "name": "stdout",
     "output_type": "stream",
     "text": [
      "Epoch [19], Train Loss : [1.61626] Val Loss : [1.84921] Val F1 : [0.27961]\n"
     ]
    },
    {
     "data": {
      "application/vnd.jupyter.widget-view+json": {
       "model_id": "3c5e120e09f84982b57deeb30a148391",
       "version_major": 2,
       "version_minor": 0
      },
      "text/plain": [
       "  0%|          | 0/342 [00:00<?, ?it/s]"
      ]
     },
     "metadata": {},
     "output_type": "display_data"
    },
    {
     "data": {
      "application/vnd.jupyter.widget-view+json": {
       "model_id": "0ea5f98ee90b45bd9bf7ec7576bbab44",
       "version_major": 2,
       "version_minor": 0
      },
      "text/plain": [
       "  0%|          | 0/38 [00:00<?, ?it/s]"
      ]
     },
     "metadata": {},
     "output_type": "display_data"
    },
    {
     "name": "stdout",
     "output_type": "stream",
     "text": [
      "Epoch [20], Train Loss : [1.61361] Val Loss : [1.85925] Val F1 : [0.28125]\n"
     ]
    },
    {
     "data": {
      "application/vnd.jupyter.widget-view+json": {
       "model_id": "c2ad5873455b44bd9425da79377a6f7e",
       "version_major": 2,
       "version_minor": 0
      },
      "text/plain": [
       "  0%|          | 0/342 [00:00<?, ?it/s]"
      ]
     },
     "metadata": {},
     "output_type": "display_data"
    },
    {
     "data": {
      "application/vnd.jupyter.widget-view+json": {
       "model_id": "6a42339d8cc24f62941ffc980b53b720",
       "version_major": 2,
       "version_minor": 0
      },
      "text/plain": [
       "  0%|          | 0/38 [00:00<?, ?it/s]"
      ]
     },
     "metadata": {},
     "output_type": "display_data"
    },
    {
     "name": "stdout",
     "output_type": "stream",
     "text": [
      "Epoch [21], Train Loss : [1.61035] Val Loss : [1.84275] Val F1 : [0.26974]\n",
      "Epoch 00021: reducing learning rate of group 0 to 3.1250e-06.\n"
     ]
    },
    {
     "data": {
      "application/vnd.jupyter.widget-view+json": {
       "model_id": "b1bdb99032f34fa0879c5dd00d91ccf2",
       "version_major": 2,
       "version_minor": 0
      },
      "text/plain": [
       "  0%|          | 0/342 [00:00<?, ?it/s]"
      ]
     },
     "metadata": {},
     "output_type": "display_data"
    },
    {
     "data": {
      "application/vnd.jupyter.widget-view+json": {
       "model_id": "265a3600337e44c994fa65ed2c120e71",
       "version_major": 2,
       "version_minor": 0
      },
      "text/plain": [
       "  0%|          | 0/38 [00:00<?, ?it/s]"
      ]
     },
     "metadata": {},
     "output_type": "display_data"
    },
    {
     "name": "stdout",
     "output_type": "stream",
     "text": [
      "Epoch [22], Train Loss : [1.60128] Val Loss : [1.85181] Val F1 : [0.26645]\n"
     ]
    },
    {
     "data": {
      "application/vnd.jupyter.widget-view+json": {
       "model_id": "d89d4c4e38ab4027a55194453c18915d",
       "version_major": 2,
       "version_minor": 0
      },
      "text/plain": [
       "  0%|          | 0/342 [00:00<?, ?it/s]"
      ]
     },
     "metadata": {},
     "output_type": "display_data"
    },
    {
     "data": {
      "application/vnd.jupyter.widget-view+json": {
       "model_id": "b8519b620a924ca48b834d4e8a19bbc8",
       "version_major": 2,
       "version_minor": 0
      },
      "text/plain": [
       "  0%|          | 0/38 [00:00<?, ?it/s]"
      ]
     },
     "metadata": {},
     "output_type": "display_data"
    },
    {
     "name": "stdout",
     "output_type": "stream",
     "text": [
      "Epoch [23], Train Loss : [1.60174] Val Loss : [1.83686] Val F1 : [0.27961]\n"
     ]
    },
    {
     "data": {
      "application/vnd.jupyter.widget-view+json": {
       "model_id": "4777908294c348b6ab9c5e781774f10f",
       "version_major": 2,
       "version_minor": 0
      },
      "text/plain": [
       "  0%|          | 0/342 [00:00<?, ?it/s]"
      ]
     },
     "metadata": {},
     "output_type": "display_data"
    },
    {
     "data": {
      "application/vnd.jupyter.widget-view+json": {
       "model_id": "9d28a6d442b446a7b2bff2a9245b32f4",
       "version_major": 2,
       "version_minor": 0
      },
      "text/plain": [
       "  0%|          | 0/38 [00:00<?, ?it/s]"
      ]
     },
     "metadata": {},
     "output_type": "display_data"
    },
    {
     "name": "stdout",
     "output_type": "stream",
     "text": [
      "Epoch [24], Train Loss : [1.60581] Val Loss : [1.84170] Val F1 : [0.28618]\n"
     ]
    },
    {
     "data": {
      "application/vnd.jupyter.widget-view+json": {
       "model_id": "508ec0274a114869963496048e859bc5",
       "version_major": 2,
       "version_minor": 0
      },
      "text/plain": [
       "  0%|          | 0/342 [00:00<?, ?it/s]"
      ]
     },
     "metadata": {},
     "output_type": "display_data"
    },
    {
     "data": {
      "application/vnd.jupyter.widget-view+json": {
       "model_id": "63a01a159ac14fa5b997477fd65e4097",
       "version_major": 2,
       "version_minor": 0
      },
      "text/plain": [
       "  0%|          | 0/38 [00:00<?, ?it/s]"
      ]
     },
     "metadata": {},
     "output_type": "display_data"
    },
    {
     "name": "stdout",
     "output_type": "stream",
     "text": [
      "Epoch [25], Train Loss : [1.58609] Val Loss : [1.85770] Val F1 : [0.26645]\n"
     ]
    },
    {
     "data": {
      "application/vnd.jupyter.widget-view+json": {
       "model_id": "414f28fcdb914825b280d011d87d5e3d",
       "version_major": 2,
       "version_minor": 0
      },
      "text/plain": [
       "  0%|          | 0/342 [00:00<?, ?it/s]"
      ]
     },
     "metadata": {},
     "output_type": "display_data"
    },
    {
     "data": {
      "application/vnd.jupyter.widget-view+json": {
       "model_id": "a085b566175a4a2da3b52941655a3f9f",
       "version_major": 2,
       "version_minor": 0
      },
      "text/plain": [
       "  0%|          | 0/38 [00:00<?, ?it/s]"
      ]
     },
     "metadata": {},
     "output_type": "display_data"
    },
    {
     "name": "stdout",
     "output_type": "stream",
     "text": [
      "Epoch [26], Train Loss : [1.59880] Val Loss : [1.85832] Val F1 : [0.28618]\n"
     ]
    },
    {
     "data": {
      "application/vnd.jupyter.widget-view+json": {
       "model_id": "fef6d7d703474d4c983bd77da5c972d8",
       "version_major": 2,
       "version_minor": 0
      },
      "text/plain": [
       "  0%|          | 0/342 [00:00<?, ?it/s]"
      ]
     },
     "metadata": {},
     "output_type": "display_data"
    },
    {
     "data": {
      "application/vnd.jupyter.widget-view+json": {
       "model_id": "a8f0137cce494c9db4b7ac9f86f844b3",
       "version_major": 2,
       "version_minor": 0
      },
      "text/plain": [
       "  0%|          | 0/38 [00:00<?, ?it/s]"
      ]
     },
     "metadata": {},
     "output_type": "display_data"
    },
    {
     "name": "stdout",
     "output_type": "stream",
     "text": [
      "Epoch [27], Train Loss : [1.59169] Val Loss : [1.84537] Val F1 : [0.26809]\n",
      "Epoch 00027: reducing learning rate of group 0 to 1.5625e-06.\n"
     ]
    },
    {
     "data": {
      "application/vnd.jupyter.widget-view+json": {
       "model_id": "81e2cf1e930748ff9b931d4a53b074b9",
       "version_major": 2,
       "version_minor": 0
      },
      "text/plain": [
       "  0%|          | 0/342 [00:00<?, ?it/s]"
      ]
     },
     "metadata": {},
     "output_type": "display_data"
    },
    {
     "data": {
      "application/vnd.jupyter.widget-view+json": {
       "model_id": "c0ad8277d3ba4cc68ca3bbaaea4f0203",
       "version_major": 2,
       "version_minor": 0
      },
      "text/plain": [
       "  0%|          | 0/38 [00:00<?, ?it/s]"
      ]
     },
     "metadata": {},
     "output_type": "display_data"
    },
    {
     "name": "stdout",
     "output_type": "stream",
     "text": [
      "Epoch [28], Train Loss : [1.58501] Val Loss : [1.82734] Val F1 : [0.27961]\n"
     ]
    },
    {
     "data": {
      "application/vnd.jupyter.widget-view+json": {
       "model_id": "48e11cad786247e3a3a813b9c21881e4",
       "version_major": 2,
       "version_minor": 0
      },
      "text/plain": [
       "  0%|          | 0/342 [00:00<?, ?it/s]"
      ]
     },
     "metadata": {},
     "output_type": "display_data"
    },
    {
     "data": {
      "application/vnd.jupyter.widget-view+json": {
       "model_id": "f907bad83e8649f5b8fdc5b1823bd751",
       "version_major": 2,
       "version_minor": 0
      },
      "text/plain": [
       "  0%|          | 0/38 [00:00<?, ?it/s]"
      ]
     },
     "metadata": {},
     "output_type": "display_data"
    },
    {
     "name": "stdout",
     "output_type": "stream",
     "text": [
      "Epoch [29], Train Loss : [1.58358] Val Loss : [1.83123] Val F1 : [0.27303]\n"
     ]
    },
    {
     "data": {
      "application/vnd.jupyter.widget-view+json": {
       "model_id": "11e27d879abb45eea7e17bfe33a5a82b",
       "version_major": 2,
       "version_minor": 0
      },
      "text/plain": [
       "  0%|          | 0/342 [00:00<?, ?it/s]"
      ]
     },
     "metadata": {},
     "output_type": "display_data"
    },
    {
     "data": {
      "application/vnd.jupyter.widget-view+json": {
       "model_id": "db2f6b24224549b39295397870adc0de",
       "version_major": 2,
       "version_minor": 0
      },
      "text/plain": [
       "  0%|          | 0/38 [00:00<?, ?it/s]"
      ]
     },
     "metadata": {},
     "output_type": "display_data"
    },
    {
     "name": "stdout",
     "output_type": "stream",
     "text": [
      "Epoch [30], Train Loss : [1.59623] Val Loss : [1.83943] Val F1 : [0.28289]\n",
      "Epoch 00030: reducing learning rate of group 0 to 7.8125e-07.\n"
     ]
    },
    {
     "data": {
      "application/vnd.jupyter.widget-view+json": {
       "model_id": "663aa628aae241d18d747bb9c7228b94",
       "version_major": 2,
       "version_minor": 0
      },
      "text/plain": [
       "  0%|          | 0/342 [00:00<?, ?it/s]"
      ]
     },
     "metadata": {},
     "output_type": "display_data"
    },
    {
     "data": {
      "application/vnd.jupyter.widget-view+json": {
       "model_id": "80bcc43af957410c80f0c235b0978108",
       "version_major": 2,
       "version_minor": 0
      },
      "text/plain": [
       "  0%|          | 0/38 [00:00<?, ?it/s]"
      ]
     },
     "metadata": {},
     "output_type": "display_data"
    },
    {
     "name": "stdout",
     "output_type": "stream",
     "text": [
      "Epoch [31], Train Loss : [1.57843] Val Loss : [1.83591] Val F1 : [0.27961]\n"
     ]
    },
    {
     "data": {
      "application/vnd.jupyter.widget-view+json": {
       "model_id": "cd402816d013468c9133e598ded10406",
       "version_major": 2,
       "version_minor": 0
      },
      "text/plain": [
       "  0%|          | 0/342 [00:00<?, ?it/s]"
      ]
     },
     "metadata": {},
     "output_type": "display_data"
    },
    {
     "data": {
      "application/vnd.jupyter.widget-view+json": {
       "model_id": "21f8eede45cd4e7789cc048311727af3",
       "version_major": 2,
       "version_minor": 0
      },
      "text/plain": [
       "  0%|          | 0/38 [00:00<?, ?it/s]"
      ]
     },
     "metadata": {},
     "output_type": "display_data"
    },
    {
     "name": "stdout",
     "output_type": "stream",
     "text": [
      "Epoch [32], Train Loss : [1.58100] Val Loss : [1.86083] Val F1 : [0.26480]\n"
     ]
    },
    {
     "data": {
      "application/vnd.jupyter.widget-view+json": {
       "model_id": "2a60c1a889e541978f6dfd261ae578f6",
       "version_major": 2,
       "version_minor": 0
      },
      "text/plain": [
       "  0%|          | 0/342 [00:00<?, ?it/s]"
      ]
     },
     "metadata": {},
     "output_type": "display_data"
    },
    {
     "data": {
      "application/vnd.jupyter.widget-view+json": {
       "model_id": "a17e7374fdb0422ebdb605f79be2b5fc",
       "version_major": 2,
       "version_minor": 0
      },
      "text/plain": [
       "  0%|          | 0/38 [00:00<?, ?it/s]"
      ]
     },
     "metadata": {},
     "output_type": "display_data"
    },
    {
     "name": "stdout",
     "output_type": "stream",
     "text": [
      "Epoch [33], Train Loss : [1.57778] Val Loss : [1.83511] Val F1 : [0.27796]\n",
      "Epoch 00033: reducing learning rate of group 0 to 3.9063e-07.\n"
     ]
    },
    {
     "data": {
      "application/vnd.jupyter.widget-view+json": {
       "model_id": "dfab4dc25d6442049f2cdc2fa6e4cf99",
       "version_major": 2,
       "version_minor": 0
      },
      "text/plain": [
       "  0%|          | 0/342 [00:00<?, ?it/s]"
      ]
     },
     "metadata": {},
     "output_type": "display_data"
    },
    {
     "data": {
      "application/vnd.jupyter.widget-view+json": {
       "model_id": "c2cb62377dc54b478db1d01945adb8af",
       "version_major": 2,
       "version_minor": 0
      },
      "text/plain": [
       "  0%|          | 0/38 [00:00<?, ?it/s]"
      ]
     },
     "metadata": {},
     "output_type": "display_data"
    },
    {
     "name": "stdout",
     "output_type": "stream",
     "text": [
      "Epoch [34], Train Loss : [1.58145] Val Loss : [1.83407] Val F1 : [0.27961]\n"
     ]
    },
    {
     "data": {
      "application/vnd.jupyter.widget-view+json": {
       "model_id": "6d64ac09d3af41a593cf841caf1ebe29",
       "version_major": 2,
       "version_minor": 0
      },
      "text/plain": [
       "  0%|          | 0/342 [00:00<?, ?it/s]"
      ]
     },
     "metadata": {},
     "output_type": "display_data"
    },
    {
     "data": {
      "application/vnd.jupyter.widget-view+json": {
       "model_id": "812fa8ad7d5d42b48151c50c8ca02354",
       "version_major": 2,
       "version_minor": 0
      },
      "text/plain": [
       "  0%|          | 0/38 [00:00<?, ?it/s]"
      ]
     },
     "metadata": {},
     "output_type": "display_data"
    },
    {
     "name": "stdout",
     "output_type": "stream",
     "text": [
      "Epoch [35], Train Loss : [1.58149] Val Loss : [1.84864] Val F1 : [0.27796]\n"
     ]
    },
    {
     "data": {
      "application/vnd.jupyter.widget-view+json": {
       "model_id": "8557ad03be344a2583a1744387652fb0",
       "version_major": 2,
       "version_minor": 0
      },
      "text/plain": [
       "  0%|          | 0/342 [00:00<?, ?it/s]"
      ]
     },
     "metadata": {},
     "output_type": "display_data"
    },
    {
     "data": {
      "application/vnd.jupyter.widget-view+json": {
       "model_id": "08a70248d2bd443bb0d0d8f1fdf826c3",
       "version_major": 2,
       "version_minor": 0
      },
      "text/plain": [
       "  0%|          | 0/38 [00:00<?, ?it/s]"
      ]
     },
     "metadata": {},
     "output_type": "display_data"
    },
    {
     "name": "stdout",
     "output_type": "stream",
     "text": [
      "Epoch [36], Train Loss : [1.57262] Val Loss : [1.84447] Val F1 : [0.28454]\n",
      "Epoch 00036: reducing learning rate of group 0 to 1.9531e-07.\n"
     ]
    },
    {
     "data": {
      "application/vnd.jupyter.widget-view+json": {
       "model_id": "b95fdb6a43844e728e4668a5c9b2f004",
       "version_major": 2,
       "version_minor": 0
      },
      "text/plain": [
       "  0%|          | 0/342 [00:00<?, ?it/s]"
      ]
     },
     "metadata": {},
     "output_type": "display_data"
    },
    {
     "data": {
      "application/vnd.jupyter.widget-view+json": {
       "model_id": "0a9188ccb8f34ddfabfea9c21081fd75",
       "version_major": 2,
       "version_minor": 0
      },
      "text/plain": [
       "  0%|          | 0/38 [00:00<?, ?it/s]"
      ]
     },
     "metadata": {},
     "output_type": "display_data"
    },
    {
     "name": "stdout",
     "output_type": "stream",
     "text": [
      "Epoch [37], Train Loss : [1.57911] Val Loss : [1.85753] Val F1 : [0.27632]\n"
     ]
    },
    {
     "data": {
      "application/vnd.jupyter.widget-view+json": {
       "model_id": "5d3c958b14924f1a885d6e1087ffa775",
       "version_major": 2,
       "version_minor": 0
      },
      "text/plain": [
       "  0%|          | 0/342 [00:00<?, ?it/s]"
      ]
     },
     "metadata": {},
     "output_type": "display_data"
    },
    {
     "data": {
      "application/vnd.jupyter.widget-view+json": {
       "model_id": "eb5cc54d3f7041fc9bc3b6275f582623",
       "version_major": 2,
       "version_minor": 0
      },
      "text/plain": [
       "  0%|          | 0/38 [00:00<?, ?it/s]"
      ]
     },
     "metadata": {},
     "output_type": "display_data"
    },
    {
     "name": "stdout",
     "output_type": "stream",
     "text": [
      "Epoch [38], Train Loss : [1.58240] Val Loss : [1.85554] Val F1 : [0.28289]\n"
     ]
    },
    {
     "data": {
      "application/vnd.jupyter.widget-view+json": {
       "model_id": "705402ae613144be987fba7250b22628",
       "version_major": 2,
       "version_minor": 0
      },
      "text/plain": [
       "  0%|          | 0/342 [00:00<?, ?it/s]"
      ]
     },
     "metadata": {},
     "output_type": "display_data"
    },
    {
     "data": {
      "application/vnd.jupyter.widget-view+json": {
       "model_id": "03fa06469f1f4465be8111f8ed6df165",
       "version_major": 2,
       "version_minor": 0
      },
      "text/plain": [
       "  0%|          | 0/38 [00:00<?, ?it/s]"
      ]
     },
     "metadata": {},
     "output_type": "display_data"
    },
    {
     "name": "stdout",
     "output_type": "stream",
     "text": [
      "Epoch [39], Train Loss : [1.57766] Val Loss : [1.85981] Val F1 : [0.28947]\n"
     ]
    },
    {
     "data": {
      "application/vnd.jupyter.widget-view+json": {
       "model_id": "193e8a12b85c47ada5660aeb29604c4f",
       "version_major": 2,
       "version_minor": 0
      },
      "text/plain": [
       "  0%|          | 0/342 [00:00<?, ?it/s]"
      ]
     },
     "metadata": {},
     "output_type": "display_data"
    },
    {
     "data": {
      "application/vnd.jupyter.widget-view+json": {
       "model_id": "9ca8e10c012441309ee32fe16c6a246d",
       "version_major": 2,
       "version_minor": 0
      },
      "text/plain": [
       "  0%|          | 0/38 [00:00<?, ?it/s]"
      ]
     },
     "metadata": {},
     "output_type": "display_data"
    },
    {
     "name": "stdout",
     "output_type": "stream",
     "text": [
      "Epoch [40], Train Loss : [1.57811] Val Loss : [1.84253] Val F1 : [0.27961]\n"
     ]
    },
    {
     "data": {
      "application/vnd.jupyter.widget-view+json": {
       "model_id": "4dc35d0366cf4b10938eabdac566c713",
       "version_major": 2,
       "version_minor": 0
      },
      "text/plain": [
       "  0%|          | 0/342 [00:00<?, ?it/s]"
      ]
     },
     "metadata": {},
     "output_type": "display_data"
    },
    {
     "data": {
      "application/vnd.jupyter.widget-view+json": {
       "model_id": "66ce7f668e7e4cad9c0c7b96d645cf27",
       "version_major": 2,
       "version_minor": 0
      },
      "text/plain": [
       "  0%|          | 0/38 [00:00<?, ?it/s]"
      ]
     },
     "metadata": {},
     "output_type": "display_data"
    },
    {
     "name": "stdout",
     "output_type": "stream",
     "text": [
      "Epoch [41], Train Loss : [1.58170] Val Loss : [1.83492] Val F1 : [0.28947]\n"
     ]
    },
    {
     "data": {
      "application/vnd.jupyter.widget-view+json": {
       "model_id": "05ce2f817d1b4bec8780ea1e9a93778a",
       "version_major": 2,
       "version_minor": 0
      },
      "text/plain": [
       "  0%|          | 0/342 [00:00<?, ?it/s]"
      ]
     },
     "metadata": {},
     "output_type": "display_data"
    },
    {
     "data": {
      "application/vnd.jupyter.widget-view+json": {
       "model_id": "27a210cf5fea4984aa1985827579df61",
       "version_major": 2,
       "version_minor": 0
      },
      "text/plain": [
       "  0%|          | 0/38 [00:00<?, ?it/s]"
      ]
     },
     "metadata": {},
     "output_type": "display_data"
    },
    {
     "name": "stdout",
     "output_type": "stream",
     "text": [
      "Epoch [42], Train Loss : [1.57897] Val Loss : [1.86538] Val F1 : [0.28783]\n",
      "Epoch 00042: reducing learning rate of group 0 to 9.7656e-08.\n"
     ]
    },
    {
     "data": {
      "application/vnd.jupyter.widget-view+json": {
       "model_id": "909730388c104a55887f3c76edd04c3e",
       "version_major": 2,
       "version_minor": 0
      },
      "text/plain": [
       "  0%|          | 0/342 [00:00<?, ?it/s]"
      ]
     },
     "metadata": {},
     "output_type": "display_data"
    },
    {
     "data": {
      "application/vnd.jupyter.widget-view+json": {
       "model_id": "4b37d51516db440eb7d6c245edf3e740",
       "version_major": 2,
       "version_minor": 0
      },
      "text/plain": [
       "  0%|          | 0/38 [00:00<?, ?it/s]"
      ]
     },
     "metadata": {},
     "output_type": "display_data"
    },
    {
     "name": "stdout",
     "output_type": "stream",
     "text": [
      "Epoch [43], Train Loss : [1.57111] Val Loss : [1.84064] Val F1 : [0.28783]\n"
     ]
    },
    {
     "data": {
      "application/vnd.jupyter.widget-view+json": {
       "model_id": "cf1de35f01b046169226d1666bcea3b8",
       "version_major": 2,
       "version_minor": 0
      },
      "text/plain": [
       "  0%|          | 0/342 [00:00<?, ?it/s]"
      ]
     },
     "metadata": {},
     "output_type": "display_data"
    },
    {
     "data": {
      "application/vnd.jupyter.widget-view+json": {
       "model_id": "2dd4ef2830e94f05858764557c50b8ba",
       "version_major": 2,
       "version_minor": 0
      },
      "text/plain": [
       "  0%|          | 0/38 [00:00<?, ?it/s]"
      ]
     },
     "metadata": {},
     "output_type": "display_data"
    },
    {
     "name": "stdout",
     "output_type": "stream",
     "text": [
      "Epoch [44], Train Loss : [1.56896] Val Loss : [1.87173] Val F1 : [0.28289]\n"
     ]
    },
    {
     "data": {
      "application/vnd.jupyter.widget-view+json": {
       "model_id": "9f338882002c47d99a74366819898794",
       "version_major": 2,
       "version_minor": 0
      },
      "text/plain": [
       "  0%|          | 0/342 [00:00<?, ?it/s]"
      ]
     },
     "metadata": {},
     "output_type": "display_data"
    },
    {
     "data": {
      "application/vnd.jupyter.widget-view+json": {
       "model_id": "e81c77719ab4438b8eecbbc38210da39",
       "version_major": 2,
       "version_minor": 0
      },
      "text/plain": [
       "  0%|          | 0/38 [00:00<?, ?it/s]"
      ]
     },
     "metadata": {},
     "output_type": "display_data"
    },
    {
     "name": "stdout",
     "output_type": "stream",
     "text": [
      "Epoch [45], Train Loss : [1.58081] Val Loss : [1.84250] Val F1 : [0.28947]\n",
      "Epoch 00045: reducing learning rate of group 0 to 4.8828e-08.\n"
     ]
    },
    {
     "data": {
      "application/vnd.jupyter.widget-view+json": {
       "model_id": "dad8e13bfc0441c6b59a7e4d870c5bf7",
       "version_major": 2,
       "version_minor": 0
      },
      "text/plain": [
       "  0%|          | 0/342 [00:00<?, ?it/s]"
      ]
     },
     "metadata": {},
     "output_type": "display_data"
    },
    {
     "data": {
      "application/vnd.jupyter.widget-view+json": {
       "model_id": "ce3897104f1d4ae9b1abcd84320a95fa",
       "version_major": 2,
       "version_minor": 0
      },
      "text/plain": [
       "  0%|          | 0/38 [00:00<?, ?it/s]"
      ]
     },
     "metadata": {},
     "output_type": "display_data"
    },
    {
     "name": "stdout",
     "output_type": "stream",
     "text": [
      "Epoch [46], Train Loss : [1.57577] Val Loss : [1.85245] Val F1 : [0.26151]\n"
     ]
    },
    {
     "data": {
      "application/vnd.jupyter.widget-view+json": {
       "model_id": "3124a62951a94098b952c83960df6cd0",
       "version_major": 2,
       "version_minor": 0
      },
      "text/plain": [
       "  0%|          | 0/342 [00:00<?, ?it/s]"
      ]
     },
     "metadata": {},
     "output_type": "display_data"
    },
    {
     "data": {
      "application/vnd.jupyter.widget-view+json": {
       "model_id": "c2c9b0610d8240d58c83ef428466bc29",
       "version_major": 2,
       "version_minor": 0
      },
      "text/plain": [
       "  0%|          | 0/38 [00:00<?, ?it/s]"
      ]
     },
     "metadata": {},
     "output_type": "display_data"
    },
    {
     "name": "stdout",
     "output_type": "stream",
     "text": [
      "Epoch [47], Train Loss : [1.58450] Val Loss : [1.83793] Val F1 : [0.28454]\n"
     ]
    },
    {
     "data": {
      "application/vnd.jupyter.widget-view+json": {
       "model_id": "70de84d105c346a29dbf82db2dba6f1c",
       "version_major": 2,
       "version_minor": 0
      },
      "text/plain": [
       "  0%|          | 0/342 [00:00<?, ?it/s]"
      ]
     },
     "metadata": {},
     "output_type": "display_data"
    },
    {
     "data": {
      "application/vnd.jupyter.widget-view+json": {
       "model_id": "fd2d35c0be554b1d8bda9a157c834a4e",
       "version_major": 2,
       "version_minor": 0
      },
      "text/plain": [
       "  0%|          | 0/38 [00:00<?, ?it/s]"
      ]
     },
     "metadata": {},
     "output_type": "display_data"
    },
    {
     "name": "stdout",
     "output_type": "stream",
     "text": [
      "Epoch [48], Train Loss : [1.58634] Val Loss : [1.85964] Val F1 : [0.28454]\n",
      "Epoch 00048: reducing learning rate of group 0 to 2.4414e-08.\n"
     ]
    },
    {
     "data": {
      "application/vnd.jupyter.widget-view+json": {
       "model_id": "6541594c44ff4a2b9c62e3388fd2767b",
       "version_major": 2,
       "version_minor": 0
      },
      "text/plain": [
       "  0%|          | 0/342 [00:00<?, ?it/s]"
      ]
     },
     "metadata": {},
     "output_type": "display_data"
    },
    {
     "data": {
      "application/vnd.jupyter.widget-view+json": {
       "model_id": "5a00054c17f147cf9c6ed37774f03a3f",
       "version_major": 2,
       "version_minor": 0
      },
      "text/plain": [
       "  0%|          | 0/38 [00:00<?, ?it/s]"
      ]
     },
     "metadata": {},
     "output_type": "display_data"
    },
    {
     "name": "stdout",
     "output_type": "stream",
     "text": [
      "Epoch [49], Train Loss : [1.57886] Val Loss : [1.84989] Val F1 : [0.27632]\n"
     ]
    },
    {
     "data": {
      "application/vnd.jupyter.widget-view+json": {
       "model_id": "cbda2b2bf46e408892449cb0dcd2eab8",
       "version_major": 2,
       "version_minor": 0
      },
      "text/plain": [
       "  0%|          | 0/342 [00:00<?, ?it/s]"
      ]
     },
     "metadata": {},
     "output_type": "display_data"
    },
    {
     "data": {
      "application/vnd.jupyter.widget-view+json": {
       "model_id": "8c974272c83f45028b48a5c773eb2d20",
       "version_major": 2,
       "version_minor": 0
      },
      "text/plain": [
       "  0%|          | 0/38 [00:00<?, ?it/s]"
      ]
     },
     "metadata": {},
     "output_type": "display_data"
    },
    {
     "name": "stdout",
     "output_type": "stream",
     "text": [
      "Epoch [50], Train Loss : [1.58207] Val Loss : [1.84337] Val F1 : [0.28454]\n"
     ]
    }
   ],
   "source": [
    "model = resnet.ResNet18(64, 15)\n",
    "model.eval()\n",
    "optimizer = torch.optim.Adam(params = model.parameters(), lr = CFG[\"LEARNING_RATE\"])\n",
    "scheduler = torch.optim.lr_scheduler.ReduceLROnPlateau(optimizer, mode='max', factor=0.5, patience=2,threshold_mode='abs',min_lr=1e-8, verbose=True)\n",
    "\n",
    "infer_model = train(model, optimizer, train_loader, val_loader, scheduler, device)"
   ]
  },
  {
   "cell_type": "code",
   "execution_count": 26,
   "id": "ca96d9da",
   "metadata": {},
   "outputs": [],
   "source": [
    "test_dataset = CustomDataset(test_df, test_df['img_path'].values, None, tfms=tfms)\n",
    "test_loader = DataLoader(test_dataset, batch_size = CFG['BATCH_SIZE'], shuffle=False, num_workers=0)"
   ]
  },
  {
   "cell_type": "code",
   "execution_count": 27,
   "id": "d4233fe0",
   "metadata": {},
   "outputs": [],
   "source": [
    "def inference(model, test_loader, device):\n",
    "    model.to(device)\n",
    "    model.eval()\n",
    "    preds = []\n",
    "    with torch.no_grad():\n",
    "        for videos in tqdm(iter(test_loader)):\n",
    "            videos = videos.to(device)\n",
    "            logit = model(videos)\n",
    "            preds += logit.argmax(1).detach().cpu().numpy().tolist()\n",
    "    return preds"
   ]
  },
  {
   "cell_type": "code",
   "execution_count": 28,
   "id": "4e04ea42",
   "metadata": {},
   "outputs": [
    {
     "data": {
      "application/vnd.jupyter.widget-view+json": {
       "model_id": "f726aa910c504190bd3cf81a0d4d840f",
       "version_major": 2,
       "version_minor": 0
      },
      "text/plain": [
       "  0%|          | 0/598 [00:00<?, ?it/s]"
      ]
     },
     "metadata": {},
     "output_type": "display_data"
    }
   ],
   "source": [
    "preds = inference(model, test_loader, device)"
   ]
  },
  {
   "cell_type": "code",
   "execution_count": 29,
   "id": "16a5100e",
   "metadata": {},
   "outputs": [
    {
     "data": {
      "text/html": [
       "<div>\n",
       "<style scoped>\n",
       "    .dataframe tbody tr th:only-of-type {\n",
       "        vertical-align: middle;\n",
       "    }\n",
       "\n",
       "    .dataframe tbody tr th {\n",
       "        vertical-align: top;\n",
       "    }\n",
       "\n",
       "    .dataframe thead th {\n",
       "        text-align: right;\n",
       "    }\n",
       "</style>\n",
       "<table border=\"1\" class=\"dataframe\">\n",
       "  <thead>\n",
       "    <tr style=\"text-align: right;\">\n",
       "      <th></th>\n",
       "      <th>Unnamed: 0</th>\n",
       "      <th>ts</th>\n",
       "      <th>action</th>\n",
       "      <th>img_path</th>\n",
       "    </tr>\n",
       "  </thead>\n",
       "  <tbody>\n",
       "    <tr>\n",
       "      <th>0</th>\n",
       "      <td>42176</td>\n",
       "      <td>1.600573e+09</td>\n",
       "      <td>4</td>\n",
       "      <td>./train/data/user04/1600558200/RP/1600572600.png</td>\n",
       "    </tr>\n",
       "    <tr>\n",
       "      <th>1</th>\n",
       "      <td>46781</td>\n",
       "      <td>1.601090e+09</td>\n",
       "      <td>8</td>\n",
       "      <td>./train/data/user04/1601079300/RP/1601089620.png</td>\n",
       "    </tr>\n",
       "    <tr>\n",
       "      <th>2</th>\n",
       "      <td>41251</td>\n",
       "      <td>1.600476e+09</td>\n",
       "      <td>8</td>\n",
       "      <td>./train/data/user04/1600470000/RP/1600475940.png</td>\n",
       "    </tr>\n",
       "    <tr>\n",
       "      <th>3</th>\n",
       "      <td>32495</td>\n",
       "      <td>1.599353e+09</td>\n",
       "      <td>7</td>\n",
       "      <td>./train/data/user04/1599347400/RP/1599352560.png</td>\n",
       "    </tr>\n",
       "    <tr>\n",
       "      <th>4</th>\n",
       "      <td>34492</td>\n",
       "      <td>1.599566e+09</td>\n",
       "      <td>5</td>\n",
       "      <td>./train/data/user04/1599522960/RP/1599566280.png</td>\n",
       "    </tr>\n",
       "    <tr>\n",
       "      <th>...</th>\n",
       "      <td>...</td>\n",
       "      <td>...</td>\n",
       "      <td>...</td>\n",
       "      <td>...</td>\n",
       "    </tr>\n",
       "    <tr>\n",
       "      <th>9562</th>\n",
       "      <td>15701</td>\n",
       "      <td>1.599102e+09</td>\n",
       "      <td>4</td>\n",
       "      <td>./train/data/user03/1599058980/RP/1599101940.png</td>\n",
       "    </tr>\n",
       "    <tr>\n",
       "      <th>9563</th>\n",
       "      <td>10536</td>\n",
       "      <td>1.599898e+09</td>\n",
       "      <td>4</td>\n",
       "      <td>./train/data/user02/1599893100/RP/1599897600.png</td>\n",
       "    </tr>\n",
       "    <tr>\n",
       "      <th>9564</th>\n",
       "      <td>12726</td>\n",
       "      <td>1.600769e+09</td>\n",
       "      <td>4</td>\n",
       "      <td>./train/data/user02/1600700400/RP/1600769280.png</td>\n",
       "    </tr>\n",
       "    <tr>\n",
       "      <th>9565</th>\n",
       "      <td>28573</td>\n",
       "      <td>1.598851e+09</td>\n",
       "      <td>14</td>\n",
       "      <td>./train/data/user04/1598828400/RP/1598850540.png</td>\n",
       "    </tr>\n",
       "    <tr>\n",
       "      <th>9566</th>\n",
       "      <td>27092</td>\n",
       "      <td>1.601118e+09</td>\n",
       "      <td>8</td>\n",
       "      <td>./train/data/user03/1601054580/RP/1601117820.png</td>\n",
       "    </tr>\n",
       "  </tbody>\n",
       "</table>\n",
       "<p>9567 rows × 4 columns</p>\n",
       "</div>"
      ],
      "text/plain": [
       "      Unnamed: 0            ts  action  \\\n",
       "0          42176  1.600573e+09       4   \n",
       "1          46781  1.601090e+09       8   \n",
       "2          41251  1.600476e+09       8   \n",
       "3          32495  1.599353e+09       7   \n",
       "4          34492  1.599566e+09       5   \n",
       "...          ...           ...     ...   \n",
       "9562       15701  1.599102e+09       4   \n",
       "9563       10536  1.599898e+09       4   \n",
       "9564       12726  1.600769e+09       4   \n",
       "9565       28573  1.598851e+09      14   \n",
       "9566       27092  1.601118e+09       8   \n",
       "\n",
       "                                              img_path  \n",
       "0     ./train/data/user04/1600558200/RP/1600572600.png  \n",
       "1     ./train/data/user04/1601079300/RP/1601089620.png  \n",
       "2     ./train/data/user04/1600470000/RP/1600475940.png  \n",
       "3     ./train/data/user04/1599347400/RP/1599352560.png  \n",
       "4     ./train/data/user04/1599522960/RP/1599566280.png  \n",
       "...                                                ...  \n",
       "9562  ./train/data/user03/1599058980/RP/1599101940.png  \n",
       "9563  ./train/data/user02/1599893100/RP/1599897600.png  \n",
       "9564  ./train/data/user02/1600700400/RP/1600769280.png  \n",
       "9565  ./train/data/user04/1598828400/RP/1598850540.png  \n",
       "9566  ./train/data/user03/1601054580/RP/1601117820.png  \n",
       "\n",
       "[9567 rows x 4 columns]"
      ]
     },
     "execution_count": 29,
     "metadata": {},
     "output_type": "execute_result"
    }
   ],
   "source": [
    "test_df"
   ]
  },
  {
   "cell_type": "code",
   "execution_count": 30,
   "id": "2eea0ab9",
   "metadata": {},
   "outputs": [
    {
     "data": {
      "text/plain": [
       "[13,\n",
       " 14,\n",
       " 14,\n",
       " 6,\n",
       " 5,\n",
       " 5,\n",
       " 3,\n",
       " 8,\n",
       " 13,\n",
       " 3,\n",
       " 13,\n",
       " 14,\n",
       " 13,\n",
       " 7,\n",
       " 14,\n",
       " 7,\n",
       " 14,\n",
       " 6,\n",
       " 13,\n",
       " 8,\n",
       " 13,\n",
       " 11,\n",
       " 13,\n",
       " 3,\n",
       " 6,\n",
       " 10,\n",
       " 13,\n",
       " 14,\n",
       " 14,\n",
       " 5,\n",
       " 14,\n",
       " 5,\n",
       " 3,\n",
       " 14,\n",
       " 13,\n",
       " 3,\n",
       " 13,\n",
       " 2,\n",
       " 12,\n",
       " 14,\n",
       " 10,\n",
       " 11,\n",
       " 14,\n",
       " 13,\n",
       " 11,\n",
       " 11,\n",
       " 12,\n",
       " 14,\n",
       " 13,\n",
       " 14,\n",
       " 14,\n",
       " 8,\n",
       " 8,\n",
       " 13,\n",
       " 14,\n",
       " 5,\n",
       " 5,\n",
       " 14,\n",
       " 8,\n",
       " 11,\n",
       " 11,\n",
       " 3,\n",
       " 14,\n",
       " 10,\n",
       " 14,\n",
       " 3,\n",
       " 14,\n",
       " 14,\n",
       " 11,\n",
       " 14,\n",
       " 5,\n",
       " 11,\n",
       " 5,\n",
       " 4,\n",
       " 14,\n",
       " 8,\n",
       " 10,\n",
       " 14,\n",
       " 4,\n",
       " 14,\n",
       " 5,\n",
       " 14,\n",
       " 5,\n",
       " 13,\n",
       " 5,\n",
       " 13,\n",
       " 13,\n",
       " 13,\n",
       " 6,\n",
       " 14,\n",
       " 14,\n",
       " 14,\n",
       " 11,\n",
       " 6,\n",
       " 14,\n",
       " 14,\n",
       " 3,\n",
       " 11,\n",
       " 14,\n",
       " 7,\n",
       " 12,\n",
       " 5,\n",
       " 10,\n",
       " 14,\n",
       " 8,\n",
       " 5,\n",
       " 2,\n",
       " 13,\n",
       " 10,\n",
       " 11,\n",
       " 4,\n",
       " 13,\n",
       " 5,\n",
       " 14,\n",
       " 14,\n",
       " 11,\n",
       " 5,\n",
       " 14,\n",
       " 14,\n",
       " 5,\n",
       " 13,\n",
       " 3,\n",
       " 11,\n",
       " 11,\n",
       " 6,\n",
       " 13,\n",
       " 11,\n",
       " 4,\n",
       " 11,\n",
       " 5,\n",
       " 12,\n",
       " 6,\n",
       " 14,\n",
       " 13,\n",
       " 13,\n",
       " 4,\n",
       " 13,\n",
       " 8,\n",
       " 6,\n",
       " 2,\n",
       " 14,\n",
       " 11,\n",
       " 13,\n",
       " 13,\n",
       " 14,\n",
       " 4,\n",
       " 5,\n",
       " 13,\n",
       " 10,\n",
       " 5,\n",
       " 13,\n",
       " 13,\n",
       " 13,\n",
       " 14,\n",
       " 8,\n",
       " 8,\n",
       " 10,\n",
       " 14,\n",
       " 5,\n",
       " 14,\n",
       " 5,\n",
       " 8,\n",
       " 6,\n",
       " 6,\n",
       " 11,\n",
       " 6,\n",
       " 13,\n",
       " 2,\n",
       " 14,\n",
       " 4,\n",
       " 6,\n",
       " 13,\n",
       " 11,\n",
       " 14,\n",
       " 13,\n",
       " 12,\n",
       " 5,\n",
       " 13,\n",
       " 11,\n",
       " 13,\n",
       " 10,\n",
       " 10,\n",
       " 2,\n",
       " 14,\n",
       " 8,\n",
       " 14,\n",
       " 5,\n",
       " 3,\n",
       " 5,\n",
       " 13,\n",
       " 13,\n",
       " 7,\n",
       " 8,\n",
       " 3,\n",
       " 5,\n",
       " 4,\n",
       " 14,\n",
       " 3,\n",
       " 13,\n",
       " 14,\n",
       " 14,\n",
       " 10,\n",
       " 5,\n",
       " 5,\n",
       " 14,\n",
       " 13,\n",
       " 12,\n",
       " 13,\n",
       " 5,\n",
       " 11,\n",
       " 6,\n",
       " 8,\n",
       " 14,\n",
       " 8,\n",
       " 3,\n",
       " 4,\n",
       " 11,\n",
       " 14,\n",
       " 5,\n",
       " 14,\n",
       " 14,\n",
       " 14,\n",
       " 13,\n",
       " 14,\n",
       " 4,\n",
       " 5,\n",
       " 13,\n",
       " 14,\n",
       " 5,\n",
       " 14,\n",
       " 14,\n",
       " 14,\n",
       " 11,\n",
       " 13,\n",
       " 10,\n",
       " 12,\n",
       " 3,\n",
       " 3,\n",
       " 14,\n",
       " 2,\n",
       " 5,\n",
       " 14,\n",
       " 14,\n",
       " 7,\n",
       " 14,\n",
       " 2,\n",
       " 8,\n",
       " 11,\n",
       " 13,\n",
       " 6,\n",
       " 11,\n",
       " 14,\n",
       " 5,\n",
       " 4,\n",
       " 14,\n",
       " 13,\n",
       " 13,\n",
       " 14,\n",
       " 3,\n",
       " 11,\n",
       " 14,\n",
       " 5,\n",
       " 11,\n",
       " 6,\n",
       " 11,\n",
       " 13,\n",
       " 7,\n",
       " 8,\n",
       " 11,\n",
       " 6,\n",
       " 5,\n",
       " 5,\n",
       " 5,\n",
       " 6,\n",
       " 14,\n",
       " 11,\n",
       " 5,\n",
       " 5,\n",
       " 11,\n",
       " 13,\n",
       " 3,\n",
       " 14,\n",
       " 14,\n",
       " 3,\n",
       " 4,\n",
       " 4,\n",
       " 10,\n",
       " 14,\n",
       " 5,\n",
       " 11,\n",
       " 5,\n",
       " 11,\n",
       " 11,\n",
       " 14,\n",
       " 7,\n",
       " 14,\n",
       " 8,\n",
       " 8,\n",
       " 11,\n",
       " 14,\n",
       " 3,\n",
       " 10,\n",
       " 5,\n",
       " 12,\n",
       " 5,\n",
       " 14,\n",
       " 13,\n",
       " 10,\n",
       " 5,\n",
       " 14,\n",
       " 13,\n",
       " 12,\n",
       " 8,\n",
       " 13,\n",
       " 14,\n",
       " 4,\n",
       " 13,\n",
       " 12,\n",
       " 5,\n",
       " 13,\n",
       " 12,\n",
       " 8,\n",
       " 10,\n",
       " 3,\n",
       " 6,\n",
       " 13,\n",
       " 13,\n",
       " 4,\n",
       " 14,\n",
       " 14,\n",
       " 11,\n",
       " 14,\n",
       " 4,\n",
       " 4,\n",
       " 12,\n",
       " 12,\n",
       " 13,\n",
       " 5,\n",
       " 4,\n",
       " 13,\n",
       " 8,\n",
       " 13,\n",
       " 5,\n",
       " 5,\n",
       " 7,\n",
       " 4,\n",
       " 5,\n",
       " 5,\n",
       " 14,\n",
       " 5,\n",
       " 13,\n",
       " 5,\n",
       " 10,\n",
       " 14,\n",
       " 8,\n",
       " 5,\n",
       " 5,\n",
       " 9,\n",
       " 3,\n",
       " 8,\n",
       " 13,\n",
       " 14,\n",
       " 8,\n",
       " 11,\n",
       " 14,\n",
       " 10,\n",
       " 7,\n",
       " 5,\n",
       " 5,\n",
       " 14,\n",
       " 4,\n",
       " 14,\n",
       " 5,\n",
       " 7,\n",
       " 5,\n",
       " 14,\n",
       " 11,\n",
       " 12,\n",
       " 8,\n",
       " 14,\n",
       " 4,\n",
       " 10,\n",
       " 6,\n",
       " 14,\n",
       " 10,\n",
       " 13,\n",
       " 11,\n",
       " 4,\n",
       " 13,\n",
       " 14,\n",
       " 14,\n",
       " 13,\n",
       " 11,\n",
       " 14,\n",
       " 14,\n",
       " 12,\n",
       " 14,\n",
       " 3,\n",
       " 5,\n",
       " 13,\n",
       " 4,\n",
       " 13,\n",
       " 7,\n",
       " 14,\n",
       " 5,\n",
       " 14,\n",
       " 5,\n",
       " 14,\n",
       " 13,\n",
       " 13,\n",
       " 13,\n",
       " 8,\n",
       " 13,\n",
       " 7,\n",
       " 5,\n",
       " 4,\n",
       " 10,\n",
       " 11,\n",
       " 11,\n",
       " 13,\n",
       " 13,\n",
       " 14,\n",
       " 5,\n",
       " 11,\n",
       " 12,\n",
       " 3,\n",
       " 14,\n",
       " 8,\n",
       " 10,\n",
       " 8,\n",
       " 12,\n",
       " 12,\n",
       " 13,\n",
       " 4,\n",
       " 10,\n",
       " 6,\n",
       " 10,\n",
       " 5,\n",
       " 3,\n",
       " 14,\n",
       " 13,\n",
       " 14,\n",
       " 10,\n",
       " 11,\n",
       " 14,\n",
       " 4,\n",
       " 7,\n",
       " 13,\n",
       " 8,\n",
       " 3,\n",
       " 12,\n",
       " 2,\n",
       " 8,\n",
       " 3,\n",
       " 6,\n",
       " 14,\n",
       " 14,\n",
       " 8,\n",
       " 5,\n",
       " 3,\n",
       " 14,\n",
       " 14,\n",
       " 10,\n",
       " 5,\n",
       " 3,\n",
       " 13,\n",
       " 14,\n",
       " 5,\n",
       " 12,\n",
       " 14,\n",
       " 11,\n",
       " 8,\n",
       " 7,\n",
       " 13,\n",
       " 11,\n",
       " 3,\n",
       " 8,\n",
       " 5,\n",
       " 14,\n",
       " 3,\n",
       " 5,\n",
       " 14,\n",
       " 5,\n",
       " 14,\n",
       " 4,\n",
       " 8,\n",
       " 11,\n",
       " 5,\n",
       " 3,\n",
       " 14,\n",
       " 4,\n",
       " 14,\n",
       " 11,\n",
       " 11,\n",
       " 14,\n",
       " 3,\n",
       " 8,\n",
       " 14,\n",
       " 5,\n",
       " 5,\n",
       " 8,\n",
       " 5,\n",
       " 7,\n",
       " 14,\n",
       " 5,\n",
       " 13,\n",
       " 14,\n",
       " 4,\n",
       " 12,\n",
       " 4,\n",
       " 14,\n",
       " 14,\n",
       " 8,\n",
       " 14,\n",
       " 14,\n",
       " 5,\n",
       " 8,\n",
       " 4,\n",
       " 3,\n",
       " 8,\n",
       " 14,\n",
       " 14,\n",
       " 8,\n",
       " 13,\n",
       " 11,\n",
       " 5,\n",
       " 13,\n",
       " 11,\n",
       " 5,\n",
       " 5,\n",
       " 5,\n",
       " 13,\n",
       " 5,\n",
       " 12,\n",
       " 8,\n",
       " 3,\n",
       " 3,\n",
       " 5,\n",
       " 4,\n",
       " 5,\n",
       " 8,\n",
       " 3,\n",
       " 6,\n",
       " 14,\n",
       " 14,\n",
       " 13,\n",
       " 13,\n",
       " 14,\n",
       " 3,\n",
       " 3,\n",
       " 13,\n",
       " 8,\n",
       " 14,\n",
       " 13,\n",
       " 14,\n",
       " 14,\n",
       " 13,\n",
       " 8,\n",
       " 11,\n",
       " 10,\n",
       " 8,\n",
       " 7,\n",
       " 12,\n",
       " 14,\n",
       " 4,\n",
       " 5,\n",
       " 4,\n",
       " 14,\n",
       " 14,\n",
       " 11,\n",
       " 13,\n",
       " 5,\n",
       " 7,\n",
       " 14,\n",
       " 14,\n",
       " 5,\n",
       " 3,\n",
       " 3,\n",
       " 14,\n",
       " 8,\n",
       " 5,\n",
       " 5,\n",
       " 11,\n",
       " 14,\n",
       " 14,\n",
       " 2,\n",
       " 11,\n",
       " 11,\n",
       " 7,\n",
       " 8,\n",
       " 13,\n",
       " 12,\n",
       " 13,\n",
       " 5,\n",
       " 7,\n",
       " 7,\n",
       " 5,\n",
       " 4,\n",
       " 5,\n",
       " 13,\n",
       " 8,\n",
       " 12,\n",
       " 8,\n",
       " 3,\n",
       " 5,\n",
       " 5,\n",
       " 14,\n",
       " 14,\n",
       " 14,\n",
       " 13,\n",
       " 14,\n",
       " 14,\n",
       " 11,\n",
       " 8,\n",
       " 14,\n",
       " 2,\n",
       " 3,\n",
       " 14,\n",
       " 13,\n",
       " 14,\n",
       " 13,\n",
       " 5,\n",
       " 12,\n",
       " 14,\n",
       " 13,\n",
       " 4,\n",
       " 3,\n",
       " 11,\n",
       " 11,\n",
       " 13,\n",
       " 14,\n",
       " 14,\n",
       " 12,\n",
       " 5,\n",
       " 11,\n",
       " 4,\n",
       " 10,\n",
       " 5,\n",
       " 13,\n",
       " 14,\n",
       " 14,\n",
       " 14,\n",
       " 7,\n",
       " 10,\n",
       " 5,\n",
       " 5,\n",
       " 5,\n",
       " 2,\n",
       " 5,\n",
       " 14,\n",
       " 14,\n",
       " 5,\n",
       " 3,\n",
       " 14,\n",
       " 13,\n",
       " 2,\n",
       " 5,\n",
       " 4,\n",
       " 13,\n",
       " 5,\n",
       " 12,\n",
       " 13,\n",
       " 13,\n",
       " 14,\n",
       " 14,\n",
       " 8,\n",
       " 3,\n",
       " 5,\n",
       " 5,\n",
       " 8,\n",
       " 10,\n",
       " 14,\n",
       " 11,\n",
       " 13,\n",
       " 10,\n",
       " 14,\n",
       " 10,\n",
       " 13,\n",
       " 12,\n",
       " 3,\n",
       " 14,\n",
       " 7,\n",
       " 14,\n",
       " 4,\n",
       " 14,\n",
       " 4,\n",
       " 11,\n",
       " 11,\n",
       " 13,\n",
       " 14,\n",
       " 7,\n",
       " 4,\n",
       " 5,\n",
       " 11,\n",
       " 7,\n",
       " 11,\n",
       " 7,\n",
       " 14,\n",
       " 11,\n",
       " 8,\n",
       " 13,\n",
       " 5,\n",
       " 13,\n",
       " 9,\n",
       " 8,\n",
       " 14,\n",
       " 10,\n",
       " 4,\n",
       " 10,\n",
       " 5,\n",
       " 14,\n",
       " 11,\n",
       " 11,\n",
       " 6,\n",
       " 7,\n",
       " 5,\n",
       " 13,\n",
       " 5,\n",
       " 8,\n",
       " 13,\n",
       " 10,\n",
       " 14,\n",
       " 5,\n",
       " 3,\n",
       " 11,\n",
       " 11,\n",
       " 11,\n",
       " 8,\n",
       " 12,\n",
       " 8,\n",
       " 2,\n",
       " 12,\n",
       " 13,\n",
       " 8,\n",
       " 13,\n",
       " 12,\n",
       " 8,\n",
       " 5,\n",
       " 11,\n",
       " 4,\n",
       " 14,\n",
       " 13,\n",
       " 14,\n",
       " 12,\n",
       " 6,\n",
       " 14,\n",
       " 10,\n",
       " 13,\n",
       " 14,\n",
       " 11,\n",
       " 11,\n",
       " 8,\n",
       " 3,\n",
       " 4,\n",
       " 8,\n",
       " 13,\n",
       " 14,\n",
       " 6,\n",
       " 4,\n",
       " 4,\n",
       " 8,\n",
       " 4,\n",
       " 13,\n",
       " 2,\n",
       " 14,\n",
       " 5,\n",
       " 14,\n",
       " 8,\n",
       " 2,\n",
       " 3,\n",
       " 3,\n",
       " 13,\n",
       " 14,\n",
       " 13,\n",
       " 11,\n",
       " 14,\n",
       " 8,\n",
       " 11,\n",
       " 14,\n",
       " 13,\n",
       " 13,\n",
       " 3,\n",
       " 8,\n",
       " 8,\n",
       " 13,\n",
       " 2,\n",
       " 14,\n",
       " 13,\n",
       " 14,\n",
       " 14,\n",
       " 13,\n",
       " 5,\n",
       " 13,\n",
       " 8,\n",
       " 10,\n",
       " 14,\n",
       " 5,\n",
       " 13,\n",
       " 10,\n",
       " 14,\n",
       " 10,\n",
       " 5,\n",
       " 7,\n",
       " 13,\n",
       " 14,\n",
       " 3,\n",
       " 6,\n",
       " 13,\n",
       " 5,\n",
       " 11,\n",
       " 8,\n",
       " 3,\n",
       " 13,\n",
       " 5,\n",
       " 3,\n",
       " 10,\n",
       " 10,\n",
       " 14,\n",
       " 14,\n",
       " 13,\n",
       " 14,\n",
       " 14,\n",
       " 6,\n",
       " 5,\n",
       " 14,\n",
       " 6,\n",
       " 2,\n",
       " 8,\n",
       " 5,\n",
       " 13,\n",
       " 14,\n",
       " 4,\n",
       " 4,\n",
       " 5,\n",
       " 14,\n",
       " 14,\n",
       " 11,\n",
       " 13,\n",
       " 3,\n",
       " 5,\n",
       " 3,\n",
       " 14,\n",
       " 4,\n",
       " 4,\n",
       " 14,\n",
       " 6,\n",
       " 13,\n",
       " 8,\n",
       " 10,\n",
       " 6,\n",
       " 4,\n",
       " 6,\n",
       " 13,\n",
       " 14,\n",
       " 13,\n",
       " 14,\n",
       " 5,\n",
       " 4,\n",
       " 14,\n",
       " 14,\n",
       " 3,\n",
       " 14,\n",
       " 11,\n",
       " 11,\n",
       " 3,\n",
       " 14,\n",
       " 14,\n",
       " 11,\n",
       " 8,\n",
       " 14,\n",
       " 7,\n",
       " 5,\n",
       " 14,\n",
       " 5,\n",
       " 3,\n",
       " 10,\n",
       " 14,\n",
       " 11,\n",
       " 8,\n",
       " 10,\n",
       " 14,\n",
       " 14,\n",
       " 3,\n",
       " 10,\n",
       " 6,\n",
       " 14,\n",
       " 8,\n",
       " 11,\n",
       " 14,\n",
       " 5,\n",
       " 6,\n",
       " 3,\n",
       " 13,\n",
       " 5,\n",
       " 14,\n",
       " 3,\n",
       " 14,\n",
       " 4,\n",
       " 14,\n",
       " 4,\n",
       " 2,\n",
       " 5,\n",
       " 13,\n",
       " 8,\n",
       " 13,\n",
       " 10,\n",
       " 10,\n",
       " 10,\n",
       " 4,\n",
       " 14,\n",
       " 13,\n",
       " 14,\n",
       " 13,\n",
       " 11,\n",
       " 11,\n",
       " 12,\n",
       " 3,\n",
       " 13,\n",
       " 12,\n",
       " 11,\n",
       " 12,\n",
       " 13,\n",
       " 13,\n",
       " 3,\n",
       " 13,\n",
       " 14,\n",
       " 3,\n",
       " 6,\n",
       " 8,\n",
       " 2,\n",
       " 13,\n",
       " 12,\n",
       " 13,\n",
       " 14,\n",
       " 14,\n",
       " 14,\n",
       " 13,\n",
       " 4,\n",
       " 3,\n",
       " 7,\n",
       " 10,\n",
       " 5,\n",
       " 13,\n",
       " 2,\n",
       " 5,\n",
       " 14,\n",
       " 7,\n",
       " 7,\n",
       " 8,\n",
       " 8,\n",
       " 5,\n",
       " 6,\n",
       " 5,\n",
       " 5,\n",
       " 14,\n",
       " 3,\n",
       " 8,\n",
       " 14,\n",
       " 11,\n",
       " 5,\n",
       " 5,\n",
       " 8,\n",
       " 11,\n",
       " 5,\n",
       " 11,\n",
       " 14,\n",
       " 13,\n",
       " 14,\n",
       " 14,\n",
       " 14,\n",
       " 13,\n",
       " 5,\n",
       " 14,\n",
       " 4,\n",
       " 5,\n",
       " 3,\n",
       " 3,\n",
       " 3,\n",
       " 14,\n",
       " 14,\n",
       " 5,\n",
       " 14,\n",
       " 5,\n",
       " 8,\n",
       " 10,\n",
       " 14,\n",
       " 4,\n",
       " 11,\n",
       " 11,\n",
       " 14,\n",
       " 14,\n",
       " 14,\n",
       " 8,\n",
       " 5,\n",
       " 11,\n",
       " 2,\n",
       " 8,\n",
       " 11,\n",
       " 8,\n",
       " 11,\n",
       " ...]"
      ]
     },
     "execution_count": 30,
     "metadata": {},
     "output_type": "execute_result"
    }
   ],
   "source": [
    "preds"
   ]
  },
  {
   "cell_type": "code",
   "execution_count": 31,
   "id": "8114b0e8",
   "metadata": {},
   "outputs": [
    {
     "data": {
      "text/html": [
       "<div>\n",
       "<style scoped>\n",
       "    .dataframe tbody tr th:only-of-type {\n",
       "        vertical-align: middle;\n",
       "    }\n",
       "\n",
       "    .dataframe tbody tr th {\n",
       "        vertical-align: top;\n",
       "    }\n",
       "\n",
       "    .dataframe thead th {\n",
       "        text-align: right;\n",
       "    }\n",
       "</style>\n",
       "<table border=\"1\" class=\"dataframe\">\n",
       "  <thead>\n",
       "    <tr style=\"text-align: right;\">\n",
       "      <th></th>\n",
       "      <th>actual_class</th>\n",
       "      <th>predicted_class</th>\n",
       "      <th>img_path</th>\n",
       "    </tr>\n",
       "  </thead>\n",
       "  <tbody>\n",
       "    <tr>\n",
       "      <th>0</th>\n",
       "      <td>4</td>\n",
       "      <td>13</td>\n",
       "      <td>./train/data/user04/1600558200/RP/1600572600.png</td>\n",
       "    </tr>\n",
       "    <tr>\n",
       "      <th>1</th>\n",
       "      <td>8</td>\n",
       "      <td>14</td>\n",
       "      <td>./train/data/user04/1601079300/RP/1601089620.png</td>\n",
       "    </tr>\n",
       "    <tr>\n",
       "      <th>2</th>\n",
       "      <td>8</td>\n",
       "      <td>14</td>\n",
       "      <td>./train/data/user04/1600470000/RP/1600475940.png</td>\n",
       "    </tr>\n",
       "    <tr>\n",
       "      <th>3</th>\n",
       "      <td>7</td>\n",
       "      <td>6</td>\n",
       "      <td>./train/data/user04/1599347400/RP/1599352560.png</td>\n",
       "    </tr>\n",
       "    <tr>\n",
       "      <th>4</th>\n",
       "      <td>5</td>\n",
       "      <td>5</td>\n",
       "      <td>./train/data/user04/1599522960/RP/1599566280.png</td>\n",
       "    </tr>\n",
       "    <tr>\n",
       "      <th>...</th>\n",
       "      <td>...</td>\n",
       "      <td>...</td>\n",
       "      <td>...</td>\n",
       "    </tr>\n",
       "    <tr>\n",
       "      <th>9562</th>\n",
       "      <td>4</td>\n",
       "      <td>4</td>\n",
       "      <td>./train/data/user03/1599058980/RP/1599101940.png</td>\n",
       "    </tr>\n",
       "    <tr>\n",
       "      <th>9563</th>\n",
       "      <td>4</td>\n",
       "      <td>6</td>\n",
       "      <td>./train/data/user02/1599893100/RP/1599897600.png</td>\n",
       "    </tr>\n",
       "    <tr>\n",
       "      <th>9564</th>\n",
       "      <td>4</td>\n",
       "      <td>6</td>\n",
       "      <td>./train/data/user02/1600700400/RP/1600769280.png</td>\n",
       "    </tr>\n",
       "    <tr>\n",
       "      <th>9565</th>\n",
       "      <td>14</td>\n",
       "      <td>6</td>\n",
       "      <td>./train/data/user04/1598828400/RP/1598850540.png</td>\n",
       "    </tr>\n",
       "    <tr>\n",
       "      <th>9566</th>\n",
       "      <td>8</td>\n",
       "      <td>14</td>\n",
       "      <td>./train/data/user03/1601054580/RP/1601117820.png</td>\n",
       "    </tr>\n",
       "  </tbody>\n",
       "</table>\n",
       "<p>9567 rows × 3 columns</p>\n",
       "</div>"
      ],
      "text/plain": [
       "      actual_class  predicted_class  \\\n",
       "0                4               13   \n",
       "1                8               14   \n",
       "2                8               14   \n",
       "3                7                6   \n",
       "4                5                5   \n",
       "...            ...              ...   \n",
       "9562             4                4   \n",
       "9563             4                6   \n",
       "9564             4                6   \n",
       "9565            14                6   \n",
       "9566             8               14   \n",
       "\n",
       "                                              img_path  \n",
       "0     ./train/data/user04/1600558200/RP/1600572600.png  \n",
       "1     ./train/data/user04/1601079300/RP/1601089620.png  \n",
       "2     ./train/data/user04/1600470000/RP/1600475940.png  \n",
       "3     ./train/data/user04/1599347400/RP/1599352560.png  \n",
       "4     ./train/data/user04/1599522960/RP/1599566280.png  \n",
       "...                                                ...  \n",
       "9562  ./train/data/user03/1599058980/RP/1599101940.png  \n",
       "9563  ./train/data/user02/1599893100/RP/1599897600.png  \n",
       "9564  ./train/data/user02/1600700400/RP/1600769280.png  \n",
       "9565  ./train/data/user04/1598828400/RP/1598850540.png  \n",
       "9566  ./train/data/user03/1601054580/RP/1601117820.png  \n",
       "\n",
       "[9567 rows x 3 columns]"
      ]
     },
     "execution_count": 31,
     "metadata": {},
     "output_type": "execute_result"
    }
   ],
   "source": [
    "pred_df = pd.DataFrame({\n",
    "    'actual_class': test_df['action'], \n",
    "    'predicted_class': preds,\n",
    "    'img_path': test_df['img_path']\n",
    "})\n",
    "\n",
    "pred_df"
   ]
  },
  {
   "cell_type": "code",
   "execution_count": 32,
   "id": "2b40252d",
   "metadata": {},
   "outputs": [
    {
     "data": {
      "text/plain": [
       "array([[   0,    0,    0,    0,    0,    0,    0,    0,    2,    0,    3,\n",
       "           1,    0,    1,    0],\n",
       "       [   0,    0,    0,    0,    2,    0,    0,    0,    0,    0,    0,\n",
       "           0,    0,    0,    0],\n",
       "       [   0,    0,   10,    9,    7,   11,    3,    3,    5,    0,    3,\n",
       "          12,    7,   13,   15],\n",
       "       [   1,    0,   13,   93,   22,   73,   39,   24,   52,    2,   33,\n",
       "          41,   19,   74,   90],\n",
       "       [   0,    0,   35,   74,  155,  102,   38,   42,   71,    1,   34,\n",
       "          95,   59,  148,  149],\n",
       "       [   0,    0,    3,   20,    6,  273,   14,   10,    7,    0,    7,\n",
       "          19,    7,   46,   17],\n",
       "       [   0,    0,    8,   14,    7,   35,   56,   29,   19,    2,   40,\n",
       "          35,   14,   31,   24],\n",
       "       [   0,    0,   19,   30,   37,   59,   31,   57,   40,    3,   51,\n",
       "          38,   20,   61,   65],\n",
       "       [   0,    0,   44,   78,   55,   87,   50,   70,  166,    2,  117,\n",
       "         127,   70,  137,  219],\n",
       "       [   0,    0,    3,    0,    3,    6,    0,    3,    7,    0,    5,\n",
       "           4,    0,    7,    8],\n",
       "       [   1,    0,    1,    1,    0,    2,   11,    8,   16,    1,   81,\n",
       "           7,    4,    4,    6],\n",
       "       [   0,    0,   20,   38,   20,   73,   22,   13,   44,    0,   36,\n",
       "          62,   17,   55,   80],\n",
       "       [   0,    0,    5,    8,    6,    9,    5,    6,    9,    1,    5,\n",
       "          13,   17,    9,   23],\n",
       "       [   0,    0,   23,   60,   38,  198,   44,   34,   30,    0,   21,\n",
       "          72,   22,  616,   97],\n",
       "       [   0,    0,   67,  156,  127,  353,   93,   81,  272,    1,  139,\n",
       "         249,  128,  282, 1417]])"
      ]
     },
     "execution_count": 32,
     "metadata": {},
     "output_type": "execute_result"
    }
   ],
   "source": [
    "from sklearn.metrics import confusion_matrix\n",
    "\n",
    "confusion_matrix = confusion_matrix(test_df['action'], preds, labels=[x for x in range(0, 15)])\n",
    "confusion_matrix"
   ]
  },
  {
   "cell_type": "code",
   "execution_count": 33,
   "id": "cb14491f",
   "metadata": {},
   "outputs": [
    {
     "data": {
      "text/plain": [
       "<Axes: title={'center': 'Confusion Matrix'}>"
      ]
     },
     "execution_count": 33,
     "metadata": {},
     "output_type": "execute_result"
    },
    {
     "data": {
      "image/png": "[encoded data removed]",
      "text/plain": [
       "<Figure size 2500x2500 with 2 Axes>"
      ]
     },
     "metadata": {},
     "output_type": "display_data"
    }
   ],
   "source": [
    "import seaborn as sns\n",
    "import matplotlib.pyplot as plt\n",
    "%matplotlib inline\n",
    "\n",
    "plt.figure(figsize = (25,25))\n",
    "plt.title('Confusion Matrix')\n",
    "\n",
    "sns.heatmap(confusion_matrix, annot=True)"
   ]
  },
  {
   "cell_type": "code",
   "execution_count": 34,
   "id": "ecb171de",
   "metadata": {},
   "outputs": [
    {
     "name": "stdout",
     "output_type": "stream",
     "text": [
      "F1-score: 0.3139\n"
     ]
    }
   ],
   "source": [
    "from sklearn.metrics import f1_score \n",
    "f1 = f1_score(test_df['action'], preds, average='micro')\n",
    "print('F1-score: {0:.4f}'.format(f1))"
   ]
  },
  {
   "cell_type": "code",
   "execution_count": null,
   "id": "fbf166d0",
   "metadata": {},
   "outputs": [],
   "source": []
  },
  {
   "cell_type": "code",
   "execution_count": null,
   "id": "a44bb7f2",
   "metadata": {},
   "outputs": [],
   "source": []
  },
  {
   "cell_type": "code",
   "execution_count": null,
   "id": "c7f32754",
   "metadata": {},
   "outputs": [],
   "source": []
  }
 ],
 "metadata": {
  "kernelspec": {
   "display_name": "Python 3 (ipykernel)",
   "language": "python",
   "name": "python3"
  },
  "language_info": {
   "codemirror_mode": {
    "name": "ipython",
    "version": 3
   },
   "file_extension": ".py",
   "mimetype": "text/x-python",
   "name": "python",
   "nbconvert_exporter": "python",
   "pygments_lexer": "ipython3",
   "version": "3.9.16"
  }
 },
 "nbformat": 4,
 "nbformat_minor": 5
}

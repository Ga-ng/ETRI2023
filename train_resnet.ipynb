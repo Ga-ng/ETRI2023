{
 "cells": [
  {
   "cell_type": "code",
   "execution_count": 1,
   "id": "aa75dda6",
   "metadata": {},
   "outputs": [],
   "source": [
    "import os\n",
    "import pandas as pd\n",
    "import numpy as np\n",
    "import torch\n",
    "import torch.nn as nn\n",
    "import torch.optim as optim\n",
    "from torch.autograd import Variable\n",
    "import torchvision.datasets as dset\n",
    "import torchvision.transforms as transforms\n",
    "import albumentations as A\n",
    "from albumentations.pytorch.transforms import ToTensorV2\n",
    "import torch.nn.functional as F\n",
    "from torch.utils.data import Dataset\n",
    "from torch.utils.data import DataLoader\n",
    "import torchvision.models as models\n",
    "import cv2\n",
    "import sys\n",
    "import math\n",
    "import random\n",
    "import splitfolders\n",
    "import torchsummary\n",
    "from tqdm.auto import tqdm\n",
    "from ResNet_18 import resnet\n",
    "from sklearn.preprocessing import LabelEncoder\n",
    "from sklearn.model_selection import train_test_split\n",
    "from sklearn.model_selection import cross_val_score\n",
    "from sklearn.metrics import f1_score"
   ]
  },
  {
   "cell_type": "code",
   "execution_count": 2,
   "id": "990b3869",
   "metadata": {},
   "outputs": [
    {
     "data": {
      "text/plain": [
       "device(type='cuda')"
      ]
     },
     "execution_count": 2,
     "metadata": {},
     "output_type": "execute_result"
    }
   ],
   "source": [
    "device = torch.device('cuda') if torch.cuda.is_available() else torch.device('cpu')\n",
    "device"
   ]
  },
  {
   "cell_type": "code",
   "execution_count": 3,
   "id": "789a6ad7",
   "metadata": {},
   "outputs": [],
   "source": [
    "CFG = {\n",
    "    'IMG_SIZE':224,\n",
    "    'EPOCHS':30,\n",
    "    'LEARNING_RATE':1e-4,\n",
    "    'BATCH_SIZE':16,\n",
    "    'SEED':42\n",
    "}"
   ]
  },
  {
   "cell_type": "code",
   "execution_count": 4,
   "id": "ecc11a30",
   "metadata": {},
   "outputs": [],
   "source": [
    "def seed_everything(seed):\n",
    "    random.seed(seed)\n",
    "    os.environ['PYTHONHASHSEED'] = str(seed)\n",
    "    np.random.seed(seed)\n",
    "    torch.manual_seed(seed)\n",
    "    torch.cuda.manual_seed(seed)\n",
    "    torch.backends.cudnn.deterministic = True\n",
    "    torch.backends.cudnn.benchmark = True\n",
    "\n",
    "seed_everything(CFG['SEED'])"
   ]
  },
  {
   "cell_type": "code",
   "execution_count": 5,
   "id": "c3a96f01",
   "metadata": {},
   "outputs": [],
   "source": [
    "train_df = pd.read_csv('./train_data.csv')\n",
    "test_df = pd.read_csv('./test_data.csv')"
   ]
  },
  {
   "cell_type": "code",
   "execution_count": 6,
   "id": "567bc505",
   "metadata": {},
   "outputs": [
    {
     "data": {
      "text/plain": [
       "47"
      ]
     },
     "execution_count": 6,
     "metadata": {},
     "output_type": "execute_result"
    }
   ],
   "source": [
    "len(train_df['actionOption'].value_counts())"
   ]
  },
  {
   "cell_type": "code",
   "execution_count": 7,
   "id": "dd8a18ec",
   "metadata": {},
   "outputs": [
    {
     "data": {
      "text/plain": [
       "47"
      ]
     },
     "execution_count": 7,
     "metadata": {},
     "output_type": "execute_result"
    }
   ],
   "source": [
    "len(test_df['actionOption'].value_counts())"
   ]
  },
  {
   "cell_type": "code",
   "execution_count": 8,
   "id": "8a2bae12",
   "metadata": {},
   "outputs": [],
   "source": [
    "le = LabelEncoder()\n",
    "le = le.fit(train_df['actionOption'])\n",
    "train_df['actionOption'] = le.transform(train_df['actionOption'])\n",
    "test_df['actionOption'] = le.transform(test_df['actionOption'])"
   ]
  },
  {
   "cell_type": "code",
   "execution_count": 9,
   "id": "f28932d6",
   "metadata": {},
   "outputs": [],
   "source": [
    "train, val, _, _ = train_test_split(train_df, train_df['actionOption'], test_size=0.2, random_state=CFG['SEED'])"
   ]
  },
  {
   "cell_type": "code",
   "execution_count": 11,
   "id": "d5c86927",
   "metadata": {},
   "outputs": [],
   "source": [
    "tfms = A.Compose([\n",
    "    A.Resize(width=CFG['IMG_SIZE'], height=CFG['IMG_SIZE']),\n",
    "    A.Normalize()\n",
    "], p=1)"
   ]
  },
  {
   "cell_type": "code",
   "execution_count": 12,
   "id": "f86628c6",
   "metadata": {},
   "outputs": [],
   "source": [
    "class CustomDataset(Dataset):\n",
    "    def __init__(self, df, rp_path_list, label_list, tfms=None):\n",
    "        super().__init__()\n",
    "        self.df = df\n",
    "        self.rp_path_list = rp_path_list\n",
    "        self.label_list = label_list\n",
    "        self.tfms=tfms\n",
    "    \n",
    "    def __len__(self):\n",
    "        return len(self.rp_path_list)\n",
    "    \n",
    "    def __getitem__(self, idx):\n",
    "        img = cv2.imread(self.rp_path_list[idx])\n",
    "        img = cv2.cvtColor(img, cv2.COLOR_BGR2RGB)\n",
    "        image = self.tfms(image=img)['image']\n",
    "        image = torch.tensor(np.array(image)).permute(2, 0, 1)\n",
    "        \n",
    "        if self.label_list is not None:\n",
    "            label = self.label_list[idx]\n",
    "            return image, label\n",
    "        else:\n",
    "            return image"
   ]
  },
  {
   "cell_type": "code",
   "execution_count": 13,
   "id": "0adae7ba",
   "metadata": {},
   "outputs": [],
   "source": [
    "train_dataset = CustomDataset(df=train, rp_path_list=train['img_path'].values, label_list=train['actionOption'].values, tfms=tfms)\n",
    "train_loader = DataLoader(train_dataset, batch_size = CFG['BATCH_SIZE'], shuffle=True, num_workers=0)\n",
    "\n",
    "val_dataset = CustomDataset(df=val,rp_path_list=val['img_path'].values, label_list=val['actionOption'].values, tfms=tfms)\n",
    "val_loader = DataLoader(val_dataset, batch_size = CFG['BATCH_SIZE'], shuffle=False, num_workers=0)"
   ]
  },
  {
   "cell_type": "code",
   "execution_count": 14,
   "id": "94f86f91",
   "metadata": {},
   "outputs": [],
   "source": [
    "class FocalLoss(nn.Module):\n",
    "    def __init__(self, weight=None, gamma=2, reduction='mean'):\n",
    "        super(FocalLoss, self).__init__()\n",
    "        self.weight = weight\n",
    "        self.gamma = gamma\n",
    "        self.reduction = reduction\n",
    "\n",
    "    def forward(self, inputs, targets):\n",
    "        ce_loss = F.cross_entropy(inputs, targets, weight=self.weight, reduction=self.reduction)\n",
    "        pt = torch.exp(-ce_loss)\n",
    "        focal_loss = ((1-pt)**self.gamma * ce_loss).mean()\n",
    "        return focal_loss"
   ]
  },
  {
   "cell_type": "code",
   "execution_count": 15,
   "id": "d3724661",
   "metadata": {},
   "outputs": [],
   "source": [
    "def train(model, optimizer, train_loader, val_loader, scheduler, device):\n",
    "    model.to(device)\n",
    "    criterion = FocalLoss().to(device)\n",
    "    \n",
    "    best_val_score = 0\n",
    "    best_model = None\n",
    "    \n",
    "    for epoch in range(1, CFG['EPOCHS']+1):\n",
    "        model.train()\n",
    "        train_loss = []\n",
    "        for images, labels in tqdm(iter(train_loader)):\n",
    "            images = images.to(device)\n",
    "            labels = labels.to(device)\n",
    "            \n",
    "            optimizer.zero_grad()\n",
    "            \n",
    "            output = model(images)\n",
    "            loss = criterion(output, labels)\n",
    "            \n",
    "            loss.backward()\n",
    "            optimizer.step()\n",
    "            \n",
    "            train_loss.append(loss.item())\n",
    "                    \n",
    "        _val_loss, _val_score = validation(model, criterion, val_loader, device)\n",
    "        _train_loss = np.mean(train_loss)\n",
    "        print(f'Epoch [{epoch}], Train Loss : [{_train_loss:.5f}] Val Loss : [{_val_loss:.5f}] Val F1 : [{_val_score:.5f}]')\n",
    "        \n",
    "        if scheduler is not None:\n",
    "            scheduler.step(_val_score)\n",
    "            \n",
    "        if best_val_score < _val_score:\n",
    "            best_val_score = _val_score\n",
    "            best_model = model\n",
    "    \n",
    "    return best_model"
   ]
  },
  {
   "cell_type": "code",
   "execution_count": 16,
   "id": "3eb09fa1",
   "metadata": {},
   "outputs": [],
   "source": [
    "def validation(model, criterion, val_loader, device):\n",
    "    model.eval()\n",
    "    val_loss = []\n",
    "    preds, trues = [], []\n",
    "    \n",
    "    with torch.no_grad():\n",
    "        for images, labels in tqdm(iter(val_loader)):\n",
    "            images = images.to(device)\n",
    "            labels = labels.to(device)\n",
    "            \n",
    "            logit = model(images)\n",
    "            \n",
    "            loss = criterion(logit, labels)\n",
    "            \n",
    "            val_loss.append(loss.item())\n",
    "            \n",
    "            preds += logit.argmax(1).detach().cpu().numpy().tolist()\n",
    "            trues += labels.detach().cpu().numpy().tolist()\n",
    "        \n",
    "        _val_loss = np.mean(val_loss)\n",
    "    \n",
    "    _val_score = f1_score(trues, preds, average='micro')\n",
    "    return _val_loss, _val_score"
   ]
  },
  {
   "cell_type": "code",
   "execution_count": 17,
   "id": "1822c2eb",
   "metadata": {
    "scrolled": false
   },
   "outputs": [
    {
     "data": {
      "application/vnd.jupyter.widget-view+json": {
       "model_id": "db9ac8bff44e42b5b00e2e2e084fa902",
       "version_major": 2,
       "version_minor": 0
      },
      "text/plain": [
       "  0%|          | 0/1914 [00:00<?, ?it/s]"
      ]
     },
     "metadata": {},
     "output_type": "display_data"
    },
    {
     "data": {
      "application/vnd.jupyter.widget-view+json": {
       "model_id": "c4274af1b5cb4be1a62fa038401ec759",
       "version_major": 2,
       "version_minor": 0
      },
      "text/plain": [
       "  0%|          | 0/479 [00:00<?, ?it/s]"
      ]
     },
     "metadata": {},
     "output_type": "display_data"
    },
    {
     "name": "stdout",
     "output_type": "stream",
     "text": [
      "Epoch [1], Train Loss : [2.35373] Val Loss : [2.26946] Val F1 : [0.32088]\n"
     ]
    },
    {
     "data": {
      "application/vnd.jupyter.widget-view+json": {
       "model_id": "220f094dca2c4aaca4e748e98cd5b41a",
       "version_major": 2,
       "version_minor": 0
      },
      "text/plain": [
       "  0%|          | 0/1914 [00:00<?, ?it/s]"
      ]
     },
     "metadata": {},
     "output_type": "display_data"
    },
    {
     "data": {
      "application/vnd.jupyter.widget-view+json": {
       "model_id": "3dbd4670268e429a9a686d60cedeefda",
       "version_major": 2,
       "version_minor": 0
      },
      "text/plain": [
       "  0%|          | 0/479 [00:00<?, ?it/s]"
      ]
     },
     "metadata": {},
     "output_type": "display_data"
    },
    {
     "name": "stdout",
     "output_type": "stream",
     "text": [
      "Epoch [2], Train Loss : [2.19312] Val Loss : [2.17534] Val F1 : [0.33525]\n"
     ]
    },
    {
     "data": {
      "application/vnd.jupyter.widget-view+json": {
       "model_id": "72b522ce64514b71ac1579562edf8c5b",
       "version_major": 2,
       "version_minor": 0
      },
      "text/plain": [
       "  0%|          | 0/1914 [00:00<?, ?it/s]"
      ]
     },
     "metadata": {},
     "output_type": "display_data"
    },
    {
     "data": {
      "application/vnd.jupyter.widget-view+json": {
       "model_id": "4162d31701c042cc975fc7cbd9c3d00f",
       "version_major": 2,
       "version_minor": 0
      },
      "text/plain": [
       "  0%|          | 0/479 [00:00<?, ?it/s]"
      ]
     },
     "metadata": {},
     "output_type": "display_data"
    },
    {
     "name": "stdout",
     "output_type": "stream",
     "text": [
      "Epoch [3], Train Loss : [2.13655] Val Loss : [2.10797] Val F1 : [0.34204]\n"
     ]
    },
    {
     "data": {
      "application/vnd.jupyter.widget-view+json": {
       "model_id": "964ffb7c81794ad781605808d1f4f475",
       "version_major": 2,
       "version_minor": 0
      },
      "text/plain": [
       "  0%|          | 0/1914 [00:00<?, ?it/s]"
      ]
     },
     "metadata": {},
     "output_type": "display_data"
    },
    {
     "data": {
      "application/vnd.jupyter.widget-view+json": {
       "model_id": "5a1320a48041494c81f7612976b53d80",
       "version_major": 2,
       "version_minor": 0
      },
      "text/plain": [
       "  0%|          | 0/479 [00:00<?, ?it/s]"
      ]
     },
     "metadata": {},
     "output_type": "display_data"
    },
    {
     "name": "stdout",
     "output_type": "stream",
     "text": [
      "Epoch [4], Train Loss : [2.09091] Val Loss : [2.09947] Val F1 : [0.34387]\n"
     ]
    },
    {
     "data": {
      "application/vnd.jupyter.widget-view+json": {
       "model_id": "bed12fe8814f4c37947599f48e06b679",
       "version_major": 2,
       "version_minor": 0
      },
      "text/plain": [
       "  0%|          | 0/1914 [00:00<?, ?it/s]"
      ]
     },
     "metadata": {},
     "output_type": "display_data"
    },
    {
     "data": {
      "application/vnd.jupyter.widget-view+json": {
       "model_id": "baa6cb4f87cc4c3e8f1df3576fc63dd8",
       "version_major": 2,
       "version_minor": 0
      },
      "text/plain": [
       "  0%|          | 0/479 [00:00<?, ?it/s]"
      ]
     },
     "metadata": {},
     "output_type": "display_data"
    },
    {
     "name": "stdout",
     "output_type": "stream",
     "text": [
      "Epoch [5], Train Loss : [2.05422] Val Loss : [2.04972] Val F1 : [0.34884]\n"
     ]
    },
    {
     "data": {
      "application/vnd.jupyter.widget-view+json": {
       "model_id": "b5942ff22ca542338892b04160837bd3",
       "version_major": 2,
       "version_minor": 0
      },
      "text/plain": [
       "  0%|          | 0/1914 [00:00<?, ?it/s]"
      ]
     },
     "metadata": {},
     "output_type": "display_data"
    },
    {
     "data": {
      "application/vnd.jupyter.widget-view+json": {
       "model_id": "92a9f1888e6d44e38f2dc4e7d58753f0",
       "version_major": 2,
       "version_minor": 0
      },
      "text/plain": [
       "  0%|          | 0/479 [00:00<?, ?it/s]"
      ]
     },
     "metadata": {},
     "output_type": "display_data"
    },
    {
     "name": "stdout",
     "output_type": "stream",
     "text": [
      "Epoch [6], Train Loss : [2.02256] Val Loss : [2.02675] Val F1 : [0.35681]\n"
     ]
    },
    {
     "data": {
      "application/vnd.jupyter.widget-view+json": {
       "model_id": "2f864090d1ab49a5bf8387affb409c1b",
       "version_major": 2,
       "version_minor": 0
      },
      "text/plain": [
       "  0%|          | 0/1914 [00:00<?, ?it/s]"
      ]
     },
     "metadata": {},
     "output_type": "display_data"
    },
    {
     "data": {
      "application/vnd.jupyter.widget-view+json": {
       "model_id": "094e473de2024ba6bee7bdc145ca6713",
       "version_major": 2,
       "version_minor": 0
      },
      "text/plain": [
       "  0%|          | 0/479 [00:00<?, ?it/s]"
      ]
     },
     "metadata": {},
     "output_type": "display_data"
    },
    {
     "name": "stdout",
     "output_type": "stream",
     "text": [
      "Epoch [7], Train Loss : [1.99524] Val Loss : [2.01957] Val F1 : [0.35681]\n"
     ]
    },
    {
     "data": {
      "application/vnd.jupyter.widget-view+json": {
       "model_id": "db8dfb307ed946d2920d44fc80f1e88d",
       "version_major": 2,
       "version_minor": 0
      },
      "text/plain": [
       "  0%|          | 0/1914 [00:00<?, ?it/s]"
      ]
     },
     "metadata": {},
     "output_type": "display_data"
    },
    {
     "data": {
      "application/vnd.jupyter.widget-view+json": {
       "model_id": "9a3fa7325db34291841cad95e898859a",
       "version_major": 2,
       "version_minor": 0
      },
      "text/plain": [
       "  0%|          | 0/479 [00:00<?, ?it/s]"
      ]
     },
     "metadata": {},
     "output_type": "display_data"
    },
    {
     "name": "stdout",
     "output_type": "stream",
     "text": [
      "Epoch [8], Train Loss : [1.96980] Val Loss : [1.99205] Val F1 : [0.36438]\n"
     ]
    },
    {
     "data": {
      "application/vnd.jupyter.widget-view+json": {
       "model_id": "bb53c654496646499dae4b20289de69b",
       "version_major": 2,
       "version_minor": 0
      },
      "text/plain": [
       "  0%|          | 0/1914 [00:00<?, ?it/s]"
      ]
     },
     "metadata": {},
     "output_type": "display_data"
    },
    {
     "data": {
      "application/vnd.jupyter.widget-view+json": {
       "model_id": "5008b5723b314072bdb34db055b5dfa0",
       "version_major": 2,
       "version_minor": 0
      },
      "text/plain": [
       "  0%|          | 0/479 [00:00<?, ?it/s]"
      ]
     },
     "metadata": {},
     "output_type": "display_data"
    },
    {
     "name": "stdout",
     "output_type": "stream",
     "text": [
      "Epoch [9], Train Loss : [1.95176] Val Loss : [1.95764] Val F1 : [0.37340]\n"
     ]
    },
    {
     "data": {
      "application/vnd.jupyter.widget-view+json": {
       "model_id": "564b89924c7a43659ef63a4316d1f24f",
       "version_major": 2,
       "version_minor": 0
      },
      "text/plain": [
       "  0%|          | 0/1914 [00:00<?, ?it/s]"
      ]
     },
     "metadata": {},
     "output_type": "display_data"
    },
    {
     "data": {
      "application/vnd.jupyter.widget-view+json": {
       "model_id": "0915c09bd4e8446a916c163084a12947",
       "version_major": 2,
       "version_minor": 0
      },
      "text/plain": [
       "  0%|          | 0/479 [00:00<?, ?it/s]"
      ]
     },
     "metadata": {},
     "output_type": "display_data"
    },
    {
     "name": "stdout",
     "output_type": "stream",
     "text": [
      "Epoch [10], Train Loss : [1.93234] Val Loss : [1.93676] Val F1 : [0.37392]\n"
     ]
    },
    {
     "data": {
      "application/vnd.jupyter.widget-view+json": {
       "model_id": "c73390a299184220b507a3007a0c03fd",
       "version_major": 2,
       "version_minor": 0
      },
      "text/plain": [
       "  0%|          | 0/1914 [00:00<?, ?it/s]"
      ]
     },
     "metadata": {},
     "output_type": "display_data"
    },
    {
     "data": {
      "application/vnd.jupyter.widget-view+json": {
       "model_id": "b1e8b4b2683746159425ff5227d44ca2",
       "version_major": 2,
       "version_minor": 0
      },
      "text/plain": [
       "  0%|          | 0/479 [00:00<?, ?it/s]"
      ]
     },
     "metadata": {},
     "output_type": "display_data"
    },
    {
     "name": "stdout",
     "output_type": "stream",
     "text": [
      "Epoch [11], Train Loss : [1.90964] Val Loss : [1.93529] Val F1 : [0.37340]\n"
     ]
    },
    {
     "data": {
      "application/vnd.jupyter.widget-view+json": {
       "model_id": "65455286e0754e5e810874aa5a9a9411",
       "version_major": 2,
       "version_minor": 0
      },
      "text/plain": [
       "  0%|          | 0/1914 [00:00<?, ?it/s]"
      ]
     },
     "metadata": {},
     "output_type": "display_data"
    },
    {
     "data": {
      "application/vnd.jupyter.widget-view+json": {
       "model_id": "9ef021b7971843f084d0cd549a3a03ed",
       "version_major": 2,
       "version_minor": 0
      },
      "text/plain": [
       "  0%|          | 0/479 [00:00<?, ?it/s]"
      ]
     },
     "metadata": {},
     "output_type": "display_data"
    },
    {
     "name": "stdout",
     "output_type": "stream",
     "text": [
      "Epoch [12], Train Loss : [1.89282] Val Loss : [1.96658] Val F1 : [0.37183]\n"
     ]
    },
    {
     "data": {
      "application/vnd.jupyter.widget-view+json": {
       "model_id": "d1626028a3a841d9b8702dd87979db0f",
       "version_major": 2,
       "version_minor": 0
      },
      "text/plain": [
       "  0%|          | 0/1914 [00:00<?, ?it/s]"
      ]
     },
     "metadata": {},
     "output_type": "display_data"
    },
    {
     "data": {
      "application/vnd.jupyter.widget-view+json": {
       "model_id": "7ca713f39d8b43918f54ccad5136d765",
       "version_major": 2,
       "version_minor": 0
      },
      "text/plain": [
       "  0%|          | 0/479 [00:00<?, ?it/s]"
      ]
     },
     "metadata": {},
     "output_type": "display_data"
    },
    {
     "name": "stdout",
     "output_type": "stream",
     "text": [
      "Epoch [13], Train Loss : [1.87652] Val Loss : [1.89087] Val F1 : [0.38385]\n"
     ]
    },
    {
     "data": {
      "application/vnd.jupyter.widget-view+json": {
       "model_id": "8ba370442cf44672abdff7a43e553d70",
       "version_major": 2,
       "version_minor": 0
      },
      "text/plain": [
       "  0%|          | 0/1914 [00:00<?, ?it/s]"
      ]
     },
     "metadata": {},
     "output_type": "display_data"
    },
    {
     "data": {
      "application/vnd.jupyter.widget-view+json": {
       "model_id": "a7d93d5df84841ad81faaffb01ef1acd",
       "version_major": 2,
       "version_minor": 0
      },
      "text/plain": [
       "  0%|          | 0/479 [00:00<?, ?it/s]"
      ]
     },
     "metadata": {},
     "output_type": "display_data"
    },
    {
     "name": "stdout",
     "output_type": "stream",
     "text": [
      "Epoch [14], Train Loss : [1.85928] Val Loss : [1.88239] Val F1 : [0.38620]\n"
     ]
    },
    {
     "data": {
      "application/vnd.jupyter.widget-view+json": {
       "model_id": "2fc2874927cb488581a8a955204e975d",
       "version_major": 2,
       "version_minor": 0
      },
      "text/plain": [
       "  0%|          | 0/1914 [00:00<?, ?it/s]"
      ]
     },
     "metadata": {},
     "output_type": "display_data"
    },
    {
     "data": {
      "application/vnd.jupyter.widget-view+json": {
       "model_id": "a442fab3265040688c141e8dda493e6a",
       "version_major": 2,
       "version_minor": 0
      },
      "text/plain": [
       "  0%|          | 0/479 [00:00<?, ?it/s]"
      ]
     },
     "metadata": {},
     "output_type": "display_data"
    },
    {
     "name": "stdout",
     "output_type": "stream",
     "text": [
      "Epoch [15], Train Loss : [1.84526] Val Loss : [1.89240] Val F1 : [0.38320]\n"
     ]
    },
    {
     "data": {
      "application/vnd.jupyter.widget-view+json": {
       "model_id": "069e95a969dd4b4fb84ebd0424ef546a",
       "version_major": 2,
       "version_minor": 0
      },
      "text/plain": [
       "  0%|          | 0/1914 [00:00<?, ?it/s]"
      ]
     },
     "metadata": {},
     "output_type": "display_data"
    },
    {
     "data": {
      "application/vnd.jupyter.widget-view+json": {
       "model_id": "afa6da5cf0d5484d96ac965c582d23fd",
       "version_major": 2,
       "version_minor": 0
      },
      "text/plain": [
       "  0%|          | 0/479 [00:00<?, ?it/s]"
      ]
     },
     "metadata": {},
     "output_type": "display_data"
    },
    {
     "name": "stdout",
     "output_type": "stream",
     "text": [
      "Epoch [16], Train Loss : [1.82492] Val Loss : [1.87153] Val F1 : [0.38646]\n"
     ]
    },
    {
     "data": {
      "application/vnd.jupyter.widget-view+json": {
       "model_id": "69c560ef6b954e67824186605a283515",
       "version_major": 2,
       "version_minor": 0
      },
      "text/plain": [
       "  0%|          | 0/1914 [00:00<?, ?it/s]"
      ]
     },
     "metadata": {},
     "output_type": "display_data"
    },
    {
     "data": {
      "application/vnd.jupyter.widget-view+json": {
       "model_id": "6ba10074a49043aeb1520dd5c2769182",
       "version_major": 2,
       "version_minor": 0
      },
      "text/plain": [
       "  0%|          | 0/479 [00:00<?, ?it/s]"
      ]
     },
     "metadata": {},
     "output_type": "display_data"
    },
    {
     "name": "stdout",
     "output_type": "stream",
     "text": [
      "Epoch [17], Train Loss : [1.81336] Val Loss : [1.90330] Val F1 : [0.38085]\n"
     ]
    },
    {
     "data": {
      "application/vnd.jupyter.widget-view+json": {
       "model_id": "d2caf6b91432405480b9c71ec670b972",
       "version_major": 2,
       "version_minor": 0
      },
      "text/plain": [
       "  0%|          | 0/1914 [00:00<?, ?it/s]"
      ]
     },
     "metadata": {},
     "output_type": "display_data"
    },
    {
     "data": {
      "application/vnd.jupyter.widget-view+json": {
       "model_id": "c5b0d105f07549deb100b7460b367087",
       "version_major": 2,
       "version_minor": 0
      },
      "text/plain": [
       "  0%|          | 0/479 [00:00<?, ?it/s]"
      ]
     },
     "metadata": {},
     "output_type": "display_data"
    },
    {
     "name": "stdout",
     "output_type": "stream",
     "text": [
      "Epoch [18], Train Loss : [1.79611] Val Loss : [1.87903] Val F1 : [0.38215]\n"
     ]
    },
    {
     "data": {
      "application/vnd.jupyter.widget-view+json": {
       "model_id": "ed7fd59a5f1c49489470008954294884",
       "version_major": 2,
       "version_minor": 0
      },
      "text/plain": [
       "  0%|          | 0/1914 [00:00<?, ?it/s]"
      ]
     },
     "metadata": {},
     "output_type": "display_data"
    },
    {
     "data": {
      "application/vnd.jupyter.widget-view+json": {
       "model_id": "b8acacd66a9c43879f5241a54a8a3860",
       "version_major": 2,
       "version_minor": 0
      },
      "text/plain": [
       "  0%|          | 0/479 [00:00<?, ?it/s]"
      ]
     },
     "metadata": {},
     "output_type": "display_data"
    },
    {
     "name": "stdout",
     "output_type": "stream",
     "text": [
      "Epoch [19], Train Loss : [1.77975] Val Loss : [1.81071] Val F1 : [0.39352]\n"
     ]
    },
    {
     "data": {
      "application/vnd.jupyter.widget-view+json": {
       "model_id": "e6ac5090d39e47839065dc05e4578365",
       "version_major": 2,
       "version_minor": 0
      },
      "text/plain": [
       "  0%|          | 0/1914 [00:00<?, ?it/s]"
      ]
     },
     "metadata": {},
     "output_type": "display_data"
    },
    {
     "data": {
      "application/vnd.jupyter.widget-view+json": {
       "model_id": "c20c1ce0de434c7b83f55adb5867fbcf",
       "version_major": 2,
       "version_minor": 0
      },
      "text/plain": [
       "  0%|          | 0/479 [00:00<?, ?it/s]"
      ]
     },
     "metadata": {},
     "output_type": "display_data"
    },
    {
     "name": "stdout",
     "output_type": "stream",
     "text": [
      "Epoch [20], Train Loss : [1.76993] Val Loss : [1.79928] Val F1 : [0.40110]\n"
     ]
    },
    {
     "data": {
      "application/vnd.jupyter.widget-view+json": {
       "model_id": "365b959abba94d3eb023d986b278c61b",
       "version_major": 2,
       "version_minor": 0
      },
      "text/plain": [
       "  0%|          | 0/1914 [00:00<?, ?it/s]"
      ]
     },
     "metadata": {},
     "output_type": "display_data"
    },
    {
     "data": {
      "application/vnd.jupyter.widget-view+json": {
       "model_id": "4a9e0587d1e44ee69bb2ca59fd5193f5",
       "version_major": 2,
       "version_minor": 0
      },
      "text/plain": [
       "  0%|          | 0/479 [00:00<?, ?it/s]"
      ]
     },
     "metadata": {},
     "output_type": "display_data"
    },
    {
     "name": "stdout",
     "output_type": "stream",
     "text": [
      "Epoch [21], Train Loss : [1.75646] Val Loss : [1.82033] Val F1 : [0.40149]\n"
     ]
    },
    {
     "data": {
      "application/vnd.jupyter.widget-view+json": {
       "model_id": "1d2aec7ca76748dfb46808d748a2b402",
       "version_major": 2,
       "version_minor": 0
      },
      "text/plain": [
       "  0%|          | 0/1914 [00:00<?, ?it/s]"
      ]
     },
     "metadata": {},
     "output_type": "display_data"
    },
    {
     "data": {
      "application/vnd.jupyter.widget-view+json": {
       "model_id": "b735aa05d8bc4d608087c4975187fd75",
       "version_major": 2,
       "version_minor": 0
      },
      "text/plain": [
       "  0%|          | 0/479 [00:00<?, ?it/s]"
      ]
     },
     "metadata": {},
     "output_type": "display_data"
    },
    {
     "name": "stdout",
     "output_type": "stream",
     "text": [
      "Epoch [22], Train Loss : [1.74027] Val Loss : [1.81565] Val F1 : [0.39666]\n"
     ]
    },
    {
     "data": {
      "application/vnd.jupyter.widget-view+json": {
       "model_id": "f47a7f8193ca4af18ae69bfae6d20ddf",
       "version_major": 2,
       "version_minor": 0
      },
      "text/plain": [
       "  0%|          | 0/1914 [00:00<?, ?it/s]"
      ]
     },
     "metadata": {},
     "output_type": "display_data"
    },
    {
     "data": {
      "application/vnd.jupyter.widget-view+json": {
       "model_id": "dada2044289c42658a33cda0e4059c00",
       "version_major": 2,
       "version_minor": 0
      },
      "text/plain": [
       "  0%|          | 0/479 [00:00<?, ?it/s]"
      ]
     },
     "metadata": {},
     "output_type": "display_data"
    },
    {
     "name": "stdout",
     "output_type": "stream",
     "text": [
      "Epoch [23], Train Loss : [1.72505] Val Loss : [1.80178] Val F1 : [0.40267]\n"
     ]
    },
    {
     "data": {
      "application/vnd.jupyter.widget-view+json": {
       "model_id": "d40d77c27c254d0da2cc4e952c200e76",
       "version_major": 2,
       "version_minor": 0
      },
      "text/plain": [
       "  0%|          | 0/1914 [00:00<?, ?it/s]"
      ]
     },
     "metadata": {},
     "output_type": "display_data"
    },
    {
     "data": {
      "application/vnd.jupyter.widget-view+json": {
       "model_id": "6ca3ec5a299d41a699dd91546e55ebd5",
       "version_major": 2,
       "version_minor": 0
      },
      "text/plain": [
       "  0%|          | 0/479 [00:00<?, ?it/s]"
      ]
     },
     "metadata": {},
     "output_type": "display_data"
    },
    {
     "name": "stdout",
     "output_type": "stream",
     "text": [
      "Epoch [24], Train Loss : [1.70916] Val Loss : [1.79741] Val F1 : [0.40306]\n"
     ]
    },
    {
     "data": {
      "application/vnd.jupyter.widget-view+json": {
       "model_id": "954d61c744844118af29fdade816eea1",
       "version_major": 2,
       "version_minor": 0
      },
      "text/plain": [
       "  0%|          | 0/1914 [00:00<?, ?it/s]"
      ]
     },
     "metadata": {},
     "output_type": "display_data"
    },
    {
     "data": {
      "application/vnd.jupyter.widget-view+json": {
       "model_id": "16c30838ec584b0ba4b13a103338de52",
       "version_major": 2,
       "version_minor": 0
      },
      "text/plain": [
       "  0%|          | 0/479 [00:00<?, ?it/s]"
      ]
     },
     "metadata": {},
     "output_type": "display_data"
    },
    {
     "name": "stdout",
     "output_type": "stream",
     "text": [
      "Epoch [25], Train Loss : [1.69622] Val Loss : [1.78501] Val F1 : [0.39626]\n"
     ]
    },
    {
     "data": {
      "application/vnd.jupyter.widget-view+json": {
       "model_id": "b7812fb22872497a9ba5c59b15375efe",
       "version_major": 2,
       "version_minor": 0
      },
      "text/plain": [
       "  0%|          | 0/1914 [00:00<?, ?it/s]"
      ]
     },
     "metadata": {},
     "output_type": "display_data"
    },
    {
     "data": {
      "application/vnd.jupyter.widget-view+json": {
       "model_id": "1e9bd6f2fcce4a9fa188c0377f1f4613",
       "version_major": 2,
       "version_minor": 0
      },
      "text/plain": [
       "  0%|          | 0/479 [00:00<?, ?it/s]"
      ]
     },
     "metadata": {},
     "output_type": "display_data"
    },
    {
     "name": "stdout",
     "output_type": "stream",
     "text": [
      "Epoch [26], Train Loss : [1.68732] Val Loss : [1.80516] Val F1 : [0.40436]\n"
     ]
    },
    {
     "data": {
      "application/vnd.jupyter.widget-view+json": {
       "model_id": "ea24200ac8a34502b3195912d7405068",
       "version_major": 2,
       "version_minor": 0
      },
      "text/plain": [
       "  0%|          | 0/1914 [00:00<?, ?it/s]"
      ]
     },
     "metadata": {},
     "output_type": "display_data"
    },
    {
     "data": {
      "application/vnd.jupyter.widget-view+json": {
       "model_id": "e9b027169ba54779b8aa3625bbfc50ff",
       "version_major": 2,
       "version_minor": 0
      },
      "text/plain": [
       "  0%|          | 0/479 [00:00<?, ?it/s]"
      ]
     },
     "metadata": {},
     "output_type": "display_data"
    },
    {
     "name": "stdout",
     "output_type": "stream",
     "text": [
      "Epoch [27], Train Loss : [1.67618] Val Loss : [1.83761] Val F1 : [0.40057]\n"
     ]
    },
    {
     "data": {
      "application/vnd.jupyter.widget-view+json": {
       "model_id": "bdd34801880d4ffcbe5f94270591c544",
       "version_major": 2,
       "version_minor": 0
      },
      "text/plain": [
       "  0%|          | 0/1914 [00:00<?, ?it/s]"
      ]
     },
     "metadata": {},
     "output_type": "display_data"
    },
    {
     "data": {
      "application/vnd.jupyter.widget-view+json": {
       "model_id": "a73f41caa0a6497ca3a12047ead094f3",
       "version_major": 2,
       "version_minor": 0
      },
      "text/plain": [
       "  0%|          | 0/479 [00:00<?, ?it/s]"
      ]
     },
     "metadata": {},
     "output_type": "display_data"
    },
    {
     "name": "stdout",
     "output_type": "stream",
     "text": [
      "Epoch [28], Train Loss : [1.66057] Val Loss : [1.80309] Val F1 : [0.40685]\n"
     ]
    },
    {
     "data": {
      "application/vnd.jupyter.widget-view+json": {
       "model_id": "bd0c3f751d004d58b90f07c35c58af2f",
       "version_major": 2,
       "version_minor": 0
      },
      "text/plain": [
       "  0%|          | 0/1914 [00:00<?, ?it/s]"
      ]
     },
     "metadata": {},
     "output_type": "display_data"
    },
    {
     "data": {
      "application/vnd.jupyter.widget-view+json": {
       "model_id": "31ed7a6143b546ca895343be75773f86",
       "version_major": 2,
       "version_minor": 0
      },
      "text/plain": [
       "  0%|          | 0/479 [00:00<?, ?it/s]"
      ]
     },
     "metadata": {},
     "output_type": "display_data"
    },
    {
     "name": "stdout",
     "output_type": "stream",
     "text": [
      "Epoch [29], Train Loss : [1.64976] Val Loss : [1.77427] Val F1 : [0.40463]\n"
     ]
    },
    {
     "data": {
      "application/vnd.jupyter.widget-view+json": {
       "model_id": "7084c4b2dc7f47a6b99778e50fbc31a8",
       "version_major": 2,
       "version_minor": 0
      },
      "text/plain": [
       "  0%|          | 0/1914 [00:00<?, ?it/s]"
      ]
     },
     "metadata": {},
     "output_type": "display_data"
    },
    {
     "data": {
      "application/vnd.jupyter.widget-view+json": {
       "model_id": "732f5f6a5bb24fdcb3a5e64702e9ea5e",
       "version_major": 2,
       "version_minor": 0
      },
      "text/plain": [
       "  0%|          | 0/479 [00:00<?, ?it/s]"
      ]
     },
     "metadata": {},
     "output_type": "display_data"
    },
    {
     "name": "stdout",
     "output_type": "stream",
     "text": [
      "Epoch [30], Train Loss : [1.63525] Val Loss : [1.78177] Val F1 : [0.40489]\n"
     ]
    }
   ],
   "source": [
    "model = resnet.ResNet18(64, 47)\n",
    "model.eval()\n",
    "optimizer = torch.optim.Adam(params = model.parameters(), lr = CFG[\"LEARNING_RATE\"])\n",
    "scheduler = torch.optim.lr_scheduler.ReduceLROnPlateau(optimizer, mode='max', factor=0.5, patience=2,threshold_mode='abs',min_lr=1e-8, verbose=True)\n",
    "\n",
    "infer_model = train(model, optimizer, train_loader, val_loader, scheduler, device)"
   ]
  },
  {
   "cell_type": "code",
   "execution_count": 20,
   "id": "ca96d9da",
   "metadata": {},
   "outputs": [],
   "source": [
    "test_dataset = CustomDataset(test_df, test_df['img_path'].values, None, tfms=tfms)\n",
    "test_loader = DataLoader(test_dataset, batch_size = CFG['BATCH_SIZE'], shuffle=False, num_workers=0)"
   ]
  },
  {
   "cell_type": "code",
   "execution_count": 21,
   "id": "d090abac",
   "metadata": {},
   "outputs": [],
   "source": [
    "def inference(model, test_loader, device):\n",
    "    model.to(device)\n",
    "    model.eval()\n",
    "    preds = []\n",
    "    with torch.no_grad():\n",
    "        for videos in tqdm(iter(test_loader)):\n",
    "            videos = videos.to(device)\n",
    "            logit = model(videos)\n",
    "            preds += logit.argmax(1).detach().cpu().numpy().tolist()\n",
    "    return preds"
   ]
  },
  {
   "cell_type": "code",
   "execution_count": 22,
   "id": "8cf65b73",
   "metadata": {},
   "outputs": [
    {
     "data": {
      "application/vnd.jupyter.widget-view+json": {
       "model_id": "594edc139db841ef871182aeb003c14e",
       "version_major": 2,
       "version_minor": 0
      },
      "text/plain": [
       "  0%|          | 0/598 [00:00<?, ?it/s]"
      ]
     },
     "metadata": {},
     "output_type": "display_data"
    }
   ],
   "source": [
    "preds = inference(model, test_loader, device)"
   ]
  },
  {
   "cell_type": "code",
   "execution_count": 23,
   "id": "1095d8a1",
   "metadata": {},
   "outputs": [
    {
     "data": {
      "text/html": [
       "<div>\n",
       "<style scoped>\n",
       "    .dataframe tbody tr th:only-of-type {\n",
       "        vertical-align: middle;\n",
       "    }\n",
       "\n",
       "    .dataframe tbody tr th {\n",
       "        vertical-align: top;\n",
       "    }\n",
       "\n",
       "    .dataframe thead th {\n",
       "        text-align: right;\n",
       "    }\n",
       "</style>\n",
       "<table border=\"1\" class=\"dataframe\">\n",
       "  <thead>\n",
       "    <tr style=\"text-align: right;\">\n",
       "      <th></th>\n",
       "      <th>ts</th>\n",
       "      <th>actionOption</th>\n",
       "      <th>img_path</th>\n",
       "    </tr>\n",
       "  </thead>\n",
       "  <tbody>\n",
       "    <tr>\n",
       "      <th>0</th>\n",
       "      <td>1.599887e+09</td>\n",
       "      <td>46</td>\n",
       "      <td>./train/data/user04/1599859800/RP/1599886560.png</td>\n",
       "    </tr>\n",
       "    <tr>\n",
       "      <th>1</th>\n",
       "      <td>1.600832e+09</td>\n",
       "      <td>15</td>\n",
       "      <td>./train/data/user03/1600792200/RP/1600831500.png</td>\n",
       "    </tr>\n",
       "    <tr>\n",
       "      <th>2</th>\n",
       "      <td>1.599308e+09</td>\n",
       "      <td>10</td>\n",
       "      <td>./train/data/user04/1599261300/RP/1599308100.png</td>\n",
       "    </tr>\n",
       "    <tr>\n",
       "      <th>3</th>\n",
       "      <td>1.599467e+09</td>\n",
       "      <td>21</td>\n",
       "      <td>./train/data/user04/1599430860/RP/1599467400.png</td>\n",
       "    </tr>\n",
       "    <tr>\n",
       "      <th>4</th>\n",
       "      <td>1.599027e+09</td>\n",
       "      <td>21</td>\n",
       "      <td>./train/data/user04/1599001800/RP/1599026700.png</td>\n",
       "    </tr>\n",
       "    <tr>\n",
       "      <th>...</th>\n",
       "      <td>...</td>\n",
       "      <td>...</td>\n",
       "      <td>...</td>\n",
       "    </tr>\n",
       "    <tr>\n",
       "      <th>9562</th>\n",
       "      <td>1.599047e+09</td>\n",
       "      <td>21</td>\n",
       "      <td>./train/data/user02/1598972400/RP/1599047280.png</td>\n",
       "    </tr>\n",
       "    <tr>\n",
       "      <th>9563</th>\n",
       "      <td>1.600211e+09</td>\n",
       "      <td>6</td>\n",
       "      <td>./train/data/user04/1600207800/RP/1600211400.png</td>\n",
       "    </tr>\n",
       "    <tr>\n",
       "      <th>9564</th>\n",
       "      <td>1.599195e+09</td>\n",
       "      <td>21</td>\n",
       "      <td>./train/data/user04/1599174600/RP/1599195300.png</td>\n",
       "    </tr>\n",
       "    <tr>\n",
       "      <th>9565</th>\n",
       "      <td>1.600851e+09</td>\n",
       "      <td>21</td>\n",
       "      <td>./train/data/user02/1600786800/RP/1600851300.png</td>\n",
       "    </tr>\n",
       "    <tr>\n",
       "      <th>9566</th>\n",
       "      <td>1.599191e+09</td>\n",
       "      <td>29</td>\n",
       "      <td>./train/data/user03/1599147360/RP/1599190740.png</td>\n",
       "    </tr>\n",
       "  </tbody>\n",
       "</table>\n",
       "<p>9567 rows × 3 columns</p>\n",
       "</div>"
      ],
      "text/plain": [
       "                ts  actionOption  \\\n",
       "0     1.599887e+09            46   \n",
       "1     1.600832e+09            15   \n",
       "2     1.599308e+09            10   \n",
       "3     1.599467e+09            21   \n",
       "4     1.599027e+09            21   \n",
       "...            ...           ...   \n",
       "9562  1.599047e+09            21   \n",
       "9563  1.600211e+09             6   \n",
       "9564  1.599195e+09            21   \n",
       "9565  1.600851e+09            21   \n",
       "9566  1.599191e+09            29   \n",
       "\n",
       "                                              img_path  \n",
       "0     ./train/data/user04/1599859800/RP/1599886560.png  \n",
       "1     ./train/data/user03/1600792200/RP/1600831500.png  \n",
       "2     ./train/data/user04/1599261300/RP/1599308100.png  \n",
       "3     ./train/data/user04/1599430860/RP/1599467400.png  \n",
       "4     ./train/data/user04/1599001800/RP/1599026700.png  \n",
       "...                                                ...  \n",
       "9562  ./train/data/user02/1598972400/RP/1599047280.png  \n",
       "9563  ./train/data/user04/1600207800/RP/1600211400.png  \n",
       "9564  ./train/data/user04/1599174600/RP/1599195300.png  \n",
       "9565  ./train/data/user02/1600786800/RP/1600851300.png  \n",
       "9566  ./train/data/user03/1599147360/RP/1599190740.png  \n",
       "\n",
       "[9567 rows x 3 columns]"
      ]
     },
     "execution_count": 23,
     "metadata": {},
     "output_type": "execute_result"
    }
   ],
   "source": [
    "test_df"
   ]
  },
  {
   "cell_type": "code",
   "execution_count": 24,
   "id": "b4cd8376",
   "metadata": {},
   "outputs": [
    {
     "data": {
      "text/plain": [
       "[35,\n",
       " 6,\n",
       " 15,\n",
       " 21,\n",
       " 21,\n",
       " 21,\n",
       " 21,\n",
       " 13,\n",
       " 32,\n",
       " 21,\n",
       " 21,\n",
       " 21,\n",
       " 41,\n",
       " 21,\n",
       " 21,\n",
       " 21,\n",
       " 21,\n",
       " 21,\n",
       " 6,\n",
       " 35,\n",
       " 21,\n",
       " 21,\n",
       " 0,\n",
       " 41,\n",
       " 32,\n",
       " 21,\n",
       " 21,\n",
       " 6,\n",
       " 21,\n",
       " 21,\n",
       " 10,\n",
       " 35,\n",
       " 32,\n",
       " 21,\n",
       " 21,\n",
       " 21,\n",
       " 32,\n",
       " 21,\n",
       " 32,\n",
       " 6,\n",
       " 21,\n",
       " 32,\n",
       " 21,\n",
       " 21,\n",
       " 6,\n",
       " 21,\n",
       " 6,\n",
       " 21,\n",
       " 21,\n",
       " 21,\n",
       " 32,\n",
       " 21,\n",
       " 32,\n",
       " 21,\n",
       " 21,\n",
       " 21,\n",
       " 15,\n",
       " 21,\n",
       " 32,\n",
       " 21,\n",
       " 21,\n",
       " 21,\n",
       " 21,\n",
       " 41,\n",
       " 6,\n",
       " 6,\n",
       " 21,\n",
       " 6,\n",
       " 21,\n",
       " 21,\n",
       " 21,\n",
       " 21,\n",
       " 21,\n",
       " 21,\n",
       " 21,\n",
       " 21,\n",
       " 21,\n",
       " 21,\n",
       " 21,\n",
       " 21,\n",
       " 21,\n",
       " 21,\n",
       " 21,\n",
       " 29,\n",
       " 21,\n",
       " 21,\n",
       " 32,\n",
       " 21,\n",
       " 28,\n",
       " 21,\n",
       " 21,\n",
       " 32,\n",
       " 32,\n",
       " 15,\n",
       " 10,\n",
       " 6,\n",
       " 21,\n",
       " 22,\n",
       " 21,\n",
       " 22,\n",
       " 21,\n",
       " 21,\n",
       " 45,\n",
       " 21,\n",
       " 21,\n",
       " 21,\n",
       " 15,\n",
       " 21,\n",
       " 6,\n",
       " 32,\n",
       " 13,\n",
       " 5,\n",
       " 21,\n",
       " 21,\n",
       " 6,\n",
       " 45,\n",
       " 6,\n",
       " 21,\n",
       " 21,\n",
       " 21,\n",
       " 21,\n",
       " 32,\n",
       " 15,\n",
       " 6,\n",
       " 21,\n",
       " 21,\n",
       " 15,\n",
       " 21,\n",
       " 20,\n",
       " 21,\n",
       " 18,\n",
       " 21,\n",
       " 21,\n",
       " 21,\n",
       " 21,\n",
       " 21,\n",
       " 6,\n",
       " 21,\n",
       " 21,\n",
       " 29,\n",
       " 21,\n",
       " 21,\n",
       " 21,\n",
       " 32,\n",
       " 21,\n",
       " 21,\n",
       " 32,\n",
       " 21,\n",
       " 21,\n",
       " 21,\n",
       " 41,\n",
       " 35,\n",
       " 21,\n",
       " 21,\n",
       " 21,\n",
       " 6,\n",
       " 6,\n",
       " 13,\n",
       " 21,\n",
       " 6,\n",
       " 21,\n",
       " 21,\n",
       " 21,\n",
       " 21,\n",
       " 15,\n",
       " 21,\n",
       " 21,\n",
       " 21,\n",
       " 21,\n",
       " 21,\n",
       " 21,\n",
       " 21,\n",
       " 21,\n",
       " 15,\n",
       " 21,\n",
       " 6,\n",
       " 21,\n",
       " 41,\n",
       " 21,\n",
       " 21,\n",
       " 21,\n",
       " 6,\n",
       " 21,\n",
       " 21,\n",
       " 21,\n",
       " 21,\n",
       " 21,\n",
       " 41,\n",
       " 21,\n",
       " 15,\n",
       " 21,\n",
       " 21,\n",
       " 21,\n",
       " 21,\n",
       " 6,\n",
       " 38,\n",
       " 21,\n",
       " 21,\n",
       " 21,\n",
       " 41,\n",
       " 21,\n",
       " 21,\n",
       " 41,\n",
       " 21,\n",
       " 15,\n",
       " 32,\n",
       " 21,\n",
       " 39,\n",
       " 21,\n",
       " 45,\n",
       " 32,\n",
       " 10,\n",
       " 21,\n",
       " 21,\n",
       " 21,\n",
       " 13,\n",
       " 21,\n",
       " 21,\n",
       " 41,\n",
       " 35,\n",
       " 21,\n",
       " 21,\n",
       " 34,\n",
       " 21,\n",
       " 21,\n",
       " 21,\n",
       " 14,\n",
       " 21,\n",
       " 21,\n",
       " 21,\n",
       " 21,\n",
       " 21,\n",
       " 40,\n",
       " 21,\n",
       " 21,\n",
       " 21,\n",
       " 18,\n",
       " 6,\n",
       " 21,\n",
       " 21,\n",
       " 21,\n",
       " 21,\n",
       " 21,\n",
       " 21,\n",
       " 21,\n",
       " 21,\n",
       " 21,\n",
       " 21,\n",
       " 21,\n",
       " 21,\n",
       " 21,\n",
       " 21,\n",
       " 41,\n",
       " 21,\n",
       " 32,\n",
       " 21,\n",
       " 21,\n",
       " 21,\n",
       " 21,\n",
       " 21,\n",
       " 21,\n",
       " 21,\n",
       " 21,\n",
       " 21,\n",
       " 21,\n",
       " 46,\n",
       " 21,\n",
       " 41,\n",
       " 21,\n",
       " 32,\n",
       " 21,\n",
       " 21,\n",
       " 13,\n",
       " 21,\n",
       " 21,\n",
       " 21,\n",
       " 21,\n",
       " 21,\n",
       " 21,\n",
       " 21,\n",
       " 21,\n",
       " 21,\n",
       " 32,\n",
       " 21,\n",
       " 21,\n",
       " 32,\n",
       " 6,\n",
       " 21,\n",
       " 32,\n",
       " 21,\n",
       " 21,\n",
       " 32,\n",
       " 21,\n",
       " 21,\n",
       " 21,\n",
       " 2,\n",
       " 21,\n",
       " 21,\n",
       " 21,\n",
       " 22,\n",
       " 21,\n",
       " 21,\n",
       " 6,\n",
       " 21,\n",
       " 21,\n",
       " 32,\n",
       " 21,\n",
       " 29,\n",
       " 21,\n",
       " 21,\n",
       " 21,\n",
       " 21,\n",
       " 35,\n",
       " 21,\n",
       " 32,\n",
       " 21,\n",
       " 21,\n",
       " 32,\n",
       " 32,\n",
       " 21,\n",
       " 34,\n",
       " 32,\n",
       " 35,\n",
       " 21,\n",
       " 21,\n",
       " 10,\n",
       " 21,\n",
       " 35,\n",
       " 32,\n",
       " 21,\n",
       " 45,\n",
       " 21,\n",
       " 21,\n",
       " 21,\n",
       " 21,\n",
       " 21,\n",
       " 21,\n",
       " 21,\n",
       " 21,\n",
       " 21,\n",
       " 21,\n",
       " 21,\n",
       " 2,\n",
       " 21,\n",
       " 5,\n",
       " 38,\n",
       " 21,\n",
       " 0,\n",
       " 46,\n",
       " 22,\n",
       " 21,\n",
       " 45,\n",
       " 21,\n",
       " 35,\n",
       " 21,\n",
       " 6,\n",
       " 32,\n",
       " 32,\n",
       " 21,\n",
       " 21,\n",
       " 21,\n",
       " 21,\n",
       " 6,\n",
       " 21,\n",
       " 21,\n",
       " 32,\n",
       " 21,\n",
       " 21,\n",
       " 18,\n",
       " 6,\n",
       " 21,\n",
       " 21,\n",
       " 22,\n",
       " 21,\n",
       " 21,\n",
       " 45,\n",
       " 21,\n",
       " 21,\n",
       " 13,\n",
       " 21,\n",
       " 21,\n",
       " 32,\n",
       " 45,\n",
       " 21,\n",
       " 10,\n",
       " 41,\n",
       " 21,\n",
       " 21,\n",
       " 21,\n",
       " 21,\n",
       " 32,\n",
       " 21,\n",
       " 21,\n",
       " 21,\n",
       " 21,\n",
       " 6,\n",
       " 21,\n",
       " 45,\n",
       " 32,\n",
       " 6,\n",
       " 21,\n",
       " 21,\n",
       " 21,\n",
       " 19,\n",
       " 21,\n",
       " 21,\n",
       " 10,\n",
       " 32,\n",
       " 6,\n",
       " 21,\n",
       " 21,\n",
       " 41,\n",
       " 15,\n",
       " 21,\n",
       " 21,\n",
       " 6,\n",
       " 32,\n",
       " 21,\n",
       " 21,\n",
       " 5,\n",
       " 21,\n",
       " 28,\n",
       " 45,\n",
       " 21,\n",
       " 21,\n",
       " 32,\n",
       " 32,\n",
       " 21,\n",
       " 21,\n",
       " 21,\n",
       " 32,\n",
       " 45,\n",
       " 32,\n",
       " 45,\n",
       " 5,\n",
       " 21,\n",
       " 21,\n",
       " 21,\n",
       " 32,\n",
       " 6,\n",
       " 35,\n",
       " 21,\n",
       " 13,\n",
       " 21,\n",
       " 2,\n",
       " 21,\n",
       " 32,\n",
       " 21,\n",
       " 21,\n",
       " 21,\n",
       " 32,\n",
       " 21,\n",
       " 21,\n",
       " 6,\n",
       " 6,\n",
       " 21,\n",
       " 6,\n",
       " 21,\n",
       " 6,\n",
       " 21,\n",
       " 45,\n",
       " 21,\n",
       " 32,\n",
       " 6,\n",
       " 21,\n",
       " 21,\n",
       " 21,\n",
       " 21,\n",
       " 6,\n",
       " 21,\n",
       " 6,\n",
       " 32,\n",
       " 0,\n",
       " 21,\n",
       " 21,\n",
       " 32,\n",
       " 32,\n",
       " 21,\n",
       " 32,\n",
       " 21,\n",
       " 21,\n",
       " 32,\n",
       " 32,\n",
       " 21,\n",
       " 21,\n",
       " 21,\n",
       " 21,\n",
       " 32,\n",
       " 32,\n",
       " 32,\n",
       " 21,\n",
       " 34,\n",
       " 21,\n",
       " 21,\n",
       " 21,\n",
       " 32,\n",
       " 32,\n",
       " 21,\n",
       " 21,\n",
       " 21,\n",
       " 15,\n",
       " 21,\n",
       " 21,\n",
       " 21,\n",
       " 32,\n",
       " 21,\n",
       " 21,\n",
       " 21,\n",
       " 6,\n",
       " 21,\n",
       " 21,\n",
       " 21,\n",
       " 21,\n",
       " 21,\n",
       " 21,\n",
       " 21,\n",
       " 21,\n",
       " 21,\n",
       " 21,\n",
       " 32,\n",
       " 21,\n",
       " 21,\n",
       " 21,\n",
       " 6,\n",
       " 21,\n",
       " 21,\n",
       " 2,\n",
       " 34,\n",
       " 21,\n",
       " 21,\n",
       " 21,\n",
       " 15,\n",
       " 21,\n",
       " 21,\n",
       " 21,\n",
       " 21,\n",
       " 6,\n",
       " 15,\n",
       " 21,\n",
       " 6,\n",
       " 32,\n",
       " 21,\n",
       " 21,\n",
       " 21,\n",
       " 6,\n",
       " 21,\n",
       " 5,\n",
       " 32,\n",
       " 21,\n",
       " 39,\n",
       " 21,\n",
       " 32,\n",
       " 21,\n",
       " 32,\n",
       " 18,\n",
       " 21,\n",
       " 21,\n",
       " 21,\n",
       " 15,\n",
       " 18,\n",
       " 21,\n",
       " 21,\n",
       " 15,\n",
       " 21,\n",
       " 21,\n",
       " 21,\n",
       " 32,\n",
       " 21,\n",
       " 21,\n",
       " 21,\n",
       " 21,\n",
       " 6,\n",
       " 21,\n",
       " 21,\n",
       " 6,\n",
       " 21,\n",
       " 21,\n",
       " 21,\n",
       " 21,\n",
       " 21,\n",
       " 21,\n",
       " 45,\n",
       " 15,\n",
       " 15,\n",
       " 21,\n",
       " 41,\n",
       " 41,\n",
       " 21,\n",
       " 21,\n",
       " 21,\n",
       " 21,\n",
       " 21,\n",
       " 6,\n",
       " 32,\n",
       " 21,\n",
       " 32,\n",
       " 41,\n",
       " 21,\n",
       " 21,\n",
       " 21,\n",
       " 21,\n",
       " 21,\n",
       " 22,\n",
       " 21,\n",
       " 21,\n",
       " 21,\n",
       " 21,\n",
       " 15,\n",
       " 21,\n",
       " 15,\n",
       " 21,\n",
       " 18,\n",
       " 21,\n",
       " 35,\n",
       " 21,\n",
       " 32,\n",
       " 41,\n",
       " 21,\n",
       " 21,\n",
       " 21,\n",
       " 21,\n",
       " 32,\n",
       " 21,\n",
       " 21,\n",
       " 6,\n",
       " 32,\n",
       " 21,\n",
       " 32,\n",
       " 21,\n",
       " 5,\n",
       " 21,\n",
       " 21,\n",
       " 19,\n",
       " 46,\n",
       " 41,\n",
       " 21,\n",
       " 21,\n",
       " 21,\n",
       " 21,\n",
       " 21,\n",
       " 21,\n",
       " 21,\n",
       " 32,\n",
       " 21,\n",
       " 35,\n",
       " 21,\n",
       " 21,\n",
       " 6,\n",
       " 13,\n",
       " 21,\n",
       " 21,\n",
       " 21,\n",
       " 21,\n",
       " 21,\n",
       " 21,\n",
       " 22,\n",
       " 21,\n",
       " 5,\n",
       " 18,\n",
       " 21,\n",
       " 21,\n",
       " 21,\n",
       " 21,\n",
       " 21,\n",
       " 5,\n",
       " 15,\n",
       " 21,\n",
       " 13,\n",
       " 41,\n",
       " 21,\n",
       " 32,\n",
       " 6,\n",
       " 15,\n",
       " 6,\n",
       " 6,\n",
       " 21,\n",
       " 21,\n",
       " 21,\n",
       " 6,\n",
       " 21,\n",
       " 32,\n",
       " 21,\n",
       " 32,\n",
       " 21,\n",
       " 21,\n",
       " 29,\n",
       " 21,\n",
       " 5,\n",
       " 21,\n",
       " 21,\n",
       " 21,\n",
       " 21,\n",
       " 6,\n",
       " 15,\n",
       " 21,\n",
       " 41,\n",
       " 21,\n",
       " 21,\n",
       " 21,\n",
       " 21,\n",
       " 21,\n",
       " 21,\n",
       " 41,\n",
       " 13,\n",
       " 41,\n",
       " 21,\n",
       " 46,\n",
       " 13,\n",
       " 21,\n",
       " 6,\n",
       " 21,\n",
       " 21,\n",
       " 32,\n",
       " 21,\n",
       " 21,\n",
       " 19,\n",
       " 21,\n",
       " 6,\n",
       " 34,\n",
       " 41,\n",
       " 21,\n",
       " 21,\n",
       " 21,\n",
       " 1,\n",
       " 21,\n",
       " 21,\n",
       " 21,\n",
       " 35,\n",
       " 32,\n",
       " 21,\n",
       " 21,\n",
       " 32,\n",
       " 21,\n",
       " 32,\n",
       " 21,\n",
       " 32,\n",
       " 21,\n",
       " 21,\n",
       " 6,\n",
       " 21,\n",
       " 41,\n",
       " 21,\n",
       " 21,\n",
       " 21,\n",
       " 21,\n",
       " 21,\n",
       " 21,\n",
       " 21,\n",
       " 21,\n",
       " 21,\n",
       " 21,\n",
       " 21,\n",
       " 21,\n",
       " 6,\n",
       " 21,\n",
       " 21,\n",
       " 32,\n",
       " 10,\n",
       " 21,\n",
       " 21,\n",
       " 21,\n",
       " 21,\n",
       " 45,\n",
       " 21,\n",
       " 21,\n",
       " 21,\n",
       " 21,\n",
       " 21,\n",
       " 21,\n",
       " 21,\n",
       " 39,\n",
       " 21,\n",
       " 15,\n",
       " 21,\n",
       " 21,\n",
       " 18,\n",
       " 21,\n",
       " 21,\n",
       " 5,\n",
       " 21,\n",
       " 21,\n",
       " 21,\n",
       " 21,\n",
       " 21,\n",
       " 21,\n",
       " 32,\n",
       " 21,\n",
       " 8,\n",
       " 26,\n",
       " 21,\n",
       " 5,\n",
       " 21,\n",
       " 6,\n",
       " 13,\n",
       " 6,\n",
       " 15,\n",
       " 21,\n",
       " 21,\n",
       " 32,\n",
       " 15,\n",
       " 21,\n",
       " 21,\n",
       " 21,\n",
       " 15,\n",
       " 6,\n",
       " 21,\n",
       " 8,\n",
       " 21,\n",
       " 21,\n",
       " 32,\n",
       " 15,\n",
       " 21,\n",
       " 5,\n",
       " 21,\n",
       " 21,\n",
       " 21,\n",
       " 21,\n",
       " 41,\n",
       " 21,\n",
       " 10,\n",
       " 21,\n",
       " 21,\n",
       " 21,\n",
       " 21,\n",
       " 21,\n",
       " 21,\n",
       " 21,\n",
       " 21,\n",
       " 32,\n",
       " 21,\n",
       " 41,\n",
       " 32,\n",
       " 15,\n",
       " 41,\n",
       " 21,\n",
       " 21,\n",
       " 21,\n",
       " 21,\n",
       " 32,\n",
       " 21,\n",
       " 21,\n",
       " 21,\n",
       " 35,\n",
       " 38,\n",
       " 21,\n",
       " 21,\n",
       " 21,\n",
       " 21,\n",
       " 21,\n",
       " 45,\n",
       " 21,\n",
       " 21,\n",
       " 21,\n",
       " 13,\n",
       " 5,\n",
       " 21,\n",
       " 21,\n",
       " 21,\n",
       " 21,\n",
       " 32,\n",
       " 10,\n",
       " 6,\n",
       " 21,\n",
       " 21,\n",
       " 32,\n",
       " 21,\n",
       " 32,\n",
       " 21,\n",
       " 21,\n",
       " 32,\n",
       " 21,\n",
       " 21,\n",
       " 21,\n",
       " 21,\n",
       " 21,\n",
       " 32,\n",
       " 41,\n",
       " 6,\n",
       " 21,\n",
       " 21,\n",
       " 21,\n",
       " 15,\n",
       " 21,\n",
       " 21,\n",
       " 32,\n",
       " 21,\n",
       " 21,\n",
       " 21,\n",
       " 21,\n",
       " 32,\n",
       " 21,\n",
       " 13,\n",
       " 21,\n",
       " 21,\n",
       " 21,\n",
       " 13,\n",
       " 21,\n",
       " 21,\n",
       " 6,\n",
       " 21,\n",
       " 21,\n",
       " 21,\n",
       " 6,\n",
       " 21,\n",
       " 32,\n",
       " 6,\n",
       " 21,\n",
       " 34,\n",
       " 21,\n",
       " 21,\n",
       " 15,\n",
       " 10,\n",
       " 41,\n",
       " 21,\n",
       " 21,\n",
       " 6,\n",
       " 21,\n",
       " 35,\n",
       " 21,\n",
       " 6,\n",
       " 32,\n",
       " 45,\n",
       " 21,\n",
       " 41,\n",
       " 21,\n",
       " 15,\n",
       " 21,\n",
       " 32,\n",
       " 21,\n",
       " 21,\n",
       " 5,\n",
       " 21,\n",
       " 21,\n",
       " 21,\n",
       " 32,\n",
       " 21,\n",
       " 13,\n",
       " 21,\n",
       " 45,\n",
       " 21,\n",
       " 21,\n",
       " 21,\n",
       " 21,\n",
       " 21,\n",
       " 21,\n",
       " 32,\n",
       " 5,\n",
       " 21,\n",
       " 21,\n",
       " 21,\n",
       " 21,\n",
       " 21,\n",
       " 21,\n",
       " 21,\n",
       " 21,\n",
       " 40,\n",
       " 21,\n",
       " 35,\n",
       " 21,\n",
       " 21,\n",
       " 15,\n",
       " 32,\n",
       " 21,\n",
       " 21,\n",
       " 21,\n",
       " 21,\n",
       " 21,\n",
       " 21,\n",
       " 21,\n",
       " 21,\n",
       " 21,\n",
       " 6,\n",
       " 15,\n",
       " 21,\n",
       " 21,\n",
       " 21,\n",
       " 21,\n",
       " 21,\n",
       " 6,\n",
       " 21,\n",
       " 32,\n",
       " 19,\n",
       " 21,\n",
       " 21,\n",
       " 21,\n",
       " 21,\n",
       " 21,\n",
       " 21,\n",
       " 13,\n",
       " 13,\n",
       " 29,\n",
       " 21,\n",
       " 5,\n",
       " 21,\n",
       " 21,\n",
       " 21,\n",
       " 21,\n",
       " 6,\n",
       " 32,\n",
       " 21,\n",
       " ...]"
      ]
     },
     "execution_count": 24,
     "metadata": {},
     "output_type": "execute_result"
    }
   ],
   "source": [
    "preds"
   ]
  },
  {
   "cell_type": "code",
   "execution_count": 25,
   "id": "f9d2c996",
   "metadata": {},
   "outputs": [
    {
     "data": {
      "text/html": [
       "<div>\n",
       "<style scoped>\n",
       "    .dataframe tbody tr th:only-of-type {\n",
       "        vertical-align: middle;\n",
       "    }\n",
       "\n",
       "    .dataframe tbody tr th {\n",
       "        vertical-align: top;\n",
       "    }\n",
       "\n",
       "    .dataframe thead th {\n",
       "        text-align: right;\n",
       "    }\n",
       "</style>\n",
       "<table border=\"1\" class=\"dataframe\">\n",
       "  <thead>\n",
       "    <tr style=\"text-align: right;\">\n",
       "      <th></th>\n",
       "      <th>actual_class</th>\n",
       "      <th>predicted_class</th>\n",
       "      <th>img_path</th>\n",
       "    </tr>\n",
       "  </thead>\n",
       "  <tbody>\n",
       "    <tr>\n",
       "      <th>0</th>\n",
       "      <td>46</td>\n",
       "      <td>35</td>\n",
       "      <td>./train/data/user04/1599859800/RP/1599886560.png</td>\n",
       "    </tr>\n",
       "    <tr>\n",
       "      <th>1</th>\n",
       "      <td>15</td>\n",
       "      <td>6</td>\n",
       "      <td>./train/data/user03/1600792200/RP/1600831500.png</td>\n",
       "    </tr>\n",
       "    <tr>\n",
       "      <th>2</th>\n",
       "      <td>10</td>\n",
       "      <td>15</td>\n",
       "      <td>./train/data/user04/1599261300/RP/1599308100.png</td>\n",
       "    </tr>\n",
       "    <tr>\n",
       "      <th>3</th>\n",
       "      <td>21</td>\n",
       "      <td>21</td>\n",
       "      <td>./train/data/user04/1599430860/RP/1599467400.png</td>\n",
       "    </tr>\n",
       "    <tr>\n",
       "      <th>4</th>\n",
       "      <td>21</td>\n",
       "      <td>21</td>\n",
       "      <td>./train/data/user04/1599001800/RP/1599026700.png</td>\n",
       "    </tr>\n",
       "    <tr>\n",
       "      <th>...</th>\n",
       "      <td>...</td>\n",
       "      <td>...</td>\n",
       "      <td>...</td>\n",
       "    </tr>\n",
       "    <tr>\n",
       "      <th>9562</th>\n",
       "      <td>21</td>\n",
       "      <td>21</td>\n",
       "      <td>./train/data/user02/1598972400/RP/1599047280.png</td>\n",
       "    </tr>\n",
       "    <tr>\n",
       "      <th>9563</th>\n",
       "      <td>6</td>\n",
       "      <td>6</td>\n",
       "      <td>./train/data/user04/1600207800/RP/1600211400.png</td>\n",
       "    </tr>\n",
       "    <tr>\n",
       "      <th>9564</th>\n",
       "      <td>21</td>\n",
       "      <td>21</td>\n",
       "      <td>./train/data/user04/1599174600/RP/1599195300.png</td>\n",
       "    </tr>\n",
       "    <tr>\n",
       "      <th>9565</th>\n",
       "      <td>21</td>\n",
       "      <td>21</td>\n",
       "      <td>./train/data/user02/1600786800/RP/1600851300.png</td>\n",
       "    </tr>\n",
       "    <tr>\n",
       "      <th>9566</th>\n",
       "      <td>29</td>\n",
       "      <td>21</td>\n",
       "      <td>./train/data/user03/1599147360/RP/1599190740.png</td>\n",
       "    </tr>\n",
       "  </tbody>\n",
       "</table>\n",
       "<p>9567 rows × 3 columns</p>\n",
       "</div>"
      ],
      "text/plain": [
       "      actual_class  predicted_class  \\\n",
       "0               46               35   \n",
       "1               15                6   \n",
       "2               10               15   \n",
       "3               21               21   \n",
       "4               21               21   \n",
       "...            ...              ...   \n",
       "9562            21               21   \n",
       "9563             6                6   \n",
       "9564            21               21   \n",
       "9565            21               21   \n",
       "9566            29               21   \n",
       "\n",
       "                                              img_path  \n",
       "0     ./train/data/user04/1599859800/RP/1599886560.png  \n",
       "1     ./train/data/user03/1600792200/RP/1600831500.png  \n",
       "2     ./train/data/user04/1599261300/RP/1599308100.png  \n",
       "3     ./train/data/user04/1599430860/RP/1599467400.png  \n",
       "4     ./train/data/user04/1599001800/RP/1599026700.png  \n",
       "...                                                ...  \n",
       "9562  ./train/data/user02/1598972400/RP/1599047280.png  \n",
       "9563  ./train/data/user04/1600207800/RP/1600211400.png  \n",
       "9564  ./train/data/user04/1599174600/RP/1599195300.png  \n",
       "9565  ./train/data/user02/1600786800/RP/1600851300.png  \n",
       "9566  ./train/data/user03/1599147360/RP/1599190740.png  \n",
       "\n",
       "[9567 rows x 3 columns]"
      ]
     },
     "execution_count": 25,
     "metadata": {},
     "output_type": "execute_result"
    }
   ],
   "source": [
    "pred_df = pd.DataFrame({\n",
    "    'actual_class': test_df['actionOption'], \n",
    "    'predicted_class': preds,\n",
    "    'img_path': test_df['img_path']\n",
    "})\n",
    "\n",
    "pred_df"
   ]
  },
  {
   "cell_type": "code",
   "execution_count": 36,
   "id": "74fe12e7",
   "metadata": {},
   "outputs": [
    {
     "data": {
      "text/plain": [
       "array([[11,  0,  2, ...,  0,  0,  0],\n",
       "       [ 0,  1,  0, ...,  0,  0,  1],\n",
       "       [ 4,  0,  5, ...,  0,  2,  1],\n",
       "       ...,\n",
       "       [ 0,  0,  0, ...,  0,  0,  0],\n",
       "       [ 0,  0,  0, ...,  0, 54,  0],\n",
       "       [ 4,  0,  0, ...,  0,  0, 14]])"
      ]
     },
     "execution_count": 36,
     "metadata": {},
     "output_type": "execute_result"
    }
   ],
   "source": [
    "from sklearn.metrics import confusion_matrix\n",
    "\n",
    "confusion_matrix = confusion_matrix(test_df['actionOption'], preds, labels=[x for x in range(0, 47)])\n",
    "confusion_matrix"
   ]
  },
  {
   "cell_type": "code",
   "execution_count": 37,
   "id": "5df41a9b",
   "metadata": {},
   "outputs": [
    {
     "data": {
      "text/plain": [
       "<Axes: title={'center': 'Confusion Matrix'}>"
      ]
     },
     "execution_count": 37,
     "metadata": {},
     "output_type": "execute_result"
    },
    {
     "data": {
      "image/png": "[encoded data removed]",
      "text/plain": [
       "<Figure size 2500x2500 with 2 Axes>"
      ]
     },
     "metadata": {},
     "output_type": "display_data"
    }
   ],
   "source": [
    "import seaborn as sns\n",
    "import matplotlib.pyplot as plt\n",
    "%matplotlib inline\n",
    "\n",
    "plt.figure(figsize = (25,25))\n",
    "plt.title('Confusion Matrix')\n",
    "\n",
    "sns.heatmap(confusion_matrix, annot=True)"
   ]
  },
  {
   "cell_type": "code",
   "execution_count": 40,
   "id": "84c60359",
   "metadata": {},
   "outputs": [
    {
     "name": "stdout",
     "output_type": "stream",
     "text": [
      "F1-score: 0.3965\n"
     ]
    }
   ],
   "source": [
    "from sklearn.metrics import f1_score \n",
    "f1 = f1_score(test_df['actionOption'], preds, average='micro')\n",
    "print('F1-score: {0:.4f}'.format(f1))"
   ]
  },
  {
   "cell_type": "code",
   "execution_count": null,
   "id": "3bd47174",
   "metadata": {},
   "outputs": [],
   "source": []
  }
 ],
 "metadata": {
  "kernelspec": {
   "display_name": "Python 3 (ipykernel)",
   "language": "python",
   "name": "python3"
  },
  "language_info": {
   "codemirror_mode": {
    "name": "ipython",
    "version": 3
   },
   "file_extension": ".py",
   "mimetype": "text/x-python",
   "name": "python",
   "nbconvert_exporter": "python",
   "pygments_lexer": "ipython3",
   "version": "3.9.16"
  }
 },
 "nbformat": 4,
 "nbformat_minor": 5
}

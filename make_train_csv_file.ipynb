{
 "cells": [
  {
   "cell_type": "code",
   "execution_count": 7,
   "id": "28f85c74",
   "metadata": {},
   "outputs": [],
   "source": [
    "import os\n",
    "import pandas as pd\n",
    "import numpy as np\n",
    "import glob\n",
    "import tqdm"
   ]
  },
  {
   "cell_type": "code",
   "execution_count": 2,
   "id": "c50cd1e0",
   "metadata": {},
   "outputs": [],
   "source": [
    "data_path = './train/data/'\n",
    "\n",
    "data_path_list = os.listdir('./train/data/')\n",
    "data_path_list.sort()\n",
    "\n",
    "image_data_path = []\n",
    "\n",
    "for file in data_path_list:\n",
    "    date_path = os.listdir(data_path + file + '/')\n",
    "    date_path.sort()\n",
    "    for date in date_path:\n",
    "        RP_data = os.listdir(data_path + file + '/' + date + '/RP/')\n",
    "        RP_data.sort()\n",
    "        for img in RP_data:\n",
    "            image_data_path.append(data_path + file + '/' + date + '/RP/' + img)"
   ]
  },
  {
   "cell_type": "code",
   "execution_count": 3,
   "id": "982fb5a4",
   "metadata": {},
   "outputs": [
    {
     "data": {
      "text/plain": [
       "47833"
      ]
     },
     "execution_count": 3,
     "metadata": {},
     "output_type": "execute_result"
    }
   ],
   "source": [
    "len(image_data_path)"
   ]
  },
  {
   "cell_type": "code",
   "execution_count": 116,
   "id": "484fa611",
   "metadata": {},
   "outputs": [
    {
     "data": {
      "application/vnd.jupyter.widget-view+json": {
       "model_id": "e249f104c94249bf91a72bcbc08706cf",
       "version_major": 2,
       "version_minor": 0
      },
      "text/plain": [
       "  0%|          | 0/21 [00:00<?, ?it/s]"
      ]
     },
     "metadata": {},
     "output_type": "display_data"
    },
    {
     "data": {
      "application/vnd.jupyter.widget-view+json": {
       "model_id": "6678cef9b15a4633b687183f195c08e3",
       "version_major": 2,
       "version_minor": 0
      },
      "text/plain": [
       "  0%|          | 0/14 [00:00<?, ?it/s]"
      ]
     },
     "metadata": {},
     "output_type": "display_data"
    },
    {
     "data": {
      "application/vnd.jupyter.widget-view+json": {
       "model_id": "4c67b05be4994cf3a2c40ce4dfc57966",
       "version_major": 2,
       "version_minor": 0
      },
      "text/plain": [
       "  0%|          | 0/28 [00:00<?, ?it/s]"
      ]
     },
     "metadata": {},
     "output_type": "display_data"
    },
    {
     "data": {
      "application/vnd.jupyter.widget-view+json": {
       "model_id": "65747ddcc4f54262aa28f6433ddb60b2",
       "version_major": 2,
       "version_minor": 0
      },
      "text/plain": [
       "  0%|          | 0/28 [00:00<?, ?it/s]"
      ]
     },
     "metadata": {},
     "output_type": "display_data"
    },
    {
     "data": {
      "text/html": [
       "<div>\n",
       "<style scoped>\n",
       "    .dataframe tbody tr th:only-of-type {\n",
       "        vertical-align: middle;\n",
       "    }\n",
       "\n",
       "    .dataframe tbody tr th {\n",
       "        vertical-align: top;\n",
       "    }\n",
       "\n",
       "    .dataframe thead th {\n",
       "        text-align: right;\n",
       "    }\n",
       "</style>\n",
       "<table border=\"1\" class=\"dataframe\">\n",
       "  <thead>\n",
       "    <tr style=\"text-align: right;\">\n",
       "      <th></th>\n",
       "      <th>ts</th>\n",
       "      <th>actionOption</th>\n",
       "      <th>img_path</th>\n",
       "    </tr>\n",
       "  </thead>\n",
       "  <tbody>\n",
       "    <tr>\n",
       "      <th>0</th>\n",
       "      <td>1.598877e+09</td>\n",
       "      <td>82</td>\n",
       "      <td>./train/data/user01/1598832660/RP/1598876700.png</td>\n",
       "    </tr>\n",
       "    <tr>\n",
       "      <th>1</th>\n",
       "      <td>1.598878e+09</td>\n",
       "      <td>313</td>\n",
       "      <td>./train/data/user01/1598832660/RP/1598878380.png</td>\n",
       "    </tr>\n",
       "    <tr>\n",
       "      <th>2</th>\n",
       "      <td>1.598879e+09</td>\n",
       "      <td>313</td>\n",
       "      <td>./train/data/user01/1598832660/RP/1598878980.png</td>\n",
       "    </tr>\n",
       "    <tr>\n",
       "      <th>3</th>\n",
       "      <td>1.598879e+09</td>\n",
       "      <td>313</td>\n",
       "      <td>./train/data/user01/1598832660/RP/1598878560.png</td>\n",
       "    </tr>\n",
       "    <tr>\n",
       "      <th>4</th>\n",
       "      <td>1.598875e+09</td>\n",
       "      <td>211</td>\n",
       "      <td>./train/data/user01/1598832660/RP/1598874780.png</td>\n",
       "    </tr>\n",
       "    <tr>\n",
       "      <th>...</th>\n",
       "      <td>...</td>\n",
       "      <td>...</td>\n",
       "      <td>...</td>\n",
       "    </tr>\n",
       "    <tr>\n",
       "      <th>47828</th>\n",
       "      <td>1.601181e+09</td>\n",
       "      <td>121</td>\n",
       "      <td>./train/data/user04/1601163000/RP/1601181240.png</td>\n",
       "    </tr>\n",
       "    <tr>\n",
       "      <th>47829</th>\n",
       "      <td>1.601196e+09</td>\n",
       "      <td>212</td>\n",
       "      <td>./train/data/user04/1601163000/RP/1601195940.png</td>\n",
       "    </tr>\n",
       "    <tr>\n",
       "      <th>47830</th>\n",
       "      <td>1.601209e+09</td>\n",
       "      <td>751</td>\n",
       "      <td>./train/data/user04/1601163000/RP/1601208660.png</td>\n",
       "    </tr>\n",
       "    <tr>\n",
       "      <th>47831</th>\n",
       "      <td>1.601180e+09</td>\n",
       "      <td>121</td>\n",
       "      <td>./train/data/user04/1601163000/RP/1601179800.png</td>\n",
       "    </tr>\n",
       "    <tr>\n",
       "      <th>47832</th>\n",
       "      <td>1.601209e+09</td>\n",
       "      <td>751</td>\n",
       "      <td>./train/data/user04/1601163000/RP/1601208780.png</td>\n",
       "    </tr>\n",
       "  </tbody>\n",
       "</table>\n",
       "<p>47833 rows × 3 columns</p>\n",
       "</div>"
      ],
      "text/plain": [
       "                 ts  actionOption  \\\n",
       "0      1.598877e+09            82   \n",
       "1      1.598878e+09           313   \n",
       "2      1.598879e+09           313   \n",
       "3      1.598879e+09           313   \n",
       "4      1.598875e+09           211   \n",
       "...             ...           ...   \n",
       "47828  1.601181e+09           121   \n",
       "47829  1.601196e+09           212   \n",
       "47830  1.601209e+09           751   \n",
       "47831  1.601180e+09           121   \n",
       "47832  1.601209e+09           751   \n",
       "\n",
       "                                               img_path  \n",
       "0      ./train/data/user01/1598832660/RP/1598876700.png  \n",
       "1      ./train/data/user01/1598832660/RP/1598878380.png  \n",
       "2      ./train/data/user01/1598832660/RP/1598878980.png  \n",
       "3      ./train/data/user01/1598832660/RP/1598878560.png  \n",
       "4      ./train/data/user01/1598832660/RP/1598874780.png  \n",
       "...                                                 ...  \n",
       "47828  ./train/data/user04/1601163000/RP/1601181240.png  \n",
       "47829  ./train/data/user04/1601163000/RP/1601195940.png  \n",
       "47830  ./train/data/user04/1601163000/RP/1601208660.png  \n",
       "47831  ./train/data/user04/1601163000/RP/1601179800.png  \n",
       "47832  ./train/data/user04/1601163000/RP/1601208780.png  \n",
       "\n",
       "[47833 rows x 3 columns]"
      ]
     },
     "execution_count": 116,
     "metadata": {},
     "output_type": "execute_result"
    }
   ],
   "source": [
    "train_data = pd.DataFrame(columns=['ts', 'actionOption', 'img_path'])\n",
    "\n",
    "label_path = './user01-06/'\n",
    "data_path = './train/data/'\n",
    "user_list = ['user01', 'user02', 'user03', 'user04']\n",
    "\n",
    "ts_data = []; actionOption_data = []; RP_data_path = []\n",
    "\n",
    "for file in user_list:\n",
    "    date_path = os.listdir(label_path + file + '/')\n",
    "    date_path.sort()\n",
    "    \n",
    "    for date in tqdm.tqdm(date_path):\n",
    "        if len(os.listdir(label_path + file + '/' + date + '/e4Acc')) == 0:\n",
    "            continue\n",
    "        else:\n",
    "            label = pd.read_csv(label_path + file + '/' + date  + '/' + date + '_label.csv')            \n",
    "            RP_data = glob.glob(data_path + file + '/' + date + '/RP/*.png')\n",
    "            \n",
    "            for i in range(len(RP_data)):\n",
    "                ts_data.append(label[label['ts'] == int(RP_data[i][-14:-4])]['ts'].values[0])\n",
    "                actionOption_data.append(label[label['ts'] == int(RP_data[i][-14:-4])]['actionOption'].values[0])\n",
    "                \n",
    "                ts_value = label[label['ts'] == int(RP_data[i][-14:-4])]['ts'].values[0]\n",
    "                \n",
    "                for j in range(len(RP_data)):\n",
    "                    if ts_value == int(RP_data[j][-14:-4]):\n",
    "                        RP_data_path.append(RP_data[j])\n",
    "                        continue\n",
    "                        \n",
    "train_data['ts'] = ts_data; train_data['actionOption'] = actionOption_data; train_data['img_path'] = RP_data_path\n",
    "train_data                "
   ]
  },
  {
   "cell_type": "code",
   "execution_count": 120,
   "id": "93d969ba",
   "metadata": {},
   "outputs": [],
   "source": [
    "train_data.to_csv('train_data.csv', index=False)"
   ]
  },
  {
   "cell_type": "code",
   "execution_count": null,
   "id": "836f0086",
   "metadata": {},
   "outputs": [],
   "source": []
  },
  {
   "cell_type": "code",
   "execution_count": 9,
   "id": "be51333a",
   "metadata": {},
   "outputs": [
    {
     "name": "stderr",
     "output_type": "stream",
     "text": [
      "100%|███████████████████████████████████████████| 21/21 [00:04<00:00,  5.17it/s]\n",
      "100%|███████████████████████████████████████████| 14/14 [00:02<00:00,  5.27it/s]\n",
      "100%|███████████████████████████████████████████| 28/28 [00:06<00:00,  4.33it/s]\n",
      "100%|███████████████████████████████████████████| 28/28 [00:09<00:00,  2.93it/s]\n"
     ]
    },
    {
     "data": {
      "text/html": [
       "<div>\n",
       "<style scoped>\n",
       "    .dataframe tbody tr th:only-of-type {\n",
       "        vertical-align: middle;\n",
       "    }\n",
       "\n",
       "    .dataframe tbody tr th {\n",
       "        vertical-align: top;\n",
       "    }\n",
       "\n",
       "    .dataframe thead th {\n",
       "        text-align: right;\n",
       "    }\n",
       "</style>\n",
       "<table border=\"1\" class=\"dataframe\">\n",
       "  <thead>\n",
       "    <tr style=\"text-align: right;\">\n",
       "      <th></th>\n",
       "      <th>ts</th>\n",
       "      <th>action</th>\n",
       "      <th>img_path</th>\n",
       "    </tr>\n",
       "  </thead>\n",
       "  <tbody>\n",
       "    <tr>\n",
       "      <th>0</th>\n",
       "      <td>1.598877e+09</td>\n",
       "      <td>travel</td>\n",
       "      <td>./train/data/user01/1598832660/RP/1598876700.png</td>\n",
       "    </tr>\n",
       "    <tr>\n",
       "      <th>1</th>\n",
       "      <td>1.598878e+09</td>\n",
       "      <td>study</td>\n",
       "      <td>./train/data/user01/1598832660/RP/1598878380.png</td>\n",
       "    </tr>\n",
       "    <tr>\n",
       "      <th>2</th>\n",
       "      <td>1.598879e+09</td>\n",
       "      <td>study</td>\n",
       "      <td>./train/data/user01/1598832660/RP/1598878980.png</td>\n",
       "    </tr>\n",
       "    <tr>\n",
       "      <th>3</th>\n",
       "      <td>1.598879e+09</td>\n",
       "      <td>study</td>\n",
       "      <td>./train/data/user01/1598832660/RP/1598878560.png</td>\n",
       "    </tr>\n",
       "    <tr>\n",
       "      <th>4</th>\n",
       "      <td>1.598875e+09</td>\n",
       "      <td>work</td>\n",
       "      <td>./train/data/user01/1598832660/RP/1598874780.png</td>\n",
       "    </tr>\n",
       "    <tr>\n",
       "      <th>...</th>\n",
       "      <td>...</td>\n",
       "      <td>...</td>\n",
       "      <td>...</td>\n",
       "    </tr>\n",
       "    <tr>\n",
       "      <th>47828</th>\n",
       "      <td>1.601181e+09</td>\n",
       "      <td>meal</td>\n",
       "      <td>./train/data/user04/1601163000/RP/1601181240.png</td>\n",
       "    </tr>\n",
       "    <tr>\n",
       "      <th>47829</th>\n",
       "      <td>1.601196e+09</td>\n",
       "      <td>work</td>\n",
       "      <td>./train/data/user04/1601163000/RP/1601195940.png</td>\n",
       "    </tr>\n",
       "    <tr>\n",
       "      <th>47830</th>\n",
       "      <td>1.601209e+09</td>\n",
       "      <td>outdoor_act</td>\n",
       "      <td>./train/data/user04/1601163000/RP/1601208660.png</td>\n",
       "    </tr>\n",
       "    <tr>\n",
       "      <th>47831</th>\n",
       "      <td>1.601180e+09</td>\n",
       "      <td>meal</td>\n",
       "      <td>./train/data/user04/1601163000/RP/1601179800.png</td>\n",
       "    </tr>\n",
       "    <tr>\n",
       "      <th>47832</th>\n",
       "      <td>1.601209e+09</td>\n",
       "      <td>outdoor_act</td>\n",
       "      <td>./train/data/user04/1601163000/RP/1601208780.png</td>\n",
       "    </tr>\n",
       "  </tbody>\n",
       "</table>\n",
       "<p>47833 rows × 3 columns</p>\n",
       "</div>"
      ],
      "text/plain": [
       "                 ts       action  \\\n",
       "0      1.598877e+09       travel   \n",
       "1      1.598878e+09        study   \n",
       "2      1.598879e+09        study   \n",
       "3      1.598879e+09        study   \n",
       "4      1.598875e+09         work   \n",
       "...             ...          ...   \n",
       "47828  1.601181e+09         meal   \n",
       "47829  1.601196e+09         work   \n",
       "47830  1.601209e+09  outdoor_act   \n",
       "47831  1.601180e+09         meal   \n",
       "47832  1.601209e+09  outdoor_act   \n",
       "\n",
       "                                               img_path  \n",
       "0      ./train/data/user01/1598832660/RP/1598876700.png  \n",
       "1      ./train/data/user01/1598832660/RP/1598878380.png  \n",
       "2      ./train/data/user01/1598832660/RP/1598878980.png  \n",
       "3      ./train/data/user01/1598832660/RP/1598878560.png  \n",
       "4      ./train/data/user01/1598832660/RP/1598874780.png  \n",
       "...                                                 ...  \n",
       "47828  ./train/data/user04/1601163000/RP/1601181240.png  \n",
       "47829  ./train/data/user04/1601163000/RP/1601195940.png  \n",
       "47830  ./train/data/user04/1601163000/RP/1601208660.png  \n",
       "47831  ./train/data/user04/1601163000/RP/1601179800.png  \n",
       "47832  ./train/data/user04/1601163000/RP/1601208780.png  \n",
       "\n",
       "[47833 rows x 3 columns]"
      ]
     },
     "execution_count": 9,
     "metadata": {},
     "output_type": "execute_result"
    }
   ],
   "source": [
    "train_data = pd.DataFrame(columns=['ts', 'action', 'img_path'])\n",
    "\n",
    "label_path = './user01-06/'\n",
    "data_path = './train/data/'\n",
    "user_list = ['user01', 'user02', 'user03', 'user04']\n",
    "\n",
    "ts_data = []; actionOption_data = []; RP_data_path = []\n",
    "\n",
    "for file in user_list:\n",
    "    date_path = os.listdir(label_path + file + '/')\n",
    "    date_path.sort()\n",
    "    \n",
    "    for date in tqdm.tqdm(date_path):\n",
    "        if len(os.listdir(label_path + file + '/' + date + '/e4Acc')) == 0:\n",
    "            continue\n",
    "        else:\n",
    "            label = pd.read_csv(label_path + file + '/' + date  + '/' + date + '_label.csv')            \n",
    "            RP_data = glob.glob(data_path + file + '/' + date + '/RP/*.png')\n",
    "            \n",
    "            for i in range(len(RP_data)):\n",
    "                ts_data.append(label[label['ts'] == int(RP_data[i][-14:-4])]['ts'].values[0])\n",
    "                actionOption_data.append(label[label['ts'] == int(RP_data[i][-14:-4])]['action'].values[0])\n",
    "                \n",
    "                ts_value = label[label['ts'] == int(RP_data[i][-14:-4])]['ts'].values[0]\n",
    "                \n",
    "                for j in range(len(RP_data)):\n",
    "                    if ts_value == int(RP_data[j][-14:-4]):\n",
    "                        RP_data_path.append(RP_data[j])\n",
    "                        continue\n",
    "                        \n",
    "train_data['ts'] = ts_data; train_data['action'] = actionOption_data; train_data['img_path'] = RP_data_path\n",
    "train_data                "
   ]
  },
  {
   "cell_type": "code",
   "execution_count": 10,
   "id": "76c2cf6b",
   "metadata": {},
   "outputs": [],
   "source": [
    "train_data.to_csv('train_data_action.csv', index=False)"
   ]
  }
 ],
 "metadata": {
  "kernelspec": {
   "display_name": "Python 3 (ipykernel)",
   "language": "python",
   "name": "python3"
  },
  "language_info": {
   "codemirror_mode": {
    "name": "ipython",
    "version": 3
   },
   "file_extension": ".py",
   "mimetype": "text/x-python",
   "name": "python",
   "nbconvert_exporter": "python",
   "pygments_lexer": "ipython3",
   "version": "3.8.10"
  }
 },
 "nbformat": 4,
 "nbformat_minor": 5
}
